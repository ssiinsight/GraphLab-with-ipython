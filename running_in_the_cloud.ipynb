{
 "metadata": {
  "name": "",
  "signature": "sha256:35ed75a2eb31e77d62d9285cdad9f5934463c57a9769b4101cde9f18424ecf9b"
 },
 "nbformat": 3,
 "nbformat_minor": 0,
 "worksheets": [
  {
   "cells": [
    {
     "cell_type": "heading",
     "level": 1,
     "metadata": {},
     "source": [
      "Generate and Save Batch Recommendations in the Cloud"
     ]
    },
    {
     "cell_type": "markdown",
     "metadata": {},
     "source": [
      "## Introduction and Summary\n",
      "In this tutorial, you'll learn how to: \n",
      "\n",
      "* launch an EC2 machine \n",
      "* load a model artifact from s3\n",
      "* load a dataset from s3\n",
      "* generate a batch of recommendations \n",
      "* save these recommendations to s3  \n",
      "\n",
      "This is one task that could be automated on, for example, a daily schedule to generate new recommendations which a web service might pull from.\n",
      "\n",
      "**Note: This notebook works with GraphLab Create 1.0 or greater**"
     ]
    },
    {
     "cell_type": "code",
     "collapsed": false,
     "input": [
      "import graphlab as gl"
     ],
     "language": "python",
     "metadata": {},
     "outputs": [],
     "prompt_number": 1
    },
    {
     "cell_type": "markdown",
     "metadata": {},
     "source": [
      "## Launch an EC2 machine\n",
      "You need AWS credentials to do this.  If you don't have these set in a config file, you can use GraphLab Create's set_credentials in the aws module.  "
     ]
    },
    {
     "cell_type": "code",
     "collapsed": false,
     "input": [
      "# In order to use EC2, you will need to use your own credentials.\n",
      "# You can set your AWS credentials using the below function:\n",
      "#gl.aws.set_credentials(<access_key_id>, <secret_access_key>)\n",
      "\n",
      "#You can select any EC2 machine of m1.large size or greater\n",
      "#By default, it will launch the instance in us-west-2 region, you may change to other regions.\n",
      "gl.aws.launch_EC2('m3.xlarge')"
     ],
     "language": "python",
     "metadata": {},
     "outputs": [],
     "prompt_number": 2
    },
    {
     "cell_type": "markdown",
     "metadata": {},
     "source": [
      "## Run a batch job to generate recommendations on this instance\n"
     ]
    },
    {
     "cell_type": "code",
     "collapsed": false,
     "input": [
      "# Load the model I generated this model previously and saved to this bucket.\n",
      "m = gl.load_model('s3://GraphLab-Datasets/models/1.0/my_trained_model')"
     ],
     "language": "python",
     "metadata": {},
     "outputs": [],
     "prompt_number": 3
    },
    {
     "cell_type": "code",
     "collapsed": false,
     "input": [
      "# Load the data to make predictions on.\n",
      "data = gl.SFrame.read_csv('s3://GraphLab-Datasets/movie_ratings/sample.small', delimiter = '\\t')"
     ],
     "language": "python",
     "metadata": {},
     "outputs": [],
     "prompt_number": 4
    },
    {
     "cell_type": "code",
     "collapsed": false,
     "input": [
      "# Generate the top 10 recommendations for first 100 unique users in data\n",
      "recommendations = m.recommend(data['user'].unique()[:100], k=10)\n",
      "recommendations.head()"
     ],
     "language": "python",
     "metadata": {},
     "outputs": [
      {
       "html": [
        "<div style=\"max-height:1000px;max-width:1500px;overflow:auto;\">\n",
        "<table border=\"1\" class=\"dataframe\">\n",
        "  <thead>\n",
        "    <tr style=\"text-align: right;\">\n",
        "      <th></th>\n",
        "      <th>user</th>\n",
        "      <th>movie</th>\n",
        "      <th>score</th>\n",
        "      <th>rank</th>\n",
        "    </tr>\n",
        "  </thead>\n",
        "  <tbody>\n",
        "    <tr>\n",
        "      <th>0</th>\n",
        "      <td> Jacob Smith</td>\n",
        "      <td>                     Dave Matthews Band: The Gorge</td>\n",
        "      <td> 4.578400</td>\n",
        "      <td>  1</td>\n",
        "    </tr>\n",
        "    <tr>\n",
        "      <th>1</th>\n",
        "      <td> Jacob Smith</td>\n",
        "      <td>                  Anne of Green Gables: The Sequel</td>\n",
        "      <td> 4.504411</td>\n",
        "      <td>  2</td>\n",
        "    </tr>\n",
        "    <tr>\n",
        "      <th>2</th>\n",
        "      <td> Jacob Smith</td>\n",
        "      <td>                       Benny Hill: Golden Classics</td>\n",
        "      <td> 4.485530</td>\n",
        "      <td>  3</td>\n",
        "    </tr>\n",
        "    <tr>\n",
        "      <th>3</th>\n",
        "      <td> Jacob Smith</td>\n",
        "      <td>                 The Life and Times of Frida Kahlo</td>\n",
        "      <td> 4.444281</td>\n",
        "      <td>  4</td>\n",
        "    </tr>\n",
        "    <tr>\n",
        "      <th>4</th>\n",
        "      <td> Jacob Smith</td>\n",
        "      <td>                               Red Dwarf: Series 6</td>\n",
        "      <td> 4.444177</td>\n",
        "      <td>  5</td>\n",
        "    </tr>\n",
        "    <tr>\n",
        "      <th>5</th>\n",
        "      <td> Jacob Smith</td>\n",
        "      <td>                        The Amazing Race: Season 1</td>\n",
        "      <td> 4.439197</td>\n",
        "      <td>  6</td>\n",
        "    </tr>\n",
        "    <tr>\n",
        "      <th>6</th>\n",
        "      <td> Jacob Smith</td>\n",
        "      <td>                           The West Wing: Season 3</td>\n",
        "      <td> 4.397068</td>\n",
        "      <td>  7</td>\n",
        "    </tr>\n",
        "    <tr>\n",
        "      <th>7</th>\n",
        "      <td> Jacob Smith</td>\n",
        "      <td>                                      Oz: Season 5</td>\n",
        "      <td> 4.374701</td>\n",
        "      <td>  8</td>\n",
        "    </tr>\n",
        "    <tr>\n",
        "      <th>8</th>\n",
        "      <td> Jacob Smith</td>\n",
        "      <td> E.T. the Extra-Terrestrial: The 20th Anniversa...</td>\n",
        "      <td> 4.368385</td>\n",
        "      <td>  9</td>\n",
        "    </tr>\n",
        "    <tr>\n",
        "      <th>9</th>\n",
        "      <td> Jacob Smith</td>\n",
        "      <td>                              Anne of Green Gables</td>\n",
        "      <td> 4.355047</td>\n",
        "      <td> 10</td>\n",
        "    </tr>\n",
        "  </tbody>\n",
        "</table>\n",
        "<p>10 rows \u00d7 4 columns</p>\n",
        "</div>"
       ],
       "metadata": {},
       "output_type": "pyout",
       "prompt_number": 6,
       "text": [
        "          user                                              movie     score  \\\n",
        "0  Jacob Smith                      Dave Matthews Band: The Gorge  4.578400   \n",
        "1  Jacob Smith                   Anne of Green Gables: The Sequel  4.504411   \n",
        "2  Jacob Smith                        Benny Hill: Golden Classics  4.485530   \n",
        "3  Jacob Smith                  The Life and Times of Frida Kahlo  4.444281   \n",
        "4  Jacob Smith                                Red Dwarf: Series 6  4.444177   \n",
        "5  Jacob Smith                         The Amazing Race: Season 1  4.439197   \n",
        "6  Jacob Smith                            The West Wing: Season 3  4.397068   \n",
        "7  Jacob Smith                                       Oz: Season 5  4.374701   \n",
        "8  Jacob Smith  E.T. the Extra-Terrestrial: The 20th Anniversa...  4.368385   \n",
        "9  Jacob Smith                               Anne of Green Gables  4.355047   \n",
        "\n",
        "   rank  \n",
        "0     1  \n",
        "1     2  \n",
        "2     3  \n",
        "3     4  \n",
        "4     5  \n",
        "5     6  \n",
        "6     7  \n",
        "7     8  \n",
        "8     9  \n",
        "9    10  \n",
        "\n",
        "[10 rows x 4 columns]"
       ]
      }
     ],
     "prompt_number": 6
    },
    {
     "cell_type": "markdown",
     "metadata": {},
     "source": [
      "## Save recommendations to an S3 bucket"
     ]
    },
    {
     "cell_type": "code",
     "collapsed": false,
     "input": [
      "# In order to save to S3, you will need to use your own bucket and your own credentials.\n",
      "# You can set your AWS credentials using the below function:\n",
      "# graphlab.aws.set_credentials(<access_key_id>, <secret_access_key>)\n",
      "\n",
      "# recommendations.save('s3://<bucket-name>/<file-path>', format='csv')"
     ],
     "language": "python",
     "metadata": {},
     "outputs": [],
     "prompt_number": 7
    },
    {
     "cell_type": "markdown",
     "metadata": {},
     "source": [
      "We could have instead written to a database.  This is one easy way to integrate with a web-service that pulls from this file or database to serve content live to users."
     ]
    },
    {
     "cell_type": "code",
     "collapsed": false,
     "input": [
      "gl.aws.terminate_EC2()"
     ],
     "language": "python",
     "metadata": {},
     "outputs": [],
     "prompt_number": 8
    },
    {
     "cell_type": "markdown",
     "metadata": {},
     "source": [
      "## We're done!\n",
      "\n",
      "(Looking for more details about the modules and functions? Check out the <a href=\"/products/create/docs/\">API docs</a>.)"
     ]
    }
   ],
   "metadata": {}
  }
 ]
}