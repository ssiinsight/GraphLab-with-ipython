{
 "metadata": {
  "name": "",
  "signature": "sha256:28ed944787f6391613722c051cc37874e58454b3128c473ac3b3fc48cb7b25fc"
 },
 "nbformat": 3,
 "nbformat_minor": 0,
 "worksheets": [
  {
   "cells": [
    {
     "cell_type": "heading",
     "level": 1,
     "metadata": {},
     "source": [
      "Introduction to Feature Engineering"
     ]
    },
    {
     "cell_type": "markdown",
     "metadata": {},
     "source": [
      "**Note: This notebook uses GraphLab Create 1.0.**"
     ]
    },
    {
     "cell_type": "markdown",
     "metadata": {},
     "source": [
      "Feature engineering is one of the **most important factors** in a successful machine learning project. With GraphLab Create's [SFrame](http://graphlab.com/products/create/docs/generated/graphlab.SFrame.html#graphlab.SFrame), we have at our disposal the tools to make this a painless and fun ride!\n",
      "\n",
      "Be sure to check out the [Introduction to Regression Analysis](intro-regression.html) notebook which provides an overview of how to use GraphLab Create to train regression and classification models, make predictions, and evaluate performance."
     ]
    },
    {
     "cell_type": "heading",
     "level": 2,
     "metadata": {},
     "source": [
      "Overview "
     ]
    },
    {
     "cell_type": "markdown",
     "metadata": {},
     "source": [
      "In this notebook, we will go over:\n",
      "\n",
      "* [Creating regression models with categorical features](#Adding-Categorical-Features)\n",
      "* [Encoding features using python dictionaries & lists](#Dictionary-Features)\n",
      "* [Converting raw text data into useful features](#Text-Data:-Using-raw-review-data)\n",
      "\n",
      "**A preview of some fun facts revealed by our regression model:**\\*\n",
      "\n",
      "* Restaurants in Wittman, Arizona are not great but Good Year, Arizona has great food!\n",
      "* Yelp reviews with more **cool** votes from other users are more likely to be positive reviews.\n",
      "* Yelp reviews with more **funny** votes from other users are more likely to be negative.\n",
      "* Yelp reviews with more **useful** votes from other users are more likely to be negative.\n",
      "\n",
      "\\*Of course, these relationships are [correlations, not causations](http://en.wikipedia.org/wiki/Correlation_does_not_imply_causation).\n",
      "\n",
      "Let us start by importing GraphLab Create! "
     ]
    },
    {
     "cell_type": "code",
     "collapsed": false,
     "input": [
      "import graphlab as gl\n",
      "gl.canvas.set_target('ipynb')"
     ],
     "language": "python",
     "metadata": {},
     "outputs": [],
     "prompt_number": 1
    },
    {
     "cell_type": "heading",
     "level": 2,
     "metadata": {},
     "source": [
      "Dataset"
     ]
    },
    {
     "cell_type": "markdown",
     "metadata": {},
     "source": [
      "Like the [Introduction to Regression Analysis](intro-regression.html) notebook, we   use data from the [Yelp Dataset Challenge](http://www.yelp.com/dataset_challenge) for this tutorial. The task is to **predict the 'star rating' of a restaurant for a given user.**\n",
      "\n",
      "The data consists of three tables containing info about 11,537 businesses, 8,282 checkin sets, 43,873 users, and 229,907 reviews. Details about each of the columns in the dataset are available on the [Yelp website](http://www.yelp.com/dataset_challenge). Please see the [Introduction to Regression Analysis](intro-regression.html) notebook for more details about the data preparation phase."
     ]
    },
    {
     "cell_type": "code",
     "collapsed": false,
     "input": [
      "business = gl.SFrame('http://s3.amazonaws.com/GraphLab-Datasets/regression/business.csv')\n",
      "user = gl.SFrame('http://s3.amazonaws.com/GraphLab-Datasets/regression/user.csv')\n",
      "review = gl.SFrame('http://s3.amazonaws.com/GraphLab-Datasets/regression/review.csv')"
     ],
     "language": "python",
     "metadata": {},
     "outputs": [
      {
       "html": [
        "<pre>PROGRESS: Finished parsing file http://s3.amazonaws.com/GraphLab-Datasets/regression/business.csv</pre>"
       ],
       "metadata": {},
       "output_type": "display_data",
       "text": [
        "PROGRESS: Finished parsing file http://s3.amazonaws.com/GraphLab-Datasets/regression/business.csv"
       ]
      },
      {
       "html": [
        "<pre>PROGRESS: Parsing completed. Parsed 100 lines in 0.108116 secs.</pre>"
       ],
       "metadata": {},
       "output_type": "display_data",
       "text": [
        "PROGRESS: Parsing completed. Parsed 100 lines in 0.108116 secs."
       ]
      },
      {
       "html": [
        "<pre>PROGRESS: Finished parsing file http://s3.amazonaws.com/GraphLab-Datasets/regression/business.csv</pre>"
       ],
       "metadata": {},
       "output_type": "display_data",
       "text": [
        "PROGRESS: Finished parsing file http://s3.amazonaws.com/GraphLab-Datasets/regression/business.csv"
       ]
      },
      {
       "html": [
        "<pre>PROGRESS: Parsing completed. Parsed 11537 lines in 0.094745 secs.</pre>"
       ],
       "metadata": {},
       "output_type": "display_data",
       "text": [
        "PROGRESS: Parsing completed. Parsed 11537 lines in 0.094745 secs."
       ]
      },
      {
       "html": [
        "<pre>PROGRESS: Finished parsing file http://s3.amazonaws.com/GraphLab-Datasets/regression/user.csv</pre>"
       ],
       "metadata": {},
       "output_type": "display_data",
       "text": [
        "PROGRESS: Finished parsing file http://s3.amazonaws.com/GraphLab-Datasets/regression/user.csv"
       ]
      },
      {
       "html": [
        "<pre>PROGRESS: Parsing completed. Parsed 100 lines in 0.03127 secs.</pre>"
       ],
       "metadata": {},
       "output_type": "display_data",
       "text": [
        "PROGRESS: Parsing completed. Parsed 100 lines in 0.03127 secs."
       ]
      },
      {
       "output_type": "stream",
       "stream": "stdout",
       "text": [
        "------------------------------------------------------\n",
        "Inferred types from first line of file as \n",
        "column_type_hints=[str,list,str,str,float,float,str,int,int,float,str,str]\n",
        "If parsing fails due to incorrect types, you can correct\n",
        "the inferred type list above and pass it to read_csv in\n",
        "the column_type_hints argument\n",
        "------------------------------------------------------\n",
        "------------------------------------------------------"
       ]
      },
      {
       "html": [
        "<pre>PROGRESS: Finished parsing file http://s3.amazonaws.com/GraphLab-Datasets/regression/user.csv</pre>"
       ],
       "metadata": {},
       "output_type": "display_data",
       "text": [
        "PROGRESS: Finished parsing file http://s3.amazonaws.com/GraphLab-Datasets/regression/user.csv"
       ]
      },
      {
       "html": [
        "<pre>PROGRESS: Parsing completed. Parsed 43873 lines in 0.125855 secs.</pre>"
       ],
       "metadata": {},
       "output_type": "display_data",
       "text": [
        "PROGRESS: Parsing completed. Parsed 43873 lines in 0.125855 secs."
       ]
      },
      {
       "html": [
        "<pre>PROGRESS: Finished parsing file http://s3.amazonaws.com/GraphLab-Datasets/regression/review.csv</pre>"
       ],
       "metadata": {},
       "output_type": "display_data",
       "text": [
        "PROGRESS: Finished parsing file http://s3.amazonaws.com/GraphLab-Datasets/regression/review.csv"
       ]
      },
      {
       "html": [
        "<pre>PROGRESS: Parsing completed. Parsed 100 lines in 0.322142 secs.</pre>"
       ],
       "metadata": {},
       "output_type": "display_data",
       "text": [
        "PROGRESS: Parsing completed. Parsed 100 lines in 0.322142 secs."
       ]
      },
      {
       "output_type": "stream",
       "stream": "stdout",
       "text": [
        "\n",
        "Inferred types from first line of file as \n",
        "column_type_hints=[float,str,int,str,str,int,int,int]\n",
        "If parsing fails due to incorrect types, you can correct\n",
        "the inferred type list above and pass it to read_csv in\n",
        "the column_type_hints argument\n",
        "------------------------------------------------------\n",
        "------------------------------------------------------"
       ]
      },
      {
       "html": [
        "<pre>PROGRESS: Read 61212 lines. Lines per second: 35671.1</pre>"
       ],
       "metadata": {},
       "output_type": "display_data",
       "text": [
        "PROGRESS: Read 61212 lines. Lines per second: 35671.1"
       ]
      },
      {
       "html": [
        "<pre>PROGRESS: Finished parsing file http://s3.amazonaws.com/GraphLab-Datasets/regression/review.csv</pre>"
       ],
       "metadata": {},
       "output_type": "display_data",
       "text": [
        "PROGRESS: Finished parsing file http://s3.amazonaws.com/GraphLab-Datasets/regression/review.csv"
       ]
      },
      {
       "html": [
        "<pre>PROGRESS: Parsing completed. Parsed 229907 lines in 5.25859 secs.</pre>"
       ],
       "metadata": {},
       "output_type": "display_data",
       "text": [
        "PROGRESS: Parsing completed. Parsed 229907 lines in 5.25859 secs."
       ]
      },
      {
       "output_type": "stream",
       "stream": "stdout",
       "text": [
        "\n",
        "Inferred types from first line of file as \n",
        "column_type_hints=[str,str,str,int,str,str,str,dict,int,int,int]\n",
        "If parsing fails due to incorrect types, you can correct\n",
        "the inferred type list above and pass it to read_csv in\n",
        "the column_type_hints argument\n",
        "------------------------------------------------------\n"
       ]
      }
     ],
     "prompt_number": 2
    },
    {
     "cell_type": "code",
     "collapsed": false,
     "input": [
      "review_business_table = review.join(business, how='inner', on='business_id')\n",
      "review_business_table = review_business_table.rename({'stars.1': 'business_avg_stars', \n",
      "                              'type.1': 'business_type',\n",
      "                              'review_count': 'business_review_count'})\n",
      "\n",
      "user_business_review_table = review_business_table.join(user, how='inner', on='user_id')\n",
      "user_business_review_table = user_business_review_table.rename({'name.1': 'user_name', \n",
      "                                   'type.1': 'user_type', \n",
      "                                   'average_stars': 'user_avg_stars',\n",
      "                                   'review_count': 'user_review_count'})"
     ],
     "language": "python",
     "metadata": {},
     "outputs": [],
     "prompt_number": 3
    },
    {
     "cell_type": "markdown",
     "metadata": {},
     "source": [
      "Let us split the prepared data into training and testing sets."
     ]
    },
    {
     "cell_type": "code",
     "collapsed": false,
     "input": [
      "train_set, test_set = user_business_review_table.random_split(0.8, seed=1)"
     ],
     "language": "python",
     "metadata": {},
     "outputs": [],
     "prompt_number": 4
    },
    {
     "cell_type": "heading",
     "level": 2,
     "metadata": {},
     "source": [
      "Feature Engineering"
     ]
    },
    {
     "cell_type": "markdown",
     "metadata": {},
     "source": [
      "GraphLab Create can handle features of the following types:\n",
      "\n",
      "* **Categorical variables**: strings such as \"Male\" or \"Female\"\n",
      "* **List features**: lists of numeric values such as [1.0, 2.0] \n",
      "* **Key-Value pair features**: dictionaries of the form {\"key1\": value1, \"key2\": value2}\n",
      "\n",
      "GraphLab Create's SFrame data structure is not currently optimized for holding more than a few hundred columns, but the list and dictionary types allow observations to have a much larger number of features in a single SFrame column. In this demo we will see examples of each of these complex feature types."
     ]
    },
    {
     "cell_type": "heading",
     "level": 2,
     "metadata": {},
     "source": [
      "Adding Categorical Features"
     ]
    },
    {
     "cell_type": "markdown",
     "metadata": {},
     "source": [
      "Categorical features usually require special attention in regression models. Often, this includes a messy pre-processing step to make the categorical features interpretable in the context of the model. With GraphLab Create, we can **add categorical features without any special pre-processing**. Throw in your features as strings and we will do all the munging for you! \n",
      "\n",
      "The variable **city** is a categorical variable in our dataset. We can use the SArray's handy [sketch_summary()](http://graphlab.com/products/create/docs/generated/graphlab.SArray.sketch_summary.html#graphlab.SArray.sketch_summary) function to get a quick glance at some useful statistics."
     ]
    },
    {
     "cell_type": "code",
     "collapsed": false,
     "input": [
      "train_set['city'].show()"
     ],
     "language": "python",
     "metadata": {},
     "outputs": [
      {
       "javascript": [
        "$(\"head\").append($(\"<link/>\").attr({\n",
        "  rel:  \"stylesheet\",\n",
        "  type: \"text/css\",\n",
        "  href: \"//cdnjs.cloudflare.com/ajax/libs/font-awesome/4.1.0/css/font-awesome.min.css\"\n",
        "}));\n",
        "\n",
        "            // run this in a self-calling function to keep variables scoped per output cell\n",
        "            (function() {\n",
        "                \"use strict\";define(\"common_util\",[\"d3\",\"dagre\",\"react\"],function(d3,_dagre,React){var pollIntervalThresholds=[[Math.pow(2,20),1e3],[Math.pow(2,27),5e3]];var pollIntervalScale=d3.scale.linear().domain(pollIntervalThresholds.map(function(a){return a[0]})).range(pollIntervalThresholds.map(function(a){return a[1]}));function assert(x){if(\"assert\"in console){console.assert(x)}else if(!x){var msg=\"assertion failed\";if(\"error\"in console){console.error(msg)}else if(\"log\"in console){console.log(msg)}if(\"trace\"in console){console.trace()}}}function formatNumber(n){if(n===null){return NaN}if(n<.001&&n>0||n>-.001&&n<0){return n.toFixed(4)}if(n>Math.pow(2,40)||n<-Math.pow(2,40)){return n.toPrecision(4)}return n.toLocaleString()}function merge(x1,x2,recursive){var ret={};for(var attr in x1){ret[attr]=x1[attr]}for(var attr in x2){if(recursive&&attr in ret){ret[attr]=merge(ret[attr],x2[attr])}else{ret[attr]=x2[attr]}}return ret}var CanvasImage=React.createClass({displayName:\"CanvasImage\",draw:function(ctx){var data=this.props.data;var id=ctx.createImageData(this.props.width,this.props.height);var pixels=data.length/this.props.channels;for(var i=0;i<pixels*4;i+=4){var idx=i/4*this.props.channels;id.data[i]=data[idx];if(this.props.channels===1){id.data[i+1]=data[idx];id.data[i+2]=data[idx];id.data[i+3]=255}else{id.data[i+1]=data[idx+1];id.data[i+2]=data[idx+2];if(this.props.channels===3){id.data[i+3]=255}else{assert(this.props.channels===4);id.data[i+3]=data[idx+3]}}}ctx.putImageData(id,0,0)},componentDidMount:function(){var ctx=this.getDOMNode().getContext(\"2d\");this.draw(ctx)},componentDidUpdate:function(){var ctx=this.getDOMNode().getContext(\"2d\");ctx.clearRect(0,0,this.props.width,this.props.height);this.draw(ctx)},shouldComponentUpdate:function(nextProps,nextState){return nextProps.id!==this.props.id},render:function(){return React.DOM.canvas({style:this.props.style,width:this.props.width,height:this.props.height})}});return{assert:assert,merge:merge,partial:function(obj,keys,exclude){var ret={};if(exclude){Object.keys(obj).forEach(function(key){if(keys.indexOf(key)===-1){ret[key]=obj[key]}})}else{keys.forEach(function(key){ret[key]=obj[key]})}return ret},objectMap:function(obj,callback){var ret={};for(var key in obj){ret=merge(ret,callback(key,obj[key]))}return ret},tryGetProperty:function _tryGetProperty(obj,propName,defaultValue){if(typeof defaultValue===\"undefined\")defaultValue=null;if(propName==null)return defaultValue;if(obj==null)return defaultValue;if(typeof propName===\"string\"||typeof propName===\"number\"){if(!(propName in obj))return defaultValue;return obj[propName]}else{assert(Array.isArray(propName));var currentPropName=propName.shift();if(propName.length===0){return _tryGetProperty(obj,currentPropName,defaultValue)}else{return _tryGetProperty(_tryGetProperty(obj,currentPropName),propName,defaultValue)}}},deepCopy:function(o){return JSON.parse(JSON.stringify(o))},deepEquals:function _deepEquals(a,b,depth){if(typeof depth===\"undefined\"){depth=0}if(depth>500){assert(false);return false}if(typeof a===\"function\"&&typeof b===\"function\"){return true}if(typeof a!==typeof b)return false;if(Array.isArray(a)!==Array.isArray(b))return false;if(Array.isArray(a)){if(a.length!==b.length)return false;var ret=true;for(var i=0;i<a.length;i++){ret=ret&&_deepEquals(a[i],b[i],depth+1);if(!ret)return ret}return ret}if(typeof a===\"object\"){var keys={};for(var key in a){keys[key]=1}for(var key in b){if(!(key in keys))return false;keys[key]++}var ret=true;for(var key in keys){if(keys[key]!==2)return false;ret=ret&&_deepEquals(a[key],b[key],depth+1);if(!ret)return ret}return ret}return a===b},sortFrequentItems:function(frequent_items,count){var values=[];for(var key in frequent_items){values.push({key:key,value:frequent_items[key]})}values.sort(function(a,b){return b.value.frequency-a.value.frequency});return values.slice(0,count)},formatElapsed:function(ms){var d=new Date(ms);var pieces={hours:d.getUTCHours(),minutes:d.getUTCMinutes(),seconds:d.getUTCSeconds()};for(var key in pieces){var s=String(pieces[key]);if(s.length<2){s=\"0\"+s}pieces[key]=s}return pieces.hours+\":\"+pieces.minutes+\":\"+pieces.seconds},numberWithSuffix:function(i){if(i>100){return String(i)}var j=i%10;if(j===1&&i!==11){return i+\"st\"}if(j===2&&i!==12){return i+\"nd\"}if(j===3&&i!==13){return i+\"rd\"}return i+\"th\"},formatNumber:formatNumber,formatSArrayValue:function(value,rowHeight){if(value===\"\"){value=\"''\"}else if(typeof value===\"number\"){value=formatNumber(value)}else if(typeof value===\"object\"&&value.type===\"image\"){var style={};if(rowHeight){style[\"maxHeight\"]=rowHeight}var data=value.value;if(value.format===\"raw\"){value=CanvasImage({alt:\"Image Content\",width:value.width,height:value.height,data:value.value,channels:value.channels,style:style,id:value.id})}else{value=React.DOM.img({alt:\"Image Content\",src:\"data:\"+value.value,style:style})}}return value},siPrefixToShortScale:function(prefix){var map={Y:\"septillion\",Z:\"sextillion\",E:\"quintillion\",P:\"quadrillion\",T:\"trillion\",G:\"billion\",M:\"million\",k:\"thousand\",h:\"hundred\",da:\"ten\",\"\":null,d:\"tenth\",c:\"hundredth\",m:\"thousandth\",\u00b5:\"millionth\",n:\"billionth\",p:\"trillionth\",f:\"quadrillionth\",a:\"quintillionth\",z:\"sextillionth\",y:\"septillionth\"};if(prefix in map){return map[prefix]}Util.assert(false);return null},getCookie:function(name){var r=document.cookie.match(\"\\\\b\"+name+\"=([^;]*)\\\\b\");return r?r[1]:undefined},getSketchPollInterval:function(rowCount){if(rowCount<pollIntervalThresholds[0][0]){return pollIntervalThresholds[0][1]}if(rowCount>pollIntervalThresholds[1][0]){return pollIntervalThresholds[1][1]}return pollIntervalScale(rowCount)},getColorFromNodeType:function(type){var color=\"\";if(type==\"Task\"){color=\"#b0007f\"}else if(type==\"input\"||type==\"output\"){color=\"#0a8cc4\"}else if(type==\"param\"){color=\"#85bd00\"}return color},getColorFromStatus:function(task_status,selected){var color=\"\";if(selected){return\"#ff5500\"}if(task_status==\"Completed\"){color=\"#0a8cc4\"}else if(task_status==\"Running\"){color=\"#85bd00\"}else if(task_status==\"Failed\"){color=\"#B80000\"}else{color=\"#B2B2B2\"}return color},getColorFromStatusHighlight:function(task_status){var color=\"\";if(task_status==\"Completed\"){color=\"#0a6ca4\"}else if(task_status==\"Running\"){color=\"#659d00\"}else if(task_status==\"Failed\"){color=\"#A80000\"}else{color=\"#A2A2A2\"}return color},getEdgeStrokeColor:function(selectedOrHover,selected){if(!selectedOrHover){return\"#B2B2B2\"}if(selected){return\"#727272\"}else{return\"#E2E2E2\"}},getDepGraphSelectedStrokeColor:function(){return\"#5e5555\"},dagreLayout:function(vertices,edges,vertexWidth,vertexHeight,edgesep,ranksep,dir){var g=new dagre.Digraph;for(var i=0;i<vertices.length;i++){g.addNode(vertices[i].name,{label:String(vertices[i].name),width:vertexWidth,height:vertexHeight})}for(var i=0;i<edges.length;i++){g.addEdge(null,edges[i].source,edges[i].target)}var layout;if(edgesep<0&&ranksep<0){layout=dagre.layout().rankDir(dir).run(g)}else if(edgesep>=0&&ranksep<0){layout=dagre.layout().rankDir(dir).edgeSep(edgesep).run(g)}else if(edgesep<0&&ranksep>=0){layout=dagre.layout().rankDir(dir).rankSep(ranksep).run(g)}else{layout=dagre.layout().rankDir(dir).edgeSep(edgesep).rankSep(ranksep).run(g)}var nodeElements=[],edgeElements=[];layout.eachNode(function(u,value){for(var i=0;i<vertices.length;i++){if(vertices[i].name==u){vertices[i][\"x\"]=value.x;vertices[i][\"y\"]=value.y}}});var edgeIdx=0;layout.eachEdge(function(e,u,v,value){var points=[[layout.node(u).x,layout.node(u).y]];for(var i=0;i<value.points.length;i++){points.push([value.points[i].x,value.points[i].y])}points.push([layout.node(v).x,layout.node(v).y]);edges[edgeIdx++][\"points\"]=points});return{vertices:vertices,edges:edges}}}});\n",
        "\"use strict\";define(\"common_controls\",[\"react\",\"common_util\",\"taskqueue\",\"jquery\"],function(React,Util,TaskQueue,jQuery){var Tooltip=React.createClass({displayName:\"Tooltip\",render:function(){var style={display:this.props.show?\"\":\"none\",top:this.props.y-50,left:this.props.x-150};return React.DOM.div({style:style,className:\"canvas-tooltip\"},this.props.data)}});var Modal=React.createClass({displayName:\"Modal\",doNothing:function(evt){evt.stopPropagation()},render:function(){var header=this.props.title?React.DOM.div({className:\"modal-header\"},React.DOM.button({type:\"button\",className:\"close\",onClick:this.props.closeModal},\"\u00d7\"),React.DOM.h4({className:\"modal-title\"},this.props.title)):null;return React.DOM.div(null,React.DOM.div({onClick:this.props.closeModal,className:\"modal fade\"+(this.props.open?\" in\":\"\"),style:{display:this.props.open?\"block\":\"none\"}},React.DOM.div({onClick:this.doNothing,className:\"modal-dialog \"+this.props.additionalClass},React.DOM.div({className:\"modal-content\"},header,React.DOM.div({className:\"modal-body\"},this.props.body)))),React.DOM.div({className:\"modal-backdrop fade \"+(this.props.open?\"in\":\"hidden\")}))}});var SizeToWindow={setWindowDimensions:function(){this.setState({windowHeight:$(window).height(),windowWidth:$(window).width()})},componentWillMount:function(){$(window).bind(\"resize\",this.setWindowDimensions);this.setWindowDimensions()},componentWillUnmount:function(){$(window).unbind(\"resize\",this.setWindowDimensions)}};return{Button:React.createClass({displayName:\"Button\",getInitialState:function(){return{depressed:false}},getDefaultProps:function(){return{backgroundColor:\"#0a8cc4\",depressedColor:\"#005991\"}},mouseDown:function(){this.setState({depressed:true})},mouseUp:function(){this.setState({depressed:false})},click:function(evt){this.mouseUp();if(!this.props.disabled){return this.props.onClick(evt)}},render:function(){var style=Util.merge({display:\"inline-block\",paddingLeft:12,paddingRight:12,height:26,fontSize:12,color:\"white\",backgroundColor:this.state.depressed?this.props.depressedColor:this.props.backgroundColor,textTransform:\"uppercase\",textAlign:\"center\",textDecoration:\"none\",lineHeight:\"26px\",transition:\"background-color \"+(this.state.depressed?0:200)+\"ms linear\"},this.props.style);if(this.props.disabled){style.backgroundColor=\"grey\";style.cursor=\"not-allowed\"}return React.DOM.a({href:\"javascript:\",onClick:this.click,onMouseDown:this.mouseDown,onMouseUp:this.mouseUp,disabled:this.props.disabled,style:style},this.props.children)}}),Menu:{mixins:[SizeToWindow],getInitialState:function(){return{items:[],menuOpen:false,top:0,left:0}},itemClick:function(item,evt){evt.preventDefault();evt.stopPropagation();item.onClick(evt)},openMenu:function(items,evt){this.setState({menuOpen:true,items:items,top:evt.clientY,left:evt.clientX})},closeMenu:function(){this.setState({menuOpen:false})},getMenu:function(){if(!this.state.menuOpen){return React.DOM.div(null)}return React.DOM.div(null,React.DOM.div({style:{position:\"fixed\",top:0,left:0,width:this.state.windowWidth,height:this.state.windowHeight,zIndex:40},onClick:this.closeMenu}),React.DOM.div({style:{position:\"fixed\",top:this.state.top,left:this.state.left,border:\"1px solid #ddd\",zIndex:41}},this.state.items.map(function(item,idx){return React.DOM.div({key:idx},React.DOM.a({href:\"javascript:\",onClick:this.itemClick.bind(this,item),style:{display:\"inline-block\",width:\"100%\",padding:4,backgroundColor:\"white\"}},item.label))}.bind(this))))}},Searchable:{getInitialState:function(){return{search_value:\"\"}},getSearchBox:function(placeholder,style){return React.DOM.input({type:\"search\",value:this.state.search_value,onChange:this.setSearchValue,placeholder:placeholder,style:style})},setSearchValue:function(evt){this.setState({search_value:evt.target.value})}},Slider:React.createClass({displayName:\"Slider\",render:function(){Util.assert(this.props.value>=this.props.min);Util.assert(this.props.value<=this.props.max);return React.DOM.div({className:\"canvas-slider\"},React.DOM.div({className:\"canvas-slider-label\"},this.props.label),React.DOM.div({className:\"canvas-slider-control\"},this.props.min,this.transferPropsTo(React.DOM.input({type:\"range\",name:\"canvas-slider-range\"})),this.props.max),React.DOM.div({className:\"canvas-slider-box\"},this.transferPropsTo(React.DOM.input({type:\"number\",name:\"canvas-slider-number\"}))))}}),SortableTable:React.createClass({displayName:\"SortableTable\",getValue:function(data,rowIdx,colIdx){var ret=null;if(rowIdx===null){if(this.props.sortable.indexOf(colIdx)!=-1){var className=\"fa fa-sort\";if(this.props.sortColumn===colIdx){if(this.props.types[colIdx]===\"number\"){className+=\"-numeric\"}else if(this.props.types[colIdx]===\"string\"){className+=\"-alpha\"}}if(this.props.sortColumn===colIdx&&this.props.sortDesc){className+=\"-desc\"}else if(this.props.sortColumn===colIdx){className+=\"-asc\"}ret=React.DOM.span(null,data[colIdx],React.DOM.a({onClick:this.sort.bind(this,colIdx),href:\"javascript:\"},React.DOM.i({className:className,style:{marginLeft:6,marginRight:6}})))}else{ret=data[colIdx]}}else{ret=data[rowIdx][colIdx]}return React.DOM.div({style:{padding:8,display:\"inline-block\"}},ret)},getDefaultProps:function(){return{sortable:[],sortColumn:null,sortDesc:false,renderTD:true}},copyProps:function(){return{data:Util.deepCopy(this.props.data),sortColumn:this.props.sortColumn,sortDesc:this.props.sortDesc}},sort:function(colIdx){var sortDesc=this.props.sortColumn===colIdx&&!this.props.sortDesc;this.props.onSort(colIdx,sortDesc)},render:function(){var data=Util.deepCopy(this.props.data);var sortDesc=this.props.sortDesc;data.sort(function(a,b){a=a[this.props.sortColumn];b=b[this.props.sortColumn];if(this.props.types[this.props.sortColumn]===\"number\"){if(a===\"n/a\"){a=null}if(b===\"n/a\"){b=null}}if(a===null){if(b===null){return 0}return 1}else if(b===null){return 1}else if(typeof a===\"number\"){return sortDesc?b-a:a-b}Util.assert(typeof a===\"string\");return sortDesc?b.localeCompare(a):a.localeCompare(b)}.bind(this));var getValue=this.getValue;if(\"getValue\"in this.props){getValue=this.props.getValue.bind(this)}return React.DOM.div({style:this.props.style},React.DOM.table({className:\"table table-bordered\",style:Util.merge({width:\"auto\",border:\"none\"},this.props.tableStyle)},React.DOM.thead(null,React.DOM.tr(null,this.props.headers.map(function(header,idx){return React.DOM.th({key:idx,style:{whiteSpace:\"nowrap\",verticalAlign:\"middle\",padding:0,border:\"none\"}},getValue(this.props.headers,null,idx))}.bind(this)))),React.DOM.tbody(null,data.map(function(row,rowIdx){return React.DOM.tr({key:rowIdx},row.map(function(col,colIdx){var ret=getValue(data,rowIdx,colIdx);if(this.props.renderTD){ret=React.DOM.td({style:{padding:0,verticalAlign:\"middle\",border:\"none\"},key:colIdx},ret)}return ret}.bind(this)))}.bind(this)))))}}),Tooltip:{getInitialState:function(){return{tooltip:{show:false,x:0,y:0,data:null,timeoutFn:null}}},tooltipMouseOver:function(data,evt){this.setState({tooltip:{show:false,x:evt.clientX,y:evt.clientY,data:data,timeoutFn:setTimeout(function(){this.setState({tooltip:Util.merge(this.state.tooltip,{show:true})})}.bind(this),400)}})},tooltipMouseOut:function(evt){clearTimeout(this.state.tooltip.timeoutFn);this.setState({tooltip:{show:false,timeoutFn:null}})},getTooltip:function(){return Tooltip({data:this.state.tooltip.data,x:this.state.tooltip.x,y:this.state.tooltip.y-20,show:this.state.tooltip.show})}},Modal:{getInitialState:function(){return{modal:{open:false}}},modalOpen:function(title,body,additionalClass){this.setState({modal:{open:true,title:title,body:body,additionalClass:additionalClass}})},modalClose:function(){this.setState({modal:{open:false}})},getModal:function(){return Modal({open:this.state.modal.open,closeModal:this.modalClose,title:this.state.modal.title,body:this.state.modal.body,additionalClass:Util.tryGetProperty(this.state.modal,\"additionalClass\",\"\")})}},SizeToWindow:SizeToWindow,Tabs:React.createClass({displayName:\"Tabs\",mixins:[SizeToWindow],getInitialState:function(){return{initialTab:this.props.initialTab,selectedTab:this.props.initialTab}},componentWillReceiveProps:function(nextProps){if(nextProps.initialTab!=this.state.initialTab){this.setState({initialTab:nextProps.initialTab,selectedTab:nextProps.initialTab})}},selectTab:function(tab,evt){var prev={};prev[this.state.selectedTab]=true;this.setState({selectedTab:tab})},render:function(){return React.DOM.div(null,React.DOM.ul({className:\"nav nav-tabs\",role:\"tablist\"},this.props.tabs.map(function(tab,idx){return React.DOM.li({key:idx,className:tab[0]===this.state.selectedTab?\"active\":\"\"},React.DOM.a({href:\"javascript:\",onClick:this.selectTab.bind(this,tab[0])},tab[0]))}.bind(this))),React.DOM.div({className:\"tab-content\",style:{width:this.state.windowWidth-(190+50),height:this.state.windowHeight-(74+50),overflow:\"auto\"}},this.props.tabs.map(function(row,idx){var tab=row[0];var tag=row[1];if(tab===this.state.selectedTab){return React.DOM.div({key:idx,className:\"tab-pane active\"},React.DOM.div({className:\"canvas-view-main\"},tag(Util.partial(this.props,[\"tabs\"],true))))}else{return null}}.bind(this))))}}),AsyncState:{componentWillReceiveProps:function(nextProps){if(!Util.deepEquals(this.props,nextProps)){this.setState(this.getInitialState(nextProps),function(){this.updateAsyncState(nextProps)}.bind(this))}},addTask:function(task){this.tasks.push(task);TaskQueue.add(task)},cancelAllTasks:function(){this.tasks.forEach(function(task){task.cancel()});this.tasks=[]},componentDidMount:function(){this.tasks=[];this.updateAsyncState(this.props)},componentWillUnmount:function(){this.cancelAllTasks()}},SVG:{ellipse:React.createClass({displayName:\"ellipse\",render:function(){var d=\"M \"+(this.props.cx-this.props.rx)+\" \"+this.props.cy+\" a \"+this.props.rx+\" \"+this.props.ry+\" 0 1 0 \"+this.props.rx*2+\" 0 a \"+this.props.rx+\" \"+this.props.ry+\" 0 1 0 \"+-(this.props.rx*2)+\" 0\";return this.transferPropsTo(React.DOM.path({d:d}))}})}}});\n",
        "\"use strict\";define(\"logging\",[\"common_util\"],function(Util){var g_log=[];function log(evt){g_log.push(Date.now());g_log.push(evt)}function reportMetric(metric,value,properties){Util.assert(typeof metric===\"string\");var data={metric:metric};if(value!=null){Util.assert(typeof value===\"number\");data[\"value\"]=String(value)}if(properties!=null){data[\"properties\"]=JSON.stringify(properties)}data[\"_xsrf\"]=Util.getCookie(\"_xsrf\");$.post(\"/metrics\",data)}return{log:log,get:function(){return g_log.slice()},reportMetric:reportMetric}});\n",
        "\"use strict\";define(\"state\",[\"common_util\"],function(Util){var listeners=[];return{addListener:function(l){listeners.push(l)},set:function(state){for(var i=0;i<listeners.length;i++){listeners[i].setState(state)}}}});\n",
        "\"use strict\";define(\"taskqueue\",[\"common_util\",\"state\",\"logging\"],function(Util,State,Logging){function Task(){this.canceled=false;this.startTime=null;this.endTime=null;this.fn_always=[];this.fn_done=[];this.fn_fail=[]}Task.prototype.toString=function(){return JSON.stringify({canceled:this.canceled,startTime:this.startTime,endTime:this.endTime})};Task.prototype.always=function(fn){this.fn_always.push(fn);return this};Task.prototype.done=function(fn){this.fn_done.push(fn);return this};Task.prototype.fail=function(fn){this.fn_fail.push(fn);return this};Task.prototype.progress=function(){return 0};Task.prototype.operation=function(){return\"\"};Task.prototype.running=function(){return this.startTime!=null&&this.endTime==null};Task.prototype.finished=function(){return this.startTime!=null&&this.endTime!=null};Task.prototype.elapsed=function(){if(this.finished()){return this.endTime-this.startTime}else if(this.running()){return Date.now()-this.startTime}else{return 0}};Task.prototype.run=function(){Util.assert(!this.finished());Util.assert(!this.running());this.startTime=Date.now()};Task.prototype.end=function(){this.endTime=Date.now();var applyAll=function(fnArray,args){fnArray.forEach(function(fn){fn.apply(this,args)}.bind(this))}.bind(this);if(!this.canceled){applyAll(this.fn_done,arguments)}else{applyAll(this.fn_fail,arguments)}applyAll(this.fn_always,arguments);setTimeout(processTasks,0)};Task.prototype.cancel=function(){if(!this.finished()){this.canceled=true;this.end.apply(this,arguments)}};function SingleTask(url,opName){Task.call(this);this.url=url;this.op=opName;this.request=null}SingleTask.prototype.toString=function(){return JSON.stringify({url:this.url,op:this.op,canceled:this.canceled,startTime:this.startTime,endTime:this.endTime})};SingleTask.prototype=new Task;SingleTask.prototype.cancel=function(){if(this.request!==null){this.request.abort()}Task.prototype.cancel.apply(this,arguments)};SingleTask.prototype.run=function(){Task.prototype.run.call(this);this.request=$.get(this.url).done(function(data){if(this.canceled){return}this.end(data)}.bind(this)).fail(function(){this.cancel.apply(this,arguments)}.bind(this))};SingleTask.prototype.operation=function(){return this.op};function ProgressTask(url,opName,progressFn,pollInterval){SingleTask.call(this,url,opName);this._progressFn=progressFn;this._progress=0;this._timeout=null;this._pollInterval=pollInterval}ProgressTask.prototype=new SingleTask;ProgressTask.prototype.run=function(){Task.prototype.run.call(this);var _this=this;update();function update(){$.get(_this.url).done(function(data){if(_this.canceled){return}_this._progressFn(data);if(data.complete){_this.end(data);_this._progress=1}else{_this._progress=data.progress;_this._timeout=setTimeout(update,this._pollInterval)}}.bind(_this)).fail(function(){this.cancel.apply(this,arguments)}.bind(_this))}};ProgressTask.prototype.progress=function(){return this._progress};ProgressTask.prototype.cancel=function(){clearTimeout(this._timeout);SingleTask.prototype.cancel.call(this)};function MultiTask(taskList){Task.call(this);this.tasks=taskList;this.currentTask=0}MultiTask.prototype=new Task;MultiTask.prototype.progress=function(){if(this.tasks.length===0){return 0}var pct=this.currentTask/this.tasks.length;if(this.tasks[this.currentTask]instanceof ProgressTask){pct+=this.tasks[this.currentTask].progress()/this.tasks.length}Util.assert(!isNaN(pct));return pct};MultiTask.prototype.operation=function(){return this.tasks.map(function(task){return task.operation()})};MultiTask.prototype.run=function(){Task.prototype.run.call(this);var _this=this;function step(){if(_this.canceled){return}if(_this.currentTask===_this.tasks.length){_this.end()}else if(_this.tasks[_this.currentTask].finished()){_this.currentTask++}else if(!_this.tasks[_this.currentTask].running()){_this.tasks[_this.currentTask].run()}if(!_this.finished()){setTimeout(step,1e3)}}step()};MultiTask.prototype.cancel=function(){for(var i=0;i<this.tasks.length;i++){this.tasks[i].cancel()}Task.prototype.cancel.call(this)};var previousProgress=0;var previousFinished=false;function processTasks(){if(g_tasks.length===0){return}if(g_tasks[0].running()){}else if(g_tasks[0].finished()){if(g_tasks.length>1){Logging.log(\"removing completed task\");var removed=g_tasks.shift();Logging.log(removed.toString());setTimeout(processTasks,0)}}else{Logging.log(\"starting new task\");Logging.log(g_tasks[0].toString());g_tasks[0].run()}var currentTask=g_tasks[0];var progress=currentTask.progress();var finished=currentTask.finished();if(progress!==previousProgress||finished!==previousFinished){previousProgress=progress;previousFinished=finished;State.set({task:{progress:progress,finished:finished}})}}function cancelAllTasks(){for(var i=0;i<g_tasks.length;i++){g_tasks[i].cancel()}}var g_tasks=[];return{add:function(task){g_tasks.push(task)},cancelAll:cancelAllTasks,start:function(){setInterval(processTasks,200)},Task:Task,SingleTask:SingleTask,ProgressTask:ProgressTask,MultiTask:MultiTask}});\n",
        "\"use strict\";define(\"plot_frequency\",[\"react\",\"d3\",\"common_controls\",\"common_util\"],function(React,d3,Controls,Util){return{Frequency:React.createClass({displayName:\"Frequency\",mixins:[Controls.Tooltip],getInitialState:function(){return{hover:null}},getDefaultProps:function(){return{aspectRatio:3,maxValues:30,width:152,onItemClick:null,highlightElement:null}},onMouseOver:function(idx,value,evt){this.tooltipMouseOver(React.DOM.span(null,Util.formatSArrayValue(value.value.value),\":\u00a0\",Util.formatNumber(value.value.frequency),\" (\",Util.formatNumber(value.value.frequency/this.props.data.size*100),\"%)\"),evt);this.setState({hover:idx});if(\"onItemHover\"in this.props){this.props.onItemHover(idx)}},onMouseOut:function(evt){this.tooltipMouseOut(evt);this.setState({hover:null});if(\"onItemHover\"in this.props){this.props.onItemHover(null)}},render:function(){var width=this.props.aspectRatio;var values=[];if(\"frequent_items\"in this.props.data&&Object.keys(this.props.data.frequent_items).length>0){values=Util.sortFrequentItems(this.props.data.frequent_items,this.props.maxValues)}else{values=[{key:\"\",value:0}]}var x=d3.scale.linear().domain([0,values.length]).range([0,width]);var y=d3.scale.linear().domain([0,values[0].value.frequency]).range([0,1]);var barWidth=width/values.length-.01*width;var viewBox=[0,0,width,1].join(\" \");var hover=\"hover\"in this.props?this.props.hover:this.state.hover;return React.DOM.div(null,React.DOM.svg({viewBox:viewBox,width:this.props.width,height:this.props.width/this.props.aspectRatio},values.map(function(value,idx){var opacity=this.props.highlightElement===null||this.props.highlightElement===value.key?1:.3;var onClickFn=this.props.disabled||this.props.onItemClick===null?null:this.props.onItemClick.bind(null,value.key);return React.DOM.g({key:idx},React.DOM.rect({width:barWidth,height:y(values[0].value.frequency),x:x(idx),y:1-y(values[0].value.frequency),onMouseOver:this.onMouseOver.bind(this,idx,value),onMouseOut:this.onMouseOut,fill:\"#fff\"}),React.DOM.rect({fill:hover===idx?\"#ff5500\":\"#0a8cc4\",width:barWidth,height:y(value.value.frequency),x:x(idx),y:1-y(value.value.frequency),onMouseOver:this.onMouseOver.bind(this,idx,value),onMouseOut:this.onMouseOut,onClick:onClickFn,style:{opacity:opacity,cursor:onClickFn===null?\"default\":\"pointer\",transition:\"opacity 0.3s ease\"}}))}.bind(this))),this.getTooltip())}})}});\n",
        "\"use strict\";define(\"plot_bar\",[\"react\",\"d3\",\"jquery\",\"common_controls\",\"common_util\"],function(React,d3,jQuery,Controls,Util){var FRAME_PADDING=75;var TICK_WIDTH=10;var TICK_HEIGHT=10;var PADDING_FRACTION=.25;var BAR_SPACING=5;var formatLabels=function(num){if(d3.format(\".3g\")(num).length>7)return d3.format(\".1g\")(num);else return d3.format(\".3g\")(num)};var abbreviateLabel=function(numRows,string){if(numRows>10){return\"\"}if(string.length>8){string=string.substring(0,6);string=string.concat(\"...\")}return string};var BarRenderer=React.createClass({displayName:\"BarRenderer\",render:function(){var xScale=this.props.xScale;var yScale=this.props.yScale;var width=this.props.width;var height=this.props.height;var barData=this.props.barData;var bars=[];for(var i=0;i<barData.length;i++){var minVal=yScale.domain()[0];var maxVal=yScale.domain()[1];var xVal=FRAME_PADDING+xScale(i);var barTooltip=barData[i].name+\": \"+barData[i].value;if(minVal>=0){bars.push(React.DOM.rect({className:\"canvas-bar-barRect\",x:xVal,y:yScale(barData[i].value)+FRAME_PADDING,width:width/barData.length,height:yScale(minVal)-yScale(barData[i].value),key:i},React.DOM.title(null,\" \",barTooltip,\" \")))}else if(maxVal<=0){bars.push(React.DOM.rect({className:\"canvas-bar-barRect\",x:xVal,y:FRAME_PADDING,width:width/barData.length,height:yScale(barData[i].value),key:i},React.DOM.title(null,\" \",barTooltip,\" \")))}else if(barData[i].value>=0){bars.push(React.DOM.rect({className:\"canvas-bar-barRect\",x:xVal,y:yScale(barData[i].value)+FRAME_PADDING,width:width/barData.length,height:yScale(0)-yScale(barData[i].value),key:i},React.DOM.title(null,\" \",barTooltip,\" \")))}else{bars.push(React.DOM.rect({className:\"canvas-bar-barRect\",x:xVal,y:yScale(0)+FRAME_PADDING,width:width/barData.length,height:yScale(barData[i].value)-yScale(0),key:i},React.DOM.title(null,\" \",barTooltip,\" \")))}}return React.DOM.g(null,bars)}});var LabelRenderer=React.createClass({displayName:\"LabelRenderer\",render:function(){var width=this.props.width/this.props.barData.length;if(width<12){return React.DOM.div(null)}return React.DOM.div(null,this.props.barData.map(function(bar,idx){return React.DOM.div({style:{position:\"absolute\",top:this.props.height+FRAME_PADDING*1.35-12,left:FRAME_PADDING+this.props.xScale(idx),width:width,fontSize:10,color:\"#4b4b4b\",textAlign:\"center\",textOverflow:\"ellipsis\",overflow:\"hidden\",whiteSpace:\"nowrap\",paddingLeft:3,paddingRight:3}},bar.name)}.bind(this)))}});var AxisRenderer=React.createClass({displayName:\"AxisRenderer\",render:function(){var xScale=this.props.xScale;var yScale=this.props.yScale;var width=this.props.width;var height=this.props.height;var gridlinesVisible=this.props.gridlinesVisible;var barData=this.props.barData;var axisYVal=yScale(0);if(axisYVal<0){axisYVal=0}else if(axisYVal>height){axisYVal=height}axisYVal+=FRAME_PADDING;var gridlineVisibility=gridlinesVisible?\"visible\":\"hidden\";var xLinesAndLabels=[];for(var i=0;i<barData.length;i++){xLinesAndLabels.push(React.DOM.line({key:i,className:\"canvas-bar-ticks\",x1:FRAME_PADDING+xScale(i)+width/barData.length/2,x2:FRAME_PADDING+xScale(i)+width/barData.length/2,y1:height+FRAME_PADDING+TICK_HEIGHT/2,y2:height+FRAME_PADDING-TICK_HEIGHT/2},React.DOM.title(null,barData[i].name)))}var yLinesAndLabels=yScale.ticks().map(function(yValue,idx){return React.DOM.g({key:\"Yg-\"+idx},React.DOM.line({className:\"canvas-bar-gridlines\",x1:FRAME_PADDING,x2:width+FRAME_PADDING,y1:yScale(yValue)+FRAME_PADDING,y2:yScale(yValue)+FRAME_PADDING,key:\"Ygridline-\"+yValue,style:{visibility:gridlineVisibility}}),React.DOM.line({className:\"canvas-bar-ticks\",x1:FRAME_PADDING-TICK_WIDTH/2,x2:FRAME_PADDING+TICK_WIDTH/2,y1:yScale(yValue)+FRAME_PADDING,y2:yScale(yValue)+FRAME_PADDING,key:\"Yticks-\"+yValue}),React.DOM.text({className:\"canvas-bar-numLabel\",x:FRAME_PADDING/1.75,y:yScale(yValue)+FRAME_PADDING+4,key:\"YnumLabel-\"+yValue},formatLabels(yValue)))});return React.DOM.g(null,xLinesAndLabels,yLinesAndLabels,React.DOM.line({className:\"canvas-bar-axes\",x1:FRAME_PADDING,y1:axisYVal,x2:width+FRAME_PADDING,y2:axisYVal}),React.DOM.line({className:\"canvas-bar-axes\",x1:FRAME_PADDING,y1:FRAME_PADDING,x2:FRAME_PADDING,y2:height+FRAME_PADDING}))}});var AxisLabel=React.createClass({displayName:\"AxisLabel\",handleClick:function(evt){var selected_column=[this.props.plotName,this.props.name];this.props.selectVariable(selected_column)},render:function(){var link=this.props.ipython?this.props.name:React.DOM.a({href:\"javascript:\",onClick:this.handleClick},this.props.name);return React.DOM.span({className:\"canvas-scatter-axesLabel\",style:{position:\"absolute\",top:\"\"+this.props.y+\"px\",left:\"\"+this.props.x+\"px\",width:\"\"+this.props.width+\"px\"}},link)}});return{Bar:React.createClass({displayName:\"Bar\",getDefaultProps:function(){return{width:500,height:500,barData:[],extrema:{min:0,max:10},catLabel:\"\",numLabel:\"\"}},getInitialState:function(){return{gridlinesVisible:true,sortedBars:false,barsToDisplay:this.props.barData}},padExtrema:function(extrema){var originalDomain=extrema.max-extrema.min;var paddedExtrema={};paddedExtrema.min=extrema.min-PADDING_FRACTION*originalDomain;paddedExtrema.max=extrema.max+PADDING_FRACTION*originalDomain;if(extrema.min>=0&&paddedExtrema.min<0)paddedExtrema.min=0;if(extrema.max<=0&&paddedExtrema.max>0)paddedExtrema.max=0;return paddedExtrema},toggleGridlines:function(){this.setState({gridlinesVisible:!this.state.gridlinesVisible})},toggleSortedBars:function(){if(this.state.sortedBars){this.setState({barsToDisplay:this.props.barData})}else{var tempBars=$.extend(true,[],this.props.barData);tempBars.sort(function(bar1,bar2){return bar1.value-bar2.value});this.setState({barsToDisplay:tempBars})}this.setState({sortedBars:!this.state.sortedBars})},componentWillReceiveProps:function(nextProps){this.setState({barsToDisplay:nextProps.barData})},render:function(){var newExtrema=this.padExtrema(this.props.extrema);var min=newExtrema.min;var max=newExtrema.max;var xScale=d3.scale.linear().domain([0,this.props.barData.length]).range([0,this.props.width]);var yScale=d3.scale.linear().domain([min,max]).range([this.props.height,0]);return React.DOM.div({className:\"canvas-bar-frame\",style:{position:\"relative\"}},LabelRenderer({xScale:xScale,barData:this.state.barsToDisplay,height:this.props.height,width:this.props.width}),React.DOM.svg({className:\"canvas-bar-svgFrame\",width:this.props.width+2*FRAME_PADDING,height:this.props.height+2*FRAME_PADDING},React.DOM.rect({className:\"canvas-bar-rectFrame\",width:this.props.width,height:this.props.height,x:FRAME_PADDING,y:FRAME_PADDING}),AxisRenderer({xScale:xScale,yScale:yScale,width:this.props.width,height:this.props.height,barData:this.state.barsToDisplay,gridlinesVisible:this.state.gridlinesVisible}),BarRenderer({xScale:xScale,yScale:yScale,width:this.props.width,height:this.props.height,barData:this.state.barsToDisplay})),React.DOM.input({className:\"canvas-bar-toggleButton\",type:\"checkbox\",name:\"gridlineToggle\",onClick:this.toggleGridlines,style:{position:\"absolute\",top:\"\"+(this.props.height+2*FRAME_PADDING-25)/2+\"px\",left:\"\"+(this.props.width+1.5*FRAME_PADDING)+\"px\"}},React.DOM.p({className:\"canvas-bar-toggleLabel\",style:{position:\"absolute\",top:\"\"+(this.props.height+2*FRAME_PADDING-25)/2+\"px\",left:\"\"+(this.props.width+1.75*FRAME_PADDING)+\"px\"}},\"Toggle gridlines\")),React.DOM.input({className:\"canvas-bar-toggleButton\",type:\"checkbox\",name:\"sortedBarsToggle\",onClick:this.toggleSortedBars,style:{position:\"absolute\",top:\"\"+(this.props.height+2*FRAME_PADDING+25)/2+\"px\",left:\"\"+(this.props.width+1.5*FRAME_PADDING)+\"px\"}},React.DOM.p({className:\"canvas-bar-toggleLabel\",style:{position:\"absolute\",top:\"\"+(this.props.height+2*FRAME_PADDING+25)/2+\"px\",left:\"\"+(this.props.width+1.75*FRAME_PADDING)+\"px\"}},\"Toggle bar sorting\")),[{name:this.props.catLabel,x:FRAME_PADDING,y:this.props.height+FRAME_PADDING*1.5,width:this.props.width},{name:this.props.numLabel,x:0,y:FRAME_PADDING/2.5,width:\"auto\"}].map(function(axis,idx){return AxisLabel({key:idx,name:axis.name,selectVariable:this.props.selectVariable,plotName:this.props.plotName,x:axis.x,y:axis.y,width:axis.width,ipython:this.props.ipython})}.bind(this)))}})}});\n",
        "\"use strict\";define(\"plot_box\",[\"react\",\"d3\",\"common_controls\",\"common_util\"],function(React,d3,Controls,Util){return{BoxAndWhisker:React.createClass({displayName:\"BoxAndWhisker\",transformData:function(data,params,states){var quantile=data.quantile;var Q0=quantile[0];var Q1=quantile[25];var Q2=quantile[50];var Q3=quantile[75];var Q4=quantile[100];var IQR=Q3-Q1;var lowWhiskerValue=Math.max(Q0,Q1-1.5*IQR);var highWhiskerValue=Math.min(Q4,Q3+1.5*IQR);var lowOutlierValues=[];var highOutlierValues=[];for(var i=0;i<quantile.length;i++){if(quantile[i]<lowWhiskerValue){lowOutlierValues.push(quantile[i])}if(quantile[i]>highWhiskerValue){highOutlierValues.push(quantile[i])}}return{minValue:Q0,maxValue:Q4,lowOutliers:lowOutlierValues,highOutliers:highOutlierValues,lowWhisker:{low:lowWhiskerValue,high:Q1},highWhisker:{low:Q3,high:highWhiskerValue},lowBox:{low:Q1,high:Q2},highBox:{low:Q2,high:Q3},median:{value:Q2}}},calculateScales:function(data,params,states){var yScale=d3.scale.linear().domain([0,1]).range([0,params.height]);var xScale=d3.scale.linear().domain([params.minValue,params.maxValue]).range([10,params.width-10]);var heightScale=yScale;var widthScale=d3.scale.linear().domain([0,params.maxValue-params.minValue]).range([0,params.width-20]);return{x:xScale,y:yScale,width:widthScale,height:heightScale}},render:function(){var hasData=Util.tryGetProperty(this.props.data,\"quantile\",null)!==null;var isInsideSvg=Util.tryGetProperty(this.props,\"is_inside_svg\",false);if(!hasData){return isInsideSvg?React.DOM.div(null):React.DOM.g(null)}var width=Util.tryGetProperty(this.props,\"width\",152);if(this.props.vertical){width*=6}var height=width/6;var style={width:width,height:this.props.vertical?width:height};var transform=this.props.vertical?\"rotate(270deg) translateX(-\"+width+\"px) translateY(\"+width/4+\"px)\":\"\";var containerStyle=this.props.vertical?{transform:transform,\"-webkit-transform\":transform}:{};var params={width:width,height:height,maxValue:Util.tryGetProperty(this.props,\"max_value\",this.props.data.max),minValue:Util.tryGetProperty(this.props,\"min_value\",this.props.data.min)};var data=this.transformData(this.props.data,params,this.states);var scales=this.calculateScales(this.props.data,params,this.states);var viewBody=React.DOM.g({className:\"BoxAndWhisker\",style:containerStyle},React.DOM.g({className:\"lowOutliers\"},data.lowOutliers.map(function(d,idx){return React.DOM.circle({key:idx,cx:scales.x(d),cy:scales.y(.5),r:2.5,fill:\"#85bd00\"})})),React.DOM.g({className:\"lowWhisker\"},function(d){return React.DOM.g(null,React.DOM.line({x1:scales.x(d.low),x2:scales.x(d.low),y1:scales.y(0),y2:scales.y(1),className:\"canvas-boxplot-end\"}),React.DOM.line({x1:scales.x(d.low),x2:scales.x(d.high),y1:scales.y(.5),y2:scales.y(.5),className:\"canvas-boxplot-line\"}))}(data.lowWhisker)),React.DOM.g({className:\"lowBox\"},function(d){return React.DOM.rect({x:scales.x(d.low),width:scales.width(d.high-d.low)-1,y:scales.y(.05),height:scales.height(.9),fill:\"#85bd00\"})}(data.lowBox)),React.DOM.g({className:\"median\"},function(d){return React.DOM.rect({x:scales.x(d.value)-.5,width:2,y:scales.y(.05),height:scales.height(.9),fill:\"#fff\"})}(data.median)),React.DOM.g({className:\"highBox\"},function(d){return React.DOM.rect({x:scales.x(d.low),width:scales.width(d.high-d.low)-1,y:scales.y(.05),height:scales.height(.9),fill:\"#85bd00\"})}(data.highBox)),React.DOM.g({className:\"highWhisker\"},function(d){return React.DOM.g(null,React.DOM.line({x1:scales.x(d.high),x2:scales.x(d.high),y1:scales.y(0),y2:scales.y(1),className:\"canvas-boxplot-end\"}),React.DOM.line({x1:scales.x(d.low),x2:scales.x(d.high),y1:scales.y(.5),y2:scales.y(.5),className:\"canvas-boxplot-line\"}))}(data.highWhisker)),React.DOM.g({className:\"highOutliers\"},data.highOutliers.map(function(d,idx){return React.DOM.circle({key:idx,cx:scales.x(d),cy:scales.y(.5),r:2.5,fill:\"#85bd00\"})})));return isInsideSvg?viewBody:React.DOM.div({className:\"canvas-plot-boxandwhisker\"},React.DOM.svg({style:style},viewBody))}})}});\n",
        "\"use strict\";define(\"plot_boxes\",[\"react\",\"d3\",\"plot_box\",\"common_controls\",\"common_util\"],function(React,d3,Plot,Controls,Util){return{BoxAndWhiskerArray:React.createClass({displayName:\"BoxAndWhiskerArray\",mixins:[Controls.Tooltip],render:function(){var hasData=Util.tryGetProperty(this.props.data,\"quantile\",null)!==null;var isInsideSvg=Util.tryGetProperty(this.props,\"is_inside_svg\",false);if(!hasData){return isInsideSvg?React.DOM.div(null):React.DOM.g(null)}var width=Util.tryGetProperty(this.props,\"width\",152);var height=Util.tryGetProperty(this.props,\"height\",100);var subsketchCount=this.props.data.subsketch_keys.length;var subsketchWidth=width;var subsketchSpacing=height/subsketchCount;var subsketchHeight=subsketchSpacing-2;var style={width:width,height:height};var BoxAndWhisker=Plot.BoxAndWhisker;var viewBody=React.DOM.g({className:\"BoxAndWhiskerArray\"},this.props.data.subsketches.map(function(subsketch,i){return React.DOM.g({transform:\"translate(0,\"+(i*subsketchSpacing+1)+\")\"},BoxAndWhisker({data:subsketch,width:subsketchWidth,height:subsketchHeight,is_inside_svg:true,min_value:this.props.data.min,max_value:this.props.data.max}))},this));var tooltipOnMouseOver=this.tooltipMouseOver.bind(this,React.DOM.table({className:\"canvas-sframe-boxplot-tooltip\"},[0,1,2,25,50,75,98,99,100].map(function(q){var quantile=this.props.data.quantile;return React.DOM.tr({key:q},React.DOM.td(null,\"quantile(\",q/100,\"):\"),React.DOM.td(null,Util.formatNumber(quantile[q])))}.bind(this))));var tooltipOnMouseOut=this.tooltipMouseOut;return isInsideSvg?viewBody:React.DOM.div({className:\"canvas-plot-boxandwhiskerarray\"},React.DOM.svg({style:style,onMouseOver:tooltipOnMouseOver,onMouseOut:tooltipOnMouseOut},viewBody),this.getTooltip())}})}});\n",
        "\"use strict\";define(\"plot_heatmap\",[\"react\",\"d3\",\"jquery\",\"common_controls\",\"common_util\"],function(React,d3,jQuery,Controls,Util){var FRAME_PADDING=75;var TICK_WIDTH=10;var TICK_HEIGHT=10;var FRAME_THICKNESS=1;var formatLabels=function(num){if(d3.format(\".3g\")(num).length>7)return d3.format(\".1g\")(num);else return d3.format(\".3g\")(num)};function getRGB(binWeight,heatScale){var normalizedWeight=heatScale(binWeight);var red;var blue;var green;if(normalizedWeight<.5){red=0;blue=2*(1-2*normalizedWeight);if(blue>1)blue=1}else{blue=0;red=4*(normalizedWeight-.5);if(red>1)red=1}var distFromMiddle=Math.abs(normalizedWeight-.5);if(distFromMiddle<.25)green=1;else green=4*(.5-distFromMiddle);return[Math.floor(red*255),Math.floor(green*255),Math.floor(blue*255)]}function incrementAdjacentCells(array,incrementAmount,i,j){for(var iitr=i-1;iitr<=i+1;iitr++){if(iitr<0||iitr>=array.length)continue;for(var jitr=j-1;jitr<=j+1;jitr++){if(jitr<0||jitr>=array[i].length)continue;array[iitr][jitr]+=incrementAmount}}}var AxisLabel=React.createClass({displayName:\"AxisLabel\",handleClick:function(evt){var selected_column=[this.props.plotName,this.props.name];this.props.selectVariable(selected_column)},render:function(){var link=this.props.ipython?this.props.name:React.DOM.a({href:\"javascript:\",onClick:this.handleClick},this.props.name);return React.DOM.span({className:\"canvas-heatmap-axesLabel\",style:{position:\"absolute\",top:\"\"+this.props.y+\"px\",left:\"\"+this.props.x+\"px\",width:\"\"+this.props.width+\"px\"}},link)}});var CanvasFrame=React.createClass({displayName:\"CanvasFrame\",drawFrame:function(context){context.fillStyle=\"#444444\";context.fillRect(FRAME_PADDING,FRAME_PADDING,this.props.width,this.props.height);context.fillStyle=\"#0000FF\";context.fillRect(FRAME_THICKNESS+FRAME_PADDING,FRAME_THICKNESS+FRAME_PADDING,this.props.width-2*FRAME_THICKNESS,this.props.height-2*FRAME_THICKNESS)},drawTicksAndGrid:function(context){context.lineWidth=1;context.fillStyle=\"#333333\";for(var i=0;i<this.props.xScale.ticks().length;i++){var xValue=this.props.xScale.ticks()[i];if(this.props.gridlinesVisible){context.strokeStyle=\"#999999\";context.beginPath();context.moveTo(FRAME_PADDING+this.props.xScale(xValue),FRAME_PADDING);context.lineTo(FRAME_PADDING+this.props.xScale(xValue),FRAME_PADDING+this.props.height);context.stroke()}context.strokeStyle=\"#444444\";context.beginPath();context.moveTo(FRAME_PADDING+this.props.xScale(xValue),FRAME_PADDING+this.props.height-TICK_HEIGHT);context.lineTo(FRAME_PADDING+this.props.xScale(xValue),FRAME_PADDING+this.props.height+TICK_HEIGHT);context.stroke();context.font=\"12px Helvetica\";context.fillText(\"\"+formatLabels(xValue),FRAME_PADDING+this.props.xScale(xValue)-TICK_WIDTH/2,FRAME_PADDING+this.props.height+2*TICK_HEIGHT)}for(var i=0;i<this.props.yScale.ticks().length;i++){var yValue=this.props.yScale.ticks()[i];if(this.props.gridlinesVisible){context.strokeStyle=\"#999999\";context.beginPath();context.moveTo(FRAME_PADDING,FRAME_PADDING+this.props.yScale(yValue));context.lineTo(FRAME_PADDING+this.props.width,FRAME_PADDING+this.props.yScale(yValue));context.stroke()}context.strokeStyle=\"#444444\";context.beginPath();context.moveTo(FRAME_PADDING-TICK_WIDTH,FRAME_PADDING+this.props.yScale(yValue));context.lineTo(FRAME_PADDING+TICK_WIDTH,FRAME_PADDING+this.props.yScale(yValue));context.stroke();context.font=\"12px Helvetica\";context.fillText(\"\"+formatLabels(yValue),FRAME_PADDING/3,FRAME_PADDING+this.props.yScale(yValue))}},drawAxis:function(context){context.lineWidth=1;var axisXVal=this.props.xScale(0);if(axisXVal<0)axisXVal=0;else if(axisXVal>this.props.width)axisXVal=this.props.width;axisXVal+=FRAME_PADDING;context.strokeStyle=\"#222222\";context.beginPath();context.moveTo(axisXVal-1,FRAME_PADDING);context.lineTo(axisXVal-1,FRAME_PADDING+this.props.height);context.stroke();var axisYVal=this.props.yScale(0);if(axisYVal<0)axisYVal=0;else if(axisYVal>this.props.height)axisYVal=this.props.height;axisYVal+=FRAME_PADDING;context.strokeStyle=\"#222222\";context.beginPath();context.moveTo(FRAME_PADDING,axisYVal+1);context.lineTo(FRAME_PADDING+this.props.width,axisYVal+1);context.stroke()},drawBins:function(context){var binScreenWidth=this.props.xScale(this.props.binWidth)-this.props.xScale(0);var binScreenHeight=this.props.yScale(0)-this.props.yScale(this.props.binHeight);var maxWeight=Number.NEGATIVE_INFINITY;var minWeight=Number.POSITIVE_INFINITY;for(var i=0;i<this.props.bins.length;i++){for(var j=0;j<this.props.bins[i].length;j++){if(this.props.bins[i][j]>maxWeight)maxWeight=this.props.bins[i][j];if(this.props.bins[i][j]<minWeight)minWeight=this.props.bins[i][j]}}this.props.heatScale.domain([minWeight,maxWeight]).range([0,1]);if(this.props.heatScale.clamp()&&minWeight==0)this.props.heatScale.domain([1e-5,maxWeight]);for(var i=0;i<this.props.bins.length;i++){for(var j=0;j<this.props.bins[i].length;j++){var bin=this.props.bins[i][j];var xPos=this.props.xScale(this.props.binningDomain.minX+i*this.props.binWidth)+FRAME_PADDING;var yPos=this.props.yScale(this.props.binningDomain.maxY-j*this.props.binHeight)+FRAME_PADDING;if(xPos<FRAME_PADDING-binScreenWidth||xPos>FRAME_PADDING+this.props.width||yPos<FRAME_PADDING-binScreenHeight||yPos>FRAME_PADDING+this.props.height)continue;var binRenderWidth=binScreenWidth;var binRenderHeight=binScreenHeight;if(xPos<FRAME_PADDING)xPos=FRAME_PADDING;if(yPos>FRAME_PADDING+this.props.height-binScreenHeight)binRenderHeight=FRAME_PADDING+this.props.height-yPos;if(xPos>FRAME_PADDING+this.props.width-binScreenWidth)binRenderWidth=FRAME_PADDING+this.props.width-xPos;if(yPos<FRAME_PADDING)yPos=FRAME_PADDING;var rgb=getRGB(bin,this.props.heatScale);var rgbString=\"rgb(\"+rgb[0]+\",\"+rgb[1]+\",\"+rgb[2]+\")\";context.fillStyle=rgbString;context.fillRect(xPos,yPos,binRenderWidth,binRenderHeight)}}},drawGradientScale:function(context){var grd=context.createLinearGradient(this.props.width+FRAME_PADDING+5,75,this.props.width+FRAME_PADDING+30,275);grd.addColorStop(0,\"rgba(255, 0, 0, 1.000)\");grd.addColorStop(.25,\"rgba(255, 255, 0, 1.000)\");grd.addColorStop(.5,\"rgba(0, 255, 0, 1.000)\");grd.addColorStop(.75,\"rgba(0, 255, 255, 1.000)\");grd.addColorStop(1,\"rgba(0, 0, 255, 1.000)\");context.fillStyle=grd;context.fillRect(this.props.width+FRAME_PADDING+5,75,25,200);context.font=\"12px Helvetica\";context.strokeStyle=\"#444444\";context.fillStyle=\"#444444\";for(var i=0;i<3;i++){var colorWeight=i*.5;var pointWeight=this.props.heatScale.invert(colorWeight);if(isNaN(pointWeight)||pointWeight<1e-4){pointWeight=0}context.fillText(\"\"+formatLabels(pointWeight),this.props.width+FRAME_PADDING+30,(2-i)*100+75)}context.fillText(\"point density\",this.props.width+FRAME_PADDING,50)},draw:function(context){this.drawFrame(context);this.drawBins(context);this.drawTicksAndGrid(context);this.drawAxis(context);this.drawGradientScale(context)},componentDidMount:function(){var context=this.getDOMNode().getContext(\"2d\");this.draw(context)},componentDidUpdate:function(){var context=this.getDOMNode().getContext(\"2d\");context.clearRect(0,0,this.props.width+2*FRAME_PADDING,this.props.height+2*FRAME_PADDING);this.draw(context)},render:function(){return React.DOM.canvas({className:\"canvas-heatmap-canvas\",width:this.props.width+2*FRAME_PADDING,height:this.props.height+2*FRAME_PADDING})}});return{Heatmap:React.createClass({displayName:\"Heatmap\",getDefaultProps:function(){return{bins:[],binWidth:10,binHeight:10,width:500,height:500,extrema:{minX:0,maxX:10,minY:0,maxY:10},xLabel:\"\",yLabel:\"\",numValues:0}},getInitialState:function(){return{heatScale:d3.scale.linear(),gridlinesVisible:true,blurAmount:1,shouldShowBlur:true}},toggleGridlines:function(){this.setState({gridlinesVisible:!this.state.gridlinesVisible})},changeBlur:function(evt){var newBlurVal=evt.target.value;if(newBlurVal==0){this.setState({shouldShowBlur:false})}else{this.setState({shouldShowBlur:true})}this.setState({blurAmount:newBlurVal})},changeHeatFunction:function(event){var functionType=event.target.value;if(functionType==\"linear\")this.setState({heatScale:d3.scale.linear()});else if(functionType==\"log\")this.setState({heatScale:d3.scale.log().clamp(true)});else if(functionType==\"quadratic\")this.setState({heatScale:d3.scale.pow().exponent(2)});else if(functionType==\"sqrt\")this.setState({heatScale:d3.scale.sqrt()})},render:function(){var numIters=4;var alteredBins=$.extend(true,[],this.props.bins);if(this.state.shouldShowBlur){for(var k=0;k<numIters;k++){var incrementBins=$.extend(true,[],alteredBins);for(var i=0;i<alteredBins.length;i++){for(var j=0;j<alteredBins[i].length;j++){incrementAdjacentCells(alteredBins,this.state.blurAmount*incrementBins[i][j]/250,i,j)}}}var newNumValues=0;for(var i=0;i<alteredBins.length;i++){for(var j=0;j<alteredBins[i].length;j++){newNumValues+=alteredBins[i][j]}}var numCurrentValues=0;for(var i=0;i<this.props.bins.length;i++){for(var j=0;j<this.props.bins[i].length;j++){numCurrentValues+=this.props.bins[i][j]}}for(var i=0;i<alteredBins.length;i++){for(var j=0;j<alteredBins[i].length;j++){Math.round(alteredBins[i][j]*=numCurrentValues/newNumValues)}}}TICK_HEIGHT=this.props.height/50;TICK_WIDTH=this.props.width/50;var minX=this.props.domainToShow.minX;var minY=this.props.domainToShow.minY;var maxX=this.props.domainToShow.maxX;var maxY=this.props.domainToShow.maxY;var xScale=d3.scale.linear().domain([minX,maxX]).range([0,this.props.width]);var yScale=d3.scale.linear().domain([minY,maxY]).range([this.props.height,0]);var SliderControl=Controls.Slider;return React.DOM.div({className:\"canvas-heatmap-frame\"},CanvasFrame({className:\"canvas-heatmap-canvasFrame\",width:this.props.width,height:this.props.height,xScale:xScale,yScale:yScale,heatScale:this.state.heatScale,bins:alteredBins,originalBins:this.props.bins,binWidth:this.props.binWidth,binHeight:this.props.binHeight,binningDomain:this.props.extrema,numValues:this.props.numValues,gridlinesVisible:this.state.gridlinesVisible,shouldShowBlur:this.state.shouldShowBlur}),React.DOM.input({className:\"canvas-heatmap-toggleButton\",type:\"checkbox\",name:\"gridlineToggle\",onChange:this.toggleGridlines,style:{position:\"absolute\",top:\"\"+(this.props.height+2*FRAME_PADDING+25)/2+\"px\",left:\"\"+(this.props.width+2*FRAME_PADDING)+\"px\"}}),React.DOM.p({className:\"canvas-heatmap-toggleLabel\",style:{position:\"absolute\",top:\"\"+(this.props.height+2*FRAME_PADDING+25)/2+\"px\",left:\"\"+(this.props.width+2.25*FRAME_PADDING)+\"px\",width:\"200px\"}},\"Hide Gridlines\"),SliderControl({label:\"blur\",min:0,max:100,value:this.state.blurAmount,onChange:this.changeBlur}),React.DOM.select({className:\"canvas-heatmap-changeFunction\",type:\"checkbox\",name:\"functionSelect\",onChange:this.changeHeatFunction,style:{position:\"absolute\",top:\"\"+(this.props.height+2*FRAME_PADDING-25)/2+\"px\",left:\"\"+(this.props.width+2*FRAME_PADDING)+\"px\"}},React.DOM.option({value:\"linear\"},\"Linear\"),React.DOM.option({value:\"quadratic\"},\"Quadratic\"),React.DOM.option({value:\"sqrt\"},\"Square Root\"),React.DOM.option({value:\"log\"},\"Logarithmic\")),React.DOM.p({className:\"canvas-heatmap-toggleLabel\",style:{position:\"absolute\",top:\"\"+(this.props.height+2*FRAME_PADDING-75)/2+\"px\",left:\"\"+(this.props.width+2*FRAME_PADDING)+\"px\",width:\"200px\"}},\"Heat Scaling Function\"),[{name:this.props.xLabel,x:FRAME_PADDING,y:this.props.height+FRAME_PADDING*1.5,width:this.props.width},{name:this.props.yLabel,x:0,y:FRAME_PADDING/2.5,width:\"auto\"}].map(function(axis,idx){return AxisLabel({key:idx,name:axis.name,selectVariable:this.props.selectVariable,plotName:this.props.plotName,x:axis.x,y:axis.y,width:axis.width,ipython:this.props.ipython})}.bind(this)))}})}});\n",
        "\"use strict\";define(\"plot_quantilehist\",[\"react\",\"d3\",\"common_controls\",\"common_util\"],function(React,d3,Controls,Util){return{QuantileHistogram:React.createClass({displayName:\"QuantileHistogram\",mixins:[Controls.Tooltip],setScale:function(axis,evt){var scale=evt.target.value;var newScale={};newScale[axis]=scale;this.setState({scale:Util.merge(this.state.scale,newScale)})},setBinCount:function(evt){this.setState({binCount:Number(evt.target.value)})},getInitialState:function(){return{binCount:null,scale:{x:\"linear\",y:\"linear\"}}},render:function(){var quantile=this.props.quantile.slice();if(quantile.length===0){return React.DOM.div(null)}var width=500,height=500;var plotWidth=width*.75,plotHeight=height*.65;var plotX=width*.175,plotY=height*.175;var min=d3.min(quantile);var max=d3.max(quantile);var range=max-min;var xBinCount=this.state.binCount!=null?this.state.binCount:this.props.starting_bins;var binScale=d3.scale[this.state.scale.x]().domain([1,xBinCount+1]).range([min,max]);var bins=[];var idx=0;var bin=0;for(var i=0;i<xBinCount;i++){var binMin=binScale(i+1);var binMax=binScale(i+2);bin=0;while(idx<quantile.length-1&&d3.mean([quantile[idx],quantile[idx+1]])<=binMax){bin++,idx++}bins.push(bin)}Util.assert(d3.sum(bins)===quantile.length-1);var yBinCount=d3.max(bins);var scaleX=d3.scale.linear().domain([0,xBinCount]).range([plotX,plotX+plotWidth]);var scaleY=d3.scale.linear().domain([0,yBinCount]).range([plotY,plotY+plotHeight]);var scaleYforLabels=d3.scale.linear().domain([0,yBinCount*.01*this.props.rows]).range([plotY+plotHeight,plotY]);var xTicks=d3.range(bins.length+1);var yTicks=scaleYforLabels.ticks(7);var xLabelPrefix=d3.formatPrefix(max>2?max/2:max);var xLabelPrefixSymbol=Util.siPrefixToShortScale(xLabelPrefix.symbol);var xLabels=xTicks.map(function(x,idx){return{text:d3.round(xLabelPrefix.scale(binScale(x+1)),2),idx:idx}});while(xLabels.length>8){xLabels=xLabels.filter(function(item,idx){return idx%2==0})}var yLabelPrefixMax=yBinCount*.01*this.props.rows;var yLabelPrefix=d3.formatPrefix(yLabelPrefixMax>2?yLabelPrefixMax/2:yLabelPrefixMax);var yLabelPrefixSymbol=Util.siPrefixToShortScale(yLabelPrefix.symbol);var yLabels=yTicks.map(yLabelPrefix.scale);var squares=[];squares=squares.concat.apply(squares,bins.map(function(bin,idx){return d3.range(bin).map(function(y){return[String(scaleX(idx))+\"px\",String(scaleY(yBinCount-(y+1)))+\"px\"]}.bind(this))}.bind(this)));var SliderControl=Controls.Slider;var tooltipLine=function(currNum,nextNum){var curr=Util.formatNumber(currNum);var next=Util.formatNumber(nextNum);if(curr==next){return\" \"+curr}else{return\" between \"+curr+\" and \"+next}}.bind(this);return React.DOM.div({className:\"canvas-quantile-histogram\"},React.DOM.svg({style:{width:width,height:height},preserveAspectRatio:\"xMinYMin\"},squares.map(function(position,idx){return React.DOM.rect({className:\"bar\",key:idx,width:plotWidth/xBinCount,height:plotHeight/yBinCount,x:0,y:0,style:{transform:\"translate(\"+position.join(\", \")+\")\",\"-webkit-transform\":\"translate(\"+position.join(\", \")+\")\"},onMouseOver:this.tooltipMouseOver.bind(this,React.DOM.span(null,\"Rows between the \",Util.numberWithSuffix(idx),\" and \",Util.numberWithSuffix(idx+1),\" quantiles have values approximately \",tooltipLine(quantile[idx],quantile[idx+1]),\".\")),onMouseOut:this.tooltipMouseOut})}.bind(this)),React.DOM.rect({x:plotX,y:plotY,width:plotWidth,height:plotHeight,fill:\"none\",className:\"canvas-sarray-plot-axes\"}),xTicks.map(function(bin,idx){var x=scaleX(bin);var y=plotHeight+plotY;return React.DOM.line({key:idx,x1:x,x2:x,y1:y,y2:y+8,className:\"canvas-sarray-plot-axes\"})}.bind(this)),xLabels.map(function(label,idx){return React.DOM.text({key:idx,x:scaleX(label.idx),y:plotHeight+plotY+20,textAnchor:\"middle\",className:\"canvas-histogram-label\"},Util.formatNumber(label.text))}.bind(this)),yTicks.map(function(freq,idx){var y=scaleYforLabels(freq);return React.DOM.g({key:idx},React.DOM.line({x1:plotX-8,x2:plotX,y1:y,y2:y,className:\"canvas-sarray-plot-axes\"}),React.DOM.text({x:plotX-12,y:y+4,textAnchor:\"end\",className:\"canvas-histogram-label\"},Util.formatNumber(yLabels[idx])))}.bind(this)),React.DOM.text({x:plotX+plotWidth/2,y:40,textAnchor:\"middle\",className:\"canvas-histogram-title\"},\"Histogram of quantiles\"),React.DOM.text({x:plotX,y:plotY-28,textAnchor:\"end\",className:\"canvas-histogram-axis-title\"},\"Frequency\"),React.DOM.text({x:plotX,y:plotY-12,textAnchor:\"end\",className:\"canvas-histogram-axis-subtitle\"},yLabelPrefixSymbol?\"(in \"+yLabelPrefixSymbol+\"s)\":null)),React.DOM.div({className:\"canvas-histogram-x-axis\"},React.DOM.div(null,React.DOM.span(null,this.props.selected_column,\"\u00a0\")),React.DOM.div(null,xLabelPrefixSymbol?\"(in \"+xLabelPrefixSymbol+\"s)\":null)),SliderControl({label:\"bins\",min:2,max:100,value:xBinCount,onChange:this.setBinCount}),this.getTooltip())}})}});\n",
        "\"use strict\";define(\"plot_graph\",[\"react\",\"d3\",\"common_util\",\"common_controls\"],function(React,d3,Util,Controls){var plotSize=600;var plotPadding=50;var Edge=React.createClass({displayName:\"Edge\",render:function(){var e=this.props.edge;var lines=[];for(var i=0;i<e.points.length-1;i++){var p1=e.points[i];var p2=e.points[i+1];var x1=this.props.scaleX(p1[0]);var y1=this.props.scaleY(p1[1]);var x2=this.props.scaleX(p2[0]);var y2=this.props.scaleY(p2[1]);var props={key:i,x1:x1,y1:y1,x2:x2,y2:y2,style:{stroke:this.props.ecolor,strokeWidth:this.props.ewidth}};var line=React.DOM.line(props);lines.push(line);if(this.props.arrows&&i==e.points.length-2){var dx=x2-x1;var dy=y2-y1;var m=dy/dx;var s=this.props.ewidth*5;var L=Math.sqrt(dx*dx+dy*dy);var f=s*2/L;var vertexOffset=(this.props.vertexRadius-2)/L;var p_tip=[x2-dx*vertexOffset,y2-dy*vertexOffset];var p_back=[p_tip[0]-dx*f,p_tip[1]-dy*f];var xOffset=Math.sqrt(s*s*(m*m)/(m*m+1));var yOffset=-1/m*xOffset;var p_left=[p_back[0]+xOffset,p_back[1]+yOffset];var p_right=[p_back[0]-xOffset,p_back[1]-yOffset];var points=[p_tip,p_left,p_right];points=points.map(function(p){return p.join(\",\")}).join(\" \");lines.push(React.DOM.polygon({key:\"arrow\",points:points,fill:this.props.ecolor,strokeWidth:0}))}}return React.DOM.g({onMouseOver:this.props.onMouseOver,onMouseOut:this.props.onMouseOut},lines)}});var Vertex=React.createClass({displayName:\"Vertex\",render:function(){var x1=this.props.scaleX(this.props.vertex.x);var y1=this.props.scaleY(this.props.vertex.y);Util.assert(x1>=0);Util.assert(y1>=0);var fill=this.props.vcolor;if(this.props.vertex.value in this.props.highlight){fill=this.props.highlight[this.props.vertex.value]}var props={onMouseOver:this.props.onMouseOver,onMouseOut:this.props.onMouseOut,r:this.props.vertexRadius,cx:x1,cy:y1,style:{fill:fill}};return React.DOM.circle(props)}});var Label=React.createClass({displayName:\"Label\",render:function(){return React.DOM.g(null,React.DOM.text({x:this.props.x,y:this.props.y,style:{textAnchor:\"middle\",fill:\"white\",stroke:\"white\",strokeWidth:5,opacity:.9}},this.props.text),React.DOM.text({x:this.props.x,y:this.props.y,style:{textAnchor:\"middle\",fill:\"black\"}},this.props.text))}});var layoutAlgorithms={forceDirected:function(vertices,edges){var force=d3.layout.force().nodes(vertices).links(edges).charge(-60).linkDistance(20).start();for(var i=0;force.alpha()>0&&i<1e3;i++){force.tick()}force.stop();force.links().map(function(e){e[\"points\"]=[[e.source.x,e.source.y],[e.target.x,e.target.y]]});return{vertices:force.nodes(),edges:force.links()}}};return{GraphLayout:React.createClass({displayName:\"GraphLayout\",statics:{layoutAlgorithms:layoutAlgorithms,layout:function(props){var getVertex=function(value){var vertex=props.vertices.indexOf(value);Util.assert(vertex!=-1);return vertex};return props.layoutAlgorithm(props.vertices.map(function(v,idx){return{value:v,label:props.vlabels!==null?props.vlabels[idx]:null}}),props.edges.map(function(e,idx){return{source:getVertex(e[0]),target:getVertex(e[1]),label:props.elabels!==null?props.elabels[idx]:null}}))}},getDefaultProps:function(){return{layoutAlgorithm:this.layoutAlgorithms.forceDirected}},getInitialState:function(){return{graph:this.constructor.layout(this.props),vertexHover:null,edgeHover:null}},componentWillReceiveProps:function(nextProps){this.setState({graph:this.constructor.layout(nextProps)})},onVertexMouseOver:function(vertex){this.setState({vertexHover:vertex})},onVertexMouseOut:function(){this.setState({vertexHover:null})},onEdgeMouseOver:function(edge){this.setState({edgeHover:edge})},onEdgeMouseOut:function(){this.setState({edgeHover:null})},render:function(){var vertexRadius=this.props.node_size;var graph=this.state.graph;var vx=graph.vertices.map(function(v){return v.x});var vy=graph.vertices.map(function(v){return v.y});var effectiveWidth=d3.max(vx)-d3.min(vx);var effectiveHeight=d3.max(vy)-d3.min(vy);var aspectRatio=effectiveWidth/effectiveHeight;var scaleX,_scaleY;if(aspectRatio>1){scaleX=d3.scale.linear().domain([d3.min(vx),d3.max(vx)]).range([plotPadding,plotSize-plotPadding]);_scaleY=d3.scale.linear().domain([d3.min(vy),d3.max(vy)]).range([plotPadding,(plotSize-plotPadding)/aspectRatio])}else{scaleX=d3.scale.linear().domain([d3.min(vx),d3.max(vx)]).range([plotPadding,(plotSize-plotPadding)*aspectRatio]);_scaleY=d3.scale.linear().domain([d3.min(vy),d3.max(vy)]).range([plotPadding,plotSize-plotPadding])}var vyScaledMax=d3.max(vy.map(_scaleY));var scaleY=function(y){return plotSize-plotPadding-(plotSize-2*plotPadding-vyScaledMax+_scaleY(y))};return React.DOM.div(null,React.DOM.svg({width:plotSize,height:plotSize},graph.edges.map(function(e,idx){return Edge({key:idx,edge:e,ewidth:this.props.ewidth,ecolor:this.props.ecolor,scaleX:scaleX,scaleY:scaleY,arrows:this.props.arrows,vertexRadius:vertexRadius,onMouseOver:this.onEdgeMouseOver.bind(null,idx),onMouseOut:this.onEdgeMouseOut})}.bind(this)),graph.vertices.map(function(n,idx){return Vertex({key:idx,vertex:n,vertexRadius:vertexRadius,vcolor:this.props.vcolor,highlight:this.props.highlight,scaleX:scaleX,scaleY:scaleY,onMouseOver:this.onVertexMouseOver.bind(null,idx),onMouseOut:this.onVertexMouseOut})}.bind(this)),this.props.elabels.map(function(label,idx){if(this.props.elabel_hover&&this.state.edgeHover!==idx){return null}return Label({key:idx,x:scaleX(d3.mean(graph.edges[idx].points.map(function(p){return p[0]}))),y:scaleY(d3.mean(graph.edges[idx].points.map(function(p){return p[1]}))),text:typeof label===\"number\"?Util.formatNumber(label):label})}.bind(this)),this.props.vlabels.map(function(label,idx){if(this.props.vlabel_hover&&this.state.vertexHover!==idx){return null}return Label({key:idx,x:scaleX(graph.vertices[idx].x)+this.props.h_offset*plotSize,y:scaleY(graph.vertices[idx].y)-this.props.v_offset*plotSize,v_offset:this.props.v_offset,h_offset:this.props.h_offset,text:typeof label===\"number\"?Util.formatNumber(label):label})}.bind(this))))}})}});\n",
        "\"use strict\";define(\"plot_scatter\",[\"react\",\"d3\",\"jquery\",\"common_controls\",\"common_util\"],function(React,d3,jQuery,Controls,Util){var LINE_GRAPH_THRESHOLD=1e3;var FRAME_PADDING=75;var FRAME_THICKNESS=1;var TICK_WIDTH=10;var TICK_HEIGHT=10;var PADDING_FRACTION=.01;var POINT_RADIUS=5;var SHIFT_DURATION=1;var SCROLL_DOMAIN_FRACTION=.9;var formatLabels=function(num){if(d3.format(\".3g\")(num).length>7)return d3.format(\".1g\")(num);else return d3.format(\".3g\")(num)};var PointsRenderer=React.createClass({displayName:\"PointsRenderer\",render:function(){var xScale=this.props.xScaleFunc;var yScale=this.props.yScaleFunc;var height=this.props.height;var width=this.props.width;var data=this.props.data;if(this.props.shouldShowLineGraph){data=Util.deepCopy(data);data.sort(function(point1,point2){return point1.x-point2.x})}function getOpacity(point,idx){if(xScale(point.x)<0||xScale(point.x)>width||yScale(point.y)<0||yScale(point.y)>height)return 0;else return 1}var pointNodes=null;if(!this.props.shouldShowLineGraph){pointNodes=data.map(function(point,idx){var xPos=xScale(point.x)+FRAME_PADDING;var yPos=yScale(point.y)+FRAME_PADDING;if(xPos<FRAME_PADDING)xPos=FRAME_PADDING-5;if(xPos>width+FRAME_PADDING)xPos=width+FRAME_PADDING+5;if(yPos<FRAME_PADDING)yPos=FRAME_PADDING-5;if(yPos>FRAME_PADDING+height)yPos=height+FRAME_PADDING+5;var key=idx;var circlePoint=React.DOM.circle({className:\"canvas-scatter-point\",cx:\"0\",cy:\"0\",style:{transform:\"translate(\"+xPos+\"px, \"+yPos+\"px)\",\"-webkit-transform\":\"translate(\"+xPos+\"px, \"+yPos+\"px)\",opacity:\"\"+getOpacity(point,idx)},r:POINT_RADIUS,key:key},React.DOM.title(null,\" \",\"(\"+point.x+\", \"+point.y+\")\",\" \"));return circlePoint})}var lines=[];if(this.props.shouldShowLineGraph){var previousX=null;var previousY=null;for(var i=0;i<data.length;i++){if(previousX!=null&&previousY!=null){var x1=xScale(previousX)+FRAME_PADDING;var y1=yScale(previousY)+FRAME_PADDING;var x2=xScale(data[i].x)+FRAME_PADDING;var y2=yScale(data[i].y)+FRAME_PADDING;var lineTooltip=\"(\"+previousX+\", \"+previousY+\") -> (\"+data[i].x+\", \"+data[i].y+\")\";var opacity=1;if(x2<FRAME_PADDING||x1>FRAME_PADDING+width)opacity=0;if(y1<FRAME_PADDING&&y2<FRAME_PADDING||y1>FRAME_PADDING+height&&y2>FRAME_PADDING+height)opacity=0;if(x1<FRAME_PADDING)x1=FRAME_PADDING;if(x1>FRAME_PADDING+width)x1=FRAME_PADDING+width;if(x2<FRAME_PADDING)x2=FRAME_PADDING;if(x2>FRAME_PADDING+width)x2=FRAME_PADDING+width;if(y1<FRAME_PADDING)y1=FRAME_PADDING;if(y1>FRAME_PADDING+height)y1=FRAME_PADDING+height;if(y2<FRAME_PADDING)y2=FRAME_PADDING;if(y2>FRAME_PADDING+height)y2=FRAME_PADDING+height;lines.push(React.DOM.line({className:\"canvas-scatter-lineGraph\",x1:x1,y1:y1,x2:x2,y2:y2,style:{opacity:opacity},key:i},React.DOM.title(null,\" \",lineTooltip,\" \")))}previousX=data[i].x;previousY=data[i].y}}return React.DOM.g(null,lines,pointNodes)}});var TrendlineRenderer=React.createClass({displayName:\"TrendlineRenderer\",render:function(){var width=this.props.width;var height=this.props.height;var coefficients=this.props.coefficients;var xScale=this.props.xScaleFunc;var yScale=this.props.yScaleFunc;if(coefficients.m==null||!this.props.trendlineVisible){return React.DOM.g(null,\" \")}var x1=FRAME_PADDING;var y1=FRAME_PADDING+yScale(xScale.invert(0)*coefficients.m+coefficients.b);var y2=FRAME_PADDING+yScale(xScale.invert(width)*coefficients.m+coefficients.b);var x2=width+FRAME_PADDING;if(y1<FRAME_PADDING){y1=FRAME_PADDING;x1=FRAME_PADDING+xScale((yScale.invert(0)-coefficients.b)/coefficients.m)}if(y1>height+FRAME_PADDING){y1=height+FRAME_PADDING;x1=FRAME_PADDING+xScale((yScale.invert(height)-coefficients.b)/coefficients.m)}if(y2<FRAME_PADDING){y2=FRAME_PADDING;x2=FRAME_PADDING+xScale((yScale.invert(0)-coefficients.b)/coefficients.m)}if(y2>height+FRAME_PADDING){y2=height+FRAME_PADDING;x2=FRAME_PADDING+xScale((yScale.invert(height)-coefficients.b)/coefficients.m)}var trendlineEquation=\"y = \"+coefficients.m+\"x + \"+coefficients.b;return React.DOM.g(null,React.DOM.line({className:\"canvas-scatter-trendline\",x1:x1,y1:y1,x2:x2,y2:y2},React.DOM.title(null,trendlineEquation)))}});var AxisRenderer=React.createClass({displayName:\"AxisRenderer\",render:function(){var xScale=this.props.xScaleFunc;var yScale=this.props.yScaleFunc;var width=this.props.width;var height=this.props.height;var gridlinesVisible=this.props.gridlinesVisible;var axisXVal=xScale(0);if(axisXVal<0){axisXVal=0}else if(axisXVal>width){axisXVal=width}axisXVal+=FRAME_PADDING;var axisYVal=yScale(0);if(axisYVal<0){axisYVal=0}else if(axisYVal>height){axisYVal=height}axisYVal+=FRAME_PADDING;var gridlineVisibility=gridlinesVisible?\"visible\":\"hidden\";var xLinesAndLabels=xScale.ticks().map(function(xValue,idx){return React.DOM.g({key:\"Xg-\"+idx},React.DOM.line({className:\"canvas-scatter-gridlines\",x1:\"0\",x2:\"0\",y1:FRAME_PADDING,y2:height+FRAME_PADDING,key:\"Xgridline-\"+xValue,style:{transform:\"translate(\"+(xScale(xValue)+FRAME_PADDING)+\"px, \"+0+\"px)\",\"-webkit-transform\":\"translate(\"+(xScale(xValue)+FRAME_PADDING)+\"px, \"+0+\"px)\",\"transition-property\":\"transform\",\"-webkit-transition-property\":\"-webkit-transform\",\"transition-duration\":\"\"+SHIFT_DURATION+\"s\",\"-webkit-transition-duration\":\"\"+SHIFT_DURATION+\"s\",visibility:gridlineVisibility}}),React.DOM.line({className:\"canvas-scatter-ticks\",x1:\"0\",x2:\"0\",y1:height+FRAME_PADDING+TICK_HEIGHT/2,y2:height+FRAME_PADDING-TICK_HEIGHT/2,key:\"Xticks-\"+xValue,style:{transform:\"translate(\"+(xScale(xValue)+FRAME_PADDING)+\"px, \"+0+\"px)\",\"-webkit-transform\":\"translate(\"+(xScale(xValue)+FRAME_PADDING)+\"px, \"+0+\"px)\",\"transition-property\":\"transform\",\"-webkit-transition-property\":\"-webkit-transform\",\"-webkit-transition-duration\":\"\"+SHIFT_DURATION+\"s\",\"transition-duration\":\"\"+SHIFT_DURATION+\"s\"}}),React.DOM.text({className:\"canvas-scatter-numLabel\",x:xScale(xValue)+FRAME_PADDING,y:height+FRAME_PADDING*1.35,key:\"XnumLabel-\"+xValue},formatLabels(xValue)))});var yLinesAndLabels=yScale.ticks().map(function(yValue,idx){return React.DOM.g({key:\"Yg-\"+idx},React.DOM.line({className:\"canvas-scatter-gridlines\",x1:FRAME_PADDING,x2:width+FRAME_PADDING,y1:0,y2:0,key:\"Ygridline-\"+yValue,style:{transform:\"translate(\"+0+\"px, \"+(yScale(yValue)+FRAME_PADDING)+\"px)\",\"-webkit-transform\":\"translate(\"+0+\"px, \"+(yScale(yValue)+FRAME_PADDING)+\"px)\",\"transition-property\":\"transform\",\"-webkit-transition-property\":\"-webkit-transform\",\"transition-duration\":\"\"+SHIFT_DURATION+\"s\",\"-webkit-transition-duration\":\"\"+SHIFT_DURATION+\"s\",visibility:gridlineVisibility}}),React.DOM.line({className:\"canvas-scatter-ticks\",x1:FRAME_PADDING-TICK_WIDTH/2,x2:FRAME_PADDING+TICK_WIDTH/2,y1:0,y2:0,key:\"Yticks-\"+yValue,style:{transform:\"translate(\"+0+\"px, \"+(yScale(yValue)+FRAME_PADDING)+\"px)\",\"-webkit-transform\":\"translate(\"+0+\"px, \"+(yScale(yValue)+FRAME_PADDING)+\"px)\",\"transition-property\":\"transform\",\"-webkit-transition-property\":\"-webkit-transform\",\"-webkit-transition-duration\":\"\"+SHIFT_DURATION+\"s\",\"transition-duration\":\"\"+SHIFT_DURATION+\"s\"}}),React.DOM.text({className:\"canvas-scatter-numLabel\",x:FRAME_PADDING/1.75,y:yScale(yValue)+FRAME_PADDING+4,key:\"YnumLabel-\"+yValue},formatLabels(yValue)))});return React.DOM.g(null,xLinesAndLabels,yLinesAndLabels,React.DOM.line({className:\"canvas-scatter-axes\",x1:0,y1:FRAME_PADDING,x2:0,y2:height+FRAME_PADDING,style:{transform:\"translate(\"+axisXVal+\"px, \"+0+\"px)\",\"-webkit-transform\":\"translate(\"+axisXVal+\"px, \"+0+\"px)\",\"transition-property\":\"transform\",\"-webkit-transition-property\":\"-webkit-transform\",\"-webkit-transition-duration\":\"\"+SHIFT_DURATION+\"s\",\"transition-duration\":\"\"+SHIFT_DURATION+\"s\"}}),React.DOM.line({className:\"canvas-scatter-axes\",x1:FRAME_PADDING,y1:0,x2:width+FRAME_PADDING,y2:0,style:{transform:\"translate(\"+0+\"px, \"+axisYVal+\"px)\",\"-webkit-transform\":\"translate(\"+0+\"px, \"+axisYVal+\"px)\",\"transition-property\":\"transform\",\"-webkit-transition-property\":\"-webkit-transform\",\"-webkit-transition-duration\":\"\"+SHIFT_DURATION+\"s\",\"transition-duration\":\"\"+SHIFT_DURATION+\"s\"}}))}});var AxisLabel=React.createClass({displayName:\"AxisLabel\",handleClick:function(evt){var selected_column=[this.props.plotName,this.props.name];this.props.selectVariable(selected_column)},render:function(){var link=this.props.ipython?this.props.name:React.DOM.a({href:\"javascript:\",onClick:this.handleClick},this.props.name);return React.DOM.span({className:\"canvas-scatter-axesLabel\",style:{position:\"absolute\",top:\"\"+this.props.y+\"px\",left:\"\"+this.props.x+\"px\",width:\"\"+this.props.width+\"px\"}},link)}});return{Scatter:React.createClass({displayName:\"Scatter\",getDefaultProps:function(){return{width:500,height:500,data:[],extrema:{minX:0,maxX:10,minY:0,maxY:10},xLabel:\"\",yLabel:\"\",coefficients:{},lineGraph:false}},getInitialState:function(){var paddedExtrema=this.padExtrema(this.props.extrema);return{domainToShow:paddedExtrema,gridlinesVisible:true,trendlineVisible:true}},padExtrema:function(extrema){var originalDomain=extrema.maxX-extrema.minX;var originalRange=extrema.maxY-extrema.minY;var paddedExtrema={};paddedExtrema.minX=extrema.minX-PADDING_FRACTION*originalDomain;paddedExtrema.minY=extrema.minY-PADDING_FRACTION*originalRange;paddedExtrema.maxX=extrema.maxX+PADDING_FRACTION*originalDomain;paddedExtrema.maxY=extrema.maxY+PADDING_FRACTION*originalRange;return paddedExtrema},toggleTrendline:function(){this.setState({trendlineVisible:!this.state.trendlineVisible})},toggleGridlines:function(){this.setState({gridlinesVisible:!this.state.gridlinesVisible})},componentWillReceiveProps:function(nextProps){this.setState({domainToShow:this.padExtrema(nextProps.extrema)})},render:function(){TICK_HEIGHT=this.props.height/50;TICK_WIDTH=this.props.width/50;var minX=this.state.domainToShow.minX;var minY=this.state.domainToShow.minY;var maxX=this.state.domainToShow.maxX;var maxY=this.state.domainToShow.maxY;if(this.props.lineGraph){var range=maxY-minY;maxY+=range/4;var newMinY=minY-range/4;if(newMinY<0&&minY>=0){newMinY=0}if(newMinY>0&&newMinY-0<range/4){newMinY=0}minY=newMinY}var xScale=d3.scale.linear().domain([minX,maxX]).range([0,this.props.width]);var yScale=d3.scale.linear().domain([minY,maxY]).range([this.props.height,0]);var trendlineButtonVisiblity=this.props.coefficients.m==null?\"hidden\":\"visible\";function wheelScrolled(e){e.preventDefault();var zoomScreenX=e.pageX-$(\".canvas-scatter-rectFrame\").offset().left;var zoomScreenY=e.pageY-$(\".canvas-scatter-rectFrame\").offset().top;if(zoomScreenX<0||zoomScreenX>this.props.width||zoomScreenY<0||zoomScreenY>this.props.height){return}var zoomValueX=xScale.invert(zoomScreenX);var zoomValueY=yScale.invert(zoomScreenY);if(e.deltaY<0){var newDomainXSize=(this.state.domainToShow.maxX-this.state.domainToShow.minX)*SCROLL_DOMAIN_FRACTION;var newDomainYSize=(this.state.domainToShow.maxY-this.state.domainToShow.minY)*SCROLL_DOMAIN_FRACTION;var newDomainToShow={};if(zoomValueX-newDomainXSize/2<this.state.domainToShow.minX){newDomainToShow.minX=this.state.domainToShow.minX;newDomainToShow.maxX=this.state.domainToShow.minX+newDomainXSize}else if(zoomValueX+newDomainXSize/2>this.state.domainToShow.maxX){newDomainToShow.maxX=this.state.domainToShow.maxX;newDomainToShow.minX=this.state.domainToShow.maxX-newDomainXSize}else{newDomainToShow.minX=zoomValueX-newDomainXSize/2;newDomainToShow.maxX=zoomValueX+newDomainXSize/2}if(zoomValueY-newDomainYSize/2<this.state.domainToShow.minY){newDomainToShow.minY=this.state.domainToShow.minY;newDomainToShow.maxY=this.state.domainToShow.minY+newDomainYSize}else if(zoomValueY+newDomainYSize/2>this.state.domainToShow.maxY){newDomainToShow.maxY=this.state.domainToShow.maxY;newDomainToShow.minY=this.state.domainToShow.maxY-newDomainYSize}else{newDomainToShow.minY=zoomValueY-newDomainYSize/2;newDomainToShow.maxY=zoomValueY+newDomainYSize/2}this.setState({domainToShow:newDomainToShow})}else{this.setState({domainToShow:this.padExtrema(this.props.extrema)})}}return React.DOM.div({className:\"canvas-scatter-frame\"},React.DOM.svg({className:\"canvas-scatter-svgFrame\",width:this.props.width+2*FRAME_PADDING,height:this.props.height+2*FRAME_PADDING,onWheel:wheelScrolled.bind(this)},React.DOM.rect({className:\"canvas-scatter-rectFrame\",width:this.props.width,height:this.props.height,x:FRAME_PADDING,y:FRAME_PADDING}),AxisRenderer({xScaleFunc:xScale,yScaleFunc:yScale,width:this.props.width,height:this.props.height,gridlinesVisible:this.state.gridlinesVisible}),TrendlineRenderer({xScaleFunc:xScale,yScaleFunc:yScale,width:this.props.width,height:this.props.height,coefficients:this.props.coefficients,trendlineVisible:this.state.trendlineVisible}),PointsRenderer({data:this.props.data,xScaleFunc:xScale,yScaleFunc:yScale,height:this.props.height,width:this.props.width,shouldShowLineGraph:this.props.lineGraph})),React.DOM.input({className:\"canvas-scatter-toggleButton\",type:\"checkbox\",name:\"trendlineToggle\",onClick:this.toggleTrendline,style:{position:\"absolute\",top:\"\"+(this.props.height+2*FRAME_PADDING-25)/2+\"px\",left:\"\"+(this.props.width+1.5*FRAME_PADDING)+\"px\",visibility:trendlineButtonVisiblity}}),React.DOM.p({className:\"canvas-scatter-toggleLabel\",style:{position:\"absolute\",top:\"\"+(this.props.height+2*FRAME_PADDING-25)/2+\"px\",left:\"\"+(this.props.width+1.75*FRAME_PADDING)+\"px\",visibility:trendlineButtonVisiblity}},\"Toggle trendline\"),React.DOM.input({className:\"canvas-scatter-toggleButton\",type:\"checkbox\",name:\"gridlineToggle\",onClick:this.toggleGridlines,style:{position:\"absolute\",top:\"\"+(this.props.height+2*FRAME_PADDING+25)/2+\"px\",left:\"\"+(this.props.width+1.5*FRAME_PADDING)+\"px\"}}),React.DOM.p({className:\"canvas-scatter-toggleLabel\",style:{position:\"absolute\",top:\"\"+(this.props.height+2*FRAME_PADDING+25)/2+\"px\",left:\"\"+(this.props.width+1.75*FRAME_PADDING)+\"px\"}},\"Toggle gridlines\"),[{name:this.props.xLabel,x:FRAME_PADDING,y:this.props.height+FRAME_PADDING*1.5,width:this.props.width},{name:this.props.yLabel,x:0,y:FRAME_PADDING/2.5,width:\"auto\"}].map(function(axis,idx){return AxisLabel({key:idx,name:axis.name,selectVariable:this.props.selectVariable,plotName:this.props.plotName,x:axis.x,y:axis.y,width:axis.width,ipython:this.props.ipython})}.bind(this)))}})}});\n",
        "\"use strict\";define(\"plots\",[\"common_util\",\"plot_frequency\",\"plot_box\",\"plot_boxes\",\"plot_quantilehist\",\"plot_graph\",\"plot_scatter\",\"plot_heatmap\",\"plot_bar\"],function(Util){var ret={};var args=Array.prototype.slice.call(arguments,1);for(var i=0;i<args.length;i++){for(var j in args[i]){if(args[i].hasOwnProperty(j)){Util.assert(!(j in ret));ret[j]=args[i][j]}}}return ret});\n",
        "\"use strict\";define(\"bar\",[\"react\",\"plots\",\"common_util\",\"taskqueue\",\"common_controls\"],function(React,Plots,Util,TaskQueue,Controls){return{View:React.createClass({mixins:[Controls.AsyncState],getInitialState:function(props){if(!props){props=this.props}return{barData:props.ipython?props.barData:[],numLabel:props.selected_variable.view_params.y,catLabel:props.selected_variable.view_params.x,extrema:props.ipython?props.extrema:{},width:500,height:500}},updateAsyncState:function(nextProps){if(nextProps.selected_variable.descriptives.rows<=100){var pageTasks=[];pageTasks.push(new TaskQueue.SingleTask(\"/bar_values\",\".values()\").done(function(data){this.setState({barData:data[\"data\"]})}.bind(this)));pageTasks.push(new TaskQueue.SingleTask(\"/extrema\",\".extrema()\").done(function(data){this.setState({extrema:data})}.bind(this)));this.addTask(new TaskQueue.MultiTask(pageTasks))}},render:function(){if(this.props.selected_variable.descriptives.rows>100){return React.DOM.p(null,\"Bar charts can only be used on SFrames with fewer than 100 rows. You can use \",React.DOM.code(null,React.DOM.a({target:\"_blank\",href:\"http://graphlab.com/products/create/docs/generated/graphlab.SFrame.groupby.html#graphlab.SFrame.groupby\"},\"groupby\")),\" to aggregate the data in this SFrame to a suitable size for a bar chart, or choose a smaller SFrame.\")}if(this.state.barData.length==0||this.state.extrema.min==null){return React.DOM.div(null)}return Plots.Bar({barData:this.state.barData,catLabel:this.state.catLabel,numLabel:this.state.numLabel,extrema:this.state.extrema,width:this.state.width,height:this.state.height,selectVariable:this.props.selectVariable,ipython:this.props.ipython,plotName:this.props.selected_variable.name[0]})}})}});\n",
        "\"use strict\";define(\"heatmap\",[\"react\",\"plots\",\"common_util\",\"taskqueue\",\"common_controls\"],function(React,Plots,Util,TaskQueue,Controls){return{View:React.createClass({mixins:[Controls.AsyncState],getInitialState:function(props){if(!props){props=this.props}return{extrema:props.ipython?props.extrema:{},domainToShow:props.ipython?props.domainToShow:{},xLabel:props.selected_variable.view_params.x,yLabel:props.selected_variable.view_params.y,width:500,height:500,shouldShowStopDownload:false,pointsLoaded:props.ipython?props.pointsLoaded:0,binData:props.ipython?props:{}}},updateAsyncState:function(nextProps){this.setState({numValues:nextProps.selected_variable.descriptives.rows});var view_params=Util.tryGetProperty(nextProps,[\"selected_variable\",\"view_params\"]);var x=Util.tryGetProperty(view_params,\"x\");var y=Util.tryGetProperty(view_params,\"y\");if(x&&y){this.addTask(new TaskQueue.ProgressTask(\"/bins\",\".bins()\",function(data){this.setState({shouldShowStopDownload:!data[\"complete\"],binData:data,extrema:data[\"extrema\"],pointsLoaded:data[\"pointsLoaded\"],domainToShow:data[\"domainToShow\"]})}.bind(this)))}},cancelTasks:function(){this.cancelAllTasks();this.setState({shouldShowStopDownload:false})},render:function(){var plotToShow;var button=null;var pointsLoaded=null;var br=null;if(this.state.extrema.minX==null||this.state.domainToShow.minX==null||this.state.binData.bins==null)return React.DOM.div(null,\" \");plotToShow=Plots.Heatmap({bins:this.state.binData.bins,binWidth:this.state.binData.binWidth,binHeight:this.state.binData.binHeight,extrema:this.state.extrema,domainToShow:this.state.domainToShow,xLabel:this.state.xLabel,yLabel:this.state.yLabel,width:this.state.width,height:this.state.height,numValues:this.state.numValues,selectVariable:this.props.selectVariable,plotName:this.props.selected_variable.name[0],ipython:this.props.ipython});if(this.state.shouldShowStopDownload){pointsLoaded=React.DOM.p(null,\"Rows Loaded: \",this.state.pointsLoaded);button=React.DOM.button({className:\"canvas-scatter-stopDownloadButton\",type:\"button\",onClick:this.cancelTasks,style:{color:\"red\"}},\"Stop Retrieving Data\");br=React.DOM.br(null)}return React.DOM.div(null,pointsLoaded,button,br,React.DOM.div({className:\"canvas-scatter-title\",style:{width:\"\"+this.state.width,\"padding-left\":\"\"+(this.state.width-325)/2,\"margin-left\":\"\"+75}}),plotToShow)}})}});\n",
        "\"use strict\";define(\"scatter\",[\"react\",\"plots\",\"common_util\",\"taskqueue\",\"common_controls\"],function(React,Plots,Util,TaskQueue,Controls){var currentPageTask;var SCATTER_THRESHOLD=5e3;var View=React.createClass({displayName:\"View\",mixins:[Controls.AsyncState],getInitialState:function(props){if(!props){props=this.props}return{pointsList:props.ipython?props.pointsList:[],extrema:props.ipython?props.extrema:{},coefficients:props.ipython?props.coefficients:{},xLabel:props.selected_variable.view_params.x,yLabel:props.selected_variable.view_params.y,width:500,height:500}},updateAsyncState:function(props){if(props.selected_variable.descriptives.rows>SCATTER_THRESHOLD)return;this.updateData()},updateData:function(){var pageTasks=[];pageTasks.push(new TaskQueue.SingleTask(\"/scatter_values\",\".values()\").done(function(data){this.setState({pointsList:data[\"data\"]})}.bind(this)));pageTasks.push(new TaskQueue.SingleTask(\"/coefficients\",\".coefficients()\").done(function(data){this.setState({coefficients:data})}.bind(this)));pageTasks.push(new TaskQueue.SingleTask(\"/sketchvalues\",\".sketchvalues()\").done(function(data){this.setState({extrema:data})}.bind(this)));currentPageTask=new TaskQueue.MultiTask(pageTasks);this.addTask(currentPageTask)},getDefaultProps:function(){return{lineGraph:false}},render:function(){var unableToShowScatter=this.props.selected_variable.descriptives.rows>SCATTER_THRESHOLD;if(unableToShowScatter){return React.DOM.p(null,\"Scatter plots can only be used on SFrames with fewer than 5000 rows. You can use \",React.DOM.code(null,React.DOM.a({target:\"_blank\",href:\"http://graphlab.com/products/create/docs/generated/graphlab.SFrame.groupby.html#graphlab.SFrame.groupby\"},\"groupby\")),\" to aggregate the data in this SFrame to a suitable size, choose a smaller SFrame, or use a heat map.\")}var plotToShow;if(this.state.pointsList.length==0||this.state.extrema.minX==null)return React.DOM.div(null,\" \");plotToShow=Plots.Scatter({data:this.state.pointsList,extrema:this.state.extrema,xLabel:this.state.xLabel,yLabel:this.state.yLabel,width:this.state.width,height:this.state.height,coefficients:this.state.coefficients,selectVariable:this.props.selectVariable,plotName:this.props.selected_variable.name[0],lineGraph:this.props.lineGraph,ipython:this.props.ipython});return plotToShow}});return{\"Line Chart\":React.createClass({getDefaultProps:function(){return{lineGraph:true}},render:function(){if(this.props.selected_variable.descriptives.rows>500){return React.DOM.p(null,\"Line charts can only be used on SFrames with fewer than 500 rows. You can use \",React.DOM.code(null,React.DOM.a({target:\"_blank\",href:\"http://graphlab.com/products/create/docs/generated/graphlab.SFrame.groupby.html#graphlab.SFrame.groupby\"},\"groupby\")),\" to aggregate the data in this SFrame to a suitable size for a line chart, or choose a smaller SFrame.\")}return this.transferPropsTo(View())}}),View:View}});\n",
        "\"use strict\";define(\"sframe\",[\"react\",\"plots\",\"common_util\",\"taskqueue\",\"common_controls\",\"logging\",\"jquery\",\"d3\",\"bowser\",\"scatter\",\"bar\",\"heatmap\"],function(React,Plots,Util,TaskQueue,Controls,Logging,jQuery,d3,Bowser,Scatter,Bar,HeatMap){var cursors={grab:Bowser.webkit?\"-webkit-grab\":\"grab\",grabbing:Bowser.webkit?\"-webkit-grabbing\":\"grabbing\"};var Column=React.createClass({displayName:\"Column\",handleClick:function(evt){var selected_column=this.props.selected_variable.name.concat([this.props.name]);this.props.selectVariable(selected_column)},render:function(){var getColumnName=function(){if(this.props.ipython){return this.props.name}else{return React.DOM.a({href:\"javascript:\",onClick:this.handleClick,className:\"canvas-sframe-column-title\"},this.props.name)}}.bind(this);return React.DOM.div({className:\"canvas-sframe-column-header\"},getColumnName())}});var ColumnView=React.createClass({displayName:\"ColumnView\",mixins:[Controls.AsyncState,Controls.Menu,Controls.Searchable],getInitialState:function(props){if(!props){props=this.props}return{sortColumn:0,sortDesc:false,visibleColumns:props.selected_variable.view_params.columns}},getColumns:function(props){return Util.tryGetProperty(props.selected_variable,\"columns\",[])},updateAsyncState:function(nextProps){this.setState(this.getInitialState())},onSort:function(sortColumn,sortDesc){this.setState({sortColumn:sortColumn,sortDesc:sortDesc})},toggleColumn:function(col){var visibleIdx=this.state.visibleColumns.indexOf(col.name);var newColumns;if(visibleIdx===-1){newColumns=this.state.visibleColumns.slice().concat([col.name])}else{newColumns=this.state.visibleColumns.slice();newColumns.splice(visibleIdx,1)}this.setState({visibleColumns:newColumns})},setColumns:function(){$.post(\"/columns\",{columns:JSON.stringify(this.state.visibleColumns),_xsrf:Util.getCookie(\"_xsrf\")}).done(function(){this.props.modalClose()}.bind(this))},render:function(){var columns=this.getColumns(this.props);var visibleColumns=this.state.visibleColumns;var toggleFn=this.toggleColumn;var loading={};var headers=[\"Index\",\"Name\",\"Type\",\"\"];var data=columns.map(function(column,i){return[i,column.name,column.dtype,null]}.bind(this)).filter(function(row,i){if(this.state.search_value===\"\"){return true}var matches=false;row.forEach(function(val,idx,arr){if(String(val).toLocaleLowerCase().indexOf(this.state.search_value.toLocaleLowerCase())===0){matches=true}}.bind(this));return matches}.bind(this));var sortableRange=headers.length-1;var sortable=d3.range(sortableRange).filter(function(i){if(i in loading){return false}return true}.bind(this));return React.DOM.div({style:{position:\"relative\"}},React.DOM.div({style:{position:\"absolute\",top:0,right:0,zIndex:5e3}},React.DOM.a({href:\"javascript:\",onClick:this.props.modalClose},React.DOM.i({className:\"fa fa-times fa-lg\",style:{color:\"black\"}}))),React.DOM.div({className:\"container-fluid\",style:{color:\"black\"}},React.DOM.div({className:\"row\"},React.DOM.div({className:\"col-xs-6\"},React.DOM.h3(null,\"All Columns\"),React.DOM.div({style:{margin:\"14px 0px\"}},React.DOM.div({style:{display:\"inline-block\"}},this.getSearchBox(\"Search/Filter by Keyword\",{border:\"1px solid #dedede\",width:192,height:24,paddingLeft:10}))),Controls.SortableTable({headers:headers,types:[\"number\",\"string\",\"string\",null],data:data,sortable:sortable,sortColumn:this.state.sortColumn,sortDesc:this.state.sortDesc,onSort:this.onSort,style:{height:400,overflowY:\"scroll\",display:\"inline-block\",width:\"100%\"},tableStyle:{width:\"100%\"},renderTD:false,getValue:function(data,rowIdx,colIdx){if(rowIdx===null){var sortLink=null;if(this.props.sortable.indexOf(colIdx)!=-1){var className=\"fa fa-sort\";if(this.props.sortColumn===colIdx){if(this.props.types[colIdx]===\"number\"){className+=\"-numeric\"}else if(this.props.types[colIdx]===\"string\"){className+=\"-alpha\"}}if(this.props.sortColumn===colIdx&&this.props.sortDesc){className+=\"-desc\"}else if(this.props.sortColumn===colIdx){className+=\"-asc\"}sortLink=React.DOM.a({onClick:this.sort.bind(this,colIdx),href:\"javascript:\"},React.DOM.i({className:className,style:{marginLeft:6,marginRight:6,color:\"white\"}}))}return React.DOM.div({style:{paddingLeft:12,paddingRight:6,backgroundColor:\"#bbb\",color:\"white\",width:\"100%\",height:23,fontWeight:500,fontSize:12,lineHeight:\"23px\"}},data[colIdx],sortLink)}var style={borderLeft:\"1px solid #dedede\",lineHeight:\"40px\",height:40,paddingLeft:14,paddingRight:14};var tdStyle={padding:0,verticalAlign:\"middle\",border:\"none\"};var contents=colIdx===headers.length-1?React.DOM.a({href:\"javascript:\",onClick:toggleFn.bind(null,columns[data[rowIdx][0]])},visibleColumns.indexOf(data[rowIdx][1])!==-1?React.DOM.i({className:\"fa fa-eye\",style:{color:\"#0a8cc4\"}}):React.DOM.i({className:\"fa fa-eye-slash\",style:{color:\"#b8b8b8\"}})):data[rowIdx][colIdx];if(colIdx===0){style[\"paddingLeft\"]=30}if(rowIdx%2===0){style[\"backgroundColor\"]=\"#f7f7f7\"}if(colIdx===1){tdStyle[\"width\"]=\"100%\";style[\"position\"]=\"relative\";style[\"paddingLeft\"]=0;style[\"paddingRight\"]=0;contents=React.DOM.div({style:{position:\"absolute\",overflow:\"hidden\",textOverflow:\"ellipsis\",width:\"100%\",whiteSpace:\"nowrap\",margin:\"auto\",top:0,bottom:0,paddingLeft:14,paddingRight:14}},contents)}return React.DOM.td({style:tdStyle,key:colIdx},React.DOM.div({style:style},contents))}})),React.DOM.div({className:\"col-xs-6\"},React.DOM.h3(null,\"Visible Columns\"),React.DOM.p(null,\"Choose which columns will be available in the Summary, Table,\"+\" \"+\"and Plots tabs.\"),React.DOM.div({style:{backgroundColor:\"#f0f0f0\",width:\"100%\",padding:10,height:400,overflowY:\"scroll\",display:\"inline-block\"}},React.DOM.table(null,React.DOM.tbody(null,columns.map(function(col,idx){if(visibleColumns.indexOf(col.name)===-1){return null}return React.DOM.tr({key:idx,style:{backgroundColor:\"white\",width:\"100%\",height:38,marginTop:2,marginBottom:2,lineHeight:\"38px\"}},React.DOM.td({style:{width:\"50%\"}},React.DOM.span({style:{paddingLeft:16}},idx),React.DOM.span({style:{paddingLeft:28}},col.name)),React.DOM.td({style:{width:\"50%\"}},React.DOM.span(null,\"(\",col.dtype,\")\")),React.DOM.td({style:{width:38,borderLeft:\"1px solid #dedede\"}},React.DOM.a({href:\"javascript:\",onClick:toggleFn.bind(null,columns[idx])},React.DOM.i({className:\"fa fa-eye\",style:{color:\"#0a8cc4\",paddingLeft:8,paddingRight:8}}))))}.bind(this))))))),React.DOM.div({className:\"row\"},React.DOM.div({className:\"col-xs-12\"},React.DOM.div({style:{\"float\":\"right\"}},Controls.Button({onClick:this.setColumns,style:{width:130,marginTop:16}},\"View Columns\"))))))}});var SingleColumn=React.createClass({displayName:\"SingleColumn\",render:function(){var rows=Util.tryGetProperty(this.props.selected_variable,[\"descriptives\",\"rows\"],0);if(rows===0){return React.DOM.div(null,React.DOM.h5(null,\"No data in this column.\"))}var categorical=!Util.tryGetProperty(this.props.sketch,\"numeric\",false);var dtype=Util.tryGetProperty(this.props.column,\"dtype\");var summaryPlots=[];if(dtype===\"dict\"){var keysSketch=Util.tryGetProperty(this.props.sketch,\"keys\",{});var valuesSketch=Util.tryGetProperty(this.props.sketch,\"values\",{});var valuesNumeric=Util.tryGetProperty(valuesSketch,\"numeric\",false);var valueDescription=valuesNumeric?\"distribution of values (all keys):\":\"frequent items (all keys):\";summaryPlots.push(React.DOM.div({key:\"dict_summary\"},React.DOM.div({className:\"canvas-sframe-summary-plot-title\"},\"frequent keys:\"),SummaryPlot({data:keysSketch,categorical:!Util.tryGetProperty(keysSketch,\"numeric\",false),maxItems:5}),React.DOM.div({className:\"canvas-sframe-summary-plot-title\"},valueDescription),SummaryPlot({data:valuesSketch,categorical:!Util.tryGetProperty(valuesSketch,\"numeric\",false),width:32,vertical:true,maxItems:5})))}else if(dtype!==\"Image\"){var description=categorical?\"frequent items\":\"distribution of values\";if(dtype===\"list\"||dtype===\"array\"){description+=\" (all sub-columns)\"}summaryPlots.push(React.DOM.div({key:\"nondict_summary\"},React.DOM.div({className:\"canvas-sframe-summary-plot-title\"},description,\":\"),SummaryPlot({data:this.props.sketch,categorical:categorical,width:32,vertical:true,maxItems:12})))}var loading=!(\"complete\"in this.props.sketch)||!this.props.sketch.complete;var num_unique=dtype===\"dict\"?SummaryStatistic({name:\"unique keys (est.)\",value:Util.tryGetProperty(this.props.sketch,[\"keys\",\"num_unique\"]),loading:loading}):SummaryStatistic({name:\"num_unique (est.)\",value:this.props.sketch.num_unique,loading:loading});var additionalStats=!categorical?[\"min\",\"max\",\"mean\",\"std\"].map(function(stat,idx){return SummaryStatistic({key:idx,name:stat,value:this.props.sketch[stat],loading:false})}.bind(this)):null;return React.DOM.div(null,React.DOM.table({className:\"canvas-sframe-inner-table\"},React.DOM.tbody(null,SummaryStatistic({name:\"dtype\",value:dtype}),num_unique,SummaryStatistic({name:\"num_undefined\",value:this.props.sketch.num_undefined,loading:loading}),additionalStats)),summaryPlots)}});var ColumnFrequencyPlot=React.createClass({displayName:\"ColumnFrequencyPlot\",render:function(){if(!(\"frequent_items\"in this.props.data)||this.props.data.frequent_items.length===0){return React.DOM.div(null)}var width=176;var maxItems=Util.tryGetProperty(this.props,\"maxItems\",10);var sorted=Util.sortFrequentItems(this.props.data.frequent_items,maxItems);if(sorted.length===0){return React.DOM.div({className:\"canvas-sframe-summary-statistic-name\"},\"No values appear with \u2265 0.01% occurrence.\")}var scale=d3.scale.linear().domain([0,sorted[0].value.frequency]).range([0,width]);return React.DOM.div(null,React.DOM.table(null,React.DOM.tbody(null,sorted.map(function(pair,idx){var label=Util.formatSArrayValue(pair.value.value,20);return React.DOM.tr({key:idx},React.DOM.td({style:{position:\"relative\",width:width,height:22}},React.DOM.div({style:{position:\"absolute\",left:0,top:0,width:scale(pair.value.frequency),height:20,backgroundColor:\"rgba(133, 189, 0, 0.2)\"}}),React.DOM.div({style:{paddingLeft:8,paddingRight:8,width:width,height:20,overflow:\"hidden\"}},label)))}.bind(this)))))}});var SummaryPlot=React.createClass({displayName:\"SummaryPlot\",render:function(){var plot=this.props.categorical?ColumnFrequencyPlot():Plots.BoxAndWhisker();return React.DOM.div({className:\"canvas-sframe-column-plot\"},this.transferPropsTo(plot))}});var SummaryStatistic=React.createClass({displayName:\"SummaryStatistic\",render:function(){var value=this.props.value;if(this.props.loading){value=React.DOM.span({style:{position:\"relative\",marginLeft:30,marginRight:-10}},React.DOM.i({className:\"fa-li fa fa-spinner fa-spin\"}))}else if(typeof value===\"number\"){value=Util.formatNumber(value)}return React.DOM.tr(null,React.DOM.td({className:\"canvas-sframe-summary-statistic-name\"},this.props.name,\":\u00a0\"),React.DOM.td({className:\"canvas-sframe-summary-statistic-value\"},value))}});var SummaryView=React.createClass({displayName:\"SummaryView\",mixins:[Controls.AsyncState],getInitialState:function(props){if(!props){props=this.props}if(props.ipython==true){return{sketch:props.sketch}}return{sketch:{}}},getColumns:function(props){var allColumns=Util.tryGetProperty(props.selected_variable,\"columns\",[]);var filteredColumnNames=Util.tryGetProperty(props.selected_variable,[\"view_params\",\"columns\"],[]);return allColumns.filter(function(col){return filteredColumnNames.indexOf(col.name)!==-1})},updateAsyncState:function(nextProps){var rows=Util.tryGetProperty(nextProps.selected_variable,[\"descriptives\",\"rows\"],0);if(rows!==0){this.addTask(new TaskQueue.SingleTask(\"/cached_sketches\",\"cached sketch summaries\").done(function(data){var sketch={};var pageTasks=[];this.getColumns(this.props).forEach(function(colObj,idx){var column=colObj.name;if(data[column]!==null){sketch[column]=data[column]}if(data[column]===null||!data[column].complete){pageTasks.push(new TaskQueue.ProgressTask(\"/sketch/\"+column,'[\"'+column+'\"].sketch_summary()',function(data){var sketch={};sketch[column]=data;this.setState({sketch:Util.merge(this.state.sketch,sketch)})}.bind(this),Util.getSketchPollInterval(rows)).fail(function(){if(this.canceled){$.get(\"/cancel_sketch/\"+column)}}))}}.bind(this));this.setState({sketch:sketch},function(){this.addTask(new TaskQueue.MultiTask(pageTasks).always(function(){var metric=(this.canceled?\"page_task\":\"page_task.canceled\")+\".duration.ms\";Logging.reportMetric(metric,this.elapsed(),{operation:this.operation(),type:\"SFrame\"})}))}.bind(this))}.bind(this)))}},render:function(){var columns=this.getColumns(this.props);var ipythonStyle=this.props.ipython?{\"overflow-x\":\"auto\",maxHeight:600}:{};return React.DOM.div({style:ipythonStyle},React.DOM.table({className:\"canvas canvas-sframe-table\"},React.DOM.thead(null,React.DOM.tr(null,columns.map(function(column){return React.DOM.th({key:column.name,className:\"padding\"},Column({selectVariable:this.props.selectVariable,selected_variable:this.props.selected_variable,name:column.name,ipython:this.props.ipython}))}.bind(this)))),React.DOM.tbody(null,React.DOM.tr(null,columns.map(function(column){return React.DOM.td({key:column.name,className:\"padding\"},SingleColumn({sketch:Util.tryGetProperty(this.state.sketch,column.name,{}),column:column,selected_variable:this.props.selected_variable}))}.bind(this))))))}});var TabularView=React.createClass({displayName:\"TabularView\",mixins:[Controls.AsyncState,Controls.SizeToWindow],getDefaultProps:function(){return{rowsToFetch:300,rowHeight:38}},getInitialState:function(){return{rows:[],rowStart:0,scrollTop:0,scrollLeft:0,currentTask:null,taskTimeout:null,pageOffset:0,pageDragOffset:0,pageDragStart:null,highlightRow:null}},updateAsyncState:function(nextProps){var pageTasks=[];if(Util.tryGetProperty(nextProps.selected_variable,[\"descriptives\",\"rows\"],0)!==0){pageTasks.push(new TaskQueue.SingleTask(\"/rows/\"+String(this.state.rowStart)+\"/\"+String(this.props.rowsToFetch+this.state.rowStart),\".head()\").done(function(data){this.setState({rows:data.values})}.bind(this)));this.addTask(new TaskQueue.MultiTask(pageTasks).always(function(){var metric=(this.canceled?\"page_task\":\"page_task.canceled\")+\".duration.ms\";Logging.reportMetric(metric,this.elapsed(),{operation:this.operation(),type:\"SFrame\"})}))}},scrollTable:function(evt){var scrollTop=$(evt.target).scrollTop();var scrollLeft=$(evt.target).scrollLeft();this.setState({scrollTop:scrollTop,scrollLeft:scrollLeft});this.updateTable(scrollTop,this.state.pageOffset)},updateTable:function(scrollTop,pageOffset){var newDimensions=this.getDimensions(scrollTop,pageOffset);if(newDimensions.currentRowStart>this.state.rowStart+this.props.rowsToFetch-50||Math.max(newDimensions.currentRowStart-5,0)<this.state.rowStart){var newStart=Math.max(newDimensions.currentRowStart-50,0);if(newStart!==this.state.rowStart){var task=new TaskQueue.SingleTask(\"/rows/\"+String(newStart)+\"/\"+String(newStart+this.props.rowsToFetch)).done(function(data){this.setState({rows:data.values,rowStart:newStart,currentTask:null})}.bind(this)).fail(function(){this.setState({currentTask:null})}.bind(this));if(this.state.taskTimeout!==null){clearTimeout(this.state.taskTimeout)}if(this.state.currentTask!==null){this.state.currentTask.cancel()}this.setState({currentTask:task,taskTimeout:setTimeout(function(){task.run()},200)})}}},getColumns:function(){var allColumns=Util.tryGetProperty(this.props.selected_variable,\"columns\",[]);var filteredColumnNames=Util.tryGetProperty(this.props.selected_variable,[\"view_params\",\"columns\"],[]);return allColumns.filter(function(col){return filteredColumnNames.indexOf(col.name)!==-1})},getColumnWidth:function(dtype){return{\"int\":110,\"float\":110,str:260,dict:260,list:260,array:260,Image:140,datetime:220}[dtype]},getDimensions:function(scrollTop,pageOffset){if(typeof scrollTop===\"undefined\"){scrollTop=this.state.scrollTop}if(typeof pageOffset===\"undefined\"){pageOffset=this.state.pageOffset}var totalRows=Util.tryGetProperty(this.props.selected_variable,[\"descriptives\",\"rows\"],0);var docScrollerThreshold=1e5;var docScrollerWidth=96;var elementsAboveHeight=42+55+4+60+40+74;var elementHeight=this.state.windowHeight-elementsAboveHeight;var columnHeaderHeight=this.props.rowHeight+1;var docScrollerHeight=elementHeight-10;var docScrollerPageHeight=Math.min(1,docScrollerThreshold/totalRows)*docScrollerHeight;var docScrollerVisualPadding=Math.max(0,10-docScrollerPageHeight);var elementsLeftWidth=230+60+30+docScrollerWidth;var elementWidth=this.state.windowWidth-elementsLeftWidth;var columns=this.getColumns();var rowsInView=Math.min(totalRows,docScrollerThreshold);var currentPageStart=Math.ceil(pageOffset/docScrollerHeight*totalRows);var currentRowStart=currentPageStart+Math.floor(scrollTop/this.props.rowHeight);currentRowStart-=currentRowStart%2;var rowsVisible=Math.ceil(elementHeight/this.props.rowHeight)+3;var currentRowEnd=currentRowStart+rowsVisible;var fillerAbove=Math.min(rowsVisible,this.state.rowStart-currentRowStart);var fillerBelow=Math.min(rowsVisible,currentRowEnd-(this.state.rowStart+this.props.rowsToFetch));var heightAbove=(currentRowStart-currentPageStart)*this.props.rowHeight;var heightBelow=Math.max(0,(rowsInView-(currentRowEnd-currentPageStart))*this.props.rowHeight);var rowHeaderWidth=18+Math.floor(10*Math.log(totalRows)/Math.LN10);var tableWidth=Math.min(elementWidth,columns.reduce(function(prev,col){return prev+this.getColumnWidth(col.dtype)}.bind(this),rowHeaderWidth+1));return{elementHeight:elementHeight,currentRowStart:currentRowStart,currentRowEnd:currentRowEnd,fillerAbove:fillerAbove,fillerBelow:fillerBelow,heightAbove:heightAbove,heightBelow:heightBelow,rowHeaderWidth:rowHeaderWidth,tableWidth:tableWidth,docScrollerWidth:docScrollerWidth,docScrollerHeight:docScrollerHeight,docScrollerPageHeight:docScrollerPageHeight,docScrollerVisualPadding:docScrollerVisualPadding,rowsInView:rowsInView,columnHeaderHeight:columnHeaderHeight,totalRows:totalRows,docScrollerThreshold:docScrollerThreshold}},highlightRow:function(idx){if(idx===this.state.highlightRow){idx=null}this.setState({highlightRow:idx})},render:function(){var dimensions=this.getDimensions();var columns=this.getColumns();var getCellStyle=function(w){return{overflow:\"hidden\",width:w,minWidth:w,maxWidth:w,height:this.props.rowHeight-2,minHeight:this.props.rowHeight-2,maxHeight:this.props.rowHeight-2}}.bind(this);var getCellContentStyle=function(w){return Util.objectMap(getCellStyle(w),function(name,value){var ret={};ret[name]=typeof value===\"number\"?value-16:value;return ret})};var getRowHTML=function(i,row){var rowStyle=this.state.highlightRow===i?{backgroundColor:\"rgba(255, 85, 0, 0.2)\"}:{};return React.DOM.tr({key:i,className:\"canvas-sframe-table-head-row\",onClick:this.highlightRow.bind(this,i)},React.DOM.th({style:Util.merge(getCellStyle(dimensions.rowHeaderWidth),rowStyle)},React.DOM.div({style:Util.merge(getCellContentStyle(dimensions.rowHeaderWidth),{color:\"#85bd00\",fontWeight:300})},Util.formatNumber(i))),row==null?React.DOM.td({className:\"padding canvas-sframe-table-head-value\",style:Util.merge(getCellStyle(this.getColumnWidth(columns[0].dtype)),rowStyle),colSpan:columns.length},React.DOM.div({style:{position:\"relative\",marginLeft:this.props.rowHeight}},React.DOM.i({className:\"fa-li fa fa-spinner fa-spin\"}))):row.map(function(value,j){value=Util.formatSArrayValue(value,this.props.rowHeight);return React.DOM.td({key:j,className:\"padding canvas-sframe-table-head-value\",style:Util.merge(getCellStyle(this.getColumnWidth(columns[j].dtype)),rowStyle)},React.DOM.div({style:getCellContentStyle(this.getColumnWidth(columns[j].dtype))},value))}.bind(this)))}.bind(this);var goToRowChange=function(evt){var value=null;try{value=parseInt($(\"#goToRow\").val(),10)}catch(e){return}var dimensions=this.getDimensions();var pageOffset=value/dimensions.totalRows*dimensions.docScrollerHeight;var maxValueForPageOffset=dimensions.totalRows-dimensions.rowsInView;var scrollOffset=0;if(value<0){value=0}if(value>dimensions.totalRows-1){value=dimensions.totalRows-1}if(value>maxValueForPageOffset){var scrollForward=value-maxValueForPageOffset;pageOffset=maxValueForPageOffset/dimensions.totalRows*dimensions.docScrollerHeight;scrollOffset=scrollForward/dimensions.rowsInView*(dimensions.rowsInView*this.props.rowHeight)}this.setState({pageOffset:pageOffset,pageDragOffset:pageOffset});$(\"#tableArea\").scrollTop(scrollOffset);this.updateTable(scrollOffset,pageOffset)}.bind(this);var goToRowHeight=20;var goToRowGreyBorder=\"1px solid #dedede\";var goToRow=React.DOM.div({style:{width:dimensions.docScrollerWidth,height:goToRowHeight}},React.DOM.input({id:\"goToRow\",style:{width:69,height:goToRowHeight,borderLeft:goToRowGreyBorder,borderTop:goToRowGreyBorder,borderBottom:goToRowGreyBorder,borderRight:\"none\",paddingLeft:5},type:\"number\",placeholder:\"row #\"}),React.DOM.a({style:{display:\"inline-block\",width:27,height:goToRowHeight,backgroundColor:\"#85bd41\",color:\"white\",textTransform:\"uppercase\",verticalAlign:\"top\",textDecoration:\"none\",lineHeight:String(goToRowHeight)+\"px\",textAlign:\"center\",fontSize:11},href:\"javascript:\",onClick:goToRowChange},\"Go\"));var docScrollerDragStart=function(evt){evt.preventDefault();evt.stopPropagation();this.setState({pageDragStart:evt.clientY})}.bind(this);var _docScrollerDrag=function(evt){if(this.state.pageDragStart===null){return null}var diff=evt.clientY-this.state.pageDragStart;var dimensions=this.getDimensions();var newOffset=Math.min(dimensions.docScrollerHeight-dimensions.docScrollerPageHeight,Math.max(0,this.state.pageOffset+diff));return newOffset}.bind(this);var docScrollerDrag=function(evt){if(this.state.pageDragStart!==null){evt.preventDefault();evt.stopPropagation();this.setState({pageDragOffset:_docScrollerDrag(evt)})}}.bind(this);var docScrollerDragEnd=function(evt){evt.preventDefault();evt.stopPropagation();if(this.state.pageDragStart!==null){var newOffset=_docScrollerDrag(evt);this.setState({pageDragStart:null,pageOffset:newOffset,pageDragOffset:newOffset});this.updateTable(this.state.scrollTop,newOffset)}}.bind(this);var docScrollerClick=function(evt){if(this.state.pageDragStart===null){evt.preventDefault();evt.stopPropagation();var dimensions=this.getDimensions();var offset=Math.max(0,evt.clientY-$(evt.currentTarget).offset().top-dimensions.docScrollerPageHeight/2);var newOffset=Math.min(dimensions.docScrollerHeight-dimensions.docScrollerPageHeight,offset);this.setState({pageOffset:offset,pageDragOffset:newOffset});this.updateTable(this.state.scrollTop,newOffset)}else{docScrollerDragEnd(evt)}}.bind(this);var docScrollerPoints=[[0,this.state.pageDragOffset],[0,this.state.pageDragOffset+dimensions.docScrollerPageHeight+dimensions.docScrollerVisualPadding],[50,dimensions.elementHeight+dimensions.columnHeaderHeight+dimensions.docScrollerVisualPadding-goToRowHeight-18],[50,dimensions.columnHeaderHeight-goToRowHeight-18]];var notScrollable=dimensions.totalRows<=dimensions.docScrollerThreshold;var docScrollerRectColor=notScrollable?\"#dfe0e1\":\"#85bd00\";var docScroller=dimensions.docScrollerWidth==0?null:React.DOM.div({style:{width:dimensions.docScrollerWidth}},React.DOM.div({style:{paddingTop:5},className:\"canvas-docscroller-label\"},\"0\"),React.DOM.svg({style:{width:10,height:dimensions.docScrollerHeight}},d3.range(10).map(function(i){var y=i/9*dimensions.docScrollerHeight;return React.DOM.line({key:i,x1:4,x2:10,y1:y,y2:y,stroke:\"#dfe0e1\",strokeWidth:2})}.bind(this))),React.DOM.div({style:{width:36,height:dimensions.docScrollerHeight+dimensions.docScrollerVisualPadding,display:\"inline-block\",cursor:notScrollable?\"auto\":\"pointer\",position:\"relative\"},onMouseMove:docScrollerDrag,onMouseLeave:docScrollerDragEnd,onClick:docScrollerClick},React.DOM.svg({style:{position:\"absolute\",top:0,left:0,width:36,height:dimensions.docScrollerHeight}},React.DOM.rect({x:0,y:this.state.pageDragOffset,width:36,height:dimensions.docScrollerPageHeight+dimensions.docScrollerVisualPadding,fill:\"#d9e3cd\",style:{opacity:notScrollable?0:1}}),d3.range(dimensions.docScrollerHeight/5).map(function(y){return d3.range(5).map(function(x){var fill=\"#dfe0e1\";if(y*5>=this.state.pageDragOffset&&y*5+4<=this.state.pageDragOffset+dimensions.docScrollerPageHeight){fill=docScrollerRectColor}return React.DOM.rect({key:String(x)+\"_\"+String(y),x:6+x*5,y:y*5,width:4,height:4,fill:fill})}.bind(this))}.bind(this))),React.DOM.div({style:{position:\"absolute\",top:this.state.pageDragOffset,left:0,width:36,height:dimensions.docScrollerPageHeight+dimensions.docScrollerVisualPadding,cursor:notScrollable?\"auto\":this.state.pageDragStart!==null?cursors.grabbing:cursors.grab},onMouseDown:docScrollerDragStart})),React.DOM.svg({style:{width:50,height:dimensions.docScrollerHeight+dimensions.docScrollerVisualPadding+10,display:\"inline-block\",verticalAlign:\"top\",opacity:notScrollable?0:1}},React.DOM.linearGradient({id:\"docScrollerGradient\"},React.DOM.stop({offset:\"0%\",style:{stopColor:\"#d9e3cd\"}}),React.DOM.stop({offset:\"100%\",style:{stopColor:\"#f0f4ec\"}})),React.DOM.polygon({points:docScrollerPoints.map(function(xy){return xy.join(\",\")}).join(\" \"),style:{fill:\"url(#docScrollerGradient)\"}})),React.DOM.div({style:{marginTop:-10},className:\"canvas-docscroller-label\"},Util.formatNumber(dimensions.totalRows)));return React.DOM.div({className:\"canvas canvas-view-main sframe\"},React.DOM.div({style:{\"float\":\"left\"}},goToRow,docScroller),React.DOM.div({style:{width:dimensions.tableWidth,overflow:\"hidden\"}},React.DOM.table({className:\"sframe-table table table-striped\",style:{marginBottom:0,marginLeft:-this.state.scrollLeft}},React.DOM.thead(null,React.DOM.tr(null,React.DOM.td({style:getCellStyle(dimensions.rowHeaderWidth)}),columns.map(function(col,idx){var handleClick=function(c){var selected_column=this.props.selected_variable.name.concat([c.name]);this.props.selectVariable(selected_column)}.bind(this,col);return React.DOM.th({key:idx,style:getCellStyle(this.getColumnWidth(col.dtype))},Column({name:col.name,selected_variable:this.props.selected_variable,selectVariable:this.props.selectVariable}))}.bind(this)))))),React.DOM.div({id:\"tableArea\",style:{height:dimensions.elementHeight,width:dimensions.tableWidth,overflow:\"auto\"},onScroll:this.scrollTable},React.DOM.table({className:\"sframe-table table table-striped\",style:{marginTop:dimensions.heightAbove,marginBottom:dimensions.heightBelow}},React.DOM.tbody(null,d3.range(dimensions.fillerAbove).map(function(i){return getRowHTML(i+dimensions.currentRowStart)}.bind(this)),this.state.rows.slice(dimensions.currentRowStart-this.state.rowStart,dimensions.currentRowEnd-this.state.rowStart).map(function(row,i){return getRowHTML(i+dimensions.currentRowStart,row)}.bind(this)),d3.range(dimensions.fillerBelow).map(function(i){return getRowHTML(i+dimensions.currentRowStart)}.bind(this))))))}});var PlotAxisPicker=React.createClass({displayName:\"PlotAxisPicker\",render:function(){return this.transferPropsTo(React.DOM.div({style:{display:\"inline-block\",verticalAlign:\"top\",marginTop:15}},React.DOM.label(null,React.DOM.div(null,this.props.label),React.DOM.select({onChange:this.props.onSelect,value:this.props.selected},this.props.options.map(function(opt,idx){return React.DOM.option({key:idx,value:opt},opt)}.bind(this))))))}});var PlotCreator=React.createClass({displayName:\"PlotCreator\",statics:{plotTypes:[[\"Scatter Plot\",\"scatter\"],[\"Heat Map\",\"heatmap\"],[\"Bar Chart\",\"bar\"],[\"Line Chart\",\"line\"]]},getInitialState:function(props){if(!props){props=this.props}var view_params=props.selected_variable.view_params;var view=view_params.view;var columnsX=this.getColumns(\"x\",props);var columnsY=this.getColumns(\"y\",props);var ret={selectedPlotType:this.constructor.plotTypes[0],axis1:view_params[\"x\"],axis2:view_params[\"y\"]};if(view!=null){ret.selectedPlotType=this.constructor.plotTypes.filter(function(t){return t[0]==view}.bind(this))[0]}if(!ret.axis1){ret.axis1=Util.tryGetProperty(columnsX,0)}if(!ret.axis2){ret.axis2=Util.tryGetProperty(columnsY,0)}return ret},componentWillReceiveProps:function(nextProps){if(!Util.deepEquals(this.props,nextProps)){this.setState(this.getInitialState(nextProps))}},selectPlotType:function(plotType){this.setState({selectedPlotType:plotType})},selectAxis:function(axis,evt){var newState={};newState[axis]=evt.target.value;this.setState(newState)},includeColumn:function(axis,col){var selectedPlotType=Util.tryGetProperty(this.state,\"selectedPlotType\",this.constructor.plotTypes[0])[0];if(axis===\"y\"||selectedPlotType===\"Scatter Plot\"||selectedPlotType===\"Line Chart\"||selectedPlotType===\"Heat Map\"){return col.dtype===\"int\"||col.dtype===\"float\"}else{Util.assert(axis===\"x\");Util.assert(selectedPlotType===\"Bar Chart\");return col.dtype===\"int\"||col.dtype===\"float\"||col.dtype===\"str\"}},getColumnName:function(col){return col.name},getColumns:function(axis,props){if(!props){props=this.props}return props.selected_variable.columns.filter(this.includeColumn.bind(this,axis)).map(this.getColumnName)},render:function(){return React.DOM.div({style:{height:86,borderBottom:\"1px solid #c5c5c5\"}},this.constructor.plotTypes.map(function(plotType,idx){var selected=plotType[0]==this.state.selectedPlotType[0];return React.DOM.a({key:idx,style:{paddingLeft:3,paddingRight:12,paddingTop:3,paddingBottom:0,display:\"inline-block\"},onClick:this.selectPlotType.bind(this,plotType),href:\"javascript:\"},React.DOM.img({src:\"/images/sframe_plot_\"+plotType[1]+\".png\",style:{marginBottom:4,border:selected?\"2px solid #ff5500\":\"2px solid transparent\",width:66,height:50}}),React.DOM.div({style:{fontSize:12,textAlign:\"center\",color:selected?\"#ff5500\":\"#0a8cc4\"}},plotType[0]))}.bind(this)),PlotAxisPicker({label:this.state.selectedPlotType[1]===\"geo\"?\"Latitude\":\"X axis\",options:this.getColumns(\"x\"),selected:this.state.axis1,onSelect:this.selectAxis.bind(this,\"axis1\"),style:{marginLeft:70}}),PlotAxisPicker({label:this.state.selectedPlotType[1]===\"geo\"?\"Longitude\":\"Y axis\",options:this.getColumns(\"y\"),selected:this.state.axis2,onSelect:this.selectAxis.bind(this,\"axis2\"),style:{marginLeft:20}}),Controls.Button({onClick:this.props.show.bind(null,this.state.selectedPlotType,this.state.axis1,this.state.axis2),disabled:!(this.state.axis1&&this.state.axis2),style:{marginTop:28,verticalAlign:\"top\",marginLeft:30}},\"Show\"))}});var PlotsView=React.createClass({displayName:\"PlotsView\",getInitialState:function(){return{plotType:null,col1:null,col2:null}},componentWillReceiveProps:function(nextProps){if(!Util.deepEquals(this.props.selected_variable.name,nextProps.selected_variable.name)||!Util.deepEquals(this.props.selected_variable.column_identifiers,nextProps.selected_variable.column_identifiers)){this.setState(this.getInitialState())}},show:function(plotType,col1,col2){this.setState({plotType:plotType,col1:col1,col2:col2},function(){$.post(\"/plot_params\",{view:plotType[0],col1:col1,col2:col2,col3:null,_xsrf:Util.getCookie(\"_xsrf\")})})},render:function(){var plot=null;var view=Util.tryGetProperty(this.props.selected_variable.view_params,\"view\");if(view!==null){plot={\"Bar Chart\":Bar.View,\"Line Chart\":Scatter[\"Line Chart\"],\"Scatter Plot\":Scatter.View,\"Heat Map\":HeatMap.View}[view];plot=this.transferPropsTo(plot(null))}var plotCreator=this.props.ipython?null:PlotCreator({show:this.show,selected_variable:this.props.selected_variable});return React.DOM.div(null,plotCreator,plot)}});var viewComponents={Summary:SummaryView,Table:TabularView,Plots:PlotsView};var views=Object.keys(viewComponents).map(function(c){var viewComponent=viewComponents[c];return[c,React.createClass({render:function(){return React.DOM.div(null,viewComponent(this.props))}})]});viewComponents[\"View\"]=React.createClass({mixins:[Controls.Modal],openColumnPicker:function(){this.modalOpen(\"\",ColumnView({selectVariable:this.props.selectVariable,selected_variable:this.props.selected_variable,shown:this.props.selected_variable.view_params.columns,modalClose:this.modalClose}),\"modal-lg\")},shouldComponentUpdate:function(nextProps,nextState){var ret=!Util.deepEquals(this.props,nextProps)||!Util.deepEquals(this.state,nextState);return ret},render:function(){var Tabs=Controls.Tabs;return React.DOM.div(null,React.DOM.div({style:{marginRight:20,marginTop:10,marginBottom:20}},React.DOM.div({style:{display:\"inline-block\",marginRight:20}},\"Showing \",this.props.selected_variable.view_params.columns.length,\" of \",this.props.selected_variable.descriptives.columns,\" columns.\"),Controls.Button({onClick:this.openColumnPicker},React.DOM.i({className:\"fa fa-pencil\"}),\"\u00a0\"+\" \"+\"Select Visible Columns\")),Tabs({selectVariable:this.props.selectVariable,selected_variable:Util.merge(this.props.selected_variable,{columns:this.props.selected_variable.columns.filter(function(c){return this.props.selected_variable.view_params.columns.indexOf(c.name)!==-1\n",
        "}.bind(this))}),openColumnPicker:this.openColumnPicker,tabs:views,initialTab:this.props.selected_variable.view_component}),this.getModal())}});return viewComponents});\n",
        "\"use strict\";define(\"sarray\",[\"react\",\"d3\",\"plots\",\"common_util\",\"taskqueue\",\"common_controls\",\"logging\"],function(React,d3,Plots,Util,TaskQueue,Controls,Logging){var ImageView=React.createClass({displayName:\"ImageView\",mixins:[Controls.AsyncState,Controls.SizeToWindow],getInitialState:function(){return{images:this.props.ipython?this.props.rows:[]}},updateAsyncState:function(nextProps){var rows=Util.tryGetProperty(this.props.selected_variable,[\"descriptives\",\"rows\"],0);if(rows!==0){this.addTask(new TaskQueue.SingleTask(\"/rows/0/20\",\"get_rows\").done(function(data){this.setState({images:data.values})}.bind(this)))}},render:function(){var name=this.props.selected_variable.name;var selected_column=Array.isArray(name)?name[name.length-1]:name;var rows=Util.tryGetProperty(this.props.selected_variable,[\"descriptives\",\"rows\"],0);var header=\"All \"+String(rows)+\" images in \";if(rows>=20){header=\"The first 20 images in \"}return React.DOM.div({className:\"tab-content\",style:{\"max-width\":this.state.windowWidth-(190+50),\"max-height\":this.props.ipython?\"none\":this.state.windowHeight-(74+50),overflow:\"auto\"}},React.DOM.div({className:\"canvas canvas-view-main sarray\"},React.DOM.h3(null,header,\" \",React.DOM.em(null,selected_column)),this.state.images.map(function(image,idx){return React.DOM.div({key:idx,style:{padding:10,margin:10,border:\"1px solid #5e5555\",display:\"inline-block\"}},Util.formatSArrayValue(image,200))}.bind(this))))}});var CategoricalView=React.createClass({displayName:\"CategoricalView\",statics:{tabName:\"Categorical\"},getInitialState:function(){return{frequentItemsShown:30}},getDefaultProps:function(){return{show_title:true}},showMoreFrequentItems:function(){this.setState({frequentItemsShown:this.state.frequentItemsShown+30})},render:function(){var sketch=this.props.sketch;var frequent_items=Util.tryGetProperty(sketch,\"frequent_items\",[]);var showMoreLink=Object.keys(frequent_items).length>this.state.frequentItemsShown?React.DOM.div(null,React.DOM.a({href:\"javascript:\",onClick:this.showMoreFrequentItems},\"Show More\")):null;frequent_items=Util.sortFrequentItems(frequent_items,this.state.frequentItemsShown);var tableValues=frequent_items.map(function(item){return[Util.formatSArrayValue(item.value.value,26),Util.formatNumber(item.value.frequency),Util.formatNumber(item.value.frequency/sketch.size*100)+\"%\"]}.bind(this));var tableClasses=[\"table\",\"table-bordered\",\"table-condensed\",\"canvas-singlecolumn-table\"];var scaleX=d3.scale.linear().domain([0,d3.max(frequent_items.map(function(item){return item.value.frequency}))]).range([0,250]);var plotTitle=this.props.show_title?React.DOM.h3({style:{marginTop:0,marginBottom:20,height:28}},\"Most frequent items from \",React.DOM.em(null,this.props.selected_column)):null;var plotValue=frequent_items.length===0?React.DOM.span(null,\"No values appear with \u2265 0.01% occurrence.\"):React.DOM.table({className:tableClasses.join(\" \"),style:{borderRight:\"none\",borderBottom:\"none\"}},React.DOM.thead(null,React.DOM.tr(null,React.DOM.th(null,\"Value\"),React.DOM.th(null,\"Count\"),React.DOM.th(null,\"Percent\"))),React.DOM.tbody(null,tableValues.map(function(row,rowIdx){return React.DOM.tr({key:rowIdx},row.map(function(col,colIdx){return React.DOM.td({key:colIdx},col)}.bind(this)),React.DOM.td({style:{width:\"250px\",border:\"none\",padding:\"0px 0px 0px 5px\"}},React.DOM.div({style:{width:scaleX(frequent_items[rowIdx].value.frequency),height:26,backgroundColor:\"#85bd00\",transition:\"width 0.3s ease\"}})))}.bind(this))));return React.DOM.div({className:\"canvas-sarray-table categorical\"},plotTitle,plotValue,showMoreLink)}});var NumericView=React.createClass({displayName:\"NumericView\",statics:{tabName:\"Numeric\"},render:function(){var sketch=this.props.sketch;var rows=Util.tryGetProperty(this.props.selected_variable,[\"descriptives\",\"rows\"],0);var plot,tableValues;var quantile=Util.tryGetProperty(sketch,\"quantile\",[]);var starting_bins=Util.tryGetProperty(sketch,\"num_unique\",20);starting_bins=Math.max(2,Math.min(starting_bins,20));plot=Plots.QuantileHistogram({quantile:quantile,starting_bins:starting_bins,rows:rows,selected_column:this.props.selected_column});tableValues=[\"min\",\"max\",\"mean\",\"std\"].map(function(name){var ret=[name];if(name in sketch){ret.push(Util.formatNumber(sketch[name]))}else{ret.push(null)}return ret;return[name,Util.tryGetProperty(sketch,name)]}.bind(this)).concat([1,25,50,75,99].map(function(q){var ret=[\"quantile(\"+String(q/100)+\") (est.)\"];if(\"quantile\"in sketch&&sketch.quantile.length>0){ret.push(Util.formatNumber(sketch.quantile[q]))}else{ret.push(null)}return ret}.bind(this)));var tableClasses=[\"table\",\"table-striped\",\"table-bordered\",\"table-condensed\",\"canvas-singlecolumn-table\"];return React.DOM.div(null,React.DOM.div({className:\"canvas-singlecolumn-plot\"},plot),React.DOM.div({className:\"canvas-sarray-table numeric\"},React.DOM.table({className:tableClasses.join(\" \")},React.DOM.tbody(null,tableValues.map(function(row,rowIdx){return React.DOM.tr({key:rowIdx},row.map(function(col,colIdx){return React.DOM.td({key:colIdx},col)}.bind(this)))}.bind(this))))))}});var HasSubcolumns={getInitialState:function(){return{subcolumn:null,subsketch:null}},updateAsyncState:function(nextProps){this.setState({subcolumn:null,subsketch:null})},getSubsketch:function(subcol){this.setState({subcolumn:subcol});var task=new TaskQueue.ProgressTask(\"/subsketch/\"+subcol,\"sketch_summary().element_sub_sketch()\",function(data){this.setState({subsketch:data})}.bind(this),2e3);this.addTask(task.always(function(){var metric=(this.canceled?\"page_task\":\"page_task.canceled\")+\".duration.ms\";Logging.reportMetric(metric,this.elapsed(),{operation:this.operation(),type:\"SArray<dict>\"})}))},onItemClick:function(subcol){if(this.state.subcolumn===subcol){this.setState(this.getInitialState())}else{this.getSubsketch(subcol)}}};var DictView=React.createClass({displayName:\"DictView\",mixins:[Controls.AsyncState,HasSubcolumns],statics:{tabName:\"Dictionary\"},render:function(){var keyPlot=Plots.Frequency({data:Util.tryGetProperty(this.props.sketch,\"keys\",{}),width:600,aspectRatio:5,maxValues:50,onItemClick:this.onItemClick,highlightElement:this.state.subcolumn,disabled:this.props.ipython});var numericValues=Util.tryGetProperty(this.props.sketch,[\"values\",\"numeric\"],false);var valuePlot=numericValues?NumericView:CategoricalView;var valueSketch=this.state.subsketch===null?Util.tryGetProperty(this.props.sketch,\"values\",{}):this.state.subsketch;var valuePlotSource=this.state.subcolumn!=null?React.DOM.em(null,\" \",this.state.subcolumn):React.DOM.span(null,\" all keys\");var valuePlotTitle=numericValues?React.DOM.span(null,\"Distribution of values from\"):React.DOM.span(null,\"Most frequent values from\");return React.DOM.div(null,React.DOM.h3({style:{marginTop:0,marginBottom:20,height:28}},\"Most frequent keys from \",React.DOM.em(null,this.props.selected_column),\", sorted by frequency\"),keyPlot,React.DOM.hr(null),React.DOM.h3({style:{marginTop:30,marginBottom:20,height:28}},valuePlotTitle,valuePlotSource),this.transferPropsTo(valuePlot({sketch:valueSketch,show_title:false})))}});var ListView=React.createClass({displayName:\"ListView\",statics:{tabName:\"List\"},render:function(){return React.DOM.div(null,React.DOM.h3({style:{marginTop:0,marginBottom:20,height:28}},React.DOM.span(null,\"Most frequent values in \",React.DOM.em(null,this.props.selected_column),\" \",React.DOM.small(null,\"(aggregated across all sub-columns)\"))),this.transferPropsTo(CategoricalView({show_title:false})))}});var ArrayView=React.createClass({displayName:\"ArrayView\",mixins:[Controls.AsyncState,HasSubcolumns],statics:{tabName:\"Array\"},onSelect:function(evt){var subcol=evt.target.value;if(subcol===\"all (aggregate)\"){this.setState(this.getInitialState())}else{this.getSubsketch(subcol)}},render:function(){var sketch=this.state.subsketch===null?this.props.sketch:this.state.subsketch;return React.DOM.div(null,React.DOM.h3({style:{marginTop:0,marginBottom:20,height:28}},React.DOM.span(null,\"Distribution of values in \",React.DOM.em(null,this.props.selected_column),\",\"+\" \"+\"all sub-columns (aggregate)\")),this.transferPropsTo(NumericView({sketch:sketch})))}});var SArrayView=React.createClass({displayName:\"SArrayView\",mixins:[Controls.AsyncState,Controls.SizeToWindow],getInitialState:function(props){if(!props){props=this.props}if(props.ipython==true){return{sketch:props.sketch}}return{sketch:{}}},updateAsyncState:function(nextProps){var pageTasks=[];var rows=Util.tryGetProperty(this.props.selected_variable,[\"descriptives\",\"rows\"],0);if(rows!==0){pageTasks.push(new TaskQueue.ProgressTask(\"/sketch/\",\"sketch_summary()\",function(data){this.setState({sketch:data})}.bind(this),Util.getSketchPollInterval(rows)).fail(function(){if(this.canceled){$.get(\"/cancel_sketch\")}}));this.addTask(new TaskQueue.MultiTask(pageTasks).always(function(){var metric=(this.canceled?\"page_task\":\"page_task.canceled\")+\".duration.ms\";Logging.reportMetric(metric,this.elapsed(),{operation:this.operation(),type:\"SArray\"})}))}},render:function(){var rows=Util.tryGetProperty(this.props.selected_variable,[\"descriptives\",\"rows\"],0);if(rows===0){return React.DOM.div(null,React.DOM.h5(null,\"No data in this column.\"))}var name=this.props.selected_variable.name;var selected_column=Array.isArray(name)?name[name.length-1]:name;var view=this.props.view;var viewInstance=this.transferPropsTo(view({sketch:this.state.sketch,selected_column:selected_column}));return React.DOM.div({className:\"tab-content\",style:{\"max-width\":this.state.windowWidth-(190+50),\"max-height\":this.props.ipython?\"none\":this.state.windowHeight-(74+50),overflow:\"auto\"}},React.DOM.div({className:\"canvas canvas-view-main sarray\"},viewInstance))}});var SArrayViewWrapper=function(view){return React.createClass({render:function(){return this.transferPropsTo(SArrayView({view:view}))}})};var viewComponents={Categorical:SArrayViewWrapper(CategoricalView),Numeric:SArrayViewWrapper(NumericView),Dictionary:SArrayViewWrapper(DictView),Array:SArrayViewWrapper(ArrayView),List:SArrayViewWrapper(ListView),Images:ImageView};viewComponents[\"View\"]=React.createClass({render:function(){var Tabs=Controls.Tabs;var views=this.props.selected_variable.view_components.map(function(c){return[c,viewComponents[c]]}.bind(this));return Tabs({selectVariable:this.props.selectVariable,selected_variable:this.props.selected_variable,tabs:views,initialTab:this.props.selected_variable.view_component})}});return viewComponents});\n",
        "\"use strict\";define(\"sgraph\",[\"react\",\"plots\",\"common_util\",\"taskqueue\",\"common_controls\",\"d3\",\"logging\"],function(React,Plots,Util,TaskQueue,Controls,d3,Logging){return{View:React.createClass({displayName:\"View\",mixins:[Controls.AsyncState,Controls.SizeToWindow],getInitialState:function(props){if(!props){props=this.props}if(props.ipython){return{vertices:Util.tryGetProperty(props,\"vertices\",[]),vertices_labels:Util.tryGetProperty(props,\"vertices_labels\",[]),edges:Util.tryGetProperty(props,\"edges\",[]),edges_labels:Util.tryGetProperty(props,\"edges_labels\",[]),layoutAlgorithm:\"forceDirected\",positions:Util.tryGetProperty(props,\"positions\",[]),error_type:Util.tryGetProperty(props,\"error_type\",0),error_msg:Util.tryGetProperty(props,\"error_msg\",[])}}return{vertices:[],vertices_labels:[],edges:[],edges_labels:[],layoutAlgorithm:\"forceDirected\",positions:null,error_type:0,error_msg:\"\"}},customLayout:function(vertices,edges){return{vertices:vertices.map(function(v,idx){return Util.merge(v,{x:this.state.positions.x[idx],y:this.state.positions.y[idx]})}.bind(this)),edges:edges.map(function(e){return Util.merge(e,{points:[[this.state.positions.x[e.source],this.state.positions.y[e.source]],[this.state.positions.x[e.target],this.state.positions.y[e.target]]]})}.bind(this))}},setLayoutAlgorithm:function(evt){var algo=evt.target.value;this.setState({layoutAlgorithm:algo})},getLayoutAlgorithm:function(){if(this.state.layoutAlgorithm in Plots.GraphLayout.layoutAlgorithms){return Plots.GraphLayout.layoutAlgorithms[this.state.layoutAlgorithm]}return this.customLayout},shouldComponentUpdate:function(nextProps,nextState){return!Util.deepEquals(this.props,nextProps)||!Util.deepEquals(this.state,nextState)},updateAsyncState:function(nextProps){var pageTasks=[];[\"vertices\",\"edges\"].forEach(function(name){pageTasks.push(new TaskQueue.SingleTask(\"/\"+name,\"get_\"+name+\"()\").done(function(n,data){var st={};st[n]=data.values;if(data.labels!==null){st[n+\"_labels\"]=data.labels}if(n===\"vertices\"){st.positions=data.positions;if(data.positions!==null){st.layoutAlgorithm=JSON.stringify(data.positions.names)}}this.setState(st)}.bind(this,name)).fail(function(jqxhr,type,error){if(typeof jqxhr!==\"undefined\"&&jqxhr.status==413){this.setState({error_type:413,error_msg:error})}}.bind(this)))}.bind(this));this.addTask(new TaskQueue.MultiTask(pageTasks).always(function(){var metric=(this.canceled?\"page_task\":\"page_task.canceled\")+\".duration.ms\";Logging.reportMetric(metric,this.elapsed(),{operation:this.operation(),type:\"SGraph\"})}))},get_color:function(rgb_triple){return d3.rgb(rgb_triple[0]*255,rgb_triple[1]*255,rgb_triple[2]*255).toString()},scale_node_size:function(){return this.props.selected_variable.view_params.node_size/37.5},render:function(){if(this.state.vertices.length===0){if(this.state.error_type!==0){return React.DOM.div({className:\"alert alert-info\"},this.state.error_msg)}return React.DOM.div(null)}var getHighlightColors=function(){var ret={};for(var k in this.props.selected_variable.view_params.highlight){ret[k]=this.get_color(this.props.selected_variable.view_params.highlight[k])}return ret}.bind(this);var getParamColor=function(view_param){var rgb_triple=this.props.selected_variable.view_params[view_param];return this.get_color(rgb_triple)}.bind(this);var graph=Plots.GraphLayout(Util.merge({vertices:this.state.vertices,edges:this.state.edges,vlabels:this.state.vertices_labels!==null?this.state.vertices_labels:[],vcolor:getParamColor(\"vcolor\"),highlight:getHighlightColors(),node_size:this.scale_node_size(),elabels:this.state.edges_labels!==null?this.state.edges_labels:[],ecolor:getParamColor(\"ecolor\"),layoutAlgorithm:this.getLayoutAlgorithm()},Util.partial(this.props.selected_variable.view_params,[\"vlabel_hover\",\"elabel_hover\",\"ewidth\",\"v_offset\",\"h_offset\",\"arrows\"])));var defaultLayoutAlgo=this.state.positions===null?\"forceDirected\":JSON.stringify(this.state.positions.names);return React.DOM.div({className:\"tab-content\",style:{\"max-width\":this.state.windowWidth-(190+50),\"max-height\":this.props.ipython?\"none\":this.state.windowHeight-(74+50),overflow:\"auto\"}},React.DOM.div({className:\"canvas canvas-view-main sgraph\"},React.DOM.div({className:\"canvas-singlecolumn-plot\"},this.state.positions===null?null:React.DOM.div(null,React.DOM.label({htmlFor:\"canvas-sgraph-layout-selector\"},\"Layout algorithm:\u00a0\"),React.DOM.select({defaultValue:defaultLayoutAlgo,onChange:this.setLayoutAlgorithm},React.DOM.option({value:\"forceDirected\"},\"Force-directed\"),React.DOM.option({value:JSON.stringify(this.state.positions.names)},JSON.stringify(this.state.positions.names)))),graph)))}})}});\n",
        "\n",
        "                \n",
        "            var s = document.createElement('style');\n",
        "            s.appendChild(document.createTextNode(\"html, body, #canvas-page, .canvas-body-container {  height: 100%;}.canvas {        # add job dashboard to left nav        jobsView = graphlab.canvas.views.job_session.ScopedSessionView(jobs)        self.add_variable(jobsView.get_temporary_name(), jobsView)  font-family: 'Helvetica Neue', Helvetica, 'Liberation Sans', Arial, sans-serif;}body.canvas {  background-color: #5a6378;  color: white;}t.modal-content {  color: black;}.canvas-header-container {  width: 100%;  position: relative;  height: 4px;}.canvas-body-container {  display: table;  width: 100%;}.canvas-header {  background-color: white;  width: 100%;  height: 60px;  line-height: 60px;  padding-left: 15px;  padding-right: 15px;  font-size: 24px;  font-weight: 300;  letter-spacing: 1px;}.canvas-leftnav {  display: table-cell;  width: 180px;  min-width: 180px;  vertical-align: top;  background-color: #393f4f;  margin-bottom: 78px;}.canvas-title {  font-size: 14px;  height: 40px;  line-height: 40px;  text-align: center;  color: #9c9c9c;  background-color: #2f2b2b;  margin-top: 0px;  margin-bottom: 0px;  letter-spacing: 2px;  font-weight: 300;}.canvas-title > .canvas-brand {  color: #747b8e;  text-transform: uppercase;  letter-spacing: 3px;}.canvas-main {  margin-left: 230px;  margin-right: 15px;  vertical-align: top;  display: table-cell;}.canvas-progressbar.progress {  height: 55px;  border-radius: 0px;  box-shadow: none;  -webkit-box-shadow: none;  background-color: #5a6378;  position: relative;  margin-bottom: 0px;  padding-left: 20px;}.canvas-progressbar.progress > .progress-bar {  background-color: #bad98d;  box-shadow: none;  -webkit-box-shadow: none;  position: absolute;}.canvas-progressbar-contents {  position: absolute;  width: 100%;}.canvas-breadcrumb {  font-size: 24px;  height: 40px;  line-height: 50px;  padding-left: 20px;  color: white;  display:inline-block;  left: 15px;  font-weight: 300;}.canvas-breadcrumb .active {  display: inline-block;}.canvas-descriptives {  display:inline-block;  color: white;  font-size: 12px;  font-weight: 700;  position: absolute;  right: 60px;  top: 8px;}.canvas-descriptives .label {  font-weight: 300;  margin-left: 15px;  color: white;  height: 40px;  line-height: 40px;  font-size: 12px;  text-transform: capitalize;}.canvas-tabcontents {  overflow: auto;}.canvas-sframe-column-header {  text-align: center;  background-color: #0a8cc4;  font-size: 16px;  font-weight: 300;  color: white;}.canvas-sframe-column-title {  display: block;  width: 100%;  padding: 11px;}a.canvas-sframe-column-title,a.canvas-sframe-column-title:hover,a.canvas-sframe-column-title:active {  color: white;  text-decoration: underline;}.canvas-sframe-table {  max-width: none;  table-layout: fixed;  background-color: white;  color: black;  margin: 12px;}.canvas-sframe-table th.padding,.canvas-sframe-table td.padding {  width: 192px;  min-width: 192px;  padding: 1px 8px;  border-right: 4px solid #f3f3f3;  vertical-align: top;}.canvas-sframe-table-head-label {  font-weight: 500;  text-transform: capitalize;  display: block;  font-size: 12px;}.canvas-sframe-table tr.canvas-sframe-table-head-row:nth-child(odd) {  background-color: #fafafa;}.canvas-sframe-table td.padding.canvas-sframe-table-head-value {  font-size: 12px;  padding-top: 4px;  padding-bottom: 4px;}.canvas-sframe-inner-table {  width: 100%;  margin-top: 10px;  margin-bottom: 12px;}.canvas-sframe-summary-statistic-name {  font-size: 12px;  height: 25px;}.canvas-sframe-summary-statistic-value {  font-size: 18px;  font-weight: 300;  text-align: right;}.canvas-quantile-histogram {  position: relative;}rect.bar {  fill: #85bd00;}rect.bar:hover {  fill: #ff5500;}.canvas-quantile-histogram .bar {  stroke: #fff;  stroke-width: 1px;  transition-property: transform;  -webkit-transition-property: -webkit-transform;  transition-duration: 0.3s;}.canvas-singlecolumn-table {  max-width: 650px;  font-size: 12px;}.canvas-sarray-table {  display: inline-block;  vertical-align: top;  margin: 115px 30px 30px 0px;}.canvas-sarray-table.categorical {  margin: 0px;  max-width: 650px;}.canvas-sarray-table.categorical table tr {  height: 28px;}.canvas-singlecolumn-plot {  display: inline-block;  vertical-align: top;  width: 560px;}.canvas-histogram-label {  font-size: 11px;  fill: #777;}.canvas-histogram-title {  font-size: 18px;  fill: black;}.canvas-histogram-axis-title {  font-size: 14px;  fill: #777;}.canvas-histogram-axis-subtitle {  font-size: 12px;  fill: #777;}.canvas-boxplot-line {  stroke: #85bd00;  stroke-width: 1;  stroke-dasharray: 0.2, 0.08;}.canvas-boxplot-end {  stroke: #85bd00;  stroke-width: 0.5;}.canvas-sframe-boxplot-tooltip td+td {  text-align: right;  padding-left: 12px;}.canvas-statusbar .alert {  margin-bottom: 0px;  border-radius: 0px;  padding: 10px;}.canvas-statusbar .alert .close {  right: 0px;}.canvas-statusbar-stack-trace-link {  display: inline;}.canvas-logo {  height: 60px;}.canvas-logo,.canvas-feedback {  position: absolute;  bottom: 0px;  left: 0px;  height: 78px;  vertical-align: middle;  display: inline-block;  padding: 15px 25px;}.canvas-feedback > img {  width: 60px;  height: 39px;  display: inline-block;}.canvas-feedback-button {  line-height: 14px;  font-size: 12px;  color: white;  vertical-align: middle;  margin-left: 8px;  display: inline-block;}.canvas-feedback-button:active,.canvas-feedback-button:hover,.canvas-feedback-button:focus {  color: white;}.canvas-header-colorbar > div {  width: 20%;  height: 4px;  position: absolute;  top: 0px;}.canvas-header-glcreate {  color: #0a8cc4;}.canvas-feedback-form {  width: 100%;  padding: 10px;  font-size: 13px;  line-height: 13px;}.canvas-feedback-form label {  font-weight: 300;  margin-bottom: 0px;}.canvas-feedback-log-area {  margin-bottom: 12px;  line-height: 20px;}.canvas-feedback-log-radios {  margin-left: 30px;}.canvas-feedback-log-radios span+span {  margin-left: 20px;}.canvas-feedback-log-radios input[type=\\\"radio\\\"] {  margin-left: 6px;}.canvas-feedback-form textarea,.canvas-feedback-form input[type=\\\"email\\\"] {  width: 100%;  padding: 10px 20px;  color: black;}.canvas-feedback-form textarea {  min-height: 118px;  margin-bottom: 24px;}.canvas-feedback-form input[type=\\\"email\\\"] {  margin-top: 8px;}.canvas-form-buttons {  margin-top: 26px;  width: 100%;}.canvas-form-buttons a {  display: inline-block;  width: 170px;  text-align: center;  text-transform: uppercase;  font-size: 22px;  line-height: 38px;}.canvas-form-buttons a+a {  margin-left: 30px;}.canvas-form-buttons a:active,.canvas-form-buttons a:hover {  text-decoration: none;}.canvas-form-submit:hover,.canvas-form-submit:active,.canvas-form-submit:focus,.canvas-form-submit {  color: white;  background-color: #0a8cc4;}.canvas-form-cancel:hover,.canvas-form-cancel:active,.canvas-form-cancel:focus,.canvas-form-cancel {  color: #2b2b2b;  background-color: #c5c5c5;}.canvas-view-main {  background-color: white;  color: black;  padding: 12px;}.canvas-view-main.sarray {  padding: 20px 40px;}.canvas-view-main.sgraph {  padding: 20px 40px;}.canvas-plot-boxandwhisker {  text-align: center;}.canvas-plot-boxandwhiskerarray {  text-align: center;}.canvas-sarray-plot-axes {  stroke: #777;  stroke-width: 1px;}.canvas-histogram-x-axis {  font-size: 14px;  color: #777;  position: absolute;  top: 450px;  left: 85px;  width: 376px;  text-align: center;}.canvas-slider {  background-color: #f9f9f9;  padding: 6px;  margin-left: 90px;  width: 376px;}.canvas-slider-label {  text-transform: uppercase;}.canvas-slider > div {  display: inline-block;  vertical-align: middle;  color: #777;}.canvas-slider > div+div {  margin-left: 6px;}.canvas-slider-control > span,.canvas-slider-control > input {  display: inline-block;  vertical-align: middle;}.canvas-slider-control > span {  margin-left: 6px;  margin-right: 6px;}.canvas-slider-control > input {  width: 196px;}.canvas-tooltip {  position: fixed;  width: 300px;  background-color: #ff5400;  font-size: 12px;  text-align: center;  color: white;  padding: 4px 8px;}.canvas-tooltip:after {content: ' ';  height: 0;  position: absolute;  width: 0;  border: 10px solid transparent;  border-top-color: #ff5400;  top: 100%;  left: 50%;  margin-left: -10px;}.canvas-scatter-axes{  stroke:#85bd00;  stroke-width:3;}.canvas-scatter-ticks{  stroke: #444444;  stroke-width:1;}.canvas-scatter-gridlines{  stroke:rgb(0,0,0);  stroke-width: 1px;  opacity: .15;}.canvas-scatter-rectFrame{  fill-opacity: 0;  stroke-width: 1;  stroke: #444444;}.canvas-scatter-axesLabel{  text-anchor: middle;}.canvas-scatter-numLabel{  text-anchor: middle;  font-size: 10px;  fill: #4B4B4B;}.canvas-scatter-point:hover{  fill: #ff5500;}.canvas-scatter-point{    -webkit-transition: fill .15s, opacity .5s ease, -webkit-transform 1s ease; /* For Safari 3.1 to 6.0 */    transition: fill .15s, opacity .5s ease, transform 1s ease;    stroke-width: 0;    fill: #0a8cc4;}.canvas-scatter-trendline:hover{  stroke: #ff5500;}.canvas-scatter-trendline{  stroke:rgb(0,0,0);  stroke-width: 3;  stroke: #b0007f;  -webkit-transition: stroke .15s; /* For Safari 3.1 to 6.0 */  transition: stroke .15s;}.canvas-scatter-toggle{  fill: blue;  stroke: blue;  stroke-width: 1;  width: 75;}.canvas-scatter-frame{  background-color: #FFFFFF;  position: relative;}.canvas-scatter-axesLabel{  text-align: center;}.canvas-scatter-labelSelect{  width: 150px;  height: 75px;}.canvas-scatter-title{  font-size: 20px;}.canvas-scatter-toggleLabel{  color: #444444;}.canvas-scatter-lineGraph:hover{  stroke: #ff5500;}.canvas-scatter-lineGraph{  stroke-width: 2;  stroke: #5e5555;}.canvas-heatmap-axesLabel{  text-align: center;}.canvas-heatmap-toggleLabel{  color: #444444;}.canvas-heatmap-bin{  fill-opacity: 1;  stroke-width: 0;}.canvas-heatmap-frame{  position: relative;  background-color: #FFFFFF;}.canvas-bar-rectFrame{  fill-opacity: 0;  stroke-width: 1;  stroke: #444444;}.canvas-bar-ticks{  stroke: #444444;  stroke-width:1;}.canvas-bar-ticks:hover{  stroke: #ff5500;}.canvas-bar-gridlines{  stroke:rgb(0,0,0);  stroke-width: 2px;  opacity: .15;}.canvas-bar-numLabel{  text-anchor: middle;  font-size: 10px;  fill: #4B4B4B;}.canvas-bar-textLabel{  text-anchor: middle;  font-size: 10px;  fill: #4B4B4B;}.canvas-bar-axes{  stroke:#85bd00;  stroke-width:2;}.canvas-bar-frame{  position: relative;  background-color: #FFFFFF;}.canvas-bar-barRect:hover{  fill: #ff5500;}.canvas-bar-toggleLabel{  color: #444444;}.canvas-bar-barRect{    stroke-width: 1;    stroke: #555555;    fill: #0a8cc4;}.canvas-map-frame{  position: relative;}.canvas-map-canvas{  cursor: -moz-zoom-in;   cursor: -webkit-zoom-in;   cursor: zoom-in;  position: absolute;  top: 0px;  left: 0px;}.canvas-map-mapContainer{  position: relative;}.canvas-map-outerContainer{  color: black;}.canvas-choropleth-outerFrame{  color: black;}.canvas-densityMap-outerFrame{  color: black;}.canvas-densityMap.frame{  position: relative;}.canvas-densityMap-canvas{  cursor: -moz-zoom-in;   cursor: -webkit-zoom-in;   cursor: zoom-in;  position: absolute;  top: 0px;  left: 0px;}.canvas-densityMap-mapContainer{  position: relative;}.canvas-densityMap-map{  position: absolute;  top: 0px;  left: 0px;}.canvas .nav-tabs {  border-bottom: 0;}.canvas .nav-tabs>li {  margin-bottom: 0px;}.canvas .nav-tabs>li>a {  border-radius: 0;  background-color: #dedede;}.canvas .nav-tabs>li.active>a, .nav-tabs>li.active>a:hover, .nav-tabs>li.active>a:focus {  background-color: white;}.sframe-table.table>thead>tr>th {  border-bottom: 0;  text-align: center;  background-color: #0a8cc4;  border-left: 3px solid white;  border-right: 3px solid white;  padding: 0px;}.sframe-table.table>thead>tr>th,.sframe-table.table>tbody>tr>th,.sframe-table.table>tfoot>tr>th,.sframe-table.table>thead>tr>td,.sframe-table.table>tbody>tr>td,.sframe-table.table>tfoot>tr>td {  border-top: 0;  border-bottom: 0;  border-left: 0;  border-right: 2px solid #eaeaea;}.sframe-table.table>thead>tr>th a,.sframe-table.table>thead>tr>th a:active,.sframe-table.table>thead>tr>th a:hover {  text-decoration: underline;  color: white;  font-weight: 300;  font-size: 16px;}.sframe-table.table-striped>tbody>tr:nth-child(odd)>td,.sframe-table.table-striped>tbody>tr:nth-child(odd)>th {  background-color: #fafafa;}.canvas .tab-content {  background-color: white;}.canvas-docscroller-label {  color: #85bd00;  width: 56px;  height: 24px;  text-align: center;}.canvas-sframe-summary-plot-title {  font-size: 14px;  margin-bottom: 8px;  margin-top: 8px;}/* artifact css */.canvas-stage-table {  color : #000;  background-color: white;  max-width: none;  margin-bottom:30px;}.canvas-stage-title {  color : #000;  padding-top : 15px;  margin-left : 30px;  margin-right : 30px;  font-weight : 400;  font-size : 20px;}.canvas-stage-graph {  margin-top : 10px;  margin-bottom: 10px;  margin-left : 10px;  margin-right : 10px;  background-color: white;  max-width: none;}.canvas-stage-info {  color : #000;  margin-left : 50px;  margin-right : 50px;  }.canvas-stage-code {  margin-left : 50px;  margin-right : 70px;  margin-top : 10px;  margin-bottom: 20px;  padding-bottom: 20px;}.canvas-task-param-name {  color : #b0007f;  font-weight : 500;}table.canvas-task-param-table th {  border : 1px solid #c5c5c5;  padding : 5px;  vertical-align : top;  background-color : #5e5555;  color : #ffffff;  text-align : left;  font-weight : 500;  font-size : 14px;}table.canvas-task-param-table td {  border : 1px solid #c5c5c5;  padding : 5px;  vertical-align : top;  font-weight : 450;  font-size : 14px;}table.canvas-task-param-table td:nth-child(1) {  width:35%;}table.canvas-task-param-table td:nth-child(2) {  width:40%;}table.canvas-task-param-table td:nth-child(3) {  width:25%;}table.canvas-task-param-table {  color : #000;  margin-top : 10px;  max-width : 550px;  min-width : 350px;  border : 1px solid #c5c5c5;}.canvas-task-gantt-label {  font-size: 10px;  fill: #777;  word-wrap: break-word;}table.canvas-task-param-table {  color : #000;  margin-top : 10px;  max-width : 550px;  min-width : 350px;  border-collapse: separate;  border-spacing:2px;}table.canvas-task-gantt-table th {  color : #000;  padding : 5px;  vertical-align : top;  text-align : left;  min-height : 25px;}table.canvas-task-gantt-table td {  color : #000;  padding : 5px;  vertical-align : top;  font-size : 13px;  font-weight : 450;  margin-top : 5px;  margin-bottom : 5px;}table.canvas-task-gantt-table td:nth-child(1) {  width:20%;  max-width: 300px;}table.canvas-task-gantt-table td:nth-child(2) {  width:80%;}table.canvas-task-gantt-table tr {  width:100%;}table.canvas-task-gantt-table {  width: 100%;}.canvas-task-gantt-axes {  stroke: #000;  stroke-width: 1.5px;}.canvas-gantt-label {  font-size: 11px;  fill: #000;}.canvas-gantt-chart {  position: relative;  display: table;  max-width: 95%;}.canvas-task-views {  min-height : 250px;  max-height : 1300px;  min-width : 700px;  /*max-width : 1000px;*/  overflow-x : auto;  overflow-y : auto;   margin-left : 50px;  margin-right : 50px;  /*border-bottom : 1px solid #0a8cc4;*/  }.canvas-task-tab {  width : 900px;  height : 36px;  text-align : center;  margin-left : 50px;  font-weight : 450;  clear : both;}.canvas-task-tab-element {  padding-top : 8px;  padding-bottom : 10px;  width : 120px;  height : 36px;  color : #000;  float : left;  /*cursor : pointer;*/  text-align: left;  font-size: 20px;  /*border-left : 1px solid #c5c5c5;  border-top-left-radius:0.5em;  border-top-right-radius:0.5em;*/}.canvas-task-status-container {  margin-left : 58px;  margin-bottom : 20px;}.canvas-task-status {  padding-top : 8px;  padding-bottom : 10px;  /*background-color : #0a8cc4;*/  width : 80px;  height : 36px;  margin-left: 10px;  color : #000;  float : left;  text-align : center;}.canvas-task-status-fa {  padding-top : 8px;  padding-bottom : 10px;  width : 80px;  height : 36px;  color : #000;  float : left;  text-align : left;}.canvas-task-info {  margin-left : 50px;  margin-right : 50px;  padding-left : 25px;  /*border-top : 1px solid #0a8cc4;*/  /*border-bottom : 1px solid #0a8cc4;*/  max-width : 1000px;  padding-top : 25px;  padding-bottom : 35px; }.no-select{   user-select: none;   -o-user-select:none;   -moz-user-select: none;   -khtml-user-select: none;   -webkit-user-select: none;}.pointer {  cursor : pointer;}.task-graph {  /*background-color : #f5f5f5;*/}.canvas-fa-index {  z-index : 10;  font-size: 16px;}.task-graph-container {  /*background-color : #f5f5f5;*/  position: relative;}.canvas-job-title {  margin-left: 50px;  margin-top: 15px;  font-size: 20px;  font-weight: 450;  }.canvas-task-view-border {  border-top : 1px solid #0a8cc4;}.canvas-job-container {  margin-top : 5px;  margin-left: 20px;  margin-right : 20px;  color : #000;}.canvas-job-running-column {  cursor : pointer;  border-top : 1px solid #0a8cc4;}.canvas-job-running-val {  padding-top : 5px;  padding-bottom : 5px;  color : #000;  font-size : 13px;  font-weight : 400;  float : left;  text-align : left;}.canvas-job-running-val.starttime {  padding-left: 5px;  width : 160px;}.canvas-job-running-val.name {  padding-left: 5px;  width : 300px;}.canvas-job-running-val.status {  padding-left: 5px;  width : 100px;}.canvas-job-running-val.type {  padding-left: 5px;  width : 160px;}.canvas-job-history-container {  color : #000;  font-size : 14px;  font-weight : 450;  float : left;  text-align : left;  width : 100%;}.canvas-job-history-val {  color : #000;  font-size : 14px;  font-weight : 450;  float : left;  text-align : left;  height : 40px;}.canvas-job-history-container:nth-child(even) {  background-color : #f5f5f5;}.canvas-job-history-val.starttime {  padding-top : 8px;  padding-bottom : 5px;  padding-left: 15px;  width : 20%;  border-right : 1px solid #e0e0e0;}.canvas-job-history-val.name {  padding-top : 8px;  padding-bottom : 5px;  padding-left: 15px;  width : 30%;  border-right : 1px solid #e0e0e0;}.canvas-job-history-val.endtime {  padding-top : 8px;  padding-bottom : 5px;  padding-left: 10px;  width : 16%;  border-right : 1px solid #e0e0e0;}.canvas-job-history-val.duration {  padding-top : 8px;  padding-bottom : 5px;  padding-left: 10px;  width : 14%;}.canvas-job-history-val.status {  padding-top : 8px;  padding-bottom : 5px;  padding-left: 5px;  width : 14%;  border-right : 1px solid #e0e0e0;}.canvas-job-history-val.type {  padding-top : 8px;  padding-bottom : 5px;  padding-left: 10px;  width : 20%;  border-left : 1px solid #e0e0e0;}.canvas-job-title-val {  padding-top : 5px;  padding-bottom : 5px;  color : #000;  font-size : 16px;  font-weight : 500;  float : left;  text-align : left;  width : 100%;}.canvas-job-title-val.starttime {  padding-left: 15px;  width : 20%;}.canvas-job-title-val.name {  padding-left: 15px;  width : 30%;}.canvas-job-title-val.endtime {  padding-left: 10px;  width : 16%;}.canvas-job-title-val.duration {  padding-left: 10px;  width : 14%;}.canvas-job-title-val.status {  padding-left: 5px;  width : 14%;}.canvas-job-title-val.type {  padding-left: 10px;  width : 20%;}table.canvas-job-list {  padding: 10px;  background-color: #fff;  width: 100%;}table.canvas-job-list tr {  width: 100%;}table.canvas-job-list tr:nth-child(even) {  background-color : #f9f9f9;}table.canvas-job-list th {  padding-top : 15px;  padding-bottom : 5px;  color : #000;  font-size : 16px;  font-weight : 500;  float : left;  text-align : left;  width : 100%;  height: 50px;}table.canvas-job-list th:nth-child(1) {  padding-left: 40px;  width : 14%;}table.canvas-job-list th:nth-child(2) {  padding-left: 15px;  width : 30%;}table.canvas-job-list th:nth-child(3) {  padding-left: 10px;  width : 20%;}table.canvas-job-list th:nth-child(4) {  padding-left: 15px;  width : 20%;}table.canvas-job-list th:nth-child(5) {  padding-left: 10px;  width : 14%;}table.canvas-job-list td {  color : #000;  font-size : 14px;  font-weight : 450;  float : left;  text-align : left;  height : 40px;}table.canvas-job-list td:nth-child(1) {  padding-top : 8px;  padding-bottom : 5px;  padding-left: 15px;  width : 14%;  border-right : 2px solid #eeeeee;}table.canvas-job-list td:nth-child(2) {  padding-top : 8px;  padding-bottom : 5px;  padding-left: 15px;  width : 30%;  border-right : 2px solid #eeeeee;}table.canvas-job-list td:nth-child(3) {  padding-top : 8px;  padding-bottom : 5px;  padding-left: 10px;  width : 20%;  border-right : 2px solid #eeeeee;}table.canvas-job-list td:nth-child(4) {  padding-top : 8px;  padding-bottom : 5px;  padding-left: 15px;  width : 20%;}table.canvas-job-list td:nth-child(5) {  border-left : 2px solid #eeeeee;  padding-top : 8px;  padding-bottom : 5px;  padding-left: 10px;  width : 14%;}.canvas-job-statusbox {  margin-top : 2px;  margin-left : 2px;  padding-left : 5px;  padding-top : 5px;  padding-bottom : 5px;  height : 30px;  max-width : 120px;}.canvas-job-tab {  height : 30px;  text-align : center;  margin-left : 50px;  font-weight : 450;  clear : both;}.canvas-job-tab-element {  padding-top : 8px;  width : 100px;  height : 30px;  color : #000;  float : left;  cursor : pointer;  text-align: center;  font-size: 13px;  margin-right: -1px;  border-left : 1px solid #c5c5c5;  border-top : 1px solid #c5c5c5;  border-right : 1px solid #c5c5c5;}.canvas-job-wrapper {  border-left : 1px solid #c5c5c5;  border-top : 1px solid #c5c5c5;  border-right : 1px solid #c5c5c5;  border-bottom : 1px solid #c5c5c5;  margin-left : 50px;  padding-right : 25px;  margin-right : 50px;  padding-left : 25px;  padding-right : 25px;  min-width : 800px;  padding-top : 25px;  padding-bottom : 35px;  margin-top : -1px; }.canvas-task-graph {  margin-top : 10px;  margin-bottom: 10px;  margin-left : 10px;  margin-right : 10px;  background-color: white;  max-width: none;  float: left;}.canvas-task-info-table {  margin-left : 20px;  margin-right : 30px;  padding-top : 20px;}.canvas-task-status-header {  font-size: 16px;  margin-bottom: 2px;}.canvas-task-info-header {  height: 28px;  padding-top: 2px;  font-size : 16px;  margin-bottom: 2px;  border-bottom: 1px solid #fff;  background-color: #eeeeee;  color: #000;  padding-left: 10px;}.canvas-task-info-type {  font-size : 14px;  font-weight: 400;}.canvas-task-info-val-wrapper {  padding-left: 5px;  background-color: #f8f8f8;  font-size : 16px;  font-weight: 400;}.canvas-task-info-val-input {  padding-left : 10px;  width : 200px;  font-size : 14px;}.canvas-task-info-val-input-inner {  padding-left : 10px;  width : 180px;  font-size : 14px;}.canvas-task-info-val-param {  padding-left : 10px;  width : 200px;  font-size : 14px;}.canvas-task-info-val-param:nth-of-type(odd) {  background-color : #f5f5f5;}.canvas-task-info-val-output {  padding-left : 10px;  width : 200px;  font-size : 14px;}.canvas-task-info-val-output:nth-of-type(odd) {  background-color : #f5f5f5;}table.canvas-task-table th {  padding-top: 5px;  padding-bottom: 5px;  text-align : left;  font-weight : 500;  font-size : 16px;}table.canvas-task-table tr {}table.canvas-task-table td {  padding-top: 8px;  padding-bottom: 10px;  font-weight : 450;  font-size : 14px;}table.canvas-task-table td:nth-child(1) {  width:15%;  padding-left: 5px;}table.canvas-task-table td:nth-child(2) {  width:40%;  padding-left: 15px;}table.canvas-task-table td:nth-child(3) {  width:25%;  padding-left: 10px;}table.canvas-task-table td:nth-child(4) {  width:20%;  padding-left: 10px;}table.canvas-task-table th:nth-child(1) {  width:15%;  padding-left: 25px;}table.canvas-task-table th:nth-child(2) {  width:40%;  padding-left: 25px;}table.canvas-task-table th:nth-child(3) {  width:25%;  padding-left: 10px;}table.canvas-task-table th:nth-child(4) {  width:20%;  padding-left: 10px;}table.canvas-task-table {  color : #000;  width: 100%;}table.canvas-task-table-outer {  color : #000;  width: 100%;}table.canvas-task-table-outer tr {  width: 100%;  height: 100%;}table.canvas-task-table-outer td {}table.canvas-task-table-outer tr:nth-child(even) {  background-color : #f5f5f5;}.circle-index {  color: #fff;  text-align: center;  width:20px;  height:20px;  border-radius:10px;  float: left;}.canvas-task-wrapper {  background-color: #fff;  border-top : 1px solid #c5c5c5;  border-bottom : 1px solid #c5c5c5;  padding-right : 25px;  padding-left : 25px;  min-width : 600px;  padding-top : 25px;  padding-bottom : 35px;}.canvas-task-display {  color : #000;  background-color: white;  max-width: none;  border-left : 29px solid #f8f8f8;}.canvas-task-table-container {  margin-left : 10px;  margin-right : 10px;  background-color: white;  max-width: none;  float: left;}.canvas-log-title {  text-align: left;}.canvas-log-data {  text-align: right;}.canvas-log-button {  color: #0a8cc4;}.canvas-log-button:hover,focus {  color: #ff5500;}.canvas-task-label-text {  font-size: 12px;  font-weight: 400; }.canvas-task-label-code {  fill: #fff;  font-weight: 400;   font-size: 16px;}.canvas-dep-graph-task-circle {  fill: #fff;  font-size: 14px;  font-weight: 400;}.canvas-job-timeline-container {  width: 100%;  padding-left: 20px;  padding-right: 20px;}.canvas-task-timeline-table-title {  padding-top: 15px;  padding-left: 40px;  font-size: 18px;  font-weight: 300;  color: #6d7485;  height: 50px;}table.canvas-task-timeline-table-outer {  width: 100%;  background-color: #fff;}table.canvas-task-timeline-table-outer tr {  min-width: 800px;  max-height: 40px;  border-bottom: 2px solid #fff;}table.canvas-task-timeline-table-outer td {  max-height: 40px;  min-height: 40px;  padding-left: 15px;  padding-right: 15px;}table.canvas-task-timeline-table {  width: 100%;}table.canvas-task-timeline-table tr {  min-width: 800px;  max-height: 40px;  background-color: #f8f8f8;  border-bottom: 0px solid #fff;}table.canvas-task-timeline-table th {  height: 40px;}table.canvas-task-timeline-table th:nth-child(1) {  padding-left: 8px;  max-width:30px;  min-width:30px;  border-right: 1px solid #fff;}table.canvas-task-timeline-table th:nth-child(2) {  font-size: 16px;  width:250px;  min-width:250px;  border-right: 1px solid #fff;}table.canvas-task-timeline-table th:nth-child(3) {  width:25px;  min-width:25px;}table.canvas-task-timeline-table td {  max-height: 40px;  padding: 0px;} table.canvas-task-timeline-table td:nth-child(1) {  padding-left: 8px;  max-width:30px;  min-width:30px;  background-color: #f8f8f8;  border-right: 2px solid #fff;}table.canvas-task-timeline-table td:nth-child(2) {  width:250px;  font-size: 14px;  min-width:250px;  background-color: #f8f8f8;}table.canvas-task-timeline-table td:nth-child(3) {  width:20px;  font-size: 14px;  min-width:20px;  background-color: #f8f8f8;  border-right: 2px solid #fff;}table.canvas-task-timeline-table td:nth-child(4) {  font-size:0px;  line-height: 0;  min-width:25px;  background-color: #eeeeee;}.canvas-timeline-time-info {  font-size: 12px;  font-weight: 500;  color: #5e5555;}.canvas-timeline-time-val {  font-size: 13px;  font-weight: 400;  color: #000;  margin-bottom: 10px;}.canvas-task-timeline-task-running {  -webkit-animation-name: blinker;  -webkit-animation-duration: 1s;  -webkit-animation-timing-function: linear;  -webkit-animation-iteration-count: infinite;  -moz-animation-name: blinker;  -moz-animation-duration: 1s;  -moz-animation-timing-function: linear;  -moz-animation-iteration-count: infinite;  animation-name: blinker;  animation-duration: 1s;  animation-timing-function: linear;  animation-iteration-count: infinite;}@-moz-keyframes blinker {    0% { opacity: 1.0; }  50% { opacity: 0.0; }  100% { opacity: 1.0; }}@-webkit-keyframes blinker {    0% { opacity: 1.0; }  50% { opacity: 0.0; }  100% { opacity: 1.0; }}@keyframes blinker {    0% { opacity: 1.0; }  50% { opacity: 0.0; }  100% { opacity: 1.0; }}.canvas-task-progressbar.progress {  height: 40px;  border-radius: 0px;  box-shadow: none;  -webkit-box-shadow: none;  background-color: #85bd00;  position: relative;  margin-bottom: 0px;  top:0px;}.canvas-task-progressbar.progress > .progress-bar {  background-color: #85bd00;  box-shadow: none;  -webkit-box-shadow: none;  position: absolute;}.canvas-job-info-label {  color: #0a8cc4;}.canvas-job-info-container {  padding-left: 20px;  padding-right: 20px;}table.canvas-job-info-table {  width: 100%;}table.canvas-job-info-table tr {  padding-top: 10px;  height: 50px;  font-size: 18px;}table.canvas-job-info-table td:nth-child(1) {  font-size: 17px;  text-align: left;  font-weight: 300;  width: 32%;}table.canvas-job-info-table td:nth-child(2) {  text-align: left;  font-weight: 300;  width: 30%;  font-size: 17px;}table.canvas-job-info-table td:nth-child(3) {  text-align: left;  font-weight: 300;  width: 26%;  font-size: 17px;}table.canvas-job-info-table td:nth-child(4) {  text-align: left;  font-size: 14px;  font-weight: 400;  width: 12%;}.canvas-job-task-header {  height: 40px;  padding-left: 20px;  padding-right: 20px;}.canvas-job-timeline-header {  width: 100%;  background-color: #c5c5c5;  height: 40px;}.canvas-job-timeline-title {  padding-top: 6px;  padding-left: 20px;  background-color: #c5c5c5;  font-size: 20px;  height: 40px;  width: 50%;  font-weight: 300;  float: left;  color: #fff;}.canvas-job-timeline-status {  text-align: right;  padding-top: 10px;  padding-left: 15px;  padding-right: 15px;  background-color: #d8d8d8;  color: #fff;  float: right;  height: 40px;  font-size: 16px;  font-weight: 300;  max-width: 240px;  min-width: 160px;}.canvas-ps-dashboard {  background-color: #fff;  color: #000;}table.canvas-ps-list-table {  padding-left:50px;  padding-right: 50px;  width: 100%;  background-color: #fff;}table.canvas-ps-list-table tr{  padding-top: 10px;  height: 40px;  width: 100%;}table.canvas-ps-list-table tr:nth-child(even) {  background-color : #f9f9f9;}table.canvas-ps-list-table th {  padding-top : 15px;  padding-bottom : 5px;  color : #000;  font-size : 16px;  font-weight : 500;  text-align : left;  height: 50px;}table.canvas-ps-list-table th:nth-child(1) {  padding-left: 40px;  text-align: left;  width: 40%;}table.canvas-ps-list-table th:nth-child(2) {  text-align: left;  width: 40%;  padding-left: 20px;}table.canvas-ps-list-table th:nth-child(3) {  text-align: left;  width: 20%;  padding-left: 20px;}table.canvas-ps-list-table td {  color : #000;  font-size : 15px;  font-weight : 400;  text-align : left;  height : 40px;}table.canvas-ps-list-table td:nth-child(1) {  text-align: left;  padding-left: 40px;  width: 40%;  padding-top : 8px;  padding-bottom : 5px;  border-right : 2px solid #eeeeee;}table.canvas-ps-list-table td:nth-child(2) {  text-align: left;  width: 40%;  padding-left: 20px;  padding-top : 8px;  padding-bottom : 5px;  border-right : 2px solid #eeeeee;}table.canvas-ps-list-table td:nth-child(3) {  text-align: left;  width: 20%;  padding-left: 20px;  padding-top : 8px;  padding-bottom : 5px;}.canvas-ps-list-title {  margin-top: 5px;  margin-left: 20px;  font-size : 26px;  font-weight: 300;  padding-left: 20px;  padding-bottom: 5px;  color: #0a8cc4;}.canvas-ps-metrics-container {  padding-top: 20px;  padding-right: 55px;  float: right;  color: #ff5500;  font-size: 14px;  font-weight: 400;}.canvas-ps-info-container {  min-height: 238px;  margin-bottom: 15px;}table.canvas-ps-info-table {  margin-left: 20px;  margin-right: 30px;  margin-top: 5px;}table.canvas-ps-info-table tr{  padding-top: 10px;  height: 30px;}table.canvas-ps-info-table td:nth-child(1) {  padding-left: 20px;  font-weight: 300;  font-size: 17px;  vertical-align: top;}table.canvas-ps-info-table td:nth-child(2) {  width: 20px;  text-align: center;  font-size: 17px;  vertical-align: top;}table.canvas-ps-info-table td:nth-child(3) {  padding-left: 10px;  text-align: left;  font-size: 16px;  font-weight: 400;  vertical-align: top;}.canvas-ps-deployed-objects {  margin-bottom: 30px;}.canvas-ps-deployed-title {  margin-top: 5px;  font-size : 18px;  font-weight: 400;  padding-bottom: 5px;  padding-left: 20px;  padding-bottom: 5px;  color: #2e2e2e;}table.canvas-ps-deployed-table {  min-width: 700px;}table.canvas-ps-deployed-table tr{  padding-top: 10px;  padding-left: 20px;  height: 40px;  width: 100%;}table.canvas-ps-deployed-table tr:nth-child(even) {  background-color : #f9f9f9;}table.canvas-ps-deployed-table th:nth-child(1) {  padding-left: 20px;  width: 80%;  font-size: 16px;  font-weight: 400;}table.canvas-ps-deployed-table th:nth-child(2) {  padding-left: 20px;  width: 20%;  font-size: 16px;  font-weight: 400;}table.canvas-ps-deployed-table td:nth-child(1) {  padding-left: 20px;  width: 80%;  font-size: 15px;  font-weight: 400;  border-right : 2px solid #eeeeee;}table.canvas-ps-deployed-table td:nth-child(2) {  padding-left: 20px;  width: 20%;  font-size: 15px;  font-weight: 400;}table.canvas-ps-pending-table {  min-width: 700px;}table.canvas-ps-pending-table tr{  padding-top: 10px;  padding-left: 20px;  height: 40px;  width: 100%;}table.canvas-ps-pending-table tr:nth-child(even) {  background-color : #f9f9f9;}table.canvas-ps-pending-table th:nth-child(1) {  padding-left: 20px;  width: 60%;  font-size: 16px;  font-weight: 400;}table.canvas-ps-pending-table th:nth-child(2) {  padding-left: 20px;  width: 20%;  font-size: 16px;  font-weight: 400;}table.canvas-ps-pending-table th:nth-child(3) {  padding-left: 20px;  width: 20%;  font-size: 16px;  font-weight: 400;}table.canvas-ps-pending-table td:nth-child(1) {  padding-left: 20px;  width: 60%;  font-size: 15px;  font-weight: 400;  border-right : 2px solid #eeeeee;}table.canvas-ps-pending-table td:nth-child(2) {  width: 20%;  padding-left: 20px;  font-size: 15px;  font-weight: 400;  border-right : 2px solid #eeeeee;}table.canvas-ps-pending-table td:nth-child(3) {  width: 20%;  padding-left: 20px;  font-size: 15px;  font-weight: 400;}.canvas-ps-tab {  height : 40px;  text-align : center;  margin-left : 40px;  font-weight : 450;  clear : both;  min-width: 360px;}.canvas-ps-tab-element {  padding-top : 8px;  width : 180px;  height : 40px;  color : #000;  float : left;  cursor : pointer;  text-align: center;  font-size: 15px;  font-weight: 400;  margin-right: -1px;  border-left : 1px solid #dedede;  border-top : 1px solid #dedede;  border-right : 1px solid #dedede;}.canvas-ps-wrapper {  border-left : 1px solid #dedede;  border-top : 1px solid #dedede;  border-right : 1px solid #dedede;  border-bottom : 1px solid #dedede;  margin-left : 40px;  padding-right : 25px;  margin-right : 50px;  padding-left : 25px;  padding-right : 25px;  min-width : 800px;  padding-top : 25px;  padding-bottom : 35px;  margin-top : -1px;   margin-bottom: 10px;}.canvas-ps-query-dropdown {  -webkit-border-radius: 0;  -moz-border-radius: 0;  border-radius: 0;}.canvas-ps-query-model-name {  font-size: 18px;  font-weight: 300;}.canvas-ps-query-model-bar {  font-size: 18px;  font-weight: 300;  color: #fff;  padding-left: 15px;  padding-top: 5px;  height: 35px;  background-color: #c5c5c5;  width:100%;  -webkit-border-radius: 0;  -moz-border-radius: 0;  border-radius: 0;}.canvas-ps-query-textarea-input {  width: 100%;  overflow: auto;  resize: none;  -webkit-border-radius: 0;  -moz-border-radius: 0;  border-radius: 0;}.canvas-ps-query-textarea-result {  width: 100%;  height: 334px;  overflow: auto;  background-color: #f5f5f5;}.canvas-ps-query-area-wrapper {  width: 100%;}.canvas-ps-query-error {  clear: both;  font-size: 12px;  font-weight: 500;  color: #B80000;  height: 10px;  margin-bottom: 15px;  margin-top: -10px;}.canvas-link {  color: #0a8cc4;  text-decoration: underline;}.canvas-link:hover,focus {  color: #ff5500;}.canvas-link.active {  color: #ff5500;}\"));\n",
        "            document.head.appendChild(s);\n",
        "        \n",
        "\n",
        "                require.config({\n",
        "                    'paths': {\"react\": \"//fb.me/react-with-addons-0.11.1.min\", \"topojson\": \"//d3js.org/topojson.v1.min\", \"vega\": \"//trifacta.github.io/vega/vega.min\", \"bowser\": \"//www.javascriptoo.com/application/html/js/ded/bowser/bowser.min\", \"dagre\": \"//cpettitt.github.io/project/dagre/v0.4.6/dagre.min\", \"d3\": \"//d3js.org/d3.v3.min\"}\n",
        "                });\n",
        "\n",
        "                // figure out whether we are in IPython Notebook or HTML output\n",
        "                // in the case of HTML output (nbconvert) we need to output to our own <script>\n",
        "                // tag's parent element. In the case of a real IPython Notebook we\n",
        "                // can use the provided \"element\" variable.\n",
        "                var e = null;\n",
        "                if (typeof element == 'undefined') {\n",
        "                    var scripts = document.getElementsByTagName('script');\n",
        "                    var thisScriptTag = scripts[scripts.length-1];\n",
        "                    var parentDiv = thisScriptTag.parentNode;\n",
        "                    e = document.createElement('div');\n",
        "                    parentDiv.appendChild(e);\n",
        "                } else {\n",
        "                    e = element[0];\n",
        "                }\n",
        "\n",
        "                require(['react', 'sarray'], function(React, Component) {React.renderComponent(Component.Categorical({\"ipython\": true, \"sketch\": {\"complete\": true, \"numeric\": false, \"num_unique\": 60, \"num_undefined\": 0, \"progress\": 1.0, \"frequent_items\": {\"El Mirage\": {\"frequency\": 47, \"value\": \"El Mirage\"}, \"Gila Bend\": {\"frequency\": 65, \"value\": \"Gila Bend\"}, \"Coolidge\": {\"frequency\": 25, \"value\": \"Coolidge\"}, \"Maricopa\": {\"frequency\": 139, \"value\": \"Maricopa\"}, \"Anthem\": {\"frequency\": 279, \"value\": \"Anthem\"}, \"Fort McDowell\": {\"frequency\": 68, \"value\": \"Fort McDowell\"}, \"Goldfield\": {\"frequency\": 37, \"value\": \"Goldfield\"}, \"Guadalupe\": {\"frequency\": 48, \"value\": \"Guadalupe\"}, \"Morristown\": {\"frequency\": 24, \"value\": \"Morristown\"}, \"Wickenburg\": {\"frequency\": 135, \"value\": \"Wickenburg\"}, \"Surprise\": {\"frequency\": 1078, \"value\": \"Surprise\"}, \"Gilbert\": {\"frequency\": 4704, \"value\": \"Gilbert\"}, \"Goodyear\": {\"frequency\": 892, \"value\": \"Goodyear\"}, \"Chandler\": {\"frequency\": 11228, \"value\": \"Chandler\"}, \"Youngtown\": {\"frequency\": 19, \"value\": \"Youngtown\"}, \"Higley\": {\"frequency\": 25, \"value\": \"Higley\"}, \"Phoenix\": {\"frequency\": 72543, \"value\": \"Phoenix\"}, \"Peoria\": {\"frequency\": 2078, \"value\": \"Peoria\"}, \"Apache Junction\": {\"frequency\": 209, \"value\": \"Apache Junction\"}, \"Scottsdale\": {\"frequency\": 38786, \"value\": \"Scottsdale\"}, \"North Scottsdale\": {\"frequency\": 46, \"value\": \"North Scottsdale\"}, \"Queen Creek\": {\"frequency\": 538, \"value\": \"Queen Creek\"}, \"Sun Lakes\": {\"frequency\": 25, \"value\": \"Sun Lakes\"}, \"Tortilla Flat\": {\"frequency\": 33, \"value\": \"Tortilla Flat\"}, \"Mesa\": {\"frequency\": 8106, \"value\": \"Mesa\"}, \"Fountain Hills\": {\"frequency\": 313, \"value\": \"Fountain Hills\"}, \"Laveen\": {\"frequency\": 107, \"value\": \"Laveen\"}, \"Ahwatukee\": {\"frequency\": 97, \"value\": \"Ahwatukee\"}, \"Carefree\": {\"frequency\": 218, \"value\": \"Carefree\"}, \"Paradise Valley\": {\"frequency\": 921, \"value\": \"Paradise Valley\"}, \"Gold Canyon\": {\"frequency\": 63, \"value\": \"Gold Canyon\"}, \"Sun City West\": {\"frequency\": 42, \"value\": \"Sun City West\"}, \"Glendale\": {\"frequency\": 5853, \"value\": \"Glendale\"}, \"Fountain Hls\": {\"frequency\": 27, \"value\": \"Fountain Hls\"}, \"Avondale\": {\"frequency\": 1032, \"value\": \"Avondale\"}, \"Tempe\": {\"frequency\": 21329, \"value\": \"Tempe\"}, \"Litchfield Park\": {\"frequency\": 214, \"value\": \"Litchfield Park\"}, \"Tolleson\": {\"frequency\": 140, \"value\": \"Tolleson\"}, \"Cave Creek\": {\"frequency\": 611, \"value\": \"Cave Creek\"}, \"San Tan Valley\": {\"frequency\": 38, \"value\": \"San Tan Valley\"}, \"Sun City\": {\"frequency\": 152, \"value\": \"Sun City\"}, \"Waddell\": {\"frequency\": 22, \"value\": \"Waddell\"}, \"Buckeye\": {\"frequency\": 173, \"value\": \"Buckeye\"}, \"Casa Grande\": {\"frequency\": 232, \"value\": \"Casa Grande\"}, \"Florence\": {\"frequency\": 44, \"value\": \"Florence\"}}, \"size\": 172891}, \"selected_variable\": {\"view_file\": \"sarray\", \"view_components\": [\"Categorical\"], \"descriptives\": {\"rows\": 172891}, \"dtype\": \"str\", \"type\": \"SArray\", \"view_component\": \"Categorical\", \"name\": [\"<temporary SArray>\"]}}), e);});\n",
        "            })();\n",
        "        "
       ],
       "metadata": {},
       "output_type": "pyout",
       "prompt_number": 5,
       "text": [
        "<IPython.core.display.Javascript at 0x112d16090>"
       ]
      }
     ],
     "prompt_number": 5
    },
    {
     "cell_type": "markdown",
     "metadata": {},
     "source": [
      "We see there are about 60 unique strings for the **city** (the number of unique values is approximate in the GraphLab Sketch). The regression module in GraphLab Create uses **simple encoding** while training models using string features. Simple encoding compares each category to an arbitrary reference category (we choose the first category the data as the reference). [This article](http://www.ats.ucla.edu/stat/sas/webbooks/reg/chapter5/sasreg5.htm) provides more details about simple encoding for regression models."
     ]
    },
    {
     "cell_type": "markdown",
     "metadata": {},
     "source": [
      "In our [Introduction to Regression](intro-regression.html) notebook, we used the following numerical features:\n",
      "\n",
      "* Average rating of a given business\n",
      "* Average rating made by a user\n",
      "* Number of reviews made by a user\n",
      "* Number of reviews that concern a business\n",
      "\n",
      "Now we can easiliy add the **city** feature to the model."
     ]
    },
    {
     "cell_type": "code",
     "collapsed": false,
     "input": [
      "model = gl.linear_regression.create(train_set, target='stars', \n",
      "                                    features = ['user_avg_stars','business_avg_stars', \n",
      "                                                'user_review_count', 'business_review_count', \n",
      "                                                'city'])"
     ],
     "language": "python",
     "metadata": {},
     "outputs": [
      {
       "html": [
        "<pre>PROGRESS: Linear regression:</pre>"
       ],
       "metadata": {},
       "output_type": "display_data",
       "text": [
        "PROGRESS: Linear regression:"
       ]
      },
      {
       "html": [
        "<pre>PROGRESS: --------------------------------------------------------</pre>"
       ],
       "metadata": {},
       "output_type": "display_data",
       "text": [
        "PROGRESS: --------------------------------------------------------"
       ]
      },
      {
       "html": [
        "<pre>PROGRESS: Number of examples          : 172891</pre>"
       ],
       "metadata": {},
       "output_type": "display_data",
       "text": [
        "PROGRESS: Number of examples          : 172891"
       ]
      },
      {
       "html": [
        "<pre>PROGRESS: Number of features          : 5</pre>"
       ],
       "metadata": {},
       "output_type": "display_data",
       "text": [
        "PROGRESS: Number of features          : 5"
       ]
      },
      {
       "html": [
        "<pre>PROGRESS: Number of unpacked features : 5</pre>"
       ],
       "metadata": {},
       "output_type": "display_data",
       "text": [
        "PROGRESS: Number of unpacked features : 5"
       ]
      },
      {
       "html": [
        "<pre>PROGRESS: Number of coefficients    : 64</pre>"
       ],
       "metadata": {},
       "output_type": "display_data",
       "text": [
        "PROGRESS: Number of coefficients    : 64"
       ]
      },
      {
       "html": [
        "<pre>PROGRESS: Starting Newton Method \n",
        "--------------------------------------------------------</pre>"
       ],
       "metadata": {},
       "output_type": "display_data",
       "text": [
        "PROGRESS: Starting Newton Method \n",
        "--------------------------------------------------------"
       ]
      },
      {
       "html": [
        "<pre>PROGRESS:   Iter   Grad-Norm        Loss   Step size Elapsed time</pre>"
       ],
       "metadata": {},
       "output_type": "display_data",
       "text": [
        "PROGRESS:   Iter   Grad-Norm        Loss   Step size Elapsed time"
       ]
      },
      {
       "html": [
        "<pre>PROGRESS:      0   1.320e+06   2.718e+06   1.000e+00        0.23s</pre>"
       ],
       "metadata": {},
       "output_type": "display_data",
       "text": [
        "PROGRESS:      0   1.320e+06   2.718e+06   1.000e+00        0.23s"
       ]
      },
      {
       "html": [
        "<pre>PROGRESS:      1   2.341e-07   1.626e+05   1.000e+00        0.61s</pre>"
       ],
       "metadata": {},
       "output_type": "display_data",
       "text": [
        "PROGRESS:      1   2.341e-07   1.626e+05   1.000e+00        0.61s"
       ]
      }
     ],
     "prompt_number": 6
    },
    {
     "cell_type": "markdown",
     "metadata": {},
     "source": [
      "Notice that the **number of coefficients** and the **number of features** aren't the same. We add *dummy coefficients* to encode each category. The number of these dummy coefficients is equal to the total number of categories minus 1 (for the reference category). In this example, there are 60 unique cities, so 59 dummy coefficients.\n",
      "\n",
      "Let us see how well the model performed:"
     ]
    },
    {
     "cell_type": "code",
     "collapsed": false,
     "input": [
      "model.evaluate(test_set)"
     ],
     "language": "python",
     "metadata": {},
     "outputs": [
      {
       "metadata": {},
       "output_type": "pyout",
       "prompt_number": 7,
       "text": [
        "{'max_error': 3.9683273918029727, 'rmse': 0.9743805710894579}"
       ]
      }
     ],
     "prompt_number": 7
    },
    {
     "cell_type": "markdown",
     "metadata": {},
     "source": [
      "On average, our predicted rating was about 1 star away from the true rating but there were some corner cases which were off by almost 4 stars. Let's inspect the model to get more insight:"
     ]
    },
    {
     "cell_type": "code",
     "collapsed": false,
     "input": [
      "model.summary()"
     ],
     "language": "python",
     "metadata": {},
     "outputs": [
      {
       "output_type": "stream",
       "stream": "stdout",
       "text": [
        "\n",
        "                    Model summary                       \n",
        "--------------------------------------------------------\n",
        "Class                         : LinearRegression\n",
        "Number of coefficients        : 64\n",
        "Number of examples            : 172891\n",
        "Number of feature columns     : 5\n",
        "Number of unpacked features   : 5\n",
        "\n",
        "L1 penalty                    : 0.0\n",
        "L2 penalty                    : 0.01\n",
        "\n",
        "Solver                        : auto\n",
        "Solver iterations             : 1\n",
        "Solver status                 : SUCCESS: Optimal solution found.\n",
        "Training time (sec)           : 0.6087\n",
        "\n",
        "Residual sum of squares       : 162601.7648\n",
        "Training RMSE                 : 0.9698\n"
       ]
      },
      {
       "output_type": "stream",
       "stream": "stdout",
       "text": [
        "\n",
        "             Strongest positive coefficients            \n",
        "--------------------------------------------------------\n",
        "+--------------------+-----------------+----------------+\n",
        "|        name        |      index      |     value      |\n",
        "+--------------------+-----------------+----------------+\n",
        "|   user_avg_stars   |       None      | 0.812774044844 |\n",
        "| business_avg_stars |       None      | 0.778146171329 |\n",
        "|        city        | Sun City Anthem | 0.412285933054 |\n",
        "|        city        |   Glendale Az   | 0.400089077243 |\n",
        "|        city        |   North Pinal   | 0.367299572146 |\n",
        "|        city        |    Good Year    | 0.365927407468 |\n",
        "+--------------------+-----------------+----------------+\n",
        "[6 rows x 3 columns]\n"
       ]
      },
      {
       "output_type": "stream",
       "stream": "stdout",
       "text": [
        "\n",
        "             Strongest negative coefficients            \n",
        "--------------------------------------------------------\n",
        "+-------------+-----------+-----------------+\n",
        "|     name    |   index   |      value      |\n",
        "+-------------+-----------+-----------------+\n",
        "| (intercept) |    None   |  -2.23301598139 |\n",
        "|     city    | Stanfield | -0.452942072919 |\n",
        "|     city    |  Florence |  -0.17229683052 |\n",
        "|     city    | Youngtown | -0.158079235094 |\n",
        "|     city    | Ahwatukee | -0.152393941543 |\n",
        "+-------------+-----------+-----------------+\n",
        "[5 rows x 3 columns]\n"
       ]
      },
      {
       "output_type": "stream",
       "stream": "stdout",
       "text": [
        "\n"
       ]
      }
     ],
     "prompt_number": 8
    },
    {
     "cell_type": "markdown",
     "metadata": {},
     "source": [
      "The coefficients for the categorical variables indicate the strength of the association between a category and the rating. In this example, we learn that restauraunts in Wittman, AZ and Florence, SC are likely to have worse ratings in comparison with Good Year, AZ and Grand Junction, CO, holding the other features constant.\n",
      "\n",
      "[Wikipedia](http://en.wikipedia.org/wiki/Grand_Junction,_Colorado) claims Grand Junction, CO was number six in [Outdoor Life's](http://en.wikipedia.org/wiki/Outdoor_Life) 2012 list of the 35 Best Hunting and Fishing Towns in the US. I am definitely planning my next vacation to Grand Junction. "
     ]
    },
    {
     "cell_type": "heading",
     "level": 2,
     "metadata": {},
     "source": [
      "Categorical Features at Scale"
     ]
    },
    {
     "cell_type": "markdown",
     "metadata": {},
     "source": [
      "GraphLab Create is built to scale. It can handle categorical variables with **millions** of categories, which we illustrate now by adding the **user-id** and **business-id** variables to our model.\n",
      "\n",
      "Notice that we omit the city as a feature because the business ID uniquely identifies the city. Removing this redundant information not only improves our ability to interpret the model, it makes the model [mathematically tractable](http://en.wikipedia.org/wiki/Multicollinearity). "
     ]
    },
    {
     "cell_type": "code",
     "collapsed": false,
     "input": [
      "model = gl.linear_regression.create(train_set, target='stars', \n",
      "                                    features = ['user_id','business_id',\n",
      "                                                'user_avg_stars','business_avg_stars'],\n",
      "                                    max_iterations=10)"
     ],
     "language": "python",
     "metadata": {},
     "outputs": [
      {
       "html": [
        "<pre>PROGRESS: Linear regression:</pre>"
       ],
       "metadata": {},
       "output_type": "display_data",
       "text": [
        "PROGRESS: Linear regression:"
       ]
      },
      {
       "html": [
        "<pre>PROGRESS: --------------------------------------------------------</pre>"
       ],
       "metadata": {},
       "output_type": "display_data",
       "text": [
        "PROGRESS: --------------------------------------------------------"
       ]
      },
      {
       "html": [
        "<pre>PROGRESS: Number of examples          : 172891</pre>"
       ],
       "metadata": {},
       "output_type": "display_data",
       "text": [
        "PROGRESS: Number of examples          : 172891"
       ]
      },
      {
       "html": [
        "<pre>PROGRESS: Number of features          : 4</pre>"
       ],
       "metadata": {},
       "output_type": "display_data",
       "text": [
        "PROGRESS: Number of features          : 4"
       ]
      },
      {
       "html": [
        "<pre>PROGRESS: Number of unpacked features : 4</pre>"
       ],
       "metadata": {},
       "output_type": "display_data",
       "text": [
        "PROGRESS: Number of unpacked features : 4"
       ]
      },
      {
       "html": [
        "<pre>PROGRESS: Number of coefficients    : 50649</pre>"
       ],
       "metadata": {},
       "output_type": "display_data",
       "text": [
        "PROGRESS: Number of coefficients    : 50649"
       ]
      },
      {
       "html": [
        "<pre>PROGRESS: Starting L-BFGS \n",
        "--------------------------------------------------------</pre>"
       ],
       "metadata": {},
       "output_type": "display_data",
       "text": [
        "PROGRESS: Starting L-BFGS \n",
        "--------------------------------------------------------"
       ]
      },
      {
       "html": [
        "<pre>PROGRESS:   Iter   Grad-Norm        Loss   Step size Elapsed time</pre>"
       ],
       "metadata": {},
       "output_type": "display_data",
       "text": [
        "PROGRESS:   Iter   Grad-Norm        Loss   Step size Elapsed time"
       ]
      },
      {
       "html": [
        "<pre>PROGRESS:      0   1.320e+06   2.718e+06   1.000e-06        0.43s</pre>"
       ],
       "metadata": {},
       "output_type": "display_data",
       "text": [
        "PROGRESS:      0   1.320e+06   2.718e+06   1.000e-06        0.43s"
       ]
      },
      {
       "html": [
        "<pre>PROGRESS:      1   1.922e+05   2.262e+05   1.000e+00        1.81s</pre>"
       ],
       "metadata": {},
       "output_type": "display_data",
       "text": [
        "PROGRESS:      1   1.922e+05   2.262e+05   1.000e+00        1.81s"
       ]
      },
      {
       "html": [
        "<pre>PROGRESS:      2   1.119e+04   1.543e+05   1.000e+00        2.46s</pre>"
       ],
       "metadata": {},
       "output_type": "display_data",
       "text": [
        "PROGRESS:      2   1.119e+04   1.543e+05   1.000e+00        2.46s"
       ]
      },
      {
       "html": [
        "<pre>PROGRESS:      3   2.731e+04   1.402e+05   1.000e+00        2.63s</pre>"
       ],
       "metadata": {},
       "output_type": "display_data",
       "text": [
        "PROGRESS:      3   2.731e+04   1.402e+05   1.000e+00        2.63s"
       ]
      },
      {
       "html": [
        "<pre>PROGRESS:      4   8.137e+04   1.335e+05   1.000e+00        2.80s</pre>"
       ],
       "metadata": {},
       "output_type": "display_data",
       "text": [
        "PROGRESS:      4   8.137e+04   1.335e+05   1.000e+00        2.80s"
       ]
      },
      {
       "html": [
        "<pre>PROGRESS:      5   1.329e+04   1.226e+05   1.000e+00        2.93s</pre>"
       ],
       "metadata": {},
       "output_type": "display_data",
       "text": [
        "PROGRESS:      5   1.329e+04   1.226e+05   1.000e+00        2.93s"
       ]
      },
      {
       "html": [
        "<pre>PROGRESS:      6   4.485e+03   1.219e+05   1.000e+00        3.15s</pre>"
       ],
       "metadata": {},
       "output_type": "display_data",
       "text": [
        "PROGRESS:      6   4.485e+03   1.219e+05   1.000e+00        3.15s"
       ]
      },
      {
       "html": [
        "<pre>PROGRESS:      7   6.818e+03   1.209e+05   1.000e+00        3.41s</pre>"
       ],
       "metadata": {},
       "output_type": "display_data",
       "text": [
        "PROGRESS:      7   6.818e+03   1.209e+05   1.000e+00        3.41s"
       ]
      },
      {
       "html": [
        "<pre>PROGRESS:      8   5.022e+03   1.203e+05   1.000e+00        3.58s</pre>"
       ],
       "metadata": {},
       "output_type": "display_data",
       "text": [
        "PROGRESS:      8   5.022e+03   1.203e+05   1.000e+00        3.58s"
       ]
      },
      {
       "html": [
        "<pre>PROGRESS:      9   8.788e+02   1.200e+05   1.000e+00        3.76s</pre>"
       ],
       "metadata": {},
       "output_type": "display_data",
       "text": [
        "PROGRESS:      9   8.788e+02   1.200e+05   1.000e+00        3.76s"
       ]
      },
      {
       "html": [
        "<pre>PROGRESS:     10   7.062e+02   1.199e+05   1.000e+00        3.97s</pre>"
       ],
       "metadata": {},
       "output_type": "display_data",
       "text": [
        "PROGRESS:     10   7.062e+02   1.199e+05   1.000e+00        3.97s"
       ]
      }
     ],
     "prompt_number": 9
    },
    {
     "cell_type": "markdown",
     "metadata": {},
     "source": [
      "We didn't have any trouble training the model with **over 50K terms in the model**. In fact, GraphLab Create can work with millions of features and billions of examples.\n",
      "\n",
      "Note, however, that the Solver status is now **TERMINATED: Iteration limit reached**. In the previous model, the solver reached the best possible solution in only one pass over the data, but in this case it reached the default stopping point of 10 iterations without finding the optimal solution. We can increase the iteration limit with the  [max_iterations](http://graphlab.com/products/create/docs/generated/graphlab.logistic_regression.create.html#graphlab.logistic_regression.create) option. With 100 iterations, the results do look slightly different."
     ]
    },
    {
     "cell_type": "code",
     "collapsed": false,
     "input": [
      "model = gl.linear_regression.create(train_set, target='stars', \n",
      "                                    features = ['user_id','business_id',\n",
      "                                                'user_avg_stars','business_avg_stars'],\n",
      "                                    max_iterations=100)"
     ],
     "language": "python",
     "metadata": {},
     "outputs": [
      {
       "html": [
        "<pre>PROGRESS: Linear regression:</pre>"
       ],
       "metadata": {},
       "output_type": "display_data",
       "text": [
        "PROGRESS: Linear regression:"
       ]
      },
      {
       "html": [
        "<pre>PROGRESS: --------------------------------------------------------</pre>"
       ],
       "metadata": {},
       "output_type": "display_data",
       "text": [
        "PROGRESS: --------------------------------------------------------"
       ]
      },
      {
       "html": [
        "<pre>PROGRESS: Number of examples          : 172891</pre>"
       ],
       "metadata": {},
       "output_type": "display_data",
       "text": [
        "PROGRESS: Number of examples          : 172891"
       ]
      },
      {
       "html": [
        "<pre>PROGRESS: Number of features          : 4</pre>"
       ],
       "metadata": {},
       "output_type": "display_data",
       "text": [
        "PROGRESS: Number of features          : 4"
       ]
      },
      {
       "html": [
        "<pre>PROGRESS: Number of unpacked features : 4</pre>"
       ],
       "metadata": {},
       "output_type": "display_data",
       "text": [
        "PROGRESS: Number of unpacked features : 4"
       ]
      },
      {
       "html": [
        "<pre>PROGRESS: Number of coefficients    : 50649</pre>"
       ],
       "metadata": {},
       "output_type": "display_data",
       "text": [
        "PROGRESS: Number of coefficients    : 50649"
       ]
      },
      {
       "html": [
        "<pre>PROGRESS: Starting L-BFGS \n",
        "--------------------------------------------------------</pre>"
       ],
       "metadata": {},
       "output_type": "display_data",
       "text": [
        "PROGRESS: Starting L-BFGS \n",
        "--------------------------------------------------------"
       ]
      },
      {
       "html": [
        "<pre>PROGRESS:   Iter   Grad-Norm        Loss   Step size Elapsed time</pre>"
       ],
       "metadata": {},
       "output_type": "display_data",
       "text": [
        "PROGRESS:   Iter   Grad-Norm        Loss   Step size Elapsed time"
       ]
      },
      {
       "html": [
        "<pre>PROGRESS:      0   1.320e+06   2.718e+06   1.000e-06        0.13s</pre>"
       ],
       "metadata": {},
       "output_type": "display_data",
       "text": [
        "PROGRESS:      0   1.320e+06   2.718e+06   1.000e-06        0.13s"
       ]
      },
      {
       "html": [
        "<pre>PROGRESS:      1   1.922e+05   2.262e+05   1.000e+00        0.44s</pre>"
       ],
       "metadata": {},
       "output_type": "display_data",
       "text": [
        "PROGRESS:      1   1.922e+05   2.262e+05   1.000e+00        0.44s"
       ]
      },
      {
       "html": [
        "<pre>PROGRESS:      2   1.119e+04   1.543e+05   1.000e+00        0.78s</pre>"
       ],
       "metadata": {},
       "output_type": "display_data",
       "text": [
        "PROGRESS:      2   1.119e+04   1.543e+05   1.000e+00        0.78s"
       ]
      },
      {
       "html": [
        "<pre>PROGRESS:      3   2.731e+04   1.402e+05   1.000e+00        0.93s</pre>"
       ],
       "metadata": {},
       "output_type": "display_data",
       "text": [
        "PROGRESS:      3   2.731e+04   1.402e+05   1.000e+00        0.93s"
       ]
      },
      {
       "html": [
        "<pre>PROGRESS:      4   8.137e+04   1.335e+05   1.000e+00        1.08s</pre>"
       ],
       "metadata": {},
       "output_type": "display_data",
       "text": [
        "PROGRESS:      4   8.137e+04   1.335e+05   1.000e+00        1.08s"
       ]
      },
      {
       "html": [
        "<pre>PROGRESS:      5   1.329e+04   1.226e+05   1.000e+00        1.23s</pre>"
       ],
       "metadata": {},
       "output_type": "display_data",
       "text": [
        "PROGRESS:      5   1.329e+04   1.226e+05   1.000e+00        1.23s"
       ]
      },
      {
       "html": [
        "<pre>PROGRESS:      6   4.485e+03   1.219e+05   1.000e+00        1.53s</pre>"
       ],
       "metadata": {},
       "output_type": "display_data",
       "text": [
        "PROGRESS:      6   4.485e+03   1.219e+05   1.000e+00        1.53s"
       ]
      },
      {
       "html": [
        "<pre>PROGRESS:      7   6.818e+03   1.209e+05   1.000e+00        1.73s</pre>"
       ],
       "metadata": {},
       "output_type": "display_data",
       "text": [
        "PROGRESS:      7   6.818e+03   1.209e+05   1.000e+00        1.73s"
       ]
      },
      {
       "html": [
        "<pre>PROGRESS:      8   5.022e+03   1.203e+05   1.000e+00        1.92s</pre>"
       ],
       "metadata": {},
       "output_type": "display_data",
       "text": [
        "PROGRESS:      8   5.022e+03   1.203e+05   1.000e+00        1.92s"
       ]
      },
      {
       "html": [
        "<pre>PROGRESS:      9   8.788e+02   1.200e+05   1.000e+00        2.09s</pre>"
       ],
       "metadata": {},
       "output_type": "display_data",
       "text": [
        "PROGRESS:      9   8.788e+02   1.200e+05   1.000e+00        2.09s"
       ]
      },
      {
       "html": [
        "<pre>PROGRESS:     10   7.062e+02   1.199e+05   1.000e+00        2.32s</pre>"
       ],
       "metadata": {},
       "output_type": "display_data",
       "text": [
        "PROGRESS:     10   7.062e+02   1.199e+05   1.000e+00        2.32s"
       ]
      },
      {
       "html": [
        "<pre>PROGRESS:     11   2.465e+02   1.199e+05   1.000e+00        2.54s</pre>"
       ],
       "metadata": {},
       "output_type": "display_data",
       "text": [
        "PROGRESS:     11   2.465e+02   1.199e+05   1.000e+00        2.54s"
       ]
      },
      {
       "html": [
        "<pre>PROGRESS:     12   3.555e+02   1.198e+05   1.000e+00        2.74s</pre>"
       ],
       "metadata": {},
       "output_type": "display_data",
       "text": [
        "PROGRESS:     12   3.555e+02   1.198e+05   1.000e+00        2.74s"
       ]
      },
      {
       "html": [
        "<pre>PROGRESS:     13   5.415e+02   1.198e+05   1.000e+00        2.94s</pre>"
       ],
       "metadata": {},
       "output_type": "display_data",
       "text": [
        "PROGRESS:     13   5.415e+02   1.198e+05   1.000e+00        2.94s"
       ]
      },
      {
       "html": [
        "<pre>PROGRESS:     14   1.297e+02   1.198e+05   1.000e+00        3.13s</pre>"
       ],
       "metadata": {},
       "output_type": "display_data",
       "text": [
        "PROGRESS:     14   1.297e+02   1.198e+05   1.000e+00        3.13s"
       ]
      },
      {
       "html": [
        "<pre>PROGRESS:     15   1.277e+02   1.198e+05   1.000e+00        3.36s</pre>"
       ],
       "metadata": {},
       "output_type": "display_data",
       "text": [
        "PROGRESS:     15   1.277e+02   1.198e+05   1.000e+00        3.36s"
       ]
      },
      {
       "html": [
        "<pre>PROGRESS:     16   1.783e+02   1.198e+05   1.000e+00        3.56s</pre>"
       ],
       "metadata": {},
       "output_type": "display_data",
       "text": [
        "PROGRESS:     16   1.783e+02   1.198e+05   1.000e+00        3.56s"
       ]
      },
      {
       "html": [
        "<pre>PROGRESS:     17   1.334e+03   1.198e+05   1.000e+00        3.77s</pre>"
       ],
       "metadata": {},
       "output_type": "display_data",
       "text": [
        "PROGRESS:     17   1.334e+03   1.198e+05   1.000e+00        3.77s"
       ]
      },
      {
       "html": [
        "<pre>PROGRESS:     18   1.364e+02   1.198e+05   1.000e+00        4.18s</pre>"
       ],
       "metadata": {},
       "output_type": "display_data",
       "text": [
        "PROGRESS:     18   1.364e+02   1.198e+05   1.000e+00        4.18s"
       ]
      },
      {
       "html": [
        "<pre>PROGRESS:     19   5.434e+01   1.198e+05   1.000e+00        4.44s</pre>"
       ],
       "metadata": {},
       "output_type": "display_data",
       "text": [
        "PROGRESS:     19   5.434e+01   1.198e+05   1.000e+00        4.44s"
       ]
      },
      {
       "html": [
        "<pre>PROGRESS:     20   2.511e+02   1.198e+05   1.000e+00        4.63s</pre>"
       ],
       "metadata": {},
       "output_type": "display_data",
       "text": [
        "PROGRESS:     20   2.511e+02   1.198e+05   1.000e+00        4.63s"
       ]
      },
      {
       "html": [
        "<pre>PROGRESS:     21   3.892e+02   1.198e+05   1.000e+00        4.80s</pre>"
       ],
       "metadata": {},
       "output_type": "display_data",
       "text": [
        "PROGRESS:     21   3.892e+02   1.198e+05   1.000e+00        4.80s"
       ]
      },
      {
       "html": [
        "<pre>PROGRESS:     22   2.807e+01   1.198e+05   1.000e+00        4.99s</pre>"
       ],
       "metadata": {},
       "output_type": "display_data",
       "text": [
        "PROGRESS:     22   2.807e+01   1.198e+05   1.000e+00        4.99s"
       ]
      },
      {
       "html": [
        "<pre>PROGRESS:     23   1.051e+02   1.198e+05   1.000e+00        5.30s</pre>"
       ],
       "metadata": {},
       "output_type": "display_data",
       "text": [
        "PROGRESS:     23   1.051e+02   1.198e+05   1.000e+00        5.30s"
       ]
      },
      {
       "html": [
        "<pre>PROGRESS:     24   1.180e+02   1.198e+05   1.000e+00        5.50s</pre>"
       ],
       "metadata": {},
       "output_type": "display_data",
       "text": [
        "PROGRESS:     24   1.180e+02   1.198e+05   1.000e+00        5.50s"
       ]
      },
      {
       "html": [
        "<pre>PROGRESS:     25   1.850e+02   1.198e+05   1.000e+00        5.69s</pre>"
       ],
       "metadata": {},
       "output_type": "display_data",
       "text": [
        "PROGRESS:     25   1.850e+02   1.198e+05   1.000e+00        5.69s"
       ]
      },
      {
       "html": [
        "<pre>PROGRESS:     26   3.822e+02   1.198e+05   1.000e+00        5.88s</pre>"
       ],
       "metadata": {},
       "output_type": "display_data",
       "text": [
        "PROGRESS:     26   3.822e+02   1.198e+05   1.000e+00        5.88s"
       ]
      },
      {
       "html": [
        "<pre>PROGRESS:     27   1.853e+02   1.198e+05   1.000e+00        6.06s</pre>"
       ],
       "metadata": {},
       "output_type": "display_data",
       "text": [
        "PROGRESS:     27   1.853e+02   1.198e+05   1.000e+00        6.06s"
       ]
      },
      {
       "html": [
        "<pre>PROGRESS:     28   1.973e+02   1.198e+05   1.000e+00        6.34s</pre>"
       ],
       "metadata": {},
       "output_type": "display_data",
       "text": [
        "PROGRESS:     28   1.973e+02   1.198e+05   1.000e+00        6.34s"
       ]
      },
      {
       "html": [
        "<pre>PROGRESS:     29   2.509e+02   1.198e+05   1.000e+00        6.56s</pre>"
       ],
       "metadata": {},
       "output_type": "display_data",
       "text": [
        "PROGRESS:     29   2.509e+02   1.198e+05   1.000e+00        6.56s"
       ]
      },
      {
       "html": [
        "<pre>PROGRESS:     30   2.415e+03   1.198e+05   1.000e+00        6.77s</pre>"
       ],
       "metadata": {},
       "output_type": "display_data",
       "text": [
        "PROGRESS:     30   2.415e+03   1.198e+05   1.000e+00        6.77s"
       ]
      },
      {
       "html": [
        "<pre>PROGRESS:     31   3.856e+02   1.197e+05   1.000e+00        7.17s</pre>"
       ],
       "metadata": {},
       "output_type": "display_data",
       "text": [
        "PROGRESS:     31   3.856e+02   1.197e+05   1.000e+00        7.17s"
       ]
      },
      {
       "html": [
        "<pre>PROGRESS:     32   3.653e+02   1.197e+05   1.000e+00        7.96s</pre>"
       ],
       "metadata": {},
       "output_type": "display_data",
       "text": [
        "PROGRESS:     32   3.653e+02   1.197e+05   1.000e+00        7.96s"
       ]
      },
      {
       "html": [
        "<pre>PROGRESS:     33   3.632e+02   1.197e+05   1.000e+00        8.82s</pre>"
       ],
       "metadata": {},
       "output_type": "display_data",
       "text": [
        "PROGRESS:     33   3.632e+02   1.197e+05   1.000e+00        8.82s"
       ]
      },
      {
       "html": [
        "<pre>PROGRESS:     34   9.218e+02   1.197e+05   1.000e+00        9.66s</pre>"
       ],
       "metadata": {},
       "output_type": "display_data",
       "text": [
        "PROGRESS:     34   9.218e+02   1.197e+05   1.000e+00        9.66s"
       ]
      },
      {
       "html": [
        "<pre>PROGRESS:     35   1.920e+03   1.197e+05   1.000e+00       10.50s</pre>"
       ],
       "metadata": {},
       "output_type": "display_data",
       "text": [
        "PROGRESS:     35   1.920e+03   1.197e+05   1.000e+00       10.50s"
       ]
      },
      {
       "html": [
        "<pre>PROGRESS:     36   2.993e+02   1.197e+05   1.000e+00       12.03s</pre>"
       ],
       "metadata": {},
       "output_type": "display_data",
       "text": [
        "PROGRESS:     36   2.993e+02   1.197e+05   1.000e+00       12.03s"
       ]
      },
      {
       "html": [
        "<pre>PROGRESS:     37   2.709e+02   1.197e+05   1.000e+00       12.24s</pre>"
       ],
       "metadata": {},
       "output_type": "display_data",
       "text": [
        "PROGRESS:     37   2.709e+02   1.197e+05   1.000e+00       12.24s"
       ]
      },
      {
       "html": [
        "<pre>PROGRESS:     38   5.245e+02   1.197e+05   1.000e+00       12.46s</pre>"
       ],
       "metadata": {},
       "output_type": "display_data",
       "text": [
        "PROGRESS:     38   5.245e+02   1.197e+05   1.000e+00       12.46s"
       ]
      },
      {
       "html": [
        "<pre>PROGRESS:     39   5.703e+02   1.197e+05   1.000e+00       12.82s</pre>"
       ],
       "metadata": {},
       "output_type": "display_data",
       "text": [
        "PROGRESS:     39   5.703e+02   1.197e+05   1.000e+00       12.82s"
       ]
      },
      {
       "html": [
        "<pre>PROGRESS:     40   1.367e+02   1.197e+05   1.000e+00       13.24s</pre>"
       ],
       "metadata": {},
       "output_type": "display_data",
       "text": [
        "PROGRESS:     40   1.367e+02   1.197e+05   1.000e+00       13.24s"
       ]
      },
      {
       "html": [
        "<pre>PROGRESS:     41   1.302e+02   1.197e+05   1.000e+00       13.47s</pre>"
       ],
       "metadata": {},
       "output_type": "display_data",
       "text": [
        "PROGRESS:     41   1.302e+02   1.197e+05   1.000e+00       13.47s"
       ]
      },
      {
       "html": [
        "<pre>PROGRESS:     42   1.294e+02   1.197e+05   1.000e+00       13.67s</pre>"
       ],
       "metadata": {},
       "output_type": "display_data",
       "text": [
        "PROGRESS:     42   1.294e+02   1.197e+05   1.000e+00       13.67s"
       ]
      },
      {
       "html": [
        "<pre>PROGRESS:     43   8.932e+01   1.197e+05   1.000e+00       13.99s</pre>"
       ],
       "metadata": {},
       "output_type": "display_data",
       "text": [
        "PROGRESS:     43   8.932e+01   1.197e+05   1.000e+00       13.99s"
       ]
      },
      {
       "html": [
        "<pre>PROGRESS:     44   8.556e+01   1.197e+05   1.000e+00       14.18s</pre>"
       ],
       "metadata": {},
       "output_type": "display_data",
       "text": [
        "PROGRESS:     44   8.556e+01   1.197e+05   1.000e+00       14.18s"
       ]
      },
      {
       "html": [
        "<pre>PROGRESS:     45   7.511e+01   1.197e+05   1.000e+00       14.37s</pre>"
       ],
       "metadata": {},
       "output_type": "display_data",
       "text": [
        "PROGRESS:     45   7.511e+01   1.197e+05   1.000e+00       14.37s"
       ]
      },
      {
       "html": [
        "<pre>PROGRESS:     46   1.546e+02   1.197e+05   1.000e+00       14.58s</pre>"
       ],
       "metadata": {},
       "output_type": "display_data",
       "text": [
        "PROGRESS:     46   1.546e+02   1.197e+05   1.000e+00       14.58s"
       ]
      },
      {
       "html": [
        "<pre>PROGRESS:     47   2.219e+01   1.197e+05   1.000e+00       14.85s</pre>"
       ],
       "metadata": {},
       "output_type": "display_data",
       "text": [
        "PROGRESS:     47   2.219e+01   1.197e+05   1.000e+00       14.85s"
       ]
      },
      {
       "html": [
        "<pre>PROGRESS:     48   9.459e+01   1.197e+05   1.000e+00       15.04s</pre>"
       ],
       "metadata": {},
       "output_type": "display_data",
       "text": [
        "PROGRESS:     48   9.459e+01   1.197e+05   1.000e+00       15.04s"
       ]
      },
      {
       "html": [
        "<pre>PROGRESS:     49   1.855e+01   1.197e+05   1.000e+00       15.22s</pre>"
       ],
       "metadata": {},
       "output_type": "display_data",
       "text": [
        "PROGRESS:     49   1.855e+01   1.197e+05   1.000e+00       15.22s"
       ]
      },
      {
       "html": [
        "<pre>PROGRESS:     50   1.645e+01   1.197e+05   1.000e+00       15.45s</pre>"
       ],
       "metadata": {},
       "output_type": "display_data",
       "text": [
        "PROGRESS:     50   1.645e+01   1.197e+05   1.000e+00       15.45s"
       ]
      },
      {
       "html": [
        "<pre>PROGRESS:     51   3.434e+01   1.197e+05   1.000e+00       15.72s</pre>"
       ],
       "metadata": {},
       "output_type": "display_data",
       "text": [
        "PROGRESS:     51   3.434e+01   1.197e+05   1.000e+00       15.72s"
       ]
      },
      {
       "html": [
        "<pre>PROGRESS:     52   4.965e+01   1.197e+05   1.000e+00       16.04s</pre>"
       ],
       "metadata": {},
       "output_type": "display_data",
       "text": [
        "PROGRESS:     52   4.965e+01   1.197e+05   1.000e+00       16.04s"
       ]
      },
      {
       "html": [
        "<pre>PROGRESS:     53   6.786e+01   1.197e+05   1.000e+00       16.25s</pre>"
       ],
       "metadata": {},
       "output_type": "display_data",
       "text": [
        "PROGRESS:     53   6.786e+01   1.197e+05   1.000e+00       16.25s"
       ]
      },
      {
       "html": [
        "<pre>PROGRESS:     54   6.621e+01   1.197e+05   1.000e+00       16.43s</pre>"
       ],
       "metadata": {},
       "output_type": "display_data",
       "text": [
        "PROGRESS:     54   6.621e+01   1.197e+05   1.000e+00       16.43s"
       ]
      },
      {
       "html": [
        "<pre>PROGRESS:     55   3.183e+01   1.197e+05   1.000e+00       16.64s</pre>"
       ],
       "metadata": {},
       "output_type": "display_data",
       "text": [
        "PROGRESS:     55   3.183e+01   1.197e+05   1.000e+00       16.64s"
       ]
      },
      {
       "html": [
        "<pre>PROGRESS:     56   3.967e+01   1.197e+05   1.000e+00       17.05s</pre>"
       ],
       "metadata": {},
       "output_type": "display_data",
       "text": [
        "PROGRESS:     56   3.967e+01   1.197e+05   1.000e+00       17.05s"
       ]
      },
      {
       "html": [
        "<pre>PROGRESS:     57   1.170e+02   1.197e+05   1.000e+00       17.29s</pre>"
       ],
       "metadata": {},
       "output_type": "display_data",
       "text": [
        "PROGRESS:     57   1.170e+02   1.197e+05   1.000e+00       17.29s"
       ]
      },
      {
       "html": [
        "<pre>PROGRESS:     58   2.159e+02   1.196e+05   1.000e+00       17.49s</pre>"
       ],
       "metadata": {},
       "output_type": "display_data",
       "text": [
        "PROGRESS:     58   2.159e+02   1.196e+05   1.000e+00       17.49s"
       ]
      },
      {
       "html": [
        "<pre>PROGRESS:     59   8.615e+01   1.196e+05   1.000e+00       17.70s</pre>"
       ],
       "metadata": {},
       "output_type": "display_data",
       "text": [
        "PROGRESS:     59   8.615e+01   1.196e+05   1.000e+00       17.70s"
       ]
      },
      {
       "html": [
        "<pre>PROGRESS:     60   1.068e+02   1.196e+05   1.000e+00       17.93s</pre>"
       ],
       "metadata": {},
       "output_type": "display_data",
       "text": [
        "PROGRESS:     60   1.068e+02   1.196e+05   1.000e+00       17.93s"
       ]
      },
      {
       "html": [
        "<pre>PROGRESS:     61   8.667e+02   1.196e+05   1.000e+00       18.13s</pre>"
       ],
       "metadata": {},
       "output_type": "display_data",
       "text": [
        "PROGRESS:     61   8.667e+02   1.196e+05   1.000e+00       18.13s"
       ]
      },
      {
       "html": [
        "<pre>PROGRESS:     62   1.491e+02   1.196e+05   1.000e+00       19.10s</pre>"
       ],
       "metadata": {},
       "output_type": "display_data",
       "text": [
        "PROGRESS:     62   1.491e+02   1.196e+05   1.000e+00       19.10s"
       ]
      },
      {
       "html": [
        "<pre>PROGRESS:     63   2.232e+02   1.196e+05   1.000e+00       20.05s</pre>"
       ],
       "metadata": {},
       "output_type": "display_data",
       "text": [
        "PROGRESS:     63   2.232e+02   1.196e+05   1.000e+00       20.05s"
       ]
      },
      {
       "html": [
        "<pre>PROGRESS:     64   1.822e+02   1.196e+05   1.000e+00       20.99s</pre>"
       ],
       "metadata": {},
       "output_type": "display_data",
       "text": [
        "PROGRESS:     64   1.822e+02   1.196e+05   1.000e+00       20.99s"
       ]
      },
      {
       "html": [
        "<pre>PROGRESS:     65   1.965e+02   1.196e+05   1.000e+00       21.96s</pre>"
       ],
       "metadata": {},
       "output_type": "display_data",
       "text": [
        "PROGRESS:     65   1.965e+02   1.196e+05   1.000e+00       21.96s"
       ]
      },
      {
       "html": [
        "<pre>PROGRESS:     66   4.773e+02   1.196e+05   1.000e+00       22.86s</pre>"
       ],
       "metadata": {},
       "output_type": "display_data",
       "text": [
        "PROGRESS:     66   4.773e+02   1.196e+05   1.000e+00       22.86s"
       ]
      },
      {
       "html": [
        "<pre>PROGRESS:     67   2.003e+02   1.196e+05   1.000e+00       23.49s</pre>"
       ],
       "metadata": {},
       "output_type": "display_data",
       "text": [
        "PROGRESS:     67   2.003e+02   1.196e+05   1.000e+00       23.49s"
       ]
      },
      {
       "html": [
        "<pre>PROGRESS:     68   1.346e+02   1.196e+05   1.000e+00       23.73s</pre>"
       ],
       "metadata": {},
       "output_type": "display_data",
       "text": [
        "PROGRESS:     68   1.346e+02   1.196e+05   1.000e+00       23.73s"
       ]
      },
      {
       "html": [
        "<pre>PROGRESS:     69   1.382e+02   1.196e+05   1.000e+00       24.02s</pre>"
       ],
       "metadata": {},
       "output_type": "display_data",
       "text": [
        "PROGRESS:     69   1.382e+02   1.196e+05   1.000e+00       24.02s"
       ]
      },
      {
       "html": [
        "<pre>PROGRESS:     70   4.254e+02   1.196e+05   1.000e+00       24.24s</pre>"
       ],
       "metadata": {},
       "output_type": "display_data",
       "text": [
        "PROGRESS:     70   4.254e+02   1.196e+05   1.000e+00       24.24s"
       ]
      },
      {
       "html": [
        "<pre>PROGRESS:     71   1.995e+02   1.196e+05   1.000e+00       24.46s</pre>"
       ],
       "metadata": {},
       "output_type": "display_data",
       "text": [
        "PROGRESS:     71   1.995e+02   1.196e+05   1.000e+00       24.46s"
       ]
      },
      {
       "html": [
        "<pre>PROGRESS:     72   1.218e+02   1.196e+05   1.000e+00       24.67s</pre>"
       ],
       "metadata": {},
       "output_type": "display_data",
       "text": [
        "PROGRESS:     72   1.218e+02   1.196e+05   1.000e+00       24.67s"
       ]
      },
      {
       "html": [
        "<pre>PROGRESS:     73   8.832e+01   1.196e+05   1.000e+00       24.89s</pre>"
       ],
       "metadata": {},
       "output_type": "display_data",
       "text": [
        "PROGRESS:     73   8.832e+01   1.196e+05   1.000e+00       24.89s"
       ]
      },
      {
       "html": [
        "<pre>PROGRESS:     74   8.307e+01   1.196e+05   1.000e+00       25.09s</pre>"
       ],
       "metadata": {},
       "output_type": "display_data",
       "text": [
        "PROGRESS:     74   8.307e+01   1.196e+05   1.000e+00       25.09s"
       ]
      },
      {
       "html": [
        "<pre>PROGRESS:     75   3.113e+02   1.196e+05   1.000e+00       25.29s</pre>"
       ],
       "metadata": {},
       "output_type": "display_data",
       "text": [
        "PROGRESS:     75   3.113e+02   1.196e+05   1.000e+00       25.29s"
       ]
      },
      {
       "html": [
        "<pre>PROGRESS:     76   2.309e+02   1.196e+05   1.000e+00       25.61s</pre>"
       ],
       "metadata": {},
       "output_type": "display_data",
       "text": [
        "PROGRESS:     76   2.309e+02   1.196e+05   1.000e+00       25.61s"
       ]
      },
      {
       "html": [
        "<pre>PROGRESS:     77   4.198e+01   1.196e+05   1.000e+00       25.84s</pre>"
       ],
       "metadata": {},
       "output_type": "display_data",
       "text": [
        "PROGRESS:     77   4.198e+01   1.196e+05   1.000e+00       25.84s"
       ]
      },
      {
       "html": [
        "<pre>PROGRESS:     78   3.678e+01   1.196e+05   1.000e+00       26.14s</pre>"
       ],
       "metadata": {},
       "output_type": "display_data",
       "text": [
        "PROGRESS:     78   3.678e+01   1.196e+05   1.000e+00       26.14s"
       ]
      },
      {
       "html": [
        "<pre>PROGRESS:     79   7.209e+01   1.196e+05   1.000e+00       26.33s</pre>"
       ],
       "metadata": {},
       "output_type": "display_data",
       "text": [
        "PROGRESS:     79   7.209e+01   1.196e+05   1.000e+00       26.33s"
       ]
      },
      {
       "html": [
        "<pre>PROGRESS:     80   6.304e+01   1.196e+05   1.000e+00       26.49s</pre>"
       ],
       "metadata": {},
       "output_type": "display_data",
       "text": [
        "PROGRESS:     80   6.304e+01   1.196e+05   1.000e+00       26.49s"
       ]
      },
      {
       "html": [
        "<pre>PROGRESS:     81   9.245e+01   1.196e+05   1.000e+00       26.65s</pre>"
       ],
       "metadata": {},
       "output_type": "display_data",
       "text": [
        "PROGRESS:     81   9.245e+01   1.196e+05   1.000e+00       26.65s"
       ]
      },
      {
       "html": [
        "<pre>PROGRESS:     82   1.359e+02   1.196e+05   1.000e+00       26.81s</pre>"
       ],
       "metadata": {},
       "output_type": "display_data",
       "text": [
        "PROGRESS:     82   1.359e+02   1.196e+05   1.000e+00       26.81s"
       ]
      },
      {
       "html": [
        "<pre>PROGRESS:     83   1.037e+02   1.196e+05   1.000e+00       26.97s</pre>"
       ],
       "metadata": {},
       "output_type": "display_data",
       "text": [
        "PROGRESS:     83   1.037e+02   1.196e+05   1.000e+00       26.97s"
       ]
      },
      {
       "html": [
        "<pre>PROGRESS:     84   4.698e+01   1.196e+05   1.000e+00       27.13s</pre>"
       ],
       "metadata": {},
       "output_type": "display_data",
       "text": [
        "PROGRESS:     84   4.698e+01   1.196e+05   1.000e+00       27.13s"
       ]
      },
      {
       "html": [
        "<pre>PROGRESS:     85   7.219e+01   1.196e+05   1.000e+00       27.30s</pre>"
       ],
       "metadata": {},
       "output_type": "display_data",
       "text": [
        "PROGRESS:     85   7.219e+01   1.196e+05   1.000e+00       27.30s"
       ]
      },
      {
       "html": [
        "<pre>PROGRESS:     86   8.145e+01   1.196e+05   1.000e+00       27.45s</pre>"
       ],
       "metadata": {},
       "output_type": "display_data",
       "text": [
        "PROGRESS:     86   8.145e+01   1.196e+05   1.000e+00       27.45s"
       ]
      },
      {
       "html": [
        "<pre>PROGRESS:     87   1.229e+02   1.196e+05   1.000e+00       27.66s</pre>"
       ],
       "metadata": {},
       "output_type": "display_data",
       "text": [
        "PROGRESS:     87   1.229e+02   1.196e+05   1.000e+00       27.66s"
       ]
      },
      {
       "html": [
        "<pre>PROGRESS:     88   5.903e+01   1.196e+05   1.000e+00       27.86s</pre>"
       ],
       "metadata": {},
       "output_type": "display_data",
       "text": [
        "PROGRESS:     88   5.903e+01   1.196e+05   1.000e+00       27.86s"
       ]
      },
      {
       "html": [
        "<pre>PROGRESS:     89   5.338e+01   1.196e+05   1.000e+00       28.02s</pre>"
       ],
       "metadata": {},
       "output_type": "display_data",
       "text": [
        "PROGRESS:     89   5.338e+01   1.196e+05   1.000e+00       28.02s"
       ]
      },
      {
       "html": [
        "<pre>PROGRESS:     90   5.767e+01   1.196e+05   1.000e+00       28.17s</pre>"
       ],
       "metadata": {},
       "output_type": "display_data",
       "text": [
        "PROGRESS:     90   5.767e+01   1.196e+05   1.000e+00       28.17s"
       ]
      },
      {
       "html": [
        "<pre>PROGRESS:     91   5.434e+01   1.196e+05   1.000e+00       28.38s</pre>"
       ],
       "metadata": {},
       "output_type": "display_data",
       "text": [
        "PROGRESS:     91   5.434e+01   1.196e+05   1.000e+00       28.38s"
       ]
      },
      {
       "html": [
        "<pre>PROGRESS:     92   5.782e+01   1.196e+05   1.000e+00       28.73s</pre>"
       ],
       "metadata": {},
       "output_type": "display_data",
       "text": [
        "PROGRESS:     92   5.782e+01   1.196e+05   1.000e+00       28.73s"
       ]
      },
      {
       "html": [
        "<pre>PROGRESS:     93   9.842e+01   1.196e+05   1.000e+00       28.92s</pre>"
       ],
       "metadata": {},
       "output_type": "display_data",
       "text": [
        "PROGRESS:     93   9.842e+01   1.196e+05   1.000e+00       28.92s"
       ]
      },
      {
       "html": [
        "<pre>PROGRESS:     94   4.266e+01   1.196e+05   1.000e+00       29.43s</pre>"
       ],
       "metadata": {},
       "output_type": "display_data",
       "text": [
        "PROGRESS:     94   4.266e+01   1.196e+05   1.000e+00       29.43s"
       ]
      },
      {
       "html": [
        "<pre>PROGRESS:     95   3.667e+01   1.196e+05   1.000e+00       29.66s</pre>"
       ],
       "metadata": {},
       "output_type": "display_data",
       "text": [
        "PROGRESS:     95   3.667e+01   1.196e+05   1.000e+00       29.66s"
       ]
      },
      {
       "html": [
        "<pre>PROGRESS:     96   2.680e+01   1.196e+05   1.000e+00       29.86s</pre>"
       ],
       "metadata": {},
       "output_type": "display_data",
       "text": [
        "PROGRESS:     96   2.680e+01   1.196e+05   1.000e+00       29.86s"
       ]
      },
      {
       "html": [
        "<pre>PROGRESS:     97   1.113e+02   1.196e+05   1.000e+00       30.21s</pre>"
       ],
       "metadata": {},
       "output_type": "display_data",
       "text": [
        "PROGRESS:     97   1.113e+02   1.196e+05   1.000e+00       30.21s"
       ]
      },
      {
       "html": [
        "<pre>PROGRESS:     98   3.652e+01   1.196e+05   1.000e+00       30.50s</pre>"
       ],
       "metadata": {},
       "output_type": "display_data",
       "text": [
        "PROGRESS:     98   3.652e+01   1.196e+05   1.000e+00       30.50s"
       ]
      },
      {
       "html": [
        "<pre>PROGRESS:     99   1.446e+01   1.196e+05   1.000e+00       31.42s</pre>"
       ],
       "metadata": {},
       "output_type": "display_data",
       "text": [
        "PROGRESS:     99   1.446e+01   1.196e+05   1.000e+00       31.42s"
       ]
      },
      {
       "html": [
        "<pre>PROGRESS:    100   1.317e+01   1.196e+05   1.000e+00       32.35s</pre>"
       ],
       "metadata": {},
       "output_type": "display_data",
       "text": [
        "PROGRESS:    100   1.317e+01   1.196e+05   1.000e+00       32.35s"
       ]
      }
     ],
     "prompt_number": 10
    },
    {
     "cell_type": "heading",
     "level": 2,
     "metadata": {},
     "source": [
      "Dictionary and List Features"
     ]
    },
    {
     "cell_type": "markdown",
     "metadata": {},
     "source": [
      "GraphLab Create can also handle dictionary features without any manual pre-processing. The Yelp reviews have information on the number of **funny**, **useful**, or **cool** votes received by each review. These tallies are stored in the dataset in the form of dictionaries, one per review."
     ]
    },
    {
     "cell_type": "code",
     "collapsed": false,
     "input": [
      "train_set['votes'].head(3)"
     ],
     "language": "python",
     "metadata": {},
     "outputs": [
      {
       "metadata": {},
       "output_type": "pyout",
       "prompt_number": 12,
       "text": [
        "dtype: dict\n",
        "Rows: 3\n",
        "[{'funny': 0, 'useful': 5, 'cool': 2}, {'funny': 0, 'useful': 0, 'cool': 0}, {'funny': 0, 'useful': 1, 'cool': 0}]"
       ]
      }
     ],
     "prompt_number": 12
    },
    {
     "cell_type": "markdown",
     "metadata": {},
     "source": [
      "We can use these dictionaries to create a linear regression model without manual data munging. Each key in a dictionary feature is treated as a separate term in the model."
     ]
    },
    {
     "cell_type": "code",
     "collapsed": false,
     "input": [
      "model = gl.linear_regression.create(train_set, target='stars', \n",
      "                                    features = ['user_id','business_id',\n",
      "                                                'user_avg_stars','votes', 'business_avg_stars'])"
     ],
     "language": "python",
     "metadata": {},
     "outputs": [
      {
       "html": [
        "<pre>PROGRESS: Linear regression:</pre>"
       ],
       "metadata": {},
       "output_type": "display_data",
       "text": [
        "PROGRESS: Linear regression:"
       ]
      },
      {
       "html": [
        "<pre>PROGRESS: --------------------------------------------------------</pre>"
       ],
       "metadata": {},
       "output_type": "display_data",
       "text": [
        "PROGRESS: --------------------------------------------------------"
       ]
      },
      {
       "html": [
        "<pre>PROGRESS: Number of examples          : 172785</pre>"
       ],
       "metadata": {},
       "output_type": "display_data",
       "text": [
        "PROGRESS: Number of examples          : 172785"
       ]
      },
      {
       "html": [
        "<pre>PROGRESS: Number of features          : 5</pre>"
       ],
       "metadata": {},
       "output_type": "display_data",
       "text": [
        "PROGRESS: Number of features          : 5"
       ]
      },
      {
       "html": [
        "<pre>PROGRESS: Number of unpacked features : 7</pre>"
       ],
       "metadata": {},
       "output_type": "display_data",
       "text": [
        "PROGRESS: Number of unpacked features : 7"
       ]
      },
      {
       "html": [
        "<pre>PROGRESS: Number of coefficients    : 50624</pre>"
       ],
       "metadata": {},
       "output_type": "display_data",
       "text": [
        "PROGRESS: Number of coefficients    : 50624"
       ]
      },
      {
       "html": [
        "<pre>PROGRESS: Starting L-BFGS \n",
        "--------------------------------------------------------</pre>"
       ],
       "metadata": {},
       "output_type": "display_data",
       "text": [
        "PROGRESS: Starting L-BFGS \n",
        "--------------------------------------------------------"
       ]
      },
      {
       "html": [
        "<pre>PROGRESS:   Iter   Grad-Norm        Loss   Step size Elapsed time</pre>"
       ],
       "metadata": {},
       "output_type": "display_data",
       "text": [
        "PROGRESS:   Iter   Grad-Norm        Loss   Step size Elapsed time"
       ]
      },
      {
       "html": [
        "<pre>PROGRESS:      0   1.319e+06   2.716e+06   1.000e-06        0.07s</pre>"
       ],
       "metadata": {},
       "output_type": "display_data",
       "text": [
        "PROGRESS:      0   1.319e+06   2.716e+06   1.000e-06        0.07s"
       ]
      },
      {
       "html": [
        "<pre>PROGRESS:      1   1.997e+05   2.718e+05   1.000e+00        0.23s</pre>"
       ],
       "metadata": {},
       "output_type": "display_data",
       "text": [
        "PROGRESS:      1   1.997e+05   2.718e+05   1.000e+00        0.23s"
       ]
      },
      {
       "html": [
        "<pre>PROGRESS:      2   1.209e+05   1.897e+05   1.000e+00        0.37s</pre>"
       ],
       "metadata": {},
       "output_type": "display_data",
       "text": [
        "PROGRESS:      2   1.209e+05   1.897e+05   1.000e+00        0.37s"
       ]
      },
      {
       "html": [
        "<pre>PROGRESS:      3   3.908e+04   1.337e+05   1.000e+00        0.45s</pre>"
       ],
       "metadata": {},
       "output_type": "display_data",
       "text": [
        "PROGRESS:      3   3.908e+04   1.337e+05   1.000e+00        0.45s"
       ]
      },
      {
       "html": [
        "<pre>PROGRESS:      4   4.261e+04   1.281e+05   1.000e+00        0.53s</pre>"
       ],
       "metadata": {},
       "output_type": "display_data",
       "text": [
        "PROGRESS:      4   4.261e+04   1.281e+05   1.000e+00        0.53s"
       ]
      },
      {
       "html": [
        "<pre>PROGRESS:      5   1.446e+04   1.243e+05   1.000e+00        0.62s</pre>"
       ],
       "metadata": {},
       "output_type": "display_data",
       "text": [
        "PROGRESS:      5   1.446e+04   1.243e+05   1.000e+00        0.62s"
       ]
      },
      {
       "html": [
        "<pre>PROGRESS:      6   1.001e+04   1.222e+05   1.000e+00        0.72s</pre>"
       ],
       "metadata": {},
       "output_type": "display_data",
       "text": [
        "PROGRESS:      6   1.001e+04   1.222e+05   1.000e+00        0.72s"
       ]
      },
      {
       "html": [
        "<pre>PROGRESS:      7   1.191e+04   1.208e+05   1.000e+00        0.79s</pre>"
       ],
       "metadata": {},
       "output_type": "display_data",
       "text": [
        "PROGRESS:      7   1.191e+04   1.208e+05   1.000e+00        0.79s"
       ]
      },
      {
       "html": [
        "<pre>PROGRESS:      8   6.725e+03   1.180e+05   1.000e+00        0.87s</pre>"
       ],
       "metadata": {},
       "output_type": "display_data",
       "text": [
        "PROGRESS:      8   6.725e+03   1.180e+05   1.000e+00        0.87s"
       ]
      },
      {
       "html": [
        "<pre>PROGRESS:      9   5.419e+03   1.172e+05   1.000e+00        0.96s</pre>"
       ],
       "metadata": {},
       "output_type": "display_data",
       "text": [
        "PROGRESS:      9   5.419e+03   1.172e+05   1.000e+00        0.96s"
       ]
      },
      {
       "html": [
        "<pre>PROGRESS:     10   4.749e+03   1.166e+05   1.000e+00        1.04s</pre>"
       ],
       "metadata": {},
       "output_type": "display_data",
       "text": [
        "PROGRESS:     10   4.749e+03   1.166e+05   1.000e+00        1.04s"
       ]
      }
     ],
     "prompt_number": 13
    },
    {
     "cell_type": "markdown",
     "metadata": {},
     "source": [
      "Our model tells us that, all else equal:\n",
      "\n",
      "* Reviews with more **cool** votes are more likely to be positive.\n",
      "* Reviews with more **funny** votes are more likely to be negative.\n",
      "* Reviews with more **useful** votes are more likely to be negative."
     ]
    },
    {
     "cell_type": "markdown",
     "metadata": {},
     "source": [
      "GraphLab Create can also handle list features without preprocessing. As an illustration, suppose the values of the **votes** dictionary variable had instead been stored in a list. We can use the SArray [apply](http://graphlab.com/products/create/docs/generated/graphlab.SArray.apply.html#graphlab.SArray.apply) function to simulate this situation."
     ]
    },
    {
     "cell_type": "code",
     "collapsed": false,
     "input": [
      "train_set['votes_list'] = train_set['votes'].apply(lambda x: x.values())\n",
      "train_set['votes_list'].head(3)"
     ],
     "language": "python",
     "metadata": {},
     "outputs": [
      {
       "metadata": {},
       "output_type": "pyout",
       "prompt_number": 14,
       "text": [
        "dtype: array\n",
        "Rows: 3\n",
        "[array('d', [0.0, 5.0, 2.0]), array('d', [0.0, 0.0, 0.0]), array('d', [0.0, 1.0, 0.0])]"
       ]
      }
     ],
     "prompt_number": 14
    },
    {
     "cell_type": "markdown",
     "metadata": {},
     "source": [
      "As with the dictionary feature type, each entry of the list is treated as a separate term in the model."
     ]
    },
    {
     "cell_type": "code",
     "collapsed": false,
     "input": [
      "model = gl.linear_regression.create(train_set, target='stars', \n",
      "                                    features = ['user_id','business_id',\n",
      "                                                'user_avg_stars','votes_list', 'business_avg_stars'])"
     ],
     "language": "python",
     "metadata": {},
     "outputs": [
      {
       "html": [
        "<pre>PROGRESS: Linear regression:</pre>"
       ],
       "metadata": {},
       "output_type": "display_data",
       "text": [
        "PROGRESS: Linear regression:"
       ]
      },
      {
       "html": [
        "<pre>PROGRESS: --------------------------------------------------------</pre>"
       ],
       "metadata": {},
       "output_type": "display_data",
       "text": [
        "PROGRESS: --------------------------------------------------------"
       ]
      },
      {
       "html": [
        "<pre>PROGRESS: Number of examples          : 172785</pre>"
       ],
       "metadata": {},
       "output_type": "display_data",
       "text": [
        "PROGRESS: Number of examples          : 172785"
       ]
      },
      {
       "html": [
        "<pre>PROGRESS: Number of features          : 5</pre>"
       ],
       "metadata": {},
       "output_type": "display_data",
       "text": [
        "PROGRESS: Number of features          : 5"
       ]
      },
      {
       "html": [
        "<pre>PROGRESS: Number of unpacked features : 7</pre>"
       ],
       "metadata": {},
       "output_type": "display_data",
       "text": [
        "PROGRESS: Number of unpacked features : 7"
       ]
      },
      {
       "html": [
        "<pre>PROGRESS: Number of coefficients    : 50624</pre>"
       ],
       "metadata": {},
       "output_type": "display_data",
       "text": [
        "PROGRESS: Number of coefficients    : 50624"
       ]
      },
      {
       "html": [
        "<pre>PROGRESS: Starting L-BFGS \n",
        "--------------------------------------------------------</pre>"
       ],
       "metadata": {},
       "output_type": "display_data",
       "text": [
        "PROGRESS: Starting L-BFGS \n",
        "--------------------------------------------------------"
       ]
      },
      {
       "html": [
        "<pre>PROGRESS:   Iter   Grad-Norm        Loss   Step size Elapsed time</pre>"
       ],
       "metadata": {},
       "output_type": "display_data",
       "text": [
        "PROGRESS:   Iter   Grad-Norm        Loss   Step size Elapsed time"
       ]
      },
      {
       "html": [
        "<pre>PROGRESS:      0   1.319e+06   2.716e+06   1.000e-06        0.07s</pre>"
       ],
       "metadata": {},
       "output_type": "display_data",
       "text": [
        "PROGRESS:      0   1.319e+06   2.716e+06   1.000e-06        0.07s"
       ]
      },
      {
       "html": [
        "<pre>PROGRESS:      1   1.997e+05   2.718e+05   1.000e+00        0.26s</pre>"
       ],
       "metadata": {},
       "output_type": "display_data",
       "text": [
        "PROGRESS:      1   1.997e+05   2.718e+05   1.000e+00        0.26s"
       ]
      },
      {
       "html": [
        "<pre>PROGRESS:      2   1.209e+05   1.897e+05   1.000e+00        0.38s</pre>"
       ],
       "metadata": {},
       "output_type": "display_data",
       "text": [
        "PROGRESS:      2   1.209e+05   1.897e+05   1.000e+00        0.38s"
       ]
      },
      {
       "html": [
        "<pre>PROGRESS:      3   3.904e+04   1.337e+05   1.000e+00        0.45s</pre>"
       ],
       "metadata": {},
       "output_type": "display_data",
       "text": [
        "PROGRESS:      3   3.904e+04   1.337e+05   1.000e+00        0.45s"
       ]
      },
      {
       "html": [
        "<pre>PROGRESS:      4   4.259e+04   1.281e+05   1.000e+00        0.52s</pre>"
       ],
       "metadata": {},
       "output_type": "display_data",
       "text": [
        "PROGRESS:      4   4.259e+04   1.281e+05   1.000e+00        0.52s"
       ]
      },
      {
       "html": [
        "<pre>PROGRESS:      5   1.446e+04   1.243e+05   1.000e+00        0.59s</pre>"
       ],
       "metadata": {},
       "output_type": "display_data",
       "text": [
        "PROGRESS:      5   1.446e+04   1.243e+05   1.000e+00        0.59s"
       ]
      },
      {
       "html": [
        "<pre>PROGRESS:      6   1.000e+04   1.221e+05   1.000e+00        0.66s</pre>"
       ],
       "metadata": {},
       "output_type": "display_data",
       "text": [
        "PROGRESS:      6   1.000e+04   1.221e+05   1.000e+00        0.66s"
       ]
      },
      {
       "html": [
        "<pre>PROGRESS:      7   1.188e+04   1.208e+05   1.000e+00        0.74s</pre>"
       ],
       "metadata": {},
       "output_type": "display_data",
       "text": [
        "PROGRESS:      7   1.188e+04   1.208e+05   1.000e+00        0.74s"
       ]
      },
      {
       "html": [
        "<pre>PROGRESS:      8   6.748e+03   1.180e+05   1.000e+00        0.81s</pre>"
       ],
       "metadata": {},
       "output_type": "display_data",
       "text": [
        "PROGRESS:      8   6.748e+03   1.180e+05   1.000e+00        0.81s"
       ]
      },
      {
       "html": [
        "<pre>PROGRESS:      9   5.418e+03   1.172e+05   1.000e+00        0.90s</pre>"
       ],
       "metadata": {},
       "output_type": "display_data",
       "text": [
        "PROGRESS:      9   5.418e+03   1.172e+05   1.000e+00        0.90s"
       ]
      },
      {
       "html": [
        "<pre>PROGRESS:     10   4.734e+03   1.166e+05   1.000e+00        0.98s</pre>"
       ],
       "metadata": {},
       "output_type": "display_data",
       "text": [
        "PROGRESS:     10   4.734e+03   1.166e+05   1.000e+00        0.98s"
       ]
      }
     ],
     "prompt_number": 15
    },
    {
     "cell_type": "markdown",
     "metadata": {},
     "source": [
      "The only difference between the model trained using **votes** and **votes_list** is in the annotation of the returned coefficients. For the dictionary feature, we returned **votes_list[cool]** but now we return **votes_list[0]** (for example)."
     ]
    },
    {
     "cell_type": "heading",
     "level": 2,
     "metadata": {},
     "source": [
      "Using Review Category Tags"
     ]
    },
    {
     "cell_type": "markdown",
     "metadata": {},
     "source": [
      "Yelp reviews contain useful **tags** that describe each business. Unlike categorical variables, a business may have several tags. Confusingly, these tags are stored as lists of strings in the **categories** column in our datatset:"
     ]
    },
    {
     "cell_type": "code",
     "collapsed": false,
     "input": [
      "train_set['categories'].head(5)"
     ],
     "language": "python",
     "metadata": {},
     "outputs": [
      {
       "metadata": {},
       "output_type": "pyout",
       "prompt_number": 16,
       "text": [
        "dtype: list\n",
        "Rows: 5\n",
        "[['Breakfast & Brunch', 'Restaurants'], ['Italian', 'Pizza', 'Restaurants'], ['Middle Eastern', 'Restaurants'], ['Active Life', 'Dog Parks', 'Parks'], ['Hotels & Travel', 'Airports']]"
       ]
      }
     ],
     "prompt_number": 16
    },
    {
     "cell_type": "markdown",
     "metadata": {},
     "source": [
      "**Tag data takes a bit of pre-processing**. Let us define a function that converts each list of the form *[tag_1, tag_2, ..., tag_n]* to a dictionary of the form *{tag_1: 1, tag_2: 1,  ..., tag_n: 1}* where the keys are the tags and all values are 1 (indicating that the tag was present). We then apply this to each of the tag lists in our data."
     ]
    },
    {
     "cell_type": "code",
     "collapsed": false,
     "input": [
      "tags_to_dict = lambda tags: dict(zip(tags, [1 for tag in tags]))"
     ],
     "language": "python",
     "metadata": {},
     "outputs": [],
     "prompt_number": 17
    },
    {
     "cell_type": "code",
     "collapsed": false,
     "input": [
      "train_set['categories_dict'] = train_set.apply(lambda row: tags_to_dict(row['categories']))\n",
      "train_set['categories_dict'].head(5)"
     ],
     "language": "python",
     "metadata": {},
     "outputs": [
      {
       "metadata": {},
       "output_type": "pyout",
       "prompt_number": 18,
       "text": [
        "dtype: dict\n",
        "Rows: 5\n",
        "[{'Breakfast & Brunch': 1, 'Restaurants': 1}, {'Restaurants': 1, 'Pizza': 1, 'Italian': 1}, {'Middle Eastern': 1, 'Restaurants': 1}, {'Dog Parks': 1, 'Parks': 1, 'Active Life': 1}, {'Airports': 1, 'Hotels & Travel': 1}]"
       ]
      }
     ],
     "prompt_number": 18
    },
    {
     "cell_type": "markdown",
     "metadata": {},
     "source": [
      "Now we create a linear regression model with the **categories_dict** included in the feature list:"
     ]
    },
    {
     "cell_type": "code",
     "collapsed": false,
     "input": [
      "model = gl.linear_regression.create(train_set, target='stars', \n",
      "                                    features = ['user_id','business_id', 'categories_dict',\n",
      "                                                'user_avg_stars','votes', 'business_avg_stars'])"
     ],
     "language": "python",
     "metadata": {},
     "outputs": [
      {
       "html": [
        "<pre>PROGRESS: Linear regression:</pre>"
       ],
       "metadata": {},
       "output_type": "display_data",
       "text": [
        "PROGRESS: Linear regression:"
       ]
      },
      {
       "html": [
        "<pre>PROGRESS: --------------------------------------------------------</pre>"
       ],
       "metadata": {},
       "output_type": "display_data",
       "text": [
        "PROGRESS: --------------------------------------------------------"
       ]
      },
      {
       "html": [
        "<pre>PROGRESS: Number of examples          : 172785</pre>"
       ],
       "metadata": {},
       "output_type": "display_data",
       "text": [
        "PROGRESS: Number of examples          : 172785"
       ]
      },
      {
       "html": [
        "<pre>PROGRESS: Number of features          : 6</pre>"
       ],
       "metadata": {},
       "output_type": "display_data",
       "text": [
        "PROGRESS: Number of features          : 6"
       ]
      },
      {
       "html": [
        "<pre>PROGRESS: Number of unpacked features : 515</pre>"
       ],
       "metadata": {},
       "output_type": "display_data",
       "text": [
        "PROGRESS: Number of unpacked features : 515"
       ]
      },
      {
       "html": [
        "<pre>PROGRESS: Number of coefficients    : 51132</pre>"
       ],
       "metadata": {},
       "output_type": "display_data",
       "text": [
        "PROGRESS: Number of coefficients    : 51132"
       ]
      },
      {
       "html": [
        "<pre>PROGRESS: Starting L-BFGS \n",
        "--------------------------------------------------------</pre>"
       ],
       "metadata": {},
       "output_type": "display_data",
       "text": [
        "PROGRESS: Starting L-BFGS \n",
        "--------------------------------------------------------"
       ]
      },
      {
       "html": [
        "<pre>PROGRESS:   Iter   Grad-Norm        Loss   Step size Elapsed time</pre>"
       ],
       "metadata": {},
       "output_type": "display_data",
       "text": [
        "PROGRESS:   Iter   Grad-Norm        Loss   Step size Elapsed time"
       ]
      },
      {
       "html": [
        "<pre>PROGRESS:      0   1.319e+06   2.716e+06   1.000e-06        0.08s</pre>"
       ],
       "metadata": {},
       "output_type": "display_data",
       "text": [
        "PROGRESS:      0   1.319e+06   2.716e+06   1.000e-06        0.08s"
       ]
      },
      {
       "html": [
        "<pre>PROGRESS:      1   6.165e+05   9.275e+05   1.000e+00        0.27s</pre>"
       ],
       "metadata": {},
       "output_type": "display_data",
       "text": [
        "PROGRESS:      1   6.165e+05   9.275e+05   1.000e+00        0.27s"
       ]
      },
      {
       "html": [
        "<pre>PROGRESS:      2   1.030e+05   2.260e+05   1.000e+00        0.42s</pre>"
       ],
       "metadata": {},
       "output_type": "display_data",
       "text": [
        "PROGRESS:      2   1.030e+05   2.260e+05   1.000e+00        0.42s"
       ]
      },
      {
       "html": [
        "<pre>PROGRESS:      3   6.699e+04   1.928e+05   1.000e+00        0.50s</pre>"
       ],
       "metadata": {},
       "output_type": "display_data",
       "text": [
        "PROGRESS:      3   6.699e+04   1.928e+05   1.000e+00        0.50s"
       ]
      },
      {
       "html": [
        "<pre>PROGRESS:      4   7.970e+04   1.424e+05   1.000e+00        0.60s</pre>"
       ],
       "metadata": {},
       "output_type": "display_data",
       "text": [
        "PROGRESS:      4   7.970e+04   1.424e+05   1.000e+00        0.60s"
       ]
      },
      {
       "html": [
        "<pre>PROGRESS:      5   8.625e+04   1.426e+05   1.000e+00        0.70s</pre>"
       ],
       "metadata": {},
       "output_type": "display_data",
       "text": [
        "PROGRESS:      5   8.625e+04   1.426e+05   1.000e+00        0.70s"
       ]
      },
      {
       "html": [
        "<pre>PROGRESS:      6   3.087e+04   1.276e+05   1.000e+00        0.91s</pre>"
       ],
       "metadata": {},
       "output_type": "display_data",
       "text": [
        "PROGRESS:      6   3.087e+04   1.276e+05   1.000e+00        0.91s"
       ]
      },
      {
       "html": [
        "<pre>PROGRESS:      7   1.876e+04   1.258e+05   1.000e+00        1.02s</pre>"
       ],
       "metadata": {},
       "output_type": "display_data",
       "text": [
        "PROGRESS:      7   1.876e+04   1.258e+05   1.000e+00        1.02s"
       ]
      },
      {
       "html": [
        "<pre>PROGRESS:      8   1.696e+04   1.227e+05   1.000e+00        1.13s</pre>"
       ],
       "metadata": {},
       "output_type": "display_data",
       "text": [
        "PROGRESS:      8   1.696e+04   1.227e+05   1.000e+00        1.13s"
       ]
      },
      {
       "html": [
        "<pre>PROGRESS:      9   1.441e+04   1.204e+05   1.000e+00        1.22s</pre>"
       ],
       "metadata": {},
       "output_type": "display_data",
       "text": [
        "PROGRESS:      9   1.441e+04   1.204e+05   1.000e+00        1.22s"
       ]
      },
      {
       "html": [
        "<pre>PROGRESS:     10   6.988e+03   1.186e+05   1.000e+00        1.31s</pre>"
       ],
       "metadata": {},
       "output_type": "display_data",
       "text": [
        "PROGRESS:     10   6.988e+03   1.186e+05   1.000e+00        1.31s"
       ]
      }
     ],
     "prompt_number": 19
    },
    {
     "cell_type": "markdown",
     "metadata": {},
     "source": [
      "The model shows the tag **\"Food\"** has a slightly positive association with a business's rating, whereas **\"Restaurants\"** is slightly negatively associated. The influences are really small, so we will ingore them."
     ]
    },
    {
     "cell_type": "heading",
     "level": 2,
     "metadata": {},
     "source": [
      "Text Data: Using Raw Review Data"
     ]
    },
    {
     "cell_type": "markdown",
     "metadata": {},
     "source": [
      "GraphLab Create's SArray has several very useful text processing capabilities. In this section, we apply these to the raw text of Yelp business reviews to improve our linear model's predictions.\n",
      "\n",
      "For this, we use the **count_words** SArray function converts a raw text string into a dictionary where the keys are the words and the values are the word counts. For example, the first review is:"
     ]
    },
    {
     "cell_type": "code",
     "collapsed": false,
     "input": [
      "train_set['text'].head(1)"
     ],
     "language": "python",
     "metadata": {},
     "outputs": [
      {
       "metadata": {},
       "output_type": "pyout",
       "prompt_number": 20,
       "text": [
        "dtype: str\n",
        "Rows: 1\n",
        "['My wife took me here on my birthday for breakfast and it was excellent.  The weather was perfect which made sitting outside overlooking their grounds an absolute pleasure.  Our waitress was excellent and our food arrived quickly on the semi-busy Saturday morning.  It looked like the place fills up pretty quickly so the earlier you get here the better.\\n\\nDo yourself a favor and get their Bloody Mary.  It was phenomenal and simply the best I\\'ve ever had.  I\\'m pretty sure they only use ingredients from their garden and blend them fresh when you order it.  It was amazing.\\n\\nWhile EVERYTHING on the menu looks excellent, I had the white truffle scrambled eggs vegetable skillet and it was tasty and delicious.  It came with 2 pieces of their griddled bread with was amazing and it absolutely made the meal complete.  It was the best \"toast\" I\\'ve ever had.\\n\\nAnyway, I can\\'t wait to go back!']"
       ]
      }
     ],
     "prompt_number": 20
    },
    {
     "cell_type": "markdown",
     "metadata": {},
     "source": [
      "And the resulting word count dictionary:"
     ]
    },
    {
     "cell_type": "code",
     "collapsed": false,
     "input": [
      "train_set['negative_review_tags'] = gl.text_analytics.count_words(train_set['text'])\n",
      "train_set['negative_review_tags'].head(1)"
     ],
     "language": "python",
     "metadata": {},
     "outputs": [
      {
       "metadata": {},
       "output_type": "pyout",
       "prompt_number": 22,
       "text": [
        "dtype: dict\n",
        "Rows: 1\n",
        "[{'anyway': 1, 'looks': 1, 'go': 1, 'toast': 1, 'busy': 1, 'everything': 1, 'menu': 1, 'had': 3, 'better': 1, 'to': 1, 'only': 1, 'pretty': 2, 'do': 1, 'them': 1, 'garden': 1, 'get': 2, 'food': 1, 'they': 1, 'bloody': 1, 'bread': 1, 'like': 1, 'semi': 1, 'morning': 1, 'griddled': 1, 't': 1, 'meal': 1, 'absolutely': 1, 'back': 1, 'our': 2, 'saturday': 1, 'best': 2, 'for': 1, 'phenomenal': 1, 'favor': 1, 'outside': 1, 'truffle': 1, 'ever': 2, 'perfect': 1, 'here': 2, 'wait': 1, 'on': 3, 'of': 1, 'place': 1, 'waitress': 1, 'grounds': 1, 'yourself': 1, 'weather': 1, 'simply': 1, 'delicious': 1, 'skillet': 1, 'use': 1, 'from': 1, 'quickly': 2, 'their': 4, '2': 1, 'white': 1, 'was': 8, 'mary': 1, 'complete': 1, 'took': 1, 'excellent': 3, 'pieces': 1, 'with': 2, 'me': 1, 'made': 2, 'wife': 1, 'up': 1, 'while': 1, 'can': 1, 'my': 2, 'and': 8, 've': 2, 'it': 9, 'an': 1, 'tasty': 1, 'breakfast': 1, 'absolute': 1, 'ingredients': 1, 'sitting': 1, 'when': 1, 'amazing': 2, 'which': 1, 'vegetable': 1, 'you': 2, 'sure': 1, 'eggs': 1, 'earlier': 1, 'birthday': 1, 'arrived': 1, 'pleasure': 1, 'a': 1, 'overlooking': 1, 'fills': 1, 'i': 5, 'm': 1, 'looked': 1, 'scrambled': 1, 'so': 1, 'fresh': 1, 'the': 10, 'blend': 1, 'order': 1, 'came': 1}]"
       ]
      }
     ],
     "prompt_number": 22
    },
    {
     "cell_type": "markdown",
     "metadata": {},
     "source": [
      "We now use the **[dict_trim_by_keys](/products/create/docs/generated/graphlab.SArray.dict_trim_by_keys.html)** SArray function to trim the dictionary down to a set of words we are intereseted in.\n",
      "\n",
      "Our belief is that **negative** words suchs as *filthy* and *disgusting* are useful in predicting when a rating will be bad, so we construct a feature that captures these words. This belief is not justified by statistical or machine learning considerations, but this type of feature engineering often makes the difference between a **good** model and a **great** model."
     ]
    },
    {
     "cell_type": "code",
     "collapsed": false,
     "input": [
      "bad_review_words = ['hate','terrible', 'awful', 'spit', 'disgusting', 'filthy', 'tasteless', 'rude', \n",
      "                    'dirty', 'slow', 'poor', 'late', 'angry', 'flies', 'disappointed', 'disappointing', 'wait', \n",
      "                    'waiting', 'dreadful', 'appalling', 'horrific', 'horrifying', 'horrible', 'horrendous', 'atrocious', \n",
      "                    'abominable', 'deplorable', 'abhorrent', 'frightful', 'shocking', 'hideous', 'ghastly', 'grim', \n",
      "                    'dire', 'unspeakable', 'gruesome']\n",
      "train_set['negative_review_tags'] = train_set['negative_review_tags'].dict_trim_by_keys(bad_review_words, exclude=False)"
     ],
     "language": "python",
     "metadata": {},
     "outputs": [],
     "prompt_number": 23
    },
    {
     "cell_type": "code",
     "collapsed": false,
     "input": [
      "train_set['negative_review_tags'].head(5)"
     ],
     "language": "python",
     "metadata": {},
     "outputs": [
      {
       "metadata": {},
       "output_type": "pyout",
       "prompt_number": 24,
       "text": [
        "dtype: dict\n",
        "Rows: 5\n",
        "[{'wait': 1}, {'wait': 1}, {}, {}, {}]"
       ]
      }
     ],
     "prompt_number": 24
    },
    {
     "cell_type": "code",
     "collapsed": false,
     "input": [
      "model = gl.linear_regression.create(train_set, target='stars', \n",
      "                                    features = ['user_id', 'business_id', 'categories_dict', 'negative_review_tags', \n",
      "                                                'user_avg_stars', 'votes', 'business_avg_stars'])"
     ],
     "language": "python",
     "metadata": {},
     "outputs": [
      {
       "html": [
        "<pre>PROGRESS: Linear regression:</pre>"
       ],
       "metadata": {},
       "output_type": "display_data",
       "text": [
        "PROGRESS: Linear regression:"
       ]
      },
      {
       "html": [
        "<pre>PROGRESS: --------------------------------------------------------</pre>"
       ],
       "metadata": {},
       "output_type": "display_data",
       "text": [
        "PROGRESS: --------------------------------------------------------"
       ]
      },
      {
       "html": [
        "<pre>PROGRESS: Number of examples          : 172785</pre>"
       ],
       "metadata": {},
       "output_type": "display_data",
       "text": [
        "PROGRESS: Number of examples          : 172785"
       ]
      },
      {
       "html": [
        "<pre>PROGRESS: Number of features          : 7</pre>"
       ],
       "metadata": {},
       "output_type": "display_data",
       "text": [
        "PROGRESS: Number of features          : 7"
       ]
      },
      {
       "html": [
        "<pre>PROGRESS: Number of unpacked features : 551</pre>"
       ],
       "metadata": {},
       "output_type": "display_data",
       "text": [
        "PROGRESS: Number of unpacked features : 551"
       ]
      },
      {
       "html": [
        "<pre>PROGRESS: Number of coefficients    : 51168</pre>"
       ],
       "metadata": {},
       "output_type": "display_data",
       "text": [
        "PROGRESS: Number of coefficients    : 51168"
       ]
      },
      {
       "html": [
        "<pre>PROGRESS: Starting L-BFGS \n",
        "--------------------------------------------------------</pre>"
       ],
       "metadata": {},
       "output_type": "display_data",
       "text": [
        "PROGRESS: Starting L-BFGS \n",
        "--------------------------------------------------------"
       ]
      },
      {
       "html": [
        "<pre>PROGRESS:   Iter   Grad-Norm        Loss   Step size Elapsed time</pre>"
       ],
       "metadata": {},
       "output_type": "display_data",
       "text": [
        "PROGRESS:   Iter   Grad-Norm        Loss   Step size Elapsed time"
       ]
      },
      {
       "html": [
        "<pre>PROGRESS:      0   1.319e+06   2.716e+06   1.000e-06        0.07s</pre>"
       ],
       "metadata": {},
       "output_type": "display_data",
       "text": [
        "PROGRESS:      0   1.319e+06   2.716e+06   1.000e-06        0.07s"
       ]
      },
      {
       "html": [
        "<pre>PROGRESS:      1   6.704e+05   1.077e+06   1.000e+00        0.28s</pre>"
       ],
       "metadata": {},
       "output_type": "display_data",
       "text": [
        "PROGRESS:      1   6.704e+05   1.077e+06   1.000e+00        0.28s"
       ]
      },
      {
       "html": [
        "<pre>PROGRESS:      2   1.022e+05   2.389e+05   1.000e+00        0.42s</pre>"
       ],
       "metadata": {},
       "output_type": "display_data",
       "text": [
        "PROGRESS:      2   1.022e+05   2.389e+05   1.000e+00        0.42s"
       ]
      },
      {
       "html": [
        "<pre>PROGRESS:      3   6.556e+04   1.981e+05   1.000e+00        0.51s</pre>"
       ],
       "metadata": {},
       "output_type": "display_data",
       "text": [
        "PROGRESS:      3   6.556e+04   1.981e+05   1.000e+00        0.51s"
       ]
      },
      {
       "html": [
        "<pre>PROGRESS:      4   9.589e+04   1.379e+05   1.000e+00        0.59s</pre>"
       ],
       "metadata": {},
       "output_type": "display_data",
       "text": [
        "PROGRESS:      4   9.589e+04   1.379e+05   1.000e+00        0.59s"
       ]
      },
      {
       "html": [
        "<pre>PROGRESS:      5   1.034e+05   1.409e+05   1.000e+00        0.70s</pre>"
       ],
       "metadata": {},
       "output_type": "display_data",
       "text": [
        "PROGRESS:      5   1.034e+05   1.409e+05   1.000e+00        0.70s"
       ]
      },
      {
       "html": [
        "<pre>PROGRESS:      6   2.851e+04   1.192e+05   1.000e+00        0.91s</pre>"
       ],
       "metadata": {},
       "output_type": "display_data",
       "text": [
        "PROGRESS:      6   2.851e+04   1.192e+05   1.000e+00        0.91s"
       ]
      },
      {
       "html": [
        "<pre>PROGRESS:      7   1.732e+04   1.170e+05   1.000e+00        1.01s</pre>"
       ],
       "metadata": {},
       "output_type": "display_data",
       "text": [
        "PROGRESS:      7   1.732e+04   1.170e+05   1.000e+00        1.01s"
       ]
      },
      {
       "html": [
        "<pre>PROGRESS:      8   1.602e+04   1.128e+05   1.000e+00        1.14s</pre>"
       ],
       "metadata": {},
       "output_type": "display_data",
       "text": [
        "PROGRESS:      8   1.602e+04   1.128e+05   1.000e+00        1.14s"
       ]
      },
      {
       "html": [
        "<pre>PROGRESS:      9   1.213e+04   1.103e+05   1.000e+00        1.25s</pre>"
       ],
       "metadata": {},
       "output_type": "display_data",
       "text": [
        "PROGRESS:      9   1.213e+04   1.103e+05   1.000e+00        1.25s"
       ]
      },
      {
       "html": [
        "<pre>PROGRESS:     10   6.310e+03   1.086e+05   1.000e+00        1.35s</pre>"
       ],
       "metadata": {},
       "output_type": "display_data",
       "text": [
        "PROGRESS:     10   6.310e+03   1.086e+05   1.000e+00        1.35s"
       ]
      }
     ],
     "prompt_number": 25
    },
    {
     "cell_type": "markdown",
     "metadata": {},
     "source": [
      "As we hypothesized, the model tells us that the **negative** words contain important information in predicting star ratings! After building the tag dictionary and applying the same text transformations to the test dataset, we evaluate our model."
     ]
    },
    {
     "cell_type": "code",
     "collapsed": false,
     "input": [
      "test_set['categories_dict'] = test_set.apply(lambda row: tags_to_dict(row['categories']))\n",
      "test_set['categories_dict'].head(5)\n",
      "\n",
      "test_set['negative_review_tags'] = gl.text_analytics.count_words(test_set['text'])\n",
      "test_set['negative_review_tags'] = test_set['negative_review_tags'].dict_trim_by_keys(bad_review_words, exclude=False)\n",
      "model.evaluate(test_set)"
     ],
     "language": "python",
     "metadata": {},
     "outputs": [
      {
       "metadata": {},
       "output_type": "pyout",
       "prompt_number": 27,
       "text": [
        "{'max_error': 360.88645582615607, 'rmse': 2.9575192708671483}"
       ]
      }
     ],
     "prompt_number": 27
    },
    {
     "cell_type": "markdown",
     "metadata": {},
     "source": [
      "Using the tools in GraphLab Create, we can construct rich features for very powerful regression and classification models, all with very few lines of code."
     ]
    }
   ],
   "metadata": {}
  }
 ]
}