{
 "metadata": {
  "name": "",
  "signature": "sha256:69cdde244af0a6b9381862938a8fc9f16f751653a6fbe5081a94f0b6620a9cf6"
 },
 "nbformat": 3,
 "nbformat_minor": 0,
 "worksheets": [
  {
   "cells": [
    {
     "cell_type": "heading",
     "level": 1,
     "metadata": {},
     "source": [
      "Building a Recommender with Ratings Data"
     ]
    },
    {
     "cell_type": "markdown",
     "metadata": {},
     "source": [
      "**Note: This notebook uses GraphLab Create 1.1\n",
      "\n",
      "Using GraphLab Create we can take an SFrame containing user ratings for movies, and quickly create a recommender. We'll see how to tune parameters for this recommender and how to get a sense of what its performance will be in practice. Finally (mostly for fun) we'll create two stereotypical users, and see what they get recommended.\n",
      "\n",
      "To start, let's import a few modules."
     ]
    },
    {
     "cell_type": "code",
     "collapsed": false,
     "input": [
      "import graphlab as gl\n",
      "import matplotlib.pyplot as plt\n",
      "%matplotlib inline"
     ],
     "language": "python",
     "metadata": {},
     "outputs": [],
     "prompt_number": 1
    },
    {
     "cell_type": "markdown",
     "metadata": {},
     "source": [
      "# Prepare the Data\n",
      "The complete dataset is large. For prototyping on a single machine, let's just use a small sample of all the data. We'll use a sample that contains all ratings for about 12,000 users."
     ]
    },
    {
     "cell_type": "code",
     "collapsed": false,
     "input": [
      "data_url = 'https://s3.amazonaws.com/GraphLab-Datasets/movie_ratings/sample.small'\n",
      "sf = gl.SFrame.read_csv(data_url,delimiter='\\t',column_type_hints={'rating':int})"
     ],
     "language": "python",
     "metadata": {},
     "outputs": [
      {
       "html": [
        "<pre>PROGRESS: Read 1549015 lines. Lines per second: 760746</pre>"
       ],
       "metadata": {},
       "output_type": "display_data",
       "text": [
        "PROGRESS: Read 1549015 lines. Lines per second: 760746"
       ]
      },
      {
       "html": [
        "<pre>PROGRESS: Finished parsing file https://s3.amazonaws.com/GraphLab-Datasets/movie_ratings/sample.small</pre>"
       ],
       "metadata": {},
       "output_type": "display_data",
       "text": [
        "PROGRESS: Finished parsing file https://s3.amazonaws.com/GraphLab-Datasets/movie_ratings/sample.small"
       ]
      },
      {
       "html": [
        "<pre>PROGRESS: Parsing completed. Parsed 4000000 lines in 3.59208 secs.</pre>"
       ],
       "metadata": {},
       "output_type": "display_data",
       "text": [
        "PROGRESS: Parsing completed. Parsed 4000000 lines in 3.59208 secs."
       ]
      }
     ],
     "prompt_number": 2
    },
    {
     "cell_type": "markdown",
     "metadata": {},
     "source": [
      "Using the same data to train and evaluate a model is problematic. Specifically this leads to a problem called [overfitting](http://en.wikipedia.org/wiki/Overfitting). We'll follow the common approach of holding out a randomly selected 20% of our data to use later for evaluation."
     ]
    },
    {
     "cell_type": "markdown",
     "metadata": {},
     "source": [
      "Now we just use this helper function to get our train and test set."
     ]
    },
    {
     "cell_type": "code",
     "collapsed": false,
     "input": [
      "(train_set, test_set) = sf.random_split(0.8)"
     ],
     "language": "python",
     "metadata": {},
     "outputs": [],
     "prompt_number": 3
    },
    {
     "cell_type": "markdown",
     "metadata": {},
     "source": [
      "Now that we have a train and test set, let's come up with a very simple way of predicting ratings. That way when we try more complicated things, we'll have some baseline for comparison.\n",
      "\n",
      "GraphLab's PopularityRecommender provides this functionality. It just stores the mean rating per item. When asked to predict a user's rating for a particular item pair, it just predicts the mean of all ratings for that item; it pays no attention to user information. \n",
      "\n",
      "In order to use the PopularityRecommender, all we need to do is pass its create function the data and tell it the pertinent column names."
     ]
    },
    {
     "cell_type": "code",
     "collapsed": false,
     "input": [
      "m = gl.popularity_recommender.create(train_set, 'user', 'movie', 'rating')"
     ],
     "language": "python",
     "metadata": {},
     "outputs": [
      {
       "html": [
        "<pre>PROGRESS: Recsys training: model = popularity</pre>"
       ],
       "metadata": {},
       "output_type": "display_data",
       "text": [
        "PROGRESS: Recsys training: model = popularity"
       ]
      },
      {
       "html": [
        "<pre>PROGRESS: Preparing data set.</pre>"
       ],
       "metadata": {},
       "output_type": "display_data",
       "text": [
        "PROGRESS: Preparing data set."
       ]
      },
      {
       "html": [
        "<pre>PROGRESS:     Data has 3199301 observations with 12020 users and 17178 items.</pre>"
       ],
       "metadata": {},
       "output_type": "display_data",
       "text": [
        "PROGRESS:     Data has 3199301 observations with 12020 users and 17178 items."
       ]
      },
      {
       "html": [
        "<pre>PROGRESS:     Data prepared in: 5.60801s</pre>"
       ],
       "metadata": {},
       "output_type": "display_data",
       "text": [
        "PROGRESS:     Data prepared in: 5.60801s"
       ]
      },
      {
       "html": [
        "<pre>PROGRESS: 3199301 observations to process; with 17178 unique items.</pre>"
       ],
       "metadata": {},
       "output_type": "display_data",
       "text": [
        "PROGRESS: 3199301 observations to process; with 17178 unique items."
       ]
      },
      {
       "html": [
        "<pre>PROGRESS: 3199301 observations processed.</pre>"
       ],
       "metadata": {},
       "output_type": "display_data",
       "text": [
        "PROGRESS: 3199301 observations processed."
       ]
      },
      {
       "html": [
        "<pre>PROGRESS: Number observations / second: 6.09321e+06</pre>"
       ],
       "metadata": {},
       "output_type": "display_data",
       "text": [
        "PROGRESS: Number observations / second: 6.09321e+06"
       ]
      },
      {
       "html": [
        "<pre>PROGRESS: +------------+--------------+</pre>"
       ],
       "metadata": {},
       "output_type": "display_data",
       "text": [
        "PROGRESS: +------------+--------------+"
       ]
      },
      {
       "html": [
        "<pre>PROGRESS: | Tree level | Elapsed Time |</pre>"
       ],
       "metadata": {},
       "output_type": "display_data",
       "text": [
        "PROGRESS: | Tree level | Elapsed Time |"
       ]
      },
      {
       "html": [
        "<pre>PROGRESS: +------------+--------------+</pre>"
       ],
       "metadata": {},
       "output_type": "display_data",
       "text": [
        "PROGRESS: +------------+--------------+"
       ]
      },
      {
       "html": [
        "<pre>PROGRESS: | 0          | 7.713ms      |</pre>"
       ],
       "metadata": {},
       "output_type": "display_data",
       "text": [
        "PROGRESS: | 0          | 7.713ms      |"
       ]
      },
      {
       "html": [
        "<pre>PROGRESS: | 1          | 13.084ms     |</pre>"
       ],
       "metadata": {},
       "output_type": "display_data",
       "text": [
        "PROGRESS: | 1          | 13.084ms     |"
       ]
      },
      {
       "html": [
        "<pre>PROGRESS: | 2          | 18.514ms     |</pre>"
       ],
       "metadata": {},
       "output_type": "display_data",
       "text": [
        "PROGRESS: | 2          | 18.514ms     |"
       ]
      },
      {
       "html": [
        "<pre>PROGRESS: | 3          | 24.679ms     |</pre>"
       ],
       "metadata": {},
       "output_type": "display_data",
       "text": [
        "PROGRESS: | 3          | 24.679ms     |"
       ]
      },
      {
       "html": [
        "<pre>PROGRESS: | 4          | 31.022ms     |</pre>"
       ],
       "metadata": {},
       "output_type": "display_data",
       "text": [
        "PROGRESS: | 4          | 31.022ms     |"
       ]
      },
      {
       "html": [
        "<pre>PROGRESS: | 5          | 34.556ms     |</pre>"
       ],
       "metadata": {},
       "output_type": "display_data",
       "text": [
        "PROGRESS: | 5          | 34.556ms     |"
       ]
      },
      {
       "html": [
        "<pre>PROGRESS: +------------+--------------+</pre>"
       ],
       "metadata": {},
       "output_type": "display_data",
       "text": [
        "PROGRESS: +------------+--------------+"
       ]
      }
     ],
     "prompt_number": 4
    },
    {
     "cell_type": "markdown",
     "metadata": {},
     "source": [
      "Now that we have a (simple) model, we need a way to measure the accuracy of its predictions. That way we can compare the performance of different models. The [Root Mean Squared Error](http://en.wikipedia.org/wiki/RMSE) is one of the most common ways to measure the accuracy."
     ]
    },
    {
     "cell_type": "code",
     "collapsed": false,
     "input": [
      "baseline_rmse = gl.evaluation.rmse(test_set['rating'], m.predict(test_set))\n",
      "print baseline_rmse"
     ],
     "language": "python",
     "metadata": {},
     "outputs": [
      {
       "output_type": "stream",
       "stream": "stdout",
       "text": [
        "0.99284239086\n"
       ]
      }
     ],
     "prompt_number": 5
    },
    {
     "cell_type": "markdown",
     "metadata": {},
     "source": [
      "# Improving Predictive Accuracy\n",
      "The type of model that turned out to be the best for the famous Netflix Competition is called Matrix Factorization. This is a form of [Collaborative Filtering](http://en.wikipedia.org/wiki/Collaborative_filtering) where recommendations are generated using ratings from users that are some how similar.  \n",
      "\n",
      "Whenever you use a particular type of model there are almost inevitably some parameters you must specify. Matrix Factorization is no exception. Properly tuning these parameters can have a huge effect on how well your model works. The two most important parameters are the number of dimensions and the regularization coefficient.  "
     ]
    },
    {
     "cell_type": "code",
     "collapsed": false,
     "input": [
      "regularization_vals = [0.001, 0.0001, 0.00001, 0.000001]\n",
      "models = [gl.factorization_recommender.create(train_set, 'user', 'movie', 'rating',\n",
      "                                              max_iterations=50, num_factors=5, regularization=r)\n",
      "          for r in regularization_vals]"
     ],
     "language": "python",
     "metadata": {},
     "outputs": [
      {
       "html": [
        "<pre>PROGRESS: Recsys training: model = factorization_recommender</pre>"
       ],
       "metadata": {},
       "output_type": "display_data",
       "text": [
        "PROGRESS: Recsys training: model = factorization_recommender"
       ]
      },
      {
       "html": [
        "<pre>PROGRESS: Preparing data set.</pre>"
       ],
       "metadata": {},
       "output_type": "display_data",
       "text": [
        "PROGRESS: Preparing data set."
       ]
      },
      {
       "html": [
        "<pre>PROGRESS:     Data has 3199301 observations with 12020 users and 17178 items.</pre>"
       ],
       "metadata": {},
       "output_type": "display_data",
       "text": [
        "PROGRESS:     Data has 3199301 observations with 12020 users and 17178 items."
       ]
      },
      {
       "html": [
        "<pre>PROGRESS:     Data prepared in: 5.50608s</pre>"
       ],
       "metadata": {},
       "output_type": "display_data",
       "text": [
        "PROGRESS:     Data prepared in: 5.50608s"
       ]
      },
      {
       "html": [
        "<pre>PROGRESS: Training factorization_recommender for recommendations.</pre>"
       ],
       "metadata": {},
       "output_type": "display_data",
       "text": [
        "PROGRESS: Training factorization_recommender for recommendations."
       ]
      },
      {
       "html": [
        "<pre>PROGRESS: +--------------------------------+--------------------------------------------------+----------+</pre>"
       ],
       "metadata": {},
       "output_type": "display_data",
       "text": [
        "PROGRESS: +--------------------------------+--------------------------------------------------+----------+"
       ]
      },
      {
       "html": [
        "<pre>PROGRESS: | Parameter                      | Description                                      | Value    |</pre>"
       ],
       "metadata": {},
       "output_type": "display_data",
       "text": [
        "PROGRESS: | Parameter                      | Description                                      | Value    |"
       ]
      },
      {
       "html": [
        "<pre>PROGRESS: +--------------------------------+--------------------------------------------------+----------+</pre>"
       ],
       "metadata": {},
       "output_type": "display_data",
       "text": [
        "PROGRESS: +--------------------------------+--------------------------------------------------+----------+"
       ]
      },
      {
       "html": [
        "<pre>PROGRESS: | num_factors                    | Factor Dimension                                 | 5        |</pre>"
       ],
       "metadata": {},
       "output_type": "display_data",
       "text": [
        "PROGRESS: | num_factors                    | Factor Dimension                                 | 5        |"
       ]
      },
      {
       "html": [
        "<pre>PROGRESS: | regularization                 | L2 Regularization on Factors                     | 0.001    |</pre>"
       ],
       "metadata": {},
       "output_type": "display_data",
       "text": [
        "PROGRESS: | regularization                 | L2 Regularization on Factors                     | 0.001    |"
       ]
      },
      {
       "html": [
        "<pre>PROGRESS: | solver                         | Solver used for training                         | auto     |</pre>"
       ],
       "metadata": {},
       "output_type": "display_data",
       "text": [
        "PROGRESS: | solver                         | Solver used for training                         | auto     |"
       ]
      },
      {
       "html": [
        "<pre>PROGRESS: | max_iterations                 | Maximum Number of Iterations                     | 50       |</pre>"
       ],
       "metadata": {},
       "output_type": "display_data",
       "text": [
        "PROGRESS: | max_iterations                 | Maximum Number of Iterations                     | 50       |"
       ]
      },
      {
       "html": [
        "<pre>PROGRESS: +--------------------------------+--------------------------------------------------+----------+</pre>"
       ],
       "metadata": {},
       "output_type": "display_data",
       "text": [
        "PROGRESS: +--------------------------------+--------------------------------------------------+----------+"
       ]
      },
      {
       "html": [
        "<pre>PROGRESS:   Optimizing model using SGD; tuning step size.</pre>"
       ],
       "metadata": {},
       "output_type": "display_data",
       "text": [
        "PROGRESS:   Optimizing model using SGD; tuning step size."
       ]
      },
      {
       "html": [
        "<pre>PROGRESS:   Using 399912 / 3199301 points for tuning the step size.</pre>"
       ],
       "metadata": {},
       "output_type": "display_data",
       "text": [
        "PROGRESS:   Using 399912 / 3199301 points for tuning the step size."
       ]
      },
      {
       "html": [
        "<pre>PROGRESS: +---------+-------------------+---------------------------+</pre>"
       ],
       "metadata": {},
       "output_type": "display_data",
       "text": [
        "PROGRESS: +---------+-------------------+---------------------------+"
       ]
      },
      {
       "html": [
        "<pre>PROGRESS: | Attempt | Initial Step Size | Estimated Objective Value |</pre>"
       ],
       "metadata": {},
       "output_type": "display_data",
       "text": [
        "PROGRESS: | Attempt | Initial Step Size | Estimated Objective Value |"
       ]
      },
      {
       "html": [
        "<pre>PROGRESS: +---------+-------------------+---------------------------+</pre>"
       ],
       "metadata": {},
       "output_type": "display_data",
       "text": [
        "PROGRESS: +---------+-------------------+---------------------------+"
       ]
      },
      {
       "html": [
        "<pre>PROGRESS: | 0       | 0.0230306         | 0.833576                  |</pre>"
       ],
       "metadata": {},
       "output_type": "display_data",
       "text": [
        "PROGRESS: | 0       | 0.0230306         | 0.833576                  |"
       ]
      },
      {
       "html": [
        "<pre>PROGRESS: | 1       | 0.0115153         | 0.855768                  |</pre>"
       ],
       "metadata": {},
       "output_type": "display_data",
       "text": [
        "PROGRESS: | 1       | 0.0115153         | 0.855768                  |"
       ]
      },
      {
       "html": [
        "<pre>PROGRESS: | 2       | 0.00575765        | 0.883658                  |</pre>"
       ],
       "metadata": {},
       "output_type": "display_data",
       "text": [
        "PROGRESS: | 2       | 0.00575765        | 0.883658                  |"
       ]
      },
      {
       "html": [
        "<pre>PROGRESS: | 3       | 0.00287883        | 0.918509                  |</pre>"
       ],
       "metadata": {},
       "output_type": "display_data",
       "text": [
        "PROGRESS: | 3       | 0.00287883        | 0.918509                  |"
       ]
      },
      {
       "html": [
        "<pre>PROGRESS: +---------+-------------------+---------------------------+</pre>"
       ],
       "metadata": {},
       "output_type": "display_data",
       "text": [
        "PROGRESS: +---------+-------------------+---------------------------+"
       ]
      },
      {
       "html": [
        "<pre>PROGRESS: | Final   | 0.0230306         | 0.833576                  |</pre>"
       ],
       "metadata": {},
       "output_type": "display_data",
       "text": [
        "PROGRESS: | Final   | 0.0230306         | 0.833576                  |"
       ]
      },
      {
       "html": [
        "<pre>PROGRESS: +---------+-------------------+---------------------------+</pre>"
       ],
       "metadata": {},
       "output_type": "display_data",
       "text": [
        "PROGRESS: +---------+-------------------+---------------------------+"
       ]
      },
      {
       "html": [
        "<pre>PROGRESS: Starting Optimization.</pre>"
       ],
       "metadata": {},
       "output_type": "display_data",
       "text": [
        "PROGRESS: Starting Optimization."
       ]
      },
      {
       "html": [
        "<pre>PROGRESS: +---------+--------------+-------------------+-----------------------+-------------+</pre>"
       ],
       "metadata": {},
       "output_type": "display_data",
       "text": [
        "PROGRESS: +---------+--------------+-------------------+-----------------------+-------------+"
       ]
      },
      {
       "html": [
        "<pre>PROGRESS: | Iter.   | Elapsed Time | Approx. Objective | Approx. Training RMSE | Step Size   |</pre>"
       ],
       "metadata": {},
       "output_type": "display_data",
       "text": [
        "PROGRESS: | Iter.   | Elapsed Time | Approx. Objective | Approx. Training RMSE | Step Size   |"
       ]
      },
      {
       "html": [
        "<pre>PROGRESS: +---------+--------------+-------------------+-----------------------+-------------+</pre>"
       ],
       "metadata": {},
       "output_type": "display_data",
       "text": [
        "PROGRESS: +---------+--------------+-------------------+-----------------------+-------------+"
       ]
      },
      {
       "html": [
        "<pre>PROGRESS: | Initial | 429us        | 1.14574           | 1.07039               |             |</pre>"
       ],
       "metadata": {},
       "output_type": "display_data",
       "text": [
        "PROGRESS: | Initial | 429us        | 1.14574           | 1.07039               |             |"
       ]
      },
      {
       "html": [
        "<pre>PROGRESS: +---------+--------------+-------------------+-----------------------+-------------+</pre>"
       ],
       "metadata": {},
       "output_type": "display_data",
       "text": [
        "PROGRESS: +---------+--------------+-------------------+-----------------------+-------------+"
       ]
      },
      {
       "html": [
        "<pre>PROGRESS: | 1       | 664.767ms    | 0.868667          | 0.932023              | 0.0230306   |</pre>"
       ],
       "metadata": {},
       "output_type": "display_data",
       "text": [
        "PROGRESS: | 1       | 664.767ms    | 0.868667          | 0.932023              | 0.0230306   |"
       ]
      },
      {
       "html": [
        "<pre>PROGRESS: | 2       | 1.28s        | 0.862051          | 0.928467              | 0.000308383 |</pre>"
       ],
       "metadata": {},
       "output_type": "display_data",
       "text": [
        "PROGRESS: | 2       | 1.28s        | 0.862051          | 0.928467              | 0.000308383 |"
       ]
      },
      {
       "html": [
        "<pre>PROGRESS: | 3       | 2.08s        | 0.844973          | 0.919224              | 0.000155231 |</pre>"
       ],
       "metadata": {},
       "output_type": "display_data",
       "text": [
        "PROGRESS: | 3       | 2.08s        | 0.844973          | 0.919224              | 0.000155231 |"
       ]
      },
      {
       "html": [
        "<pre>PROGRESS: | 4       | 2.99s        | 0.839172          | 0.916063              | 0.00010372  |</pre>"
       ],
       "metadata": {},
       "output_type": "display_data",
       "text": [
        "PROGRESS: | 4       | 2.99s        | 0.839172          | 0.916063              | 0.00010372  |"
       ]
      },
      {
       "html": [
        "<pre>PROGRESS: | 5       | 4.04s        | 0.835564          | 0.914092              | 7.78778e-05 |</pre>"
       ],
       "metadata": {},
       "output_type": "display_data",
       "text": [
        "PROGRESS: | 5       | 4.04s        | 0.835564          | 0.914092              | 7.78778e-05 |"
       ]
      },
      {
       "html": [
        "<pre>PROGRESS: | 6       | 5.12s        | 0.833251          | 0.912826              | 6.23444e-05 |</pre>"
       ],
       "metadata": {},
       "output_type": "display_data",
       "text": [
        "PROGRESS: | 6       | 5.12s        | 0.833251          | 0.912826              | 6.23444e-05 |"
       ]
      },
      {
       "html": [
        "<pre>PROGRESS: | 10      | 9.88s        | 0.828163          | 0.910035              | 3.46775e-05 |</pre>"
       ],
       "metadata": {},
       "output_type": "display_data",
       "text": [
        "PROGRESS: | 10      | 9.88s        | 0.828163          | 0.910035              | 3.46775e-05 |"
       ]
      },
      {
       "html": [
        "<pre>PROGRESS: | 11      | 11.10s       | 0.827369          | 0.909598              | 3.12145e-05 |</pre>"
       ],
       "metadata": {},
       "output_type": "display_data",
       "text": [
        "PROGRESS: | 11      | 11.10s       | 0.827369          | 0.909598              | 3.12145e-05 |"
       ]
      },
      {
       "html": [
        "<pre>PROGRESS: | 15      | 16.25s       | 0.825187          | 0.908398              | 2.23047e-05 |</pre>"
       ],
       "metadata": {},
       "output_type": "display_data",
       "text": [
        "PROGRESS: | 15      | 16.25s       | 0.825187          | 0.908398              | 2.23047e-05 |"
       ]
      },
      {
       "html": [
        "<pre>PROGRESS: | 20      | 22.67s       | 0.823427          | 0.907429              | 1.64392e-05 |</pre>"
       ],
       "metadata": {},
       "output_type": "display_data",
       "text": [
        "PROGRESS: | 20      | 22.67s       | 0.823427          | 0.907429              | 1.64392e-05 |"
       ]
      },
      {
       "html": [
        "<pre>PROGRESS: | 25      | 29.26s       | 0.822257          | 0.906784              | 1.30163e-05 |</pre>"
       ],
       "metadata": {},
       "output_type": "display_data",
       "text": [
        "PROGRESS: | 25      | 29.26s       | 0.822257          | 0.906784              | 1.30163e-05 |"
       ]
      },
      {
       "html": [
        "<pre>PROGRESS: | 30      | 36.07s       | 0.821411          | 0.906317              | 1.07732e-05 |</pre>"
       ],
       "metadata": {},
       "output_type": "display_data",
       "text": [
        "PROGRESS: | 30      | 36.07s       | 0.821411          | 0.906317              | 1.07732e-05 |"
       ]
      },
      {
       "html": [
        "<pre>PROGRESS: | 35      | 42.79s       | 0.820715          | 0.905933              | 9.18952e-06 |</pre>"
       ],
       "metadata": {},
       "output_type": "display_data",
       "text": [
        "PROGRESS: | 35      | 42.79s       | 0.820715          | 0.905933              | 9.18952e-06 |"
       ]
      },
      {
       "html": [
        "<pre>PROGRESS: | 40      | 49.60s       | 0.820172          | 0.905633              | 8.01178e-06 |</pre>"
       ],
       "metadata": {},
       "output_type": "display_data",
       "text": [
        "PROGRESS: | 40      | 49.60s       | 0.820172          | 0.905633              | 8.01178e-06 |"
       ]
      },
      {
       "html": [
        "<pre>PROGRESS: | 45      | 56.67s       | 0.819752          | 0.905401              | 7.10163e-06 |</pre>"
       ],
       "metadata": {},
       "output_type": "display_data",
       "text": [
        "PROGRESS: | 45      | 56.67s       | 0.819752          | 0.905401              | 7.10163e-06 |"
       ]
      },
      {
       "html": [
        "<pre>PROGRESS: | 50      | 1m 3s        | 0.819337          | 0.905173              | 6.37718e-06 |</pre>"
       ],
       "metadata": {},
       "output_type": "display_data",
       "text": [
        "PROGRESS: | 50      | 1m 3s        | 0.819337          | 0.905173              | 6.37718e-06 |"
       ]
      },
      {
       "html": [
        "<pre>PROGRESS: +---------+--------------+-------------------+-----------------------+-------------+</pre>"
       ],
       "metadata": {},
       "output_type": "display_data",
       "text": [
        "PROGRESS: +---------+--------------+-------------------+-----------------------+-------------+"
       ]
      },
      {
       "html": [
        "<pre>PROGRESS: | Final   | 1m 4s        | 0.819547          | 0.905288              |             |</pre>"
       ],
       "metadata": {},
       "output_type": "display_data",
       "text": [
        "PROGRESS: | Final   | 1m 4s        | 0.819547          | 0.905288              |             |"
       ]
      },
      {
       "html": [
        "<pre>PROGRESS: +---------+--------------+-------------------+-----------------------+-------------+</pre>"
       ],
       "metadata": {},
       "output_type": "display_data",
       "text": [
        "PROGRESS: +---------+--------------+-------------------+-----------------------+-------------+"
       ]
      },
      {
       "html": [
        "<pre>PROGRESS: Optimization Complete: Maximum number of passes through the data reached.</pre>"
       ],
       "metadata": {},
       "output_type": "display_data",
       "text": [
        "PROGRESS: Optimization Complete: Maximum number of passes through the data reached."
       ]
      },
      {
       "html": [
        "<pre>PROGRESS: Recsys training: model = factorization_recommender</pre>"
       ],
       "metadata": {},
       "output_type": "display_data",
       "text": [
        "PROGRESS: Recsys training: model = factorization_recommender"
       ]
      },
      {
       "html": [
        "<pre>PROGRESS: Preparing data set.</pre>"
       ],
       "metadata": {},
       "output_type": "display_data",
       "text": [
        "PROGRESS: Preparing data set."
       ]
      },
      {
       "html": [
        "<pre>PROGRESS:     Data has 3199301 observations with 12020 users and 17178 items.</pre>"
       ],
       "metadata": {},
       "output_type": "display_data",
       "text": [
        "PROGRESS:     Data has 3199301 observations with 12020 users and 17178 items."
       ]
      },
      {
       "html": [
        "<pre>PROGRESS:     Data prepared in: 5.39006s</pre>"
       ],
       "metadata": {},
       "output_type": "display_data",
       "text": [
        "PROGRESS:     Data prepared in: 5.39006s"
       ]
      },
      {
       "html": [
        "<pre>PROGRESS: Training factorization_recommender for recommendations.</pre>"
       ],
       "metadata": {},
       "output_type": "display_data",
       "text": [
        "PROGRESS: Training factorization_recommender for recommendations."
       ]
      },
      {
       "html": [
        "<pre>PROGRESS: +--------------------------------+--------------------------------------------------+----------+</pre>"
       ],
       "metadata": {},
       "output_type": "display_data",
       "text": [
        "PROGRESS: +--------------------------------+--------------------------------------------------+----------+"
       ]
      },
      {
       "html": [
        "<pre>PROGRESS: | Parameter                      | Description                                      | Value    |</pre>"
       ],
       "metadata": {},
       "output_type": "display_data",
       "text": [
        "PROGRESS: | Parameter                      | Description                                      | Value    |"
       ]
      },
      {
       "html": [
        "<pre>PROGRESS: +--------------------------------+--------------------------------------------------+----------+</pre>"
       ],
       "metadata": {},
       "output_type": "display_data",
       "text": [
        "PROGRESS: +--------------------------------+--------------------------------------------------+----------+"
       ]
      },
      {
       "html": [
        "<pre>PROGRESS: | num_factors                    | Factor Dimension                                 | 5        |</pre>"
       ],
       "metadata": {},
       "output_type": "display_data",
       "text": [
        "PROGRESS: | num_factors                    | Factor Dimension                                 | 5        |"
       ]
      },
      {
       "html": [
        "<pre>PROGRESS: | regularization                 | L2 Regularization on Factors                     | 0.0001   |</pre>"
       ],
       "metadata": {},
       "output_type": "display_data",
       "text": [
        "PROGRESS: | regularization                 | L2 Regularization on Factors                     | 0.0001   |"
       ]
      },
      {
       "html": [
        "<pre>PROGRESS: | solver                         | Solver used for training                         | auto     |</pre>"
       ],
       "metadata": {},
       "output_type": "display_data",
       "text": [
        "PROGRESS: | solver                         | Solver used for training                         | auto     |"
       ]
      },
      {
       "html": [
        "<pre>PROGRESS: | max_iterations                 | Maximum Number of Iterations                     | 50       |</pre>"
       ],
       "metadata": {},
       "output_type": "display_data",
       "text": [
        "PROGRESS: | max_iterations                 | Maximum Number of Iterations                     | 50       |"
       ]
      },
      {
       "html": [
        "<pre>PROGRESS: +--------------------------------+--------------------------------------------------+----------+</pre>"
       ],
       "metadata": {},
       "output_type": "display_data",
       "text": [
        "PROGRESS: +--------------------------------+--------------------------------------------------+----------+"
       ]
      },
      {
       "html": [
        "<pre>PROGRESS:   Optimizing model using SGD; tuning step size.</pre>"
       ],
       "metadata": {},
       "output_type": "display_data",
       "text": [
        "PROGRESS:   Optimizing model using SGD; tuning step size."
       ]
      },
      {
       "html": [
        "<pre>PROGRESS:   Using 399912 / 3199301 points for tuning the step size.</pre>"
       ],
       "metadata": {},
       "output_type": "display_data",
       "text": [
        "PROGRESS:   Using 399912 / 3199301 points for tuning the step size."
       ]
      },
      {
       "html": [
        "<pre>PROGRESS: +---------+-------------------+---------------------------+</pre>"
       ],
       "metadata": {},
       "output_type": "display_data",
       "text": [
        "PROGRESS: +---------+-------------------+---------------------------+"
       ]
      },
      {
       "html": [
        "<pre>PROGRESS: | Attempt | Initial Step Size | Estimated Objective Value |</pre>"
       ],
       "metadata": {},
       "output_type": "display_data",
       "text": [
        "PROGRESS: | Attempt | Initial Step Size | Estimated Objective Value |"
       ]
      },
      {
       "html": [
        "<pre>PROGRESS: +---------+-------------------+---------------------------+</pre>"
       ],
       "metadata": {},
       "output_type": "display_data",
       "text": [
        "PROGRESS: +---------+-------------------+---------------------------+"
       ]
      },
      {
       "html": [
        "<pre>PROGRESS: | 0       | 0.230306          | Not Viable                |</pre>"
       ],
       "metadata": {},
       "output_type": "display_data",
       "text": [
        "PROGRESS: | 0       | 0.230306          | Not Viable                |"
       ]
      },
      {
       "html": [
        "<pre>PROGRESS: | 1       | 0.0575765         | 0.807062                  |</pre>"
       ],
       "metadata": {},
       "output_type": "display_data",
       "text": [
        "PROGRESS: | 1       | 0.0575765         | 0.807062                  |"
       ]
      },
      {
       "html": [
        "<pre>PROGRESS: | 2       | 0.0287883         | 0.810862                  |</pre>"
       ],
       "metadata": {},
       "output_type": "display_data",
       "text": [
        "PROGRESS: | 2       | 0.0287883         | 0.810862                  |"
       ]
      },
      {
       "html": [
        "<pre>PROGRESS: | 3       | 0.0143941         | 0.821643                  |</pre>"
       ],
       "metadata": {},
       "output_type": "display_data",
       "text": [
        "PROGRESS: | 3       | 0.0143941         | 0.821643                  |"
       ]
      },
      {
       "html": [
        "<pre>PROGRESS: | 4       | 0.00719707        | 0.841878                  |</pre>"
       ],
       "metadata": {},
       "output_type": "display_data",
       "text": [
        "PROGRESS: | 4       | 0.00719707        | 0.841878                  |"
       ]
      },
      {
       "html": [
        "<pre>PROGRESS: +---------+-------------------+---------------------------+</pre>"
       ],
       "metadata": {},
       "output_type": "display_data",
       "text": [
        "PROGRESS: +---------+-------------------+---------------------------+"
       ]
      },
      {
       "html": [
        "<pre>PROGRESS: | Final   | 0.0575765         | 0.807062                  |</pre>"
       ],
       "metadata": {},
       "output_type": "display_data",
       "text": [
        "PROGRESS: | Final   | 0.0575765         | 0.807062                  |"
       ]
      },
      {
       "html": [
        "<pre>PROGRESS: +---------+-------------------+---------------------------+</pre>"
       ],
       "metadata": {},
       "output_type": "display_data",
       "text": [
        "PROGRESS: +---------+-------------------+---------------------------+"
       ]
      },
      {
       "html": [
        "<pre>PROGRESS: Starting Optimization.</pre>"
       ],
       "metadata": {},
       "output_type": "display_data",
       "text": [
        "PROGRESS: Starting Optimization."
       ]
      },
      {
       "html": [
        "<pre>PROGRESS: +---------+--------------+-------------------+-----------------------+-------------+</pre>"
       ],
       "metadata": {},
       "output_type": "display_data",
       "text": [
        "PROGRESS: +---------+--------------+-------------------+-----------------------+-------------+"
       ]
      },
      {
       "html": [
        "<pre>PROGRESS: | Iter.   | Elapsed Time | Approx. Objective | Approx. Training RMSE | Step Size   |</pre>"
       ],
       "metadata": {},
       "output_type": "display_data",
       "text": [
        "PROGRESS: | Iter.   | Elapsed Time | Approx. Objective | Approx. Training RMSE | Step Size   |"
       ]
      },
      {
       "html": [
        "<pre>PROGRESS: +---------+--------------+-------------------+-----------------------+-------------+</pre>"
       ],
       "metadata": {},
       "output_type": "display_data",
       "text": [
        "PROGRESS: +---------+--------------+-------------------+-----------------------+-------------+"
       ]
      },
      {
       "html": [
        "<pre>PROGRESS: | Initial | 404us        | 1.14574           | 1.07039               |             |</pre>"
       ],
       "metadata": {},
       "output_type": "display_data",
       "text": [
        "PROGRESS: | Initial | 404us        | 1.14574           | 1.07039               |             |"
       ]
      },
      {
       "html": [
        "<pre>PROGRESS: +---------+--------------+-------------------+-----------------------+-------------+</pre>"
       ],
       "metadata": {},
       "output_type": "display_data",
       "text": [
        "PROGRESS: +---------+--------------+-------------------+-----------------------+-------------+"
       ]
      },
      {
       "html": [
        "<pre>PROGRESS: | 1       | 627.352ms    | 0.990013          | 0.977566              | 0.0575765   |</pre>"
       ],
       "metadata": {},
       "output_type": "display_data",
       "text": [
        "PROGRESS: | 1       | 627.352ms    | 0.990013          | 0.977566              | 0.0575765   |"
       ]
      },
      {
       "html": [
        "<pre>PROGRESS: | 2       | 1.20s        | 0.852718          | 0.917071              | 0.00296473  |</pre>"
       ],
       "metadata": {},
       "output_type": "display_data",
       "text": [
        "PROGRESS: | 2       | 1.20s        | 0.852718          | 0.917071              | 0.00296473  |"
       ]
      },
      {
       "html": [
        "<pre>PROGRESS: | 3       | 1.93s        | 0.827649          | 0.904299              | 0.00152154  |</pre>"
       ],
       "metadata": {},
       "output_type": "display_data",
       "text": [
        "PROGRESS: | 3       | 1.93s        | 0.827649          | 0.904299              | 0.00152154  |"
       ]
      },
      {
       "html": [
        "<pre>PROGRESS: | 4       | 2.78s        | 0.820963          | 0.900567              | 0.00102338  |</pre>"
       ],
       "metadata": {},
       "output_type": "display_data",
       "text": [
        "PROGRESS: | 4       | 2.78s        | 0.820963          | 0.900567              | 0.00102338  |"
       ]
      },
      {
       "html": [
        "<pre>PROGRESS: | 5       | 3.74s        | 0.81805           | 0.898694              | 0.000770957 |</pre>"
       ],
       "metadata": {},
       "output_type": "display_data",
       "text": [
        "PROGRESS: | 5       | 3.74s        | 0.81805           | 0.898694              | 0.000770957 |"
       ]
      },
      {
       "html": [
        "<pre>PROGRESS: | 6       | 4.72s        | 0.81644           | 0.89749               | 0.000618422 |</pre>"
       ],
       "metadata": {},
       "output_type": "display_data",
       "text": [
        "PROGRESS: | 6       | 4.72s        | 0.81644           | 0.89749               | 0.000618422 |"
       ]
      },
      {
       "html": [
        "<pre>PROGRESS: | 10      | 8.85s        | 0.814021          | 0.894977              | 0.000345216 |</pre>"
       ],
       "metadata": {},
       "output_type": "display_data",
       "text": [
        "PROGRESS: | 10      | 8.85s        | 0.814021          | 0.894977              | 0.000345216 |"
       ]
      },
      {
       "html": [
        "<pre>PROGRESS: | 11      | 9.87s        | 0.813802          | 0.894606              | 0.000310881 |</pre>"
       ],
       "metadata": {},
       "output_type": "display_data",
       "text": [
        "PROGRESS: | 11      | 9.87s        | 0.813802          | 0.894606              | 0.000310881 |"
       ]
      },
      {
       "html": [
        "<pre>PROGRESS: | 15      | 14.02s       | 0.813374          | 0.893521              | 0.000222401 |</pre>"
       ],
       "metadata": {},
       "output_type": "display_data",
       "text": [
        "PROGRESS: | 15      | 14.02s       | 0.813374          | 0.893521              | 0.000222401 |"
       ]
      },
      {
       "html": [
        "<pre>PROGRESS: | 20      | 19.24s       | 0.813257          | 0.892651              | 0.000164041 |</pre>"
       ],
       "metadata": {},
       "output_type": "display_data",
       "text": [
        "PROGRESS: | 20      | 19.24s       | 0.813257          | 0.892651              | 0.000164041 |"
       ]
      },
      {
       "html": [
        "<pre>PROGRESS: +---------+--------------+-------------------+-----------------------+-------------+</pre>"
       ],
       "metadata": {},
       "output_type": "display_data",
       "text": [
        "PROGRESS: +---------+--------------+-------------------+-----------------------+-------------+"
       ]
      },
      {
       "html": [
        "<pre>PROGRESS: | Final   | 22.21s       | 0.814592          | 0.893134              |             |</pre>"
       ],
       "metadata": {},
       "output_type": "display_data",
       "text": [
        "PROGRESS: | Final   | 22.21s       | 0.814592          | 0.893134              |             |"
       ]
      },
      {
       "html": [
        "<pre>PROGRESS: +---------+--------------+-------------------+-----------------------+-------------+</pre>"
       ],
       "metadata": {},
       "output_type": "display_data",
       "text": [
        "PROGRESS: +---------+--------------+-------------------+-----------------------+-------------+"
       ]
      },
      {
       "html": [
        "<pre>PROGRESS: Optimization Complete: Convergence on objective within bounds.</pre>"
       ],
       "metadata": {},
       "output_type": "display_data",
       "text": [
        "PROGRESS: Optimization Complete: Convergence on objective within bounds."
       ]
      },
      {
       "html": [
        "<pre>PROGRESS: Recsys training: model = factorization_recommender</pre>"
       ],
       "metadata": {},
       "output_type": "display_data",
       "text": [
        "PROGRESS: Recsys training: model = factorization_recommender"
       ]
      },
      {
       "html": [
        "<pre>PROGRESS: Preparing data set.</pre>"
       ],
       "metadata": {},
       "output_type": "display_data",
       "text": [
        "PROGRESS: Preparing data set."
       ]
      },
      {
       "html": [
        "<pre>PROGRESS:     Data has 3199301 observations with 12020 users and 17178 items.</pre>"
       ],
       "metadata": {},
       "output_type": "display_data",
       "text": [
        "PROGRESS:     Data has 3199301 observations with 12020 users and 17178 items."
       ]
      },
      {
       "html": [
        "<pre>PROGRESS:     Data prepared in: 5.42672s</pre>"
       ],
       "metadata": {},
       "output_type": "display_data",
       "text": [
        "PROGRESS:     Data prepared in: 5.42672s"
       ]
      },
      {
       "html": [
        "<pre>PROGRESS: Training factorization_recommender for recommendations.</pre>"
       ],
       "metadata": {},
       "output_type": "display_data",
       "text": [
        "PROGRESS: Training factorization_recommender for recommendations."
       ]
      },
      {
       "html": [
        "<pre>PROGRESS: +--------------------------------+--------------------------------------------------+----------+</pre>"
       ],
       "metadata": {},
       "output_type": "display_data",
       "text": [
        "PROGRESS: +--------------------------------+--------------------------------------------------+----------+"
       ]
      },
      {
       "html": [
        "<pre>PROGRESS: | Parameter                      | Description                                      | Value    |</pre>"
       ],
       "metadata": {},
       "output_type": "display_data",
       "text": [
        "PROGRESS: | Parameter                      | Description                                      | Value    |"
       ]
      },
      {
       "html": [
        "<pre>PROGRESS: +--------------------------------+--------------------------------------------------+----------+</pre>"
       ],
       "metadata": {},
       "output_type": "display_data",
       "text": [
        "PROGRESS: +--------------------------------+--------------------------------------------------+----------+"
       ]
      },
      {
       "html": [
        "<pre>PROGRESS: | num_factors                    | Factor Dimension                                 | 5        |</pre>"
       ],
       "metadata": {},
       "output_type": "display_data",
       "text": [
        "PROGRESS: | num_factors                    | Factor Dimension                                 | 5        |"
       ]
      },
      {
       "html": [
        "<pre>PROGRESS: | regularization                 | L2 Regularization on Factors                     | 1e-05    |</pre>"
       ],
       "metadata": {},
       "output_type": "display_data",
       "text": [
        "PROGRESS: | regularization                 | L2 Regularization on Factors                     | 1e-05    |"
       ]
      },
      {
       "html": [
        "<pre>PROGRESS: | solver                         | Solver used for training                         | auto     |</pre>"
       ],
       "metadata": {},
       "output_type": "display_data",
       "text": [
        "PROGRESS: | solver                         | Solver used for training                         | auto     |"
       ]
      },
      {
       "html": [
        "<pre>PROGRESS: | max_iterations                 | Maximum Number of Iterations                     | 50       |</pre>"
       ],
       "metadata": {},
       "output_type": "display_data",
       "text": [
        "PROGRESS: | max_iterations                 | Maximum Number of Iterations                     | 50       |"
       ]
      },
      {
       "html": [
        "<pre>PROGRESS: +--------------------------------+--------------------------------------------------+----------+</pre>"
       ],
       "metadata": {},
       "output_type": "display_data",
       "text": [
        "PROGRESS: +--------------------------------+--------------------------------------------------+----------+"
       ]
      },
      {
       "html": [
        "<pre>PROGRESS:   Optimizing model using SGD; tuning step size.</pre>"
       ],
       "metadata": {},
       "output_type": "display_data",
       "text": [
        "PROGRESS:   Optimizing model using SGD; tuning step size."
       ]
      },
      {
       "html": [
        "<pre>PROGRESS:   Using 399912 / 3199301 points for tuning the step size.</pre>"
       ],
       "metadata": {},
       "output_type": "display_data",
       "text": [
        "PROGRESS:   Using 399912 / 3199301 points for tuning the step size."
       ]
      },
      {
       "html": [
        "<pre>PROGRESS: +---------+-------------------+---------------------------+</pre>"
       ],
       "metadata": {},
       "output_type": "display_data",
       "text": [
        "PROGRESS: +---------+-------------------+---------------------------+"
       ]
      },
      {
       "html": [
        "<pre>PROGRESS: | Attempt | Initial Step Size | Estimated Objective Value |</pre>"
       ],
       "metadata": {},
       "output_type": "display_data",
       "text": [
        "PROGRESS: | Attempt | Initial Step Size | Estimated Objective Value |"
       ]
      },
      {
       "html": [
        "<pre>PROGRESS: +---------+-------------------+---------------------------+</pre>"
       ],
       "metadata": {},
       "output_type": "display_data",
       "text": [
        "PROGRESS: +---------+-------------------+---------------------------+"
       ]
      },
      {
       "html": [
        "<pre>PROGRESS: | 0       | 2.30306           | Not Viable                |</pre>"
       ],
       "metadata": {},
       "output_type": "display_data",
       "text": [
        "PROGRESS: | 0       | 2.30306           | Not Viable                |"
       ]
      },
      {
       "html": [
        "<pre>PROGRESS: | 1       | 0.575765          | Not Viable                |</pre>"
       ],
       "metadata": {},
       "output_type": "display_data",
       "text": [
        "PROGRESS: | 1       | 0.575765          | Not Viable                |"
       ]
      },
      {
       "html": [
        "<pre>PROGRESS: | 2       | 0.143941          | Not Viable                |</pre>"
       ],
       "metadata": {},
       "output_type": "display_data",
       "text": [
        "PROGRESS: | 2       | 0.143941          | Not Viable                |"
       ]
      },
      {
       "html": [
        "<pre>PROGRESS: | 3       | 0.0359853         | 0.793187                  |</pre>"
       ],
       "metadata": {},
       "output_type": "display_data",
       "text": [
        "PROGRESS: | 3       | 0.0359853         | 0.793187                  |"
       ]
      },
      {
       "html": [
        "<pre>PROGRESS: | 4       | 0.0179927         | 0.817328                  |</pre>"
       ],
       "metadata": {},
       "output_type": "display_data",
       "text": [
        "PROGRESS: | 4       | 0.0179927         | 0.817328                  |"
       ]
      },
      {
       "html": [
        "<pre>PROGRESS: | 5       | 0.00899633        | 0.810719                  |</pre>"
       ],
       "metadata": {},
       "output_type": "display_data",
       "text": [
        "PROGRESS: | 5       | 0.00899633        | 0.810719                  |"
       ]
      },
      {
       "html": [
        "<pre>PROGRESS: | 6       | 0.00449817        | 0.841416                  |</pre>"
       ],
       "metadata": {},
       "output_type": "display_data",
       "text": [
        "PROGRESS: | 6       | 0.00449817        | 0.841416                  |"
       ]
      },
      {
       "html": [
        "<pre>PROGRESS: +---------+-------------------+---------------------------+</pre>"
       ],
       "metadata": {},
       "output_type": "display_data",
       "text": [
        "PROGRESS: +---------+-------------------+---------------------------+"
       ]
      },
      {
       "html": [
        "<pre>PROGRESS: | Final   | 0.0359853         | 0.793187                  |</pre>"
       ],
       "metadata": {},
       "output_type": "display_data",
       "text": [
        "PROGRESS: | Final   | 0.0359853         | 0.793187                  |"
       ]
      },
      {
       "html": [
        "<pre>PROGRESS: +---------+-------------------+---------------------------+</pre>"
       ],
       "metadata": {},
       "output_type": "display_data",
       "text": [
        "PROGRESS: +---------+-------------------+---------------------------+"
       ]
      },
      {
       "html": [
        "<pre>PROGRESS: Starting Optimization.</pre>"
       ],
       "metadata": {},
       "output_type": "display_data",
       "text": [
        "PROGRESS: Starting Optimization."
       ]
      },
      {
       "html": [
        "<pre>PROGRESS: +---------+--------------+-------------------+-----------------------+-------------+</pre>"
       ],
       "metadata": {},
       "output_type": "display_data",
       "text": [
        "PROGRESS: +---------+--------------+-------------------+-----------------------+-------------+"
       ]
      },
      {
       "html": [
        "<pre>PROGRESS: | Iter.   | Elapsed Time | Approx. Objective | Approx. Training RMSE | Step Size   |</pre>"
       ],
       "metadata": {},
       "output_type": "display_data",
       "text": [
        "PROGRESS: | Iter.   | Elapsed Time | Approx. Objective | Approx. Training RMSE | Step Size   |"
       ]
      },
      {
       "html": [
        "<pre>PROGRESS: +---------+--------------+-------------------+-----------------------+-------------+</pre>"
       ],
       "metadata": {},
       "output_type": "display_data",
       "text": [
        "PROGRESS: +---------+--------------+-------------------+-----------------------+-------------+"
       ]
      },
      {
       "html": [
        "<pre>PROGRESS: | Initial | 235us        | 1.14573           | 1.07039               |             |</pre>"
       ],
       "metadata": {},
       "output_type": "display_data",
       "text": [
        "PROGRESS: | Initial | 235us        | 1.14573           | 1.07039               |             |"
       ]
      },
      {
       "html": [
        "<pre>PROGRESS: +---------+--------------+-------------------+-----------------------+-------------+</pre>"
       ],
       "metadata": {},
       "output_type": "display_data",
       "text": [
        "PROGRESS: +---------+--------------+-------------------+-----------------------+-------------+"
       ]
      },
      {
       "html": [
        "<pre>PROGRESS: | 1       | 564.449ms    | 0.903536          | 0.931641              | 0.0359853   |</pre>"
       ],
       "metadata": {},
       "output_type": "display_data",
       "text": [
        "PROGRESS: | 1       | 564.449ms    | 0.903536          | 0.931641              | 0.0359853   |"
       ]
      },
      {
       "html": [
        "<pre>PROGRESS: | 2       | 1.14s        | 0.825736          | 0.87844               | 0.0167274   |</pre>"
       ],
       "metadata": {},
       "output_type": "display_data",
       "text": [
        "PROGRESS: | 2       | 1.14s        | 0.825736          | 0.87844               | 0.0167274   |"
       ]
      },
      {
       "html": [
        "<pre>PROGRESS: | 3       | 1.86s        | 0.79377           | 0.855641              | 0.0108962   |</pre>"
       ],
       "metadata": {},
       "output_type": "display_data",
       "text": [
        "PROGRESS: | 3       | 1.86s        | 0.79377           | 0.855641              | 0.0108962   |"
       ]
      },
      {
       "html": [
        "<pre>PROGRESS: | 4       | 2.70s        | 0.780706          | 0.846086              | 0.00807962  |</pre>"
       ],
       "metadata": {},
       "output_type": "display_data",
       "text": [
        "PROGRESS: | 4       | 2.70s        | 0.780706          | 0.846086              | 0.00807962  |"
       ]
      },
      {
       "html": [
        "<pre>PROGRESS: | 5       | 3.65s        | 0.773856          | 0.841055              | 0.00642009  |</pre>"
       ],
       "metadata": {},
       "output_type": "display_data",
       "text": [
        "PROGRESS: | 5       | 3.65s        | 0.773856          | 0.841055              | 0.00642009  |"
       ]
      },
      {
       "html": [
        "<pre>PROGRESS: | 6       | 4.68s        | 0.769456          | 0.83788               | 0.00532611  |</pre>"
       ],
       "metadata": {},
       "output_type": "display_data",
       "text": [
        "PROGRESS: | 6       | 4.68s        | 0.769456          | 0.83788               | 0.00532611  |"
       ]
      },
      {
       "html": [
        "<pre>PROGRESS: | 10      | 8.70s        | 0.760678          | 0.831792              | 0.0031673   |</pre>"
       ],
       "metadata": {},
       "output_type": "display_data",
       "text": [
        "PROGRESS: | 10      | 8.70s        | 0.760678          | 0.831792              | 0.0031673   |"
       ]
      },
      {
       "html": [
        "<pre>PROGRESS: | 11      | 9.76s        | 0.759418          | 0.830957              | 0.00287588  |</pre>"
       ],
       "metadata": {},
       "output_type": "display_data",
       "text": [
        "PROGRESS: | 11      | 9.76s        | 0.759418          | 0.830957              | 0.00287588  |"
       ]
      },
      {
       "html": [
        "<pre>PROGRESS: | 15      | 13.91s       | 0.756004          | 0.82869               | 0.0021022   |</pre>"
       ],
       "metadata": {},
       "output_type": "display_data",
       "text": [
        "PROGRESS: | 15      | 13.91s       | 0.756004          | 0.82869               | 0.0021022   |"
       ]
      },
      {
       "html": [
        "<pre>PROGRESS: | 20      | 19.10s       | 0.75357           | 0.827126              | 0.00157318  |</pre>"
       ],
       "metadata": {},
       "output_type": "display_data",
       "text": [
        "PROGRESS: | 20      | 19.10s       | 0.75357           | 0.827126              | 0.00157318  |"
       ]
      },
      {
       "html": [
        "<pre>PROGRESS: | 25      | 24.23s       | 0.752068          | 0.826179              | 0.00125688  |</pre>"
       ],
       "metadata": {},
       "output_type": "display_data",
       "text": [
        "PROGRESS: | 25      | 24.23s       | 0.752068          | 0.826179              | 0.00125688  |"
       ]
      },
      {
       "html": [
        "<pre>PROGRESS: | 30      | 29.37s       | 0.750963          | 0.82549               | 0.00104648  |</pre>"
       ],
       "metadata": {},
       "output_type": "display_data",
       "text": [
        "PROGRESS: | 30      | 29.37s       | 0.750963          | 0.82549               | 0.00104648  |"
       ]
      },
      {
       "html": [
        "<pre>PROGRESS: | 35      | 34.58s       | 0.750198          | 0.825019              | 0.000896418 |</pre>"
       ],
       "metadata": {},
       "output_type": "display_data",
       "text": [
        "PROGRESS: | 35      | 34.58s       | 0.750198          | 0.825019              | 0.000896418 |"
       ]
      },
      {
       "html": [
        "<pre>PROGRESS: | 40      | 39.76s       | 0.749562          | 0.824634              | 0.000783996 |</pre>"
       ],
       "metadata": {},
       "output_type": "display_data",
       "text": [
        "PROGRESS: | 40      | 39.76s       | 0.749562          | 0.824634              | 0.000783996 |"
       ]
      },
      {
       "html": [
        "<pre>PROGRESS: | 45      | 44.90s       | 0.749058          | 0.824326              | 0.00069663  |</pre>"
       ],
       "metadata": {},
       "output_type": "display_data",
       "text": [
        "PROGRESS: | 45      | 44.90s       | 0.749058          | 0.824326              | 0.00069663  |"
       ]
      },
      {
       "html": [
        "<pre>PROGRESS: | 50      | 50.07s       | 0.748684          | 0.8241                | 0.000626784 |</pre>"
       ],
       "metadata": {},
       "output_type": "display_data",
       "text": [
        "PROGRESS: | 50      | 50.07s       | 0.748684          | 0.8241                | 0.000626784 |"
       ]
      },
      {
       "html": [
        "<pre>PROGRESS: +---------+--------------+-------------------+-----------------------+-------------+</pre>"
       ],
       "metadata": {},
       "output_type": "display_data",
       "text": [
        "PROGRESS: +---------+--------------+-------------------+-----------------------+-------------+"
       ]
      },
      {
       "html": [
        "<pre>PROGRESS: | Final   | 50.97s       | 0.747937          | 0.823647              |             |</pre>"
       ],
       "metadata": {},
       "output_type": "display_data",
       "text": [
        "PROGRESS: | Final   | 50.97s       | 0.747937          | 0.823647              |             |"
       ]
      },
      {
       "html": [
        "<pre>PROGRESS: +---------+--------------+-------------------+-----------------------+-------------+</pre>"
       ],
       "metadata": {},
       "output_type": "display_data",
       "text": [
        "PROGRESS: +---------+--------------+-------------------+-----------------------+-------------+"
       ]
      },
      {
       "html": [
        "<pre>PROGRESS: Optimization Complete: Maximum number of passes through the data reached.</pre>"
       ],
       "metadata": {},
       "output_type": "display_data",
       "text": [
        "PROGRESS: Optimization Complete: Maximum number of passes through the data reached."
       ]
      },
      {
       "html": [
        "<pre>PROGRESS: Recsys training: model = factorization_recommender</pre>"
       ],
       "metadata": {},
       "output_type": "display_data",
       "text": [
        "PROGRESS: Recsys training: model = factorization_recommender"
       ]
      },
      {
       "html": [
        "<pre>PROGRESS: Preparing data set.</pre>"
       ],
       "metadata": {},
       "output_type": "display_data",
       "text": [
        "PROGRESS: Preparing data set."
       ]
      },
      {
       "html": [
        "<pre>PROGRESS:     Data has 3199301 observations with 12020 users and 17178 items.</pre>"
       ],
       "metadata": {},
       "output_type": "display_data",
       "text": [
        "PROGRESS:     Data has 3199301 observations with 12020 users and 17178 items."
       ]
      },
      {
       "html": [
        "<pre>PROGRESS:     Data prepared in: 5.50393s</pre>"
       ],
       "metadata": {},
       "output_type": "display_data",
       "text": [
        "PROGRESS:     Data prepared in: 5.50393s"
       ]
      },
      {
       "html": [
        "<pre>PROGRESS: Training factorization_recommender for recommendations.</pre>"
       ],
       "metadata": {},
       "output_type": "display_data",
       "text": [
        "PROGRESS: Training factorization_recommender for recommendations."
       ]
      },
      {
       "html": [
        "<pre>PROGRESS: +--------------------------------+--------------------------------------------------+----------+</pre>"
       ],
       "metadata": {},
       "output_type": "display_data",
       "text": [
        "PROGRESS: +--------------------------------+--------------------------------------------------+----------+"
       ]
      },
      {
       "html": [
        "<pre>PROGRESS: | Parameter                      | Description                                      | Value    |</pre>"
       ],
       "metadata": {},
       "output_type": "display_data",
       "text": [
        "PROGRESS: | Parameter                      | Description                                      | Value    |"
       ]
      },
      {
       "html": [
        "<pre>PROGRESS: +--------------------------------+--------------------------------------------------+----------+</pre>"
       ],
       "metadata": {},
       "output_type": "display_data",
       "text": [
        "PROGRESS: +--------------------------------+--------------------------------------------------+----------+"
       ]
      },
      {
       "html": [
        "<pre>PROGRESS: | num_factors                    | Factor Dimension                                 | 5        |</pre>"
       ],
       "metadata": {},
       "output_type": "display_data",
       "text": [
        "PROGRESS: | num_factors                    | Factor Dimension                                 | 5        |"
       ]
      },
      {
       "html": [
        "<pre>PROGRESS: | regularization                 | L2 Regularization on Factors                     | 1e-06    |</pre>"
       ],
       "metadata": {},
       "output_type": "display_data",
       "text": [
        "PROGRESS: | regularization                 | L2 Regularization on Factors                     | 1e-06    |"
       ]
      },
      {
       "html": [
        "<pre>PROGRESS: | solver                         | Solver used for training                         | auto     |</pre>"
       ],
       "metadata": {},
       "output_type": "display_data",
       "text": [
        "PROGRESS: | solver                         | Solver used for training                         | auto     |"
       ]
      },
      {
       "html": [
        "<pre>PROGRESS: | max_iterations                 | Maximum Number of Iterations                     | 50       |</pre>"
       ],
       "metadata": {},
       "output_type": "display_data",
       "text": [
        "PROGRESS: | max_iterations                 | Maximum Number of Iterations                     | 50       |"
       ]
      },
      {
       "html": [
        "<pre>PROGRESS: +--------------------------------+--------------------------------------------------+----------+</pre>"
       ],
       "metadata": {},
       "output_type": "display_data",
       "text": [
        "PROGRESS: +--------------------------------+--------------------------------------------------+----------+"
       ]
      },
      {
       "html": [
        "<pre>PROGRESS:   Optimizing model using SGD; tuning step size.</pre>"
       ],
       "metadata": {},
       "output_type": "display_data",
       "text": [
        "PROGRESS:   Optimizing model using SGD; tuning step size."
       ]
      },
      {
       "html": [
        "<pre>PROGRESS:   Using 399912 / 3199301 points for tuning the step size.</pre>"
       ],
       "metadata": {},
       "output_type": "display_data",
       "text": [
        "PROGRESS:   Using 399912 / 3199301 points for tuning the step size."
       ]
      },
      {
       "html": [
        "<pre>PROGRESS: +---------+-------------------+---------------------------+</pre>"
       ],
       "metadata": {},
       "output_type": "display_data",
       "text": [
        "PROGRESS: +---------+-------------------+---------------------------+"
       ]
      },
      {
       "html": [
        "<pre>PROGRESS: | Attempt | Initial Step Size | Estimated Objective Value |</pre>"
       ],
       "metadata": {},
       "output_type": "display_data",
       "text": [
        "PROGRESS: | Attempt | Initial Step Size | Estimated Objective Value |"
       ]
      },
      {
       "html": [
        "<pre>PROGRESS: +---------+-------------------+---------------------------+</pre>"
       ],
       "metadata": {},
       "output_type": "display_data",
       "text": [
        "PROGRESS: +---------+-------------------+---------------------------+"
       ]
      },
      {
       "html": [
        "<pre>PROGRESS: | 0       | 23.0306           | Not Viable                |</pre>"
       ],
       "metadata": {},
       "output_type": "display_data",
       "text": [
        "PROGRESS: | 0       | 23.0306           | Not Viable                |"
       ]
      },
      {
       "html": [
        "<pre>PROGRESS: | 1       | 5.75765           | Not Viable                |</pre>"
       ],
       "metadata": {},
       "output_type": "display_data",
       "text": [
        "PROGRESS: | 1       | 5.75765           | Not Viable                |"
       ]
      },
      {
       "html": [
        "<pre>PROGRESS: | 2       | 1.43941           | Not Viable                |</pre>"
       ],
       "metadata": {},
       "output_type": "display_data",
       "text": [
        "PROGRESS: | 2       | 1.43941           | Not Viable                |"
       ]
      },
      {
       "html": [
        "<pre>PROGRESS: | 3       | 0.359853          | Not Viable                |</pre>"
       ],
       "metadata": {},
       "output_type": "display_data",
       "text": [
        "PROGRESS: | 3       | 0.359853          | Not Viable                |"
       ]
      },
      {
       "html": [
        "<pre>PROGRESS: | 4       | 0.0899633         | 0.655605                  |</pre>"
       ],
       "metadata": {},
       "output_type": "display_data",
       "text": [
        "PROGRESS: | 4       | 0.0899633         | 0.655605                  |"
       ]
      },
      {
       "html": [
        "<pre>PROGRESS: | 5       | 0.0449817         | 0.798256                  |</pre>"
       ],
       "metadata": {},
       "output_type": "display_data",
       "text": [
        "PROGRESS: | 5       | 0.0449817         | 0.798256                  |"
       ]
      },
      {
       "html": [
        "<pre>PROGRESS: | 6       | 0.0224908         | 0.815813                  |</pre>"
       ],
       "metadata": {},
       "output_type": "display_data",
       "text": [
        "PROGRESS: | 6       | 0.0224908         | 0.815813                  |"
       ]
      },
      {
       "html": [
        "<pre>PROGRESS: | 7       | 0.0112454         | 0.804659                  |</pre>"
       ],
       "metadata": {},
       "output_type": "display_data",
       "text": [
        "PROGRESS: | 7       | 0.0112454         | 0.804659                  |"
       ]
      },
      {
       "html": [
        "<pre>PROGRESS: +---------+-------------------+---------------------------+</pre>"
       ],
       "metadata": {},
       "output_type": "display_data",
       "text": [
        "PROGRESS: +---------+-------------------+---------------------------+"
       ]
      },
      {
       "html": [
        "<pre>PROGRESS: | Final   | 0.0899633         | 0.655605                  |</pre>"
       ],
       "metadata": {},
       "output_type": "display_data",
       "text": [
        "PROGRESS: | Final   | 0.0899633         | 0.655605                  |"
       ]
      },
      {
       "html": [
        "<pre>PROGRESS: +---------+-------------------+---------------------------+</pre>"
       ],
       "metadata": {},
       "output_type": "display_data",
       "text": [
        "PROGRESS: +---------+-------------------+---------------------------+"
       ]
      },
      {
       "html": [
        "<pre>PROGRESS: Starting Optimization.</pre>"
       ],
       "metadata": {},
       "output_type": "display_data",
       "text": [
        "PROGRESS: Starting Optimization."
       ]
      },
      {
       "html": [
        "<pre>PROGRESS: +---------+--------------+-------------------+-----------------------+-------------+</pre>"
       ],
       "metadata": {},
       "output_type": "display_data",
       "text": [
        "PROGRESS: +---------+--------------+-------------------+-----------------------+-------------+"
       ]
      },
      {
       "html": [
        "<pre>PROGRESS: | Iter.   | Elapsed Time | Approx. Objective | Approx. Training RMSE | Step Size   |</pre>"
       ],
       "metadata": {},
       "output_type": "display_data",
       "text": [
        "PROGRESS: | Iter.   | Elapsed Time | Approx. Objective | Approx. Training RMSE | Step Size   |"
       ]
      },
      {
       "html": [
        "<pre>PROGRESS: +---------+--------------+-------------------+-----------------------+-------------+</pre>"
       ],
       "metadata": {},
       "output_type": "display_data",
       "text": [
        "PROGRESS: +---------+--------------+-------------------+-----------------------+-------------+"
       ]
      },
      {
       "html": [
        "<pre>PROGRESS: | Initial | 250us        | 1.14572           | 1.07038               |             |</pre>"
       ],
       "metadata": {},
       "output_type": "display_data",
       "text": [
        "PROGRESS: | Initial | 250us        | 1.14572           | 1.07038               |             |"
       ]
      },
      {
       "html": [
        "<pre>PROGRESS: +---------+--------------+-------------------+-----------------------+-------------+</pre>"
       ],
       "metadata": {},
       "output_type": "display_data",
       "text": [
        "PROGRESS: +---------+--------------+-------------------+-----------------------+-------------+"
       ]
      },
      {
       "html": [
        "<pre>PROGRESS: | 1       | 560.173ms    | 1.1873            | 1.08403               | 0.0899633   |</pre>"
       ],
       "metadata": {},
       "output_type": "display_data",
       "text": [
        "PROGRESS: | 1       | 560.173ms    | 1.1873            | 1.08403               | 0.0899633   |"
       ]
      },
      {
       "html": [
        "<pre>PROGRESS: | 2       | 1.11s        | 0.941942          | 0.96385               | 0.0534925   |</pre>"
       ],
       "metadata": {},
       "output_type": "display_data",
       "text": [
        "PROGRESS: | 2       | 1.11s        | 0.941942          | 0.96385               | 0.0534925   |"
       ]
      },
      {
       "html": [
        "<pre>PROGRESS: | 3       | 1.83s        | 0.853818          | 0.915965              | 0.0394661   |</pre>"
       ],
       "metadata": {},
       "output_type": "display_data",
       "text": [
        "PROGRESS: | 3       | 1.83s        | 0.853818          | 0.915965              | 0.0394661   |"
       ]
      },
      {
       "html": [
        "<pre>PROGRESS: | 4       | 2.69s        | 0.791871          | 0.880829              | 0.0267463   |</pre>"
       ],
       "metadata": {},
       "output_type": "display_data",
       "text": [
        "PROGRESS: | 4       | 2.69s        | 0.791871          | 0.880829              | 0.0267463   |"
       ]
      },
      {
       "html": [
        "<pre>PROGRESS: | 5       | 3.58s        | 0.769101          | 0.867341              | 0.0226246   |</pre>"
       ],
       "metadata": {},
       "output_type": "display_data",
       "text": [
        "PROGRESS: | 5       | 3.58s        | 0.769101          | 0.867341              | 0.0226246   |"
       ]
      },
      {
       "html": [
        "<pre>PROGRESS: | 6       | 4.45s        | 0.755459          | 0.859104              | 0.0197331   |</pre>"
       ],
       "metadata": {},
       "output_type": "display_data",
       "text": [
        "PROGRESS: | 6       | 4.45s        | 0.755459          | 0.859104              | 0.0197331   |"
       ]
      },
      {
       "html": [
        "<pre>PROGRESS: | 10      | 8.39s        | 0.727523          | 0.841876              | 0.0134527   |</pre>"
       ],
       "metadata": {},
       "output_type": "display_data",
       "text": [
        "PROGRESS: | 10      | 8.39s        | 0.727523          | 0.841876              | 0.0134527   |"
       ]
      },
      {
       "html": [
        "<pre>PROGRESS: | 11      | 9.42s        | 0.723711          | 0.839476              | 0.0125246   |</pre>"
       ],
       "metadata": {},
       "output_type": "display_data",
       "text": [
        "PROGRESS: | 11      | 9.42s        | 0.723711          | 0.839476              | 0.0125246   |"
       ]
      },
      {
       "html": [
        "<pre>PROGRESS: | 15      | 13.56s       | 0.712924          | 0.832625              | 0.00992521  |</pre>"
       ],
       "metadata": {},
       "output_type": "display_data",
       "text": [
        "PROGRESS: | 15      | 13.56s       | 0.712924          | 0.832625              | 0.00992521  |"
       ]
      },
      {
       "html": [
        "<pre>PROGRESS: | 20      | 18.69s       | 0.705224          | 0.827659              | 0.007999    |</pre>"
       ],
       "metadata": {},
       "output_type": "display_data",
       "text": [
        "PROGRESS: | 20      | 18.69s       | 0.705224          | 0.827659              | 0.007999    |"
       ]
      },
      {
       "html": [
        "<pre>PROGRESS: | 25      | 23.88s       | 0.700293          | 0.824439              | 0.00676633  |</pre>"
       ],
       "metadata": {},
       "output_type": "display_data",
       "text": [
        "PROGRESS: | 25      | 23.88s       | 0.700293          | 0.824439              | 0.00676633  |"
       ]
      },
      {
       "html": [
        "<pre>PROGRESS: | 30      | 29.04s       | 0.696875          | 0.822187              | 0.00590156  |</pre>"
       ],
       "metadata": {},
       "output_type": "display_data",
       "text": [
        "PROGRESS: | 30      | 29.04s       | 0.696875          | 0.822187              | 0.00590156  |"
       ]
      },
      {
       "html": [
        "<pre>PROGRESS: | 35      | 34.24s       | 0.694372          | 0.820527              | 0.00525723  |</pre>"
       ],
       "metadata": {},
       "output_type": "display_data",
       "text": [
        "PROGRESS: | 35      | 34.24s       | 0.694372          | 0.820527              | 0.00525723  |"
       ]
      },
      {
       "html": [
        "<pre>PROGRESS: | 40      | 39.51s       | 0.692318          | 0.819166              | 0.00475623  |</pre>"
       ],
       "metadata": {},
       "output_type": "display_data",
       "text": [
        "PROGRESS: | 40      | 39.51s       | 0.692318          | 0.819166              | 0.00475623  |"
       ]
      },
      {
       "html": [
        "<pre>PROGRESS: | 45      | 44.79s       | 0.690784          | 0.81814               | 0.0043541   |</pre>"
       ],
       "metadata": {},
       "output_type": "display_data",
       "text": [
        "PROGRESS: | 45      | 44.79s       | 0.690784          | 0.81814               | 0.0043541   |"
       ]
      },
      {
       "html": [
        "<pre>PROGRESS: | 50      | 49.99s       | 0.689446          | 0.817243              | 0.00402328  |</pre>"
       ],
       "metadata": {},
       "output_type": "display_data",
       "text": [
        "PROGRESS: | 50      | 49.99s       | 0.689446          | 0.817243              | 0.00402328  |"
       ]
      },
      {
       "html": [
        "<pre>PROGRESS: +---------+--------------+-------------------+-----------------------+-------------+</pre>"
       ],
       "metadata": {},
       "output_type": "display_data",
       "text": [
        "PROGRESS: +---------+--------------+-------------------+-----------------------+-------------+"
       ]
      },
      {
       "html": [
        "<pre>PROGRESS: | Final   | 50.87s       | 0.699201          | 0.823189              |             |</pre>"
       ],
       "metadata": {},
       "output_type": "display_data",
       "text": [
        "PROGRESS: | Final   | 50.87s       | 0.699201          | 0.823189              |             |"
       ]
      },
      {
       "html": [
        "<pre>PROGRESS: +---------+--------------+-------------------+-----------------------+-------------+</pre>"
       ],
       "metadata": {},
       "output_type": "display_data",
       "text": [
        "PROGRESS: +---------+--------------+-------------------+-----------------------+-------------+"
       ]
      },
      {
       "html": [
        "<pre>PROGRESS: Optimization Complete: Maximum number of passes through the data reached.</pre>"
       ],
       "metadata": {},
       "output_type": "display_data",
       "text": [
        "PROGRESS: Optimization Complete: Maximum number of passes through the data reached."
       ]
      }
     ],
     "prompt_number": 6
    },
    {
     "cell_type": "code",
     "collapsed": false,
     "input": [
      "# Save the train and test RMSE, for each model\n",
      "(rmse_train, rmse_test) = ([], [])\n",
      "for m in models:\n",
      "    rmse_train.append(m['training_rmse'])\n",
      "    rmse_test.append(gl.evaluation.rmse(test_set['rating'], m.predict(test_set)))"
     ],
     "language": "python",
     "metadata": {},
     "outputs": [],
     "prompt_number": 7
    },
    {
     "cell_type": "markdown",
     "metadata": {},
     "source": [
      "Let's create a plot to show the RMSE for these different regularization values."
     ]
    },
    {
     "cell_type": "code",
     "collapsed": false,
     "input": [
      "(fig, ax) = plt.subplots(figsize=(10, 8))\n",
      "[p1, p2, p3] = ax.semilogx(regularization_vals, rmse_train, \n",
      "                           regularization_vals, rmse_test, \n",
      "                           regularization_vals, len(regularization_vals) * [baseline_rmse]\n",
      "                           )\n",
      "ax.set_ylim([0.7, 1.1])\n",
      "ax.set_xlabel('Regularization', fontsize=20)\n",
      "ax.set_ylabel('RMSE', fontsize=20)\n",
      "ax.legend([p1, p2, p3], [\"Train\", \"Test\", \"Baseline\"])\n"
     ],
     "language": "python",
     "metadata": {},
     "outputs": [
      {
       "metadata": {},
       "output_type": "pyout",
       "prompt_number": 8,
       "text": [
        "<matplotlib.legend.Legend at 0x11392bf90>"
       ]
      },
      {
       "metadata": {},
       "output_type": "display_data",
       "png": "[encoded data removed]",
       "text": [
        "<matplotlib.figure.Figure at 0x1138f0810>"
       ]
      }
     ],
     "prompt_number": 8
    },
    {
     "cell_type": "markdown",
     "metadata": {},
     "source": [
      "Looks like we get the best Root Mean Squared Error (on the test set) when n_factors = 5 and regularization = 10. Let's use those parameters!"
     ]
    },
    {
     "cell_type": "markdown",
     "metadata": {},
     "source": [
      "# Load a Larger Dataset\n",
      "Now let's train a new model (using the parameters we've picked) with a larger sample. This time we'll use a dataset that contains all ratings for about 30,000 users."
     ]
    },
    {
     "cell_type": "code",
     "collapsed": false,
     "input": [
      "data_url = 'https://s3.amazonaws.com/GraphLab-Datasets/movie_ratings/sample.large'\n",
      "data = gl.SFrame.read_csv(data_url,delimiter='\\t',column_type_hints={'rating':int})"
     ],
     "language": "python",
     "metadata": {},
     "outputs": [
      {
       "html": [
        "<pre>PROGRESS: Read 1549015 lines. Lines per second: 822679</pre>"
       ],
       "metadata": {},
       "output_type": "display_data",
       "text": [
        "PROGRESS: Read 1549015 lines. Lines per second: 822679"
       ]
      },
      {
       "html": [
        "<pre>PROGRESS: Finished parsing file https://s3.amazonaws.com/GraphLab-Datasets/movie_ratings/sample.large</pre>"
       ],
       "metadata": {},
       "output_type": "display_data",
       "text": [
        "PROGRESS: Finished parsing file https://s3.amazonaws.com/GraphLab-Datasets/movie_ratings/sample.large"
       ]
      },
      {
       "html": [
        "<pre>PROGRESS: Parsing completed. Parsed 10000000 lines in 6.70865 secs.</pre>"
       ],
       "metadata": {},
       "output_type": "display_data",
       "text": [
        "PROGRESS: Parsing completed. Parsed 10000000 lines in 6.70865 secs."
       ]
      }
     ],
     "prompt_number": 9
    },
    {
     "cell_type": "markdown",
     "metadata": {},
     "source": [
      "# The Action Lover and the Romance Lover\n",
      "Let's see how this model behaves for two simulated/stereotypical users who have only rated a small number movies. We'll create two test users. One who loves action movies and hates romance movies. The other loves romance movies and hates actions movies. "
     ]
    },
    {
     "cell_type": "code",
     "collapsed": false,
     "input": [
      "action_movies = ['GoldenEye', 'Casino Royale', 'Independence Day', 'Con Air', 'The Rock', \n",
      "               'The Bourne Identity', 'Ocean\\'s Eleven', 'Lethal Weapon 4', 'Gladiator', \n",
      "               'Indiana Jones and the Last Crusade', 'The Matrix', 'Kill Bill: Vol. 1',\n",
      "               'Air Force One', 'Braveheart', 'The Man with the Golden Gun',\n",
      "               'The Bourne Supremacy', 'Saving Private Ryan']\n",
      "\n",
      "romance_movies = ['Sleepless in Seattle', 'An Affair to Remember', 'Ghost', 'Love Actually',\n",
      "                  'You\\'ve Got Mail', 'Notting Hill', 'Titanic', 'Miss Congeniality',\n",
      "                  'Some Like It Hot', 'Pretty Woman', 'How to Lose a Guy in 10 Days']\n",
      "\n",
      "# Boring helper function to create ratings\n",
      "def ratings(movie_list, user, rating):\n",
      "    num = len(movie_list)\n",
      "    records = {'user': [user] * num, 'movie': movie_list, 'rating': [rating] * num}\n",
      "    return gl.SFrame(records)\n",
      "\n",
      "# Loves action movies, hates romance movies\n",
      "action_user = 'Archie the Action Lover'\n",
      "action_user_ratings = ratings(action_movies, action_user, 5)\n",
      "action_user_ratings = action_user_ratings.append(ratings(romance_movies, action_user, 1))\n",
      "\n",
      "# Loves romance movies, hates action movies\n",
      "romantic_user = 'Rebecca the Romance Lover'\n",
      "romantic_user_ratings = ratings(action_movies, romantic_user, 1)\n",
      "romantic_user_ratings = romantic_user_ratings.append(ratings(romance_movies, romantic_user, 5))\n",
      "\n",
      "data = data.append(action_user_ratings)\n",
      "data = data.append(romantic_user_ratings)"
     ],
     "language": "python",
     "metadata": {},
     "outputs": [],
     "prompt_number": 10
    },
    {
     "cell_type": "markdown",
     "metadata": {},
     "source": [
      "Now, let's create a matrix factorization model, using the larger data sample."
     ]
    },
    {
     "cell_type": "code",
     "collapsed": false,
     "input": [
      "# Create a new model, using the larger dataset, with the tuned parameters\n",
      "m = gl.ranking_factorization_recommender.create(data, 'user', 'movie', 'rating', \n",
      "                                                max_iterations=50, num_factors=5,\n",
      "                                                ranking_regularization=.1)"
     ],
     "language": "python",
     "metadata": {},
     "outputs": [
      {
       "html": [
        "<pre>PROGRESS: Recsys training: model = ranking_factorization_recommender</pre>"
       ],
       "metadata": {},
       "output_type": "display_data",
       "text": [
        "PROGRESS: Recsys training: model = ranking_factorization_recommender"
       ]
      },
      {
       "html": [
        "<pre>PROGRESS: Preparing data set.</pre>"
       ],
       "metadata": {},
       "output_type": "display_data",
       "text": [
        "PROGRESS: Preparing data set."
       ]
      },
      {
       "html": [
        "<pre>PROGRESS:     Data has 10000056 observations with 30436 users and 17284 items.</pre>"
       ],
       "metadata": {},
       "output_type": "display_data",
       "text": [
        "PROGRESS:     Data has 10000056 observations with 30436 users and 17284 items."
       ]
      },
      {
       "html": [
        "<pre>PROGRESS:     Data prepared in: 19.6086s</pre>"
       ],
       "metadata": {},
       "output_type": "display_data",
       "text": [
        "PROGRESS:     Data prepared in: 19.6086s"
       ]
      },
      {
       "html": [
        "<pre>PROGRESS: Training ranking_factorization_recommender for recommendations.</pre>"
       ],
       "metadata": {},
       "output_type": "display_data",
       "text": [
        "PROGRESS: Training ranking_factorization_recommender for recommendations."
       ]
      },
      {
       "html": [
        "<pre>PROGRESS: +--------------------------------+--------------------------------------------------+----------+</pre>"
       ],
       "metadata": {},
       "output_type": "display_data",
       "text": [
        "PROGRESS: +--------------------------------+--------------------------------------------------+----------+"
       ]
      },
      {
       "html": [
        "<pre>PROGRESS: | Parameter                      | Description                                      | Value    |</pre>"
       ],
       "metadata": {},
       "output_type": "display_data",
       "text": [
        "PROGRESS: | Parameter                      | Description                                      | Value    |"
       ]
      },
      {
       "html": [
        "<pre>PROGRESS: +--------------------------------+--------------------------------------------------+----------+</pre>"
       ],
       "metadata": {},
       "output_type": "display_data",
       "text": [
        "PROGRESS: +--------------------------------+--------------------------------------------------+----------+"
       ]
      },
      {
       "html": [
        "<pre>PROGRESS: | num_factors                    | Factor Dimension                                 | 5        |</pre>"
       ],
       "metadata": {},
       "output_type": "display_data",
       "text": [
        "PROGRESS: | num_factors                    | Factor Dimension                                 | 5        |"
       ]
      },
      {
       "html": [
        "<pre>PROGRESS: | regularization                 | L2 Regularization on Factors                     | 0        |</pre>"
       ],
       "metadata": {},
       "output_type": "display_data",
       "text": [
        "PROGRESS: | regularization                 | L2 Regularization on Factors                     | 0        |"
       ]
      },
      {
       "html": [
        "<pre>PROGRESS: | solver                         | Solver used for training                         | auto     |</pre>"
       ],
       "metadata": {},
       "output_type": "display_data",
       "text": [
        "PROGRESS: | solver                         | Solver used for training                         | auto     |"
       ]
      },
      {
       "html": [
        "<pre>PROGRESS: | ranking_regularization         | Rank-based Regularization Weight                 | 0.1      |</pre>"
       ],
       "metadata": {},
       "output_type": "display_data",
       "text": [
        "PROGRESS: | ranking_regularization         | Rank-based Regularization Weight                 | 0.1      |"
       ]
      },
      {
       "html": [
        "<pre>PROGRESS: | max_iterations                 | Maximum Number of Iterations                     | 50       |</pre>"
       ],
       "metadata": {},
       "output_type": "display_data",
       "text": [
        "PROGRESS: | max_iterations                 | Maximum Number of Iterations                     | 50       |"
       ]
      },
      {
       "html": [
        "<pre>PROGRESS: +--------------------------------+--------------------------------------------------+----------+</pre>"
       ],
       "metadata": {},
       "output_type": "display_data",
       "text": [
        "PROGRESS: +--------------------------------+--------------------------------------------------+----------+"
       ]
      },
      {
       "html": [
        "<pre>PROGRESS:   Optimizing model using SGD; tuning step size.</pre>"
       ],
       "metadata": {},
       "output_type": "display_data",
       "text": [
        "PROGRESS:   Optimizing model using SGD; tuning step size."
       ]
      },
      {
       "html": [
        "<pre>PROGRESS:   Using 1250007 / 10000056 points for tuning the step size.</pre>"
       ],
       "metadata": {},
       "output_type": "display_data",
       "text": [
        "PROGRESS:   Using 1250007 / 10000056 points for tuning the step size."
       ]
      },
      {
       "html": [
        "<pre>PROGRESS: +---------+-------------------+---------------------------+</pre>"
       ],
       "metadata": {},
       "output_type": "display_data",
       "text": [
        "PROGRESS: +---------+-------------------+---------------------------+"
       ]
      },
      {
       "html": [
        "<pre>PROGRESS: | Attempt | Initial Step Size | Estimated Objective Value |</pre>"
       ],
       "metadata": {},
       "output_type": "display_data",
       "text": [
        "PROGRESS: | Attempt | Initial Step Size | Estimated Objective Value |"
       ]
      },
      {
       "html": [
        "<pre>PROGRESS: +---------+-------------------+---------------------------+</pre>"
       ],
       "metadata": {},
       "output_type": "display_data",
       "text": [
        "PROGRESS: +---------+-------------------+---------------------------+"
       ]
      },
      {
       "html": [
        "<pre>PROGRESS: | 0       | 25                | Not Viable                |</pre>"
       ],
       "metadata": {},
       "output_type": "display_data",
       "text": [
        "PROGRESS: | 0       | 25                | Not Viable                |"
       ]
      },
      {
       "html": [
        "<pre>PROGRESS: | 1       | 6.25              | Not Viable                |</pre>"
       ],
       "metadata": {},
       "output_type": "display_data",
       "text": [
        "PROGRESS: | 1       | 6.25              | Not Viable                |"
       ]
      },
      {
       "html": [
        "<pre>PROGRESS: | 2       | 1.5625            | Not Viable                |</pre>"
       ],
       "metadata": {},
       "output_type": "display_data",
       "text": [
        "PROGRESS: | 2       | 1.5625            | Not Viable                |"
       ]
      },
      {
       "html": [
        "<pre>PROGRESS: | 3       | 0.390625          | Not Viable                |</pre>"
       ],
       "metadata": {},
       "output_type": "display_data",
       "text": [
        "PROGRESS: | 3       | 0.390625          | Not Viable                |"
       ]
      },
      {
       "html": [
        "<pre>PROGRESS: | 4       | 0.0976562         | 1.02785                   |</pre>"
       ],
       "metadata": {},
       "output_type": "display_data",
       "text": [
        "PROGRESS: | 4       | 0.0976562         | 1.02785                   |"
       ]
      },
      {
       "html": [
        "<pre>PROGRESS: | 5       | 0.0488281         | 1.01764                   |</pre>"
       ],
       "metadata": {},
       "output_type": "display_data",
       "text": [
        "PROGRESS: | 5       | 0.0488281         | 1.01764                   |"
       ]
      },
      {
       "html": [
        "<pre>PROGRESS: | 6       | 0.0244141         | 1.14263                   |</pre>"
       ],
       "metadata": {},
       "output_type": "display_data",
       "text": [
        "PROGRESS: | 6       | 0.0244141         | 1.14263                   |"
       ]
      },
      {
       "html": [
        "<pre>PROGRESS: | 7       | 0.012207          | 1.15549                   |</pre>"
       ],
       "metadata": {},
       "output_type": "display_data",
       "text": [
        "PROGRESS: | 7       | 0.012207          | 1.15549                   |"
       ]
      },
      {
       "html": [
        "<pre>PROGRESS: | 8       | 0.00610352        | 1.16352                   |</pre>"
       ],
       "metadata": {},
       "output_type": "display_data",
       "text": [
        "PROGRESS: | 8       | 0.00610352        | 1.16352                   |"
       ]
      },
      {
       "html": [
        "<pre>PROGRESS: +---------+-------------------+---------------------------+</pre>"
       ],
       "metadata": {},
       "output_type": "display_data",
       "text": [
        "PROGRESS: +---------+-------------------+---------------------------+"
       ]
      },
      {
       "html": [
        "<pre>PROGRESS: | Final   | 0.0488281         | 1.01764                   |</pre>"
       ],
       "metadata": {},
       "output_type": "display_data",
       "text": [
        "PROGRESS: | Final   | 0.0488281         | 1.01764                   |"
       ]
      },
      {
       "html": [
        "<pre>PROGRESS: +---------+-------------------+---------------------------+</pre>"
       ],
       "metadata": {},
       "output_type": "display_data",
       "text": [
        "PROGRESS: +---------+-------------------+---------------------------+"
       ]
      },
      {
       "html": [
        "<pre>PROGRESS: Starting Optimization.</pre>"
       ],
       "metadata": {},
       "output_type": "display_data",
       "text": [
        "PROGRESS: Starting Optimization."
       ]
      },
      {
       "html": [
        "<pre>PROGRESS: +---------+--------------+-------------------+-----------------------+-------------+</pre>"
       ],
       "metadata": {},
       "output_type": "display_data",
       "text": [
        "PROGRESS: +---------+--------------+-------------------+-----------------------+-------------+"
       ]
      },
      {
       "html": [
        "<pre>PROGRESS: | Iter.   | Elapsed Time | Approx. Objective | Approx. Training RMSE | Step Size   |</pre>"
       ],
       "metadata": {},
       "output_type": "display_data",
       "text": [
        "PROGRESS: | Iter.   | Elapsed Time | Approx. Objective | Approx. Training RMSE | Step Size   |"
       ]
      },
      {
       "html": [
        "<pre>PROGRESS: +---------+--------------+-------------------+-----------------------+-------------+</pre>"
       ],
       "metadata": {},
       "output_type": "display_data",
       "text": [
        "PROGRESS: +---------+--------------+-------------------+-----------------------+-------------+"
       ]
      },
      {
       "html": [
        "<pre>PROGRESS: | Initial | 411us        | 1.56218           | 1.06232               |             |</pre>"
       ],
       "metadata": {},
       "output_type": "display_data",
       "text": [
        "PROGRESS: | Initial | 411us        | 1.56218           | 1.06232               |             |"
       ]
      },
      {
       "html": [
        "<pre>PROGRESS: +---------+--------------+-------------------+-----------------------+-------------+</pre>"
       ],
       "metadata": {},
       "output_type": "display_data",
       "text": [
        "PROGRESS: +---------+--------------+-------------------+-----------------------+-------------+"
       ]
      },
      {
       "html": [
        "<pre>PROGRESS: | 1       | 7.51s        | 1.20605           | 0.983156              | 0.0488281   |</pre>"
       ],
       "metadata": {},
       "output_type": "display_data",
       "text": [
        "PROGRESS: | 1       | 7.51s        | 1.20605           | 0.983156              | 0.0488281   |"
       ]
      },
      {
       "html": [
        "<pre>PROGRESS: | 2       | 14.90s       | 1.07935           | 0.92972               | 0.0290334   |</pre>"
       ],
       "metadata": {},
       "output_type": "display_data",
       "text": [
        "PROGRESS: | 2       | 14.90s       | 1.07935           | 0.92972               | 0.0290334   |"
       ]
      },
      {
       "html": [
        "<pre>PROGRESS: | 3       | 24.47s       | 1.03558           | 0.910036              | 0.0214205   |</pre>"
       ],
       "metadata": {},
       "output_type": "display_data",
       "text": [
        "PROGRESS: | 3       | 24.47s       | 1.03558           | 0.910036              | 0.0214205   |"
       ]
      },
      {
       "html": [
        "<pre>PROGRESS: | 4       | 34.42s       | 1.01358           | 0.899927              | 0.0172633   |</pre>"
       ],
       "metadata": {},
       "output_type": "display_data",
       "text": [
        "PROGRESS: | 4       | 34.42s       | 1.01358           | 0.899927              | 0.0172633   |"
       ]
      },
      {
       "html": [
        "<pre>PROGRESS: | 5       | 44.18s       | 0.999903          | 0.893421              | 0.014603    |</pre>"
       ],
       "metadata": {},
       "output_type": "display_data",
       "text": [
        "PROGRESS: | 5       | 44.18s       | 0.999903          | 0.893421              | 0.014603    |"
       ]
      },
      {
       "html": [
        "<pre>PROGRESS: | 6       | 54.13s       | 0.990452          | 0.888991              | 0.0127367   |</pre>"
       ],
       "metadata": {},
       "output_type": "display_data",
       "text": [
        "PROGRESS: | 6       | 54.13s       | 0.990452          | 0.888991              | 0.0127367   |"
       ]
      },
      {
       "html": [
        "<pre>PROGRESS: | 7       | 1m 4s        | 0.983783          | 0.885768              | 0.0113461   |</pre>"
       ],
       "metadata": {},
       "output_type": "display_data",
       "text": [
        "PROGRESS: | 7       | 1m 4s        | 0.983783          | 0.885768              | 0.0113461   |"
       ]
      },
      {
       "html": [
        "<pre>PROGRESS: | 8       | 1m 14s       | 0.978312          | 0.883132              | 0.0102648   |</pre>"
       ],
       "metadata": {},
       "output_type": "display_data",
       "text": [
        "PROGRESS: | 8       | 1m 14s       | 0.978312          | 0.883132              | 0.0102648   |"
       ]
      },
      {
       "html": [
        "<pre>PROGRESS: | 9       | 1m 24s       | 0.974105          | 0.881123              | 0.00939698  |</pre>"
       ],
       "metadata": {},
       "output_type": "display_data",
       "text": [
        "PROGRESS: | 9       | 1m 24s       | 0.974105          | 0.881123              | 0.00939698  |"
       ]
      },
      {
       "html": [
        "<pre>PROGRESS: | 10      | 1m 34s       | 0.970585          | 0.879407              | 0.008683    |</pre>"
       ],
       "metadata": {},
       "output_type": "display_data",
       "text": [
        "PROGRESS: | 10      | 1m 34s       | 0.970585          | 0.879407              | 0.008683    |"
       ]
      },
      {
       "html": [
        "<pre>PROGRESS: | 11      | 1m 44s       | 0.967717          | 0.878008              | 0.00808399  |</pre>"
       ],
       "metadata": {},
       "output_type": "display_data",
       "text": [
        "PROGRESS: | 11      | 1m 44s       | 0.967717          | 0.878008              | 0.00808399  |"
       ]
      },
      {
       "html": [
        "<pre>PROGRESS: | 12      | 1m 54s       | 0.965139          | 0.876761              | 0.00757328  |</pre>"
       ],
       "metadata": {},
       "output_type": "display_data",
       "text": [
        "PROGRESS: | 12      | 1m 54s       | 0.965139          | 0.876761              | 0.00757328  |"
       ]
      },
      {
       "html": [
        "<pre>PROGRESS: | 13      | 2m 4s        | 0.963159          | 0.875806              | 0.00713202  |</pre>"
       ],
       "metadata": {},
       "output_type": "display_data",
       "text": [
        "PROGRESS: | 13      | 2m 4s        | 0.963159          | 0.875806              | 0.00713202  |"
       ]
      },
      {
       "html": [
        "<pre>PROGRESS: | 14      | 2m 14s       | 0.961156          | 0.874865              | 0.00674643  |</pre>"
       ],
       "metadata": {},
       "output_type": "display_data",
       "text": [
        "PROGRESS: | 14      | 2m 14s       | 0.961156          | 0.874865              | 0.00674643  |"
       ]
      },
      {
       "html": [
        "<pre>PROGRESS: | 15      | 2m 24s       | 0.959438          | 0.874003              | 0.00640622  |</pre>"
       ],
       "metadata": {},
       "output_type": "display_data",
       "text": [
        "PROGRESS: | 15      | 2m 24s       | 0.959438          | 0.874003              | 0.00640622  |"
       ]
      },
      {
       "html": [
        "<pre>PROGRESS: | 16      | 2m 33s       | 0.957942          | 0.87326               | 0.00610352  |</pre>"
       ],
       "metadata": {},
       "output_type": "display_data",
       "text": [
        "PROGRESS: | 16      | 2m 33s       | 0.957942          | 0.87326               | 0.00610352  |"
       ]
      },
      {
       "html": [
        "<pre>PROGRESS: | 17      | 2m 43s       | 0.956586          | 0.872616              | 0.00583221  |</pre>"
       ],
       "metadata": {},
       "output_type": "display_data",
       "text": [
        "PROGRESS: | 17      | 2m 43s       | 0.956586          | 0.872616              | 0.00583221  |"
       ]
      },
      {
       "html": [
        "<pre>PROGRESS: | 18      | 2m 53s       | 0.95542           | 0.872064              | 0.00558748  |</pre>"
       ],
       "metadata": {},
       "output_type": "display_data",
       "text": [
        "PROGRESS: | 18      | 2m 53s       | 0.95542           | 0.872064              | 0.00558748  |"
       ]
      },
      {
       "html": [
        "<pre>PROGRESS: | 19      | 3m 3s        | 0.954425          | 0.871516              | 0.00536543  |</pre>"
       ],
       "metadata": {},
       "output_type": "display_data",
       "text": [
        "PROGRESS: | 19      | 3m 3s        | 0.954425          | 0.871516              | 0.00536543  |"
       ]
      },
      {
       "html": [
        "<pre>PROGRESS: | 20      | 3m 13s       | 0.953337          | 0.870991              | 0.00516295  |</pre>"
       ],
       "metadata": {},
       "output_type": "display_data",
       "text": [
        "PROGRESS: | 20      | 3m 13s       | 0.953337          | 0.870991              | 0.00516295  |"
       ]
      },
      {
       "html": [
        "<pre>PROGRESS: | 21      | 3m 23s       | 0.952412          | 0.870553              | 0.00497743  |</pre>"
       ],
       "metadata": {},
       "output_type": "display_data",
       "text": [
        "PROGRESS: | 21      | 3m 23s       | 0.952412          | 0.870553              | 0.00497743  |"
       ]
      },
      {
       "html": [
        "<pre>PROGRESS: | 22      | 3m 33s       | 0.951687          | 0.870117              | 0.00480677  |</pre>"
       ],
       "metadata": {},
       "output_type": "display_data",
       "text": [
        "PROGRESS: | 22      | 3m 33s       | 0.951687          | 0.870117              | 0.00480677  |"
       ]
      },
      {
       "html": [
        "<pre>PROGRESS: | 23      | 3m 43s       | 0.950794          | 0.869708              | 0.00464916  |</pre>"
       ],
       "metadata": {},
       "output_type": "display_data",
       "text": [
        "PROGRESS: | 23      | 3m 43s       | 0.950794          | 0.869708              | 0.00464916  |"
       ]
      },
      {
       "html": [
        "<pre>PROGRESS: | 24      | 3m 54s       | 0.950135          | 0.869408              | 0.0045031   |</pre>"
       ],
       "metadata": {},
       "output_type": "display_data",
       "text": [
        "PROGRESS: | 24      | 3m 54s       | 0.950135          | 0.869408              | 0.0045031   |"
       ]
      },
      {
       "html": [
        "<pre>PROGRESS: | 25      | 4m 4s        | 0.949378          | 0.86902               | 0.00436732  |</pre>"
       ],
       "metadata": {},
       "output_type": "display_data",
       "text": [
        "PROGRESS: | 25      | 4m 4s        | 0.949378          | 0.86902               | 0.00436732  |"
       ]
      },
      {
       "html": [
        "<pre>PROGRESS: | 26      | 4m 14s       | 0.948761          | 0.868744              | 0.00424072  |</pre>"
       ],
       "metadata": {},
       "output_type": "display_data",
       "text": [
        "PROGRESS: | 26      | 4m 14s       | 0.948761          | 0.868744              | 0.00424072  |"
       ]
      },
      {
       "html": [
        "<pre>PROGRESS: | 27      | 4m 24s       | 0.948157          | 0.86845               | 0.00412237  |</pre>"
       ],
       "metadata": {},
       "output_type": "display_data",
       "text": [
        "PROGRESS: | 27      | 4m 24s       | 0.948157          | 0.86845               | 0.00412237  |"
       ]
      },
      {
       "html": [
        "<pre>PROGRESS: | 28      | 4m 34s       | 0.947622          | 0.868175              | 0.00401145  |</pre>"
       ],
       "metadata": {},
       "output_type": "display_data",
       "text": [
        "PROGRESS: | 28      | 4m 34s       | 0.947622          | 0.868175              | 0.00401145  |"
       ]
      },
      {
       "html": [
        "<pre>PROGRESS: | 29      | 4m 44s       | 0.947104          | 0.867915              | 0.00390725  |</pre>"
       ],
       "metadata": {},
       "output_type": "display_data",
       "text": [
        "PROGRESS: | 29      | 4m 44s       | 0.947104          | 0.867915              | 0.00390725  |"
       ]
      },
      {
       "html": [
        "<pre>PROGRESS: | 30      | 4m 53s       | 0.946564          | 0.867679              | 0.00380916  |</pre>"
       ],
       "metadata": {},
       "output_type": "display_data",
       "text": [
        "PROGRESS: | 30      | 4m 53s       | 0.946564          | 0.867679              | 0.00380916  |"
       ]
      },
      {
       "html": [
        "<pre>PROGRESS: | 31      | 5m 3s        | 0.946219          | 0.867459              | 0.00371663  |</pre>"
       ],
       "metadata": {},
       "output_type": "display_data",
       "text": [
        "PROGRESS: | 31      | 5m 3s        | 0.946219          | 0.867459              | 0.00371663  |"
       ]
      },
      {
       "html": [
        "<pre>PROGRESS: | 32      | 5m 13s       | 0.945606          | 0.867197              | 0.00362917  |</pre>"
       ],
       "metadata": {},
       "output_type": "display_data",
       "text": [
        "PROGRESS: | 32      | 5m 13s       | 0.945606          | 0.867197              | 0.00362917  |"
       ]
      },
      {
       "html": [
        "<pre>PROGRESS: | 33      | 5m 23s       | 0.945238          | 0.867005              | 0.00354637  |</pre>"
       ],
       "metadata": {},
       "output_type": "display_data",
       "text": [
        "PROGRESS: | 33      | 5m 23s       | 0.945238          | 0.867005              | 0.00354637  |"
       ]
      },
      {
       "html": [
        "<pre>PROGRESS: | 34      | 5m 34s       | 0.944896          | 0.866784              | 0.00346785  |</pre>"
       ],
       "metadata": {},
       "output_type": "display_data",
       "text": [
        "PROGRESS: | 34      | 5m 34s       | 0.944896          | 0.866784              | 0.00346785  |"
       ]
      },
      {
       "html": [
        "<pre>PROGRESS: | 35      | 5m 45s       | 0.944494          | 0.866615              | 0.00339327  |</pre>"
       ],
       "metadata": {},
       "output_type": "display_data",
       "text": [
        "PROGRESS: | 35      | 5m 45s       | 0.944494          | 0.866615              | 0.00339327  |"
       ]
      },
      {
       "html": [
        "<pre>PROGRESS: | 36      | 5m 58s       | 0.944254          | 0.866472              | 0.00332233  |</pre>"
       ],
       "metadata": {},
       "output_type": "display_data",
       "text": [
        "PROGRESS: | 36      | 5m 58s       | 0.944254          | 0.866472              | 0.00332233  |"
       ]
      },
      {
       "html": [
        "<pre>PROGRESS: | 37      | 6m 9s        | 0.943818          | 0.866288              | 0.00325476  |</pre>"
       ],
       "metadata": {},
       "output_type": "display_data",
       "text": [
        "PROGRESS: | 37      | 6m 9s        | 0.943818          | 0.866288              | 0.00325476  |"
       ]
      },
      {
       "html": [
        "<pre>PROGRESS: | 38      | 6m 20s       | 0.943472          | 0.866119              | 0.00319031  |</pre>"
       ],
       "metadata": {},
       "output_type": "display_data",
       "text": [
        "PROGRESS: | 38      | 6m 20s       | 0.943472          | 0.866119              | 0.00319031  |"
       ]
      },
      {
       "html": [
        "<pre>PROGRESS: | 39      | 6m 30s       | 0.943039          | 0.86593               | 0.00312876  |</pre>"
       ],
       "metadata": {},
       "output_type": "display_data",
       "text": [
        "PROGRESS: | 39      | 6m 30s       | 0.943039          | 0.86593               | 0.00312876  |"
       ]
      },
      {
       "html": [
        "<pre>PROGRESS: | 40      | 6m 40s       | 0.942862          | 0.865781              | 0.00306991  |</pre>"
       ],
       "metadata": {},
       "output_type": "display_data",
       "text": [
        "PROGRESS: | 40      | 6m 40s       | 0.942862          | 0.865781              | 0.00306991  |"
       ]
      },
      {
       "html": [
        "<pre>PROGRESS: | 41      | 6m 50s       | 0.942505          | 0.865663              | 0.00301358  |</pre>"
       ],
       "metadata": {},
       "output_type": "display_data",
       "text": [
        "PROGRESS: | 41      | 6m 50s       | 0.942505          | 0.865663              | 0.00301358  |"
       ]
      },
      {
       "html": [
        "<pre>PROGRESS: | 42      | 7m 0s        | 0.942443          | 0.86549               | 0.0029596   |</pre>"
       ],
       "metadata": {},
       "output_type": "display_data",
       "text": [
        "PROGRESS: | 42      | 7m 0s        | 0.942443          | 0.86549               | 0.0029596   |"
       ]
      },
      {
       "html": [
        "<pre>PROGRESS: | 43      | 7m 10s       | 0.941992          | 0.865397              | 0.00290783  |</pre>"
       ],
       "metadata": {},
       "output_type": "display_data",
       "text": [
        "PROGRESS: | 43      | 7m 10s       | 0.941992          | 0.865397              | 0.00290783  |"
       ]
      },
      {
       "html": [
        "<pre>PROGRESS: | 44      | 7m 20s       | 0.941793          | 0.865267              | 0.00285812  |</pre>"
       ],
       "metadata": {},
       "output_type": "display_data",
       "text": [
        "PROGRESS: | 44      | 7m 20s       | 0.941793          | 0.865267              | 0.00285812  |"
       ]
      },
      {
       "html": [
        "<pre>PROGRESS: | 45      | 7m 30s       | 0.941507          | 0.865149              | 0.00281035  |</pre>"
       ],
       "metadata": {},
       "output_type": "display_data",
       "text": [
        "PROGRESS: | 45      | 7m 30s       | 0.941507          | 0.865149              | 0.00281035  |"
       ]
      },
      {
       "html": [
        "<pre>PROGRESS: | 46      | 7m 40s       | 0.941313          | 0.865019              | 0.00276441  |</pre>"
       ],
       "metadata": {},
       "output_type": "display_data",
       "text": [
        "PROGRESS: | 46      | 7m 40s       | 0.941313          | 0.865019              | 0.00276441  |"
       ]
      },
      {
       "html": [
        "<pre>PROGRESS: | 47      | 7m 51s       | 0.941052          | 0.864904              | 0.00272017  |</pre>"
       ],
       "metadata": {},
       "output_type": "display_data",
       "text": [
        "PROGRESS: | 47      | 7m 51s       | 0.941052          | 0.864904              | 0.00272017  |"
       ]
      },
      {
       "html": [
        "<pre>PROGRESS: | 48      | 8m 1s        | 0.940908          | 0.86479               | 0.00267756  |</pre>"
       ],
       "metadata": {},
       "output_type": "display_data",
       "text": [
        "PROGRESS: | 48      | 8m 1s        | 0.940908          | 0.86479               | 0.00267756  |"
       ]
      },
      {
       "html": [
        "<pre>PROGRESS: | 49      | 8m 11s       | 0.940674          | 0.864691              | 0.00263647  |</pre>"
       ],
       "metadata": {},
       "output_type": "display_data",
       "text": [
        "PROGRESS: | 49      | 8m 11s       | 0.940674          | 0.864691              | 0.00263647  |"
       ]
      },
      {
       "html": [
        "<pre>PROGRESS: | 50      | 8m 21s       | 0.940406          | 0.86462               | 0.00259682  |</pre>"
       ],
       "metadata": {},
       "output_type": "display_data",
       "text": [
        "PROGRESS: | 50      | 8m 21s       | 0.940406          | 0.86462               | 0.00259682  |"
       ]
      },
      {
       "html": [
        "<pre>PROGRESS: +---------+--------------+-------------------+-----------------------+-------------+</pre>"
       ],
       "metadata": {},
       "output_type": "display_data",
       "text": [
        "PROGRESS: +---------+--------------+-------------------+-----------------------+-------------+"
       ]
      },
      {
       "html": [
        "<pre>PROGRESS: | Final   | 8m 30s       | 0.932743          | 0.854126              |             |</pre>"
       ],
       "metadata": {},
       "output_type": "display_data",
       "text": [
        "PROGRESS: | Final   | 8m 30s       | 0.932743          | 0.854126              |             |"
       ]
      },
      {
       "html": [
        "<pre>PROGRESS: +---------+--------------+-------------------+-----------------------+-------------+</pre>"
       ],
       "metadata": {},
       "output_type": "display_data",
       "text": [
        "PROGRESS: +---------+--------------+-------------------+-----------------------+-------------+"
       ]
      },
      {
       "html": [
        "<pre>PROGRESS: Optimization Complete: Maximum number of passes through the data reached.</pre>"
       ],
       "metadata": {},
       "output_type": "display_data",
       "text": [
        "PROGRESS: Optimization Complete: Maximum number of passes through the data reached."
       ]
      }
     ],
     "prompt_number": 11
    },
    {
     "cell_type": "markdown",
     "metadata": {},
     "source": [
      "Let see what recommendations we get for our action lover."
     ]
    },
    {
     "cell_type": "code",
     "collapsed": false,
     "input": [
      "# Show recommendations for the action lover.\n",
      "recommendations = m.recommend(gl.SArray([action_user]), k=40)\n",
      "print recommendations['movie']"
     ],
     "language": "python",
     "metadata": {},
     "outputs": [
      {
       "output_type": "stream",
       "stream": "stdout",
       "text": [
        "['Dragon Ball Z: World Tournament', 'The Three Stooges: Healthy', 'Dragon Ball: King Piccolo Saga: Part 1', 'Dragon Ball Z: Garlic Jr.', 'The Three Stooges: G.I. Stooge', 'Return of the Dragon', 'Conan the Barbarian', \"Predator: Collector's Edition\", 'Dragon Ball: Tien Shinhan Saga', 'Dragon Ball Z: The History of Trunks', \"Hang 'Em High\", 'Dragon Ball Z: Babidi', 'The Three Stooges: Nutty but Nice', 'High Plains Drifter', 'A Fistful of Dollars', 'Dragon Ball: Commander Red Saga', 'The Man Show: Season 2', 'Dragon Ball: King Piccolo Saga: Part 2', 'The Three Stooges: Three Stooges in History', 'Dragon Ball Z: Perfect Cell', 'For a Few Dollars More', 'Rambo: First Blood: Ultimate Edition', 'Dragon Ball Z: Majin Buu', 'The Good', 'Three Stooges: Stooges at Work', 'Dragon Ball Z: Androids', 'The Three Stooges: Stooged and Confoosed', 'The Three Stooges: Cops and Robbers', 'Enter the Dragon: Special Edition', 'Dragon Ball: Mystical Adventure', 'The Road Warrior', 'The Man Show: Season 1: Vol. 1', 'Dragon Ball Z: Fusion', 'Conan the Destroyer', 'The Terminator', 'Dragon Ball: Piccolo Jr. Saga: Part 2', 'UFC 44: Ultimate Fighting Championship: Only One Will Be Undisputed', 'Dragon Ball Z: Frieza', \"Kelly's Heroes\", 'Last Man Standing']\n"
       ]
      }
     ],
     "prompt_number": 12
    },
    {
     "cell_type": "markdown",
     "metadata": {},
     "source": [
      "Let see what recommendations we get for our romance lover."
     ]
    },
    {
     "cell_type": "code",
     "collapsed": false,
     "input": [
      "# Show recommendations for the romance lover.\n",
      "recommendations = m.recommend(gl.SArray([romantic_user]), k=40)\n",
      "print recommendations['movie']"
     ],
     "language": "python",
     "metadata": {},
     "outputs": [
      {
       "output_type": "stream",
       "stream": "stdout",
       "text": [
        "['Anne of Green Gables', 'Monarch of the Glen: Series 2', 'Felicity: Season 2', 'Daniel Deronda', 'Gilmore Girls: Season 3', 'Gilmore Girls: Season 2', 'As Time Goes By: Series 1 and 2', 'As Time Goes By: Series 7', 'Felicity: Season 1', 'The Forsyte Saga: Series 1', 'Persuasion', 'The Vicar of Dibley: Series 3', 'Gilmore Girls: Season 1', 'Love! Valour! Compassion!', 'Queer as Folk: Season 2', 'The Forsyte Saga: Series 2', 'Monarch of the Glen: Series 1', 'Pride and Prejudice', 'Further Tales of the City', 'Queer as Folk: Season 4', 'Felicity: Season 3', 'As Time Goes By: Series 6', 'Gilmore Girls: Season 4', 'The Vicar of Dibley: Series 2 and Specials', 'Once and Again: Season 1', 'Funny Girl', 'Will & Grace: Season 3', 'Queer as Folk: Season 3', 'Felicity: Season 4', 'Latter Days', 'The Vicar of Dibley: Series 1', 'More Tales of the City', 'Will & Grace: Season 1', 'Will & Grace: Season 2', 'Emma', 'Maurice', 'The Golden Girls: Season 1', 'Torch Song Trilogy', 'Jane Eyre', 'Upstairs']\n"
       ]
      }
     ],
     "prompt_number": 13
    },
    {
     "cell_type": "markdown",
     "metadata": {},
     "source": [
      "Looks good to me, especially considering these users haven't rated many movies!\n",
      "\n",
      "(Looking for more details about the modules and functions? Check out the <a href=\"/products/create/docs/\">API docs</a>.)"
     ]
    },
    {
     "cell_type": "code",
     "collapsed": false,
     "input": [],
     "language": "python",
     "metadata": {},
     "outputs": [],
     "prompt_number": 13
    }
   ],
   "metadata": {}
  }
 ]
}